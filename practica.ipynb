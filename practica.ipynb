{
 "cells": [
  {
   "cell_type": "code",
   "execution_count": 1,
   "metadata": {},
   "outputs": [
    {
     "name": "stdout",
     "output_type": "stream",
     "text": [
      "Jesu es un putero\n"
     ]
    }
   ],
   "source": [
    "print('Jesu es un putero')"
   ]
  },
  {
   "cell_type": "code",
   "execution_count": 5,
   "metadata": {},
   "outputs": [
    {
     "name": "stdout",
     "output_type": "stream",
     "text": [
      "EL numero de puteros es 5\n",
      "EL numero de puteros es 10\n",
      "EL numero de puteros es 15\n",
      "EL numero de puteros es 20\n",
      "EL numero de puteros es 25\n",
      "EL numero de puteros es 30\n",
      "EL numero de puteros es 35\n"
     ]
    }
   ],
   "source": [
    "puteros = [5, 10, 15, 20, 25, 30, 35]\n",
    "\n",
    "for putero in puteros:\n",
    "    print(f'EL numero de puteros es {putero}')"
   ]
  }
 ],
 "metadata": {
  "kernelspec": {
   "display_name": "base",
   "language": "python",
   "name": "python3"
  },
  "language_info": {
   "codemirror_mode": {
    "name": "ipython",
    "version": 3
   },
   "file_extension": ".py",
   "mimetype": "text/x-python",
   "name": "python",
   "nbconvert_exporter": "python",
   "pygments_lexer": "ipython3",
   "version": "3.12.7"
  }
 },
 "nbformat": 4,
 "nbformat_minor": 2
}
