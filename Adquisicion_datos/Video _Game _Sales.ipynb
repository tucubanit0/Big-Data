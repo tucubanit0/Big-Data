{
 "cells": [
  {
   "cell_type": "markdown",
   "metadata": {},
   "source": [
    "### Actividad: Tipos de Datos y Adquisición deDatos en Python"
   ]
  },
  {
   "cell_type": "markdown",
   "metadata": {},
   "source": [
    "### Parte 1: Tipos de Datos (Estructurados y No Estructurados)\n",
    "Objetivos:\n",
    "- Comprender la diferencia entre datos estructurados y no estructurados.\n",
    "- Aprender a trabajar con ambos tipos de datos en Python."
   ]
  },
  {
   "cell_type": "markdown",
   "metadata": {},
   "source": [
    "### Instrucciones Paso a Paso"
   ]
  },
  {
   "cell_type": "markdown",
   "metadata": {},
   "source": [
    "### 1. Investigación Teórica"
   ]
  },
  {
   "cell_type": "markdown",
   "metadata": {},
   "source": [
    "### Objetivo: Investigar y entender las diferencias entre datos estructurados y no estructurados.\n"
   ]
  },
  {
   "cell_type": "markdown",
   "metadata": {},
   "source": [
    "### 1. Lee y resume la siguiente información sobre los tipos de datos:\n",
    "- Datos estructurados: Son aquellos datos organizados en un formato claro y predecible, como bases de datos o archivos CSV. Se pueden organizar en filas y columnas (tablas).\n",
    "- Datos no estructurados: Son datos que no tienen un formato específico o rígido, como textos, imágenes, videos, etc.\n",
    "\n",
    "### 2. Responde las siguientes preguntas en tu informe:\n",
    "- ¿Cuáles son las principales características de los datos estructurados y no estructurados?\n",
    "    -Principales características de los datos estructurados: \n",
    "        - Puede modelar datos estructurados como una tabla con filas y columnas. Cada columna tiene un atributo (como la hora, la ubicación y el nombre) y cada fila es un registro único con valores de datos asociados a cada atributo. \n",
    "        - Los datos estructurados siempre deben cumplir con un formato estricto, conocido como modelo o esquema de datos predefinido.\n",
    "    - Principales características de los datos no estructurados:\n",
    "        - Los datos no estructurados no se ajustan a un esquema. El formato prescrito para los datos no estructurados puede ser tan simple como exigir que todas las grabaciones de las reuniones estén en formato MP3 o que todos los eventos del sistema se recopilen en un almacén determinado.\n",
    "        - Los datos no estructurados no siguen ninguna regla predeterminada.\n",
    "\n",
    "- ¿Cuáles son las ventajas y desventajas de trabajar con cada tipo de dato?\n",
    "    - Ventajas y desventajas de trabajar con cada tipo de dato:\n",
    "        -  Datos estructurados\n",
    "            En cualquier organización o grupo complejo, los datos estructurados se vuelven difíciles de administrar cuando el número de relaciones en una base de datos relacional aumenta de forma significativa. Con tantos enlaces entre bases de datos y puntos de datos, el desarrollo de consultas para los datos puede resultar bastante complejo. Otros desafíos incluyen:\n",
    "\n",
    "                ## Cambios en el esquema de datos\n",
    "                ## Ajuste de los datos asociados del mundo real a un formato estructurado\n",
    "                ## Integración de múltiples orígenes de datos estructurados diferentes\n",
    "        - Datos no estructurados\n",
    "            - Los datos no estructurados suelen plantear dos grandes desafíos: \n",
    "\n",
    "             - Almacenamiento, porque los datos suelen ser más grandes que los datos estructurados.\n",
    "             - Análisis, porque no es tan sencillo como analizar datos estructurados.\n",
    "\n",
    "        - Otros desafíos pueden incluir:\n",
    "\n",
    "            - Procesamiento previo para extraer datos estructurados o semiestructurados\n",
    "            - Procesamiento multiformato\n",
    "            - Potencia de procesamiento requerida para el análisis\n",
    "\n",
    "- Da ejemplos de datos no estructurados más allá de texto (por ejemplo, audio o imágenes).\n",
    "    - Audio:\n",
    "\n",
    "        - Grabaciones de entrevistas periodísticas\n",
    "        - Notas de voz de WhatsApp\n",
    "    - Imágenes:\n",
    "\n",
    "        - Fotografías tomadas por drones\n",
    "        - Escaneos de obras de arte para restauración\n",
    "    - Video:\n",
    "\n",
    "        - Grabaciones de partidos de fútbol para análisis táctico\n",
    "        - Clips de cámaras corporales en fuerzas de seguridad\n",
    "    - Datos de Sensores / IoT:\n",
    "\n",
    "        - Lecturas de presión arterial de un smartwatch\n",
    "        - Datos de vibración en maquinaria industrial para mantenimiento predictivo\n",
    "    - Modelos 3D y Gráficos:\n",
    "\n",
    "        - Representaciones en 3D de órganos humanos para cirugía\n",
    "        - Modelos arquitectónicos en software de diseño\n",
    "    - Registros Biométricos:\n",
    "\n",
    "        - Escaneo de huellas digitales para desbloqueo de teléfonos\n",
    "        - Reconocimiento facial en aeropuertos para control de pasaportes\n",
    "\n",
    "\n",
    "\n",
    "- ¿Qué desafíos existen al trabajar con cada tipo de dato?\n",
    "    - Audio:\n",
    "        -Ruido y calidad: Grabaciones con ruido de fondo pueden dificultar el análisis.\n",
    "        - Reconocimiento y segmentación: Convertir audio en texto (speech-to-text) puede ser complicado con diferentes acentos, tonos o idiomas.\n",
    "    - Imágenes:\n",
    "        - Procesamiento y etiquetado: Es difícil clasificar imágenes sin modelos de IA entrenados.\n",
    "        -Almacenamiento y tamaño: Las imágenes de alta resolución ocupan mucho espacio y requieren gran capacidad de procesamiento.\n",
    "    - Video:\n",
    "        - Alto consumo de recursos: Los videos requieren gran almacenamiento y poder de cómputo para procesamiento en tiempo real.\n",
    "        - Análisis y búsqueda: Encontrar información específica dentro de un video sin etiquetas es un reto.\n",
    "    - Datos de Sensores / IoT:\n",
    "        - Volumen de datos: Sensores generan datos en tiempo real que pueden ser difíciles de gestionar.\n",
    "        - Integridad y ruido: Sensores defectuosos pueden dar datos erróneos o incompletos.\n",
    "    - Modelos 3D y Gráficos:\n",
    "        - Compatibilidad de formatos: Diferentes software pueden usar formatos incompatibles.\n",
    "        - Alta demanda computacional: Renderizar modelos 3D requiere hardware especializado.\n",
    "    - Registros Biométricos:\n",
    "        - Privacidad y seguridad: Datos como huellas dactilares o reconocimiento facial requieren protección contra fraudes.\n",
    "        - Variabilidad humana: Cambios en iluminación, posición o expresiones pueden afectar la precisión del reconocimiento."
   ]
  },
  {
   "cell_type": "markdown",
   "metadata": {},
   "source": [
    "### 2. Actividad Práctica\n",
    "- Objetivo: Cargar y explorar datos estructurados y no estructurados en Python.\n",
    "### 1. Trabajando con Datos Estructurados:\n",
    "- Paso 1: Descarga un conjunto de datos en formato CSV desde un sitio web como Kaggle o datos sintéticos.\n",
    "- Paso 2: Carga el archivo CSV en un DataFrame de Pandas. Abre una terminal o un Jupyter Notebook y ejecuta el siguiente código:\n"
   ]
  },
  {
   "cell_type": "code",
   "execution_count": 7,
   "metadata": {},
   "outputs": [
    {
     "name": "stdout",
     "output_type": "stream",
     "text": [
      "Primeras filas\n",
      "    Rank                      Name Platform    Year         Genre Publisher  \\\n",
      "0     1                Wii Sports      Wii  2006.0        Sports  Nintendo   \n",
      "1     2         Super Mario Bros.      NES  1985.0      Platform  Nintendo   \n",
      "2     3            Mario Kart Wii      Wii  2008.0        Racing  Nintendo   \n",
      "3     4         Wii Sports Resort      Wii  2009.0        Sports  Nintendo   \n",
      "4     5  Pokemon Red/Pokemon Blue       GB  1996.0  Role-Playing  Nintendo   \n",
      "\n",
      "   NA_Sales  EU_Sales  JP_Sales  Other_Sales  Global_Sales  \n",
      "0     41.49     29.02      3.77         8.46         82.74  \n",
      "1     29.08      3.58      6.81         0.77         40.24  \n",
      "2     15.85     12.88      3.79         3.31         35.82  \n",
      "3     15.75     11.01      3.28         2.96         33.00  \n",
      "4     11.27      8.89     10.22         1.00         31.37  \n",
      "<class 'pandas.core.frame.DataFrame'>\n",
      "RangeIndex: 16598 entries, 0 to 16597\n",
      "Data columns (total 11 columns):\n",
      " #   Column        Non-Null Count  Dtype  \n",
      "---  ------        --------------  -----  \n",
      " 0   Rank          16598 non-null  int64  \n",
      " 1   Name          16598 non-null  object \n",
      " 2   Platform      16598 non-null  object \n",
      " 3   Year          16327 non-null  float64\n",
      " 4   Genre         16598 non-null  object \n",
      " 5   Publisher     16540 non-null  object \n",
      " 6   NA_Sales      16598 non-null  float64\n",
      " 7   EU_Sales      16598 non-null  float64\n",
      " 8   JP_Sales      16598 non-null  float64\n",
      " 9   Other_Sales   16598 non-null  float64\n",
      " 10  Global_Sales  16598 non-null  float64\n",
      "dtypes: float64(6), int64(1), object(4)\n",
      "memory usage: 1.4+ MB\n",
      "Información general del dataframe\n",
      " None\n"
     ]
    }
   ],
   "source": [
    "import pandas as pd\n",
    "# Carga de archivo CSV\n",
    "df = pd.read_csv('vgsales.csv')\n",
    "# Ver las primeras filas\n",
    "print(f'Primeras filas\\n {df.head()}')\n",
    "# Información general del DataFrame\n",
    "print(f'Información general del dataframe\\n {df.info()}')"
   ]
  },
  {
   "cell_type": "markdown",
   "metadata": {},
   "source": [
    "### 2. Trabajando con Datos No Estructurados (Texto):\n",
    "- Paso 1: Descarga un archivo de texto (puede ser un archivo de tweets o comentarios en un foro).\n",
    "- Paso 2: Carga el archivo de texto en Python y realiza un análisis simple. Puedes usar el siguiente código:"
   ]
  },
  {
   "cell_type": "code",
   "execution_count": null,
   "metadata": {},
   "outputs": [
    {
     "name": "stdout",
     "output_type": "stream",
     "text": [
      "Las primeras líneas:\n",
      " —Deberíamos volver ya —instó Gared mientras los bosques se tornaban más\n",
      "y más oscuros a su alrededor—. Los salvajes están muertos.\n",
      "—¿Te dan miedo los muertos? —preguntó ser Waymar Roy ce, insinuando\n",
      "apenas una sonrisa.\n",
      "—Los muertos están muertos —contestó Gared. No había mordido el anzuelo.\n",
      "Era un anciano de más de cincuenta años, y había visto ir y venir a muchos\n",
      "jóvenes señores—. No tenemos nada que tratar con ellos.\n",
      "—¿Y de veras están muertos? —preguntó Royce delicadamente—. ¿Qué\n",
      "prueba tenem\n"
     ]
    }
   ],
   "source": [
    "with open('Comentarios.txt', 'r') as file:\n",
    "    text_data = file.read()\n",
    "# Muestra las primeras líneas\n",
    "print(f'Las primeras líneas:\\n {text_data[:500]}')\n"
   ]
  },
  {
   "cell_type": "markdown",
   "metadata": {},
   "source": [
    "- Paso 3: Usa herramientas de procesamiento de texto básicas como split() para dividir el texto en palabras:"
   ]
  },
  {
   "cell_type": "code",
   "execution_count": 16,
   "metadata": {},
   "outputs": [
    {
     "name": "stdout",
     "output_type": "stream",
     "text": [
      "Las primeras 20 palabras:\n",
      "['—Deberíamos', 'volver', 'ya', '—instó', 'Gared', 'mientras', 'los', 'bosques', 'se', 'tornaban', 'más', 'y', 'más', 'oscuros', 'a', 'su', 'alrededor—.', 'Los', 'salvajes', 'están']\n"
     ]
    }
   ],
   "source": [
    "words = text_data.split()\n",
    "print(f'Las primeras 20 palabras:\\n{words[:20]}') # Muestra las primeras 20 palabras"
   ]
  },
  {
   "cell_type": "markdown",
   "metadata": {},
   "source": [
    "### 3. Entregable:\n",
    "● Escribe un informe que incluya:\n",
    "- Respuestas a las preguntas teóricas.\n",
    "- El código utilizado para cargar y explorar los datos (tanto estructurados como no estructurados).\n",
    "- Una breve interpretación de los datos y cualquier hallazgo interesante que hayas observado."
   ]
  }
 ],
 "metadata": {
  "kernelspec": {
   "display_name": "python",
   "language": "python",
   "name": "python3"
  },
  "language_info": {
   "codemirror_mode": {
    "name": "ipython",
    "version": 3
   },
   "file_extension": ".py",
   "mimetype": "text/x-python",
   "name": "python",
   "nbconvert_exporter": "python",
   "pygments_lexer": "ipython3",
   "version": "3.12.9"
  }
 },
 "nbformat": 4,
 "nbformat_minor": 2
}
