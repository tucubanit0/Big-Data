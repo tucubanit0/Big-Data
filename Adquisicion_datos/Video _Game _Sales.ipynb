{
 "cells": [
  {
   "cell_type": "markdown",
   "metadata": {},
   "source": [
    "### Actividad: Tipos de Datos y Adquisición deDatos en Python"
   ]
  },
  {
   "cell_type": "markdown",
   "metadata": {},
   "source": [
    "### Parte 1: Tipos de Datos (Estructurados y No Estructurados)\n",
    "Objetivos:\n",
    "- Comprender la diferencia entre datos estructurados y no estructurados.\n",
    "- Aprender a trabajar con ambos tipos de datos en Python."
   ]
  },
  {
   "cell_type": "markdown",
   "metadata": {},
   "source": [
    "### Instrucciones Paso a Paso"
   ]
  },
  {
   "cell_type": "markdown",
   "metadata": {},
   "source": [
    "### 1. Investigación Teórica"
   ]
  },
  {
   "cell_type": "markdown",
   "metadata": {},
   "source": [
    "### Objetivo: Investigar y entender las diferencias entre datos estructurados y no estructurados.\n"
   ]
  },
  {
   "cell_type": "markdown",
   "metadata": {},
   "source": [
    "### 1. Lee y resume la siguiente información sobre los tipos de datos:\n",
    "### Datos estructurados: Son aquellos datos organizados en un formato claro y predecible, como bases de datos o archivos CSV. Se pueden organizar en filas y columnas (tablas).\n",
    "- Datos no estructurados: Son datos que no tienen un formato específico o rígido, como textos, imágenes, videos, etc.\n",
    "### 2. Responde las siguientes preguntas en tu informe:\n",
    "- ¿Cuáles son las principales características de los datos estructurados y no estructurados?\n",
    "- ¿Cuáles son las ventajas y desventajas de trabajar con cada tipo de dato?\n",
    "- Da ejemplos de datos no estructurados más allá de texto (por ejemplo, audio o imágenes).\n",
    "- ¿Qué desafíos existen al trabajar con cada tipo de dato?"
   ]
  },
  {
   "cell_type": "markdown",
   "metadata": {},
   "source": [
    "### 2. Actividad Práctica\n",
    "- Objetivo: Cargar y explorar datos estructurados y no estructurados en Python.\n",
    "### 1. Trabajando con Datos Estructurados:\n",
    "- Paso 1: Descarga un conjunto de datos en formato CSV desde un sitio web como Kaggle o datos sintéticos.\n",
    "- Paso 2: Carga el archivo CSV en un DataFrame de Pandas. Abre una terminal o un Jupyter Notebook y ejecuta el siguiente código:\n"
   ]
  },
  {
   "cell_type": "code",
   "execution_count": null,
   "metadata": {},
   "outputs": [],
   "source": [
    "import pandas as pd\n",
    "# Carga de archivo CSV\n",
    "df = pd.read_csv('ruta/a/tu/archivo.csv')\n",
    "# Ver las primeras filas\n",
    "print(df.head())\n",
    "# Información general del DataFrame\n",
    "print(df.info())\n"
   ]
  },
  {
   "cell_type": "markdown",
   "metadata": {},
   "source": [
    "### 2. Trabajando con Datos No Estructurados (Texto):\n",
    "- Paso 1: Descarga un archivo de texto (puede ser un archivo de tweets o comentarios en un foro).\n",
    "- Paso 2: Carga el archivo de texto en Python y realiza un análisis simple. Puedes usar el siguiente código:"
   ]
  },
  {
   "cell_type": "code",
   "execution_count": null,
   "metadata": {},
   "outputs": [],
   "source": [
    "with open('ruta/a/tu/archivo.txt', 'r') as file:\n",
    "text_data = file.read()\n",
    "# Muestra las primeras líneas\n",
    "print(text_data[:500])\n"
   ]
  },
  {
   "cell_type": "markdown",
   "metadata": {},
   "source": [
    "- Paso 3: Usa herramientas de procesamiento de texto básicas como split() para dividir el texto en palabras:"
   ]
  },
  {
   "cell_type": "code",
   "execution_count": null,
   "metadata": {},
   "outputs": [],
   "source": [
    "words = text_data.split()\n",
    "print(words[:20]) # Muestra las primeras 20 palabras"
   ]
  },
  {
   "cell_type": "markdown",
   "metadata": {},
   "source": [
    "### 3. Entregable:\n",
    "● Escribe un informe que incluya:\n",
    "- Respuestas a las preguntas teóricas.\n",
    "- El código utilizado para cargar y explorar los datos (tanto estructurados como no estructurados).\n",
    "- Una breve interpretación de los datos y cualquier hallazgo interesante que hayas observado."
   ]
  }
 ],
 "metadata": {
  "kernelspec": {
   "display_name": "python",
   "language": "python",
   "name": "python3"
  },
  "language_info": {
   "name": "python",
   "version": "3.12.9"
  }
 },
 "nbformat": 4,
 "nbformat_minor": 2
}
