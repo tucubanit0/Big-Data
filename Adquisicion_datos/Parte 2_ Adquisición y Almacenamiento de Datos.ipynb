{
 "cells": [
  {
   "cell_type": "markdown",
   "metadata": {},
   "source": [
    "### Actividad: Tipos de Datos y Adquisición de\n",
    "\n",
    "### Datos en Python\n",
    "\n",
    "### Parte 2: Adquisición y Almacenamiento de Datos\n",
    "- Objetivos:\n",
    "    - Aprender cómo obtener datos de fuentes externas (APIs, web scraping).\n",
    "    - Aprender a almacenar los datos adquiridos en archivos adecuados."
   ]
  },
  {
   "cell_type": "markdown",
   "metadata": {},
   "source": [
    "### Instrucciones Paso a Paso\n",
    "\n",
    "### 1. Investigación Teórica (1 hora)\n",
    "\n",
    "- Objetivo: Entender cómo funcionan las APIs, el web scraping y la conexión con bases de datos.\n",
    "\n",
    "    - 1. Lee sobre las siguientes técnicas de adquisición de datos:\n",
    "        - APIs: Son interfaces que permiten interactuar con servicios externos para obtener datos. Por ejemplo, puedes obtener datos de Twitter, OpenWeather o cualquier otra fuente pública.\n",
    "        - Web Scraping: Consiste en extraer datos de sitios web automáticamente. Se usan herramientas como BeautifulSoup o Scrapy.\n",
    "        - Bases de Datos: Son sistemas de almacenamiento de datos organizados. Puedes acceder a ellas desde Python usando bibliotecas como sqlite3 o SQLAlchemy.\n",
    "    - 2. Responde las siguientes preguntas en tu informe:\n",
    "        - ¿Qué es una API y cómo puedes interactuar con ellas para obtener datos?\n",
    "    - ¿Cuál es la diferencia entre el web scraping y el uso de APIs?\n",
    "    - ¿Cómo puedes almacenar los datos adquiridos de una API o scraping en un archivo CSV?\n",
    "    \n",
    "### 2. Actividad Práctica\n",
    "\n",
    "- Objetivo: Obtener datos de una API pública y almacenarlos en un archivo CSV.\n"
   ]
  },
  {
   "cell_type": "markdown",
   "metadata": {},
   "source": [
    "### 1. Trabajo con una API (Ejemplo con OpenWeather):\n",
    "\n",
    "- Paso 1: Regístrate en OpenWeatherMap y obtén una clave API.\n",
    "- Paso 2: Usa la biblioteca requests en Python para obtener datos\n",
    "del clima. El siguiente código te ayudará a hacer una solicitud a\n",
    "la API:\n"
   ]
  },
  {
   "cell_type": "code",
   "execution_count": 19,
   "metadata": {},
   "outputs": [
    {
     "name": "stdout",
     "output_type": "stream",
     "text": [
      "{'cod': '200', 'message': 0, 'cnt': 40, 'list': [{'dt': 1740139200, 'main': {'temp': 272.39, 'feels_like': 269.22, 'temp_min': 269.56, 'temp_max': 272.39, 'pressure': 1040, 'sea_level': 1040, 'grnd_level': 1019, 'humidity': 50, 'temp_kf': 2.83}, 'weather': [{'id': 803, 'main': 'Clouds', 'description': 'broken clouds', 'icon': '04d'}], 'clouds': {'all': 60}, 'wind': {'speed': 2.51, 'deg': 268, 'gust': 4.44}, 'visibility': 10000, 'pop': 0, 'sys': {'pod': 'd'}, 'dt_txt': '2025-02-21 12:00:00'}, {'dt': 1740150000, 'main': {'temp': 270.61, 'feels_like': 267.54, 'temp_min': 267.05, 'temp_max': 270.61, 'pressure': 1040, 'sea_level': 1040, 'grnd_level': 1019, 'humidity': 63, 'temp_kf': 3.56}, 'weather': [{'id': 803, 'main': 'Clouds', 'description': 'broken clouds', 'icon': '04n'}], 'clouds': {'all': 66}, 'wind': {'speed': 2.15, 'deg': 248, 'gust': 5.89}, 'visibility': 10000, 'pop': 0, 'sys': {'pod': 'n'}, 'dt_txt': '2025-02-21 15:00:00'}, {'dt': 1740160800, 'main': {'temp': 268.19, 'feels_like': 264.24, 'temp_min': 266.09, 'temp_max': 268.19, 'pressure': 1040, 'sea_level': 1040, 'grnd_level': 1019, 'humidity': 76, 'temp_kf': 2.1}, 'weather': [{'id': 803, 'main': 'Clouds', 'description': 'broken clouds', 'icon': '04n'}], 'clouds': {'all': 65}, 'wind': {'speed': 2.51, 'deg': 261, 'gust': 7.4}, 'visibility': 10000, 'pop': 0, 'sys': {'pod': 'n'}, 'dt_txt': '2025-02-21 18:00:00'}, {'dt': 1740171600, 'main': {'temp': 265.95, 'feels_like': 261.89, 'temp_min': 265.95, 'temp_max': 265.95, 'pressure': 1040, 'sea_level': 1040, 'grnd_level': 1019, 'humidity': 91, 'temp_kf': 0}, 'weather': [{'id': 804, 'main': 'Clouds', 'description': 'overcast clouds', 'icon': '04n'}], 'clouds': {'all': 100}, 'wind': {'speed': 2.28, 'deg': 260, 'gust': 6.47}, 'visibility': 10000, 'pop': 0, 'sys': {'pod': 'n'}, 'dt_txt': '2025-02-21 21:00:00'}, {'dt': 1740182400, 'main': {'temp': 265.99, 'feels_like': 261.87, 'temp_min': 265.99, 'temp_max': 265.99, 'pressure': 1040, 'sea_level': 1040, 'grnd_level': 1019, 'humidity': 91, 'temp_kf': 0}, 'weather': [{'id': 804, 'main': 'Clouds', 'description': 'overcast clouds', 'icon': '04n'}], 'clouds': {'all': 100}, 'wind': {'speed': 2.33, 'deg': 275, 'gust': 7.06}, 'visibility': 10000, 'pop': 0, 'sys': {'pod': 'n'}, 'dt_txt': '2025-02-22 00:00:00'}, {'dt': 1740193200, 'main': {'temp': 264.95, 'feels_like': 261.31, 'temp_min': 264.95, 'temp_max': 264.95, 'pressure': 1039, 'sea_level': 1039, 'grnd_level': 1018, 'humidity': 94, 'temp_kf': 0}, 'weather': [{'id': 804, 'main': 'Clouds', 'description': 'overcast clouds', 'icon': '04n'}], 'clouds': {'all': 89}, 'wind': {'speed': 1.9, 'deg': 260, 'gust': 5.81}, 'visibility': 10000, 'pop': 0, 'sys': {'pod': 'n'}, 'dt_txt': '2025-02-22 03:00:00'}, {'dt': 1740204000, 'main': {'temp': 265.81, 'feels_like': 261.8, 'temp_min': 265.81, 'temp_max': 265.81, 'pressure': 1040, 'sea_level': 1040, 'grnd_level': 1019, 'humidity': 88, 'temp_kf': 0}, 'weather': [{'id': 804, 'main': 'Clouds', 'description': 'overcast clouds', 'icon': '04d'}], 'clouds': {'all': 94}, 'wind': {'speed': 2.23, 'deg': 275, 'gust': 6.8}, 'visibility': 10000, 'pop': 0, 'sys': {'pod': 'd'}, 'dt_txt': '2025-02-22 06:00:00'}, {'dt': 1740214800, 'main': {'temp': 268.97, 'feels_like': 265.22, 'temp_min': 268.97, 'temp_max': 268.97, 'pressure': 1040, 'sea_level': 1040, 'grnd_level': 1019, 'humidity': 69, 'temp_kf': 0}, 'weather': [{'id': 803, 'main': 'Clouds', 'description': 'broken clouds', 'icon': '04d'}], 'clouds': {'all': 78}, 'wind': {'speed': 2.46, 'deg': 283, 'gust': 4.18}, 'visibility': 10000, 'pop': 0, 'sys': {'pod': 'd'}, 'dt_txt': '2025-02-22 09:00:00'}, {'dt': 1740225600, 'main': {'temp': 270.75, 'feels_like': 267.65, 'temp_min': 270.75, 'temp_max': 270.75, 'pressure': 1038, 'sea_level': 1038, 'grnd_level': 1018, 'humidity': 59, 'temp_kf': 0}, 'weather': [{'id': 803, 'main': 'Clouds', 'description': 'broken clouds', 'icon': '04d'}], 'clouds': {'all': 53}, 'wind': {'speed': 2.19, 'deg': 287, 'gust': 3.86}, 'visibility': 10000, 'pop': 0, 'sys': {'pod': 'd'}, 'dt_txt': '2025-02-22 12:00:00'}, {'dt': 1740236400, 'main': {'temp': 267.51, 'feels_like': 267.51, 'temp_min': 267.51, 'temp_max': 267.51, 'pressure': 1038, 'sea_level': 1038, 'grnd_level': 1017, 'humidity': 85, 'temp_kf': 0}, 'weather': [{'id': 800, 'main': 'Clear', 'description': 'clear sky', 'icon': '01n'}], 'clouds': {'all': 6}, 'wind': {'speed': 1.29, 'deg': 262, 'gust': 1.27}, 'visibility': 10000, 'pop': 0, 'sys': {'pod': 'n'}, 'dt_txt': '2025-02-22 15:00:00'}, {'dt': 1740247200, 'main': {'temp': 265.84, 'feels_like': 263.39, 'temp_min': 265.84, 'temp_max': 265.84, 'pressure': 1039, 'sea_level': 1039, 'grnd_level': 1018, 'humidity': 90, 'temp_kf': 0}, 'weather': [{'id': 800, 'main': 'Clear', 'description': 'clear sky', 'icon': '01n'}], 'clouds': {'all': 6}, 'wind': {'speed': 1.34, 'deg': 305, 'gust': 1.93}, 'visibility': 10000, 'pop': 0, 'sys': {'pod': 'n'}, 'dt_txt': '2025-02-22 18:00:00'}, {'dt': 1740258000, 'main': {'temp': 264.86, 'feels_like': 264.86, 'temp_min': 264.86, 'temp_max': 264.86, 'pressure': 1039, 'sea_level': 1039, 'grnd_level': 1018, 'humidity': 93, 'temp_kf': 0}, 'weather': [{'id': 800, 'main': 'Clear', 'description': 'clear sky', 'icon': '01n'}], 'clouds': {'all': 5}, 'wind': {'speed': 1.1, 'deg': 309, 'gust': 1.09}, 'visibility': 10000, 'pop': 0, 'sys': {'pod': 'n'}, 'dt_txt': '2025-02-22 21:00:00'}, {'dt': 1740268800, 'main': {'temp': 264.24, 'feels_like': 264.24, 'temp_min': 264.24, 'temp_max': 264.24, 'pressure': 1039, 'sea_level': 1039, 'grnd_level': 1018, 'humidity': 95, 'temp_kf': 0}, 'weather': [{'id': 800, 'main': 'Clear', 'description': 'clear sky', 'icon': '01n'}], 'clouds': {'all': 5}, 'wind': {'speed': 1.13, 'deg': 329, 'gust': 1.06}, 'visibility': 10000, 'pop': 0, 'sys': {'pod': 'n'}, 'dt_txt': '2025-02-23 00:00:00'}, {'dt': 1740279600, 'main': {'temp': 263.61, 'feels_like': 263.61, 'temp_min': 263.61, 'temp_max': 263.61, 'pressure': 1039, 'sea_level': 1039, 'grnd_level': 1018, 'humidity': 96, 'temp_kf': 0}, 'weather': [{'id': 800, 'main': 'Clear', 'description': 'clear sky', 'icon': '01n'}], 'clouds': {'all': 5}, 'wind': {'speed': 0.81, 'deg': 2, 'gust': 0.77}, 'visibility': 10000, 'pop': 0, 'sys': {'pod': 'n'}, 'dt_txt': '2025-02-23 03:00:00'}, {'dt': 1740290400, 'main': {'temp': 264.88, 'feels_like': 264.88, 'temp_min': 264.88, 'temp_max': 264.88, 'pressure': 1039, 'sea_level': 1039, 'grnd_level': 1018, 'humidity': 88, 'temp_kf': 0}, 'weather': [{'id': 800, 'main': 'Clear', 'description': 'clear sky', 'icon': '01d'}], 'clouds': {'all': 9}, 'wind': {'speed': 0.96, 'deg': 71, 'gust': 1.29}, 'visibility': 10000, 'pop': 0, 'sys': {'pod': 'd'}, 'dt_txt': '2025-02-23 06:00:00'}, {'dt': 1740301200, 'main': {'temp': 268.54, 'feels_like': 268.54, 'temp_min': 268.54, 'temp_max': 268.54, 'pressure': 1039, 'sea_level': 1039, 'grnd_level': 1018, 'humidity': 72, 'temp_kf': 0}, 'weather': [{'id': 800, 'main': 'Clear', 'description': 'clear sky', 'icon': '01d'}], 'clouds': {'all': 6}, 'wind': {'speed': 0.97, 'deg': 79, 'gust': 1.35}, 'visibility': 10000, 'pop': 0, 'sys': {'pod': 'd'}, 'dt_txt': '2025-02-23 09:00:00'}, {'dt': 1740312000, 'main': {'temp': 270.14, 'feels_like': 270.14, 'temp_min': 270.14, 'temp_max': 270.14, 'pressure': 1038, 'sea_level': 1038, 'grnd_level': 1017, 'humidity': 65, 'temp_kf': 0}, 'weather': [{'id': 800, 'main': 'Clear', 'description': 'clear sky', 'icon': '01d'}], 'clouds': {'all': 5}, 'wind': {'speed': 1.13, 'deg': 41, 'gust': 1.99}, 'visibility': 10000, 'pop': 0, 'sys': {'pod': 'd'}, 'dt_txt': '2025-02-23 12:00:00'}, {'dt': 1740322800, 'main': {'temp': 267.49, 'feels_like': 267.49, 'temp_min': 267.49, 'temp_max': 267.49, 'pressure': 1038, 'sea_level': 1038, 'grnd_level': 1017, 'humidity': 85, 'temp_kf': 0}, 'weather': [{'id': 800, 'main': 'Clear', 'description': 'clear sky', 'icon': '01n'}], 'clouds': {'all': 5}, 'wind': {'speed': 1.04, 'deg': 353, 'gust': 1.02}, 'visibility': 10000, 'pop': 0, 'sys': {'pod': 'n'}, 'dt_txt': '2025-02-23 15:00:00'}, {'dt': 1740333600, 'main': {'temp': 265.98, 'feels_like': 263.44, 'temp_min': 265.98, 'temp_max': 265.98, 'pressure': 1038, 'sea_level': 1038, 'grnd_level': 1017, 'humidity': 93, 'temp_kf': 0}, 'weather': [{'id': 800, 'main': 'Clear', 'description': 'clear sky', 'icon': '01n'}], 'clouds': {'all': 8}, 'wind': {'speed': 1.39, 'deg': 54, 'gust': 2.33}, 'visibility': 10000, 'pop': 0, 'sys': {'pod': 'n'}, 'dt_txt': '2025-02-23 18:00:00'}, {'dt': 1740344400, 'main': {'temp': 264.67, 'feels_like': 264.67, 'temp_min': 264.67, 'temp_max': 264.67, 'pressure': 1038, 'sea_level': 1038, 'grnd_level': 1017, 'humidity': 96, 'temp_kf': 0}, 'weather': [{'id': 801, 'main': 'Clouds', 'description': 'few clouds', 'icon': '02n'}], 'clouds': {'all': 13}, 'wind': {'speed': 1.07, 'deg': 44, 'gust': 1.26}, 'visibility': 10000, 'pop': 0, 'sys': {'pod': 'n'}, 'dt_txt': '2025-02-23 21:00:00'}, {'dt': 1740355200, 'main': {'temp': 263.88, 'feels_like': 263.88, 'temp_min': 263.88, 'temp_max': 263.88, 'pressure': 1037, 'sea_level': 1037, 'grnd_level': 1016, 'humidity': 96, 'temp_kf': 0}, 'weather': [{'id': 801, 'main': 'Clouds', 'description': 'few clouds', 'icon': '02n'}], 'clouds': {'all': 12}, 'wind': {'speed': 1.31, 'deg': 22, 'gust': 1.47}, 'visibility': 10000, 'pop': 0, 'sys': {'pod': 'n'}, 'dt_txt': '2025-02-24 00:00:00'}, {'dt': 1740366000, 'main': {'temp': 263.24, 'feels_like': 260.12, 'temp_min': 263.24, 'temp_max': 263.24, 'pressure': 1036, 'sea_level': 1036, 'grnd_level': 1015, 'humidity': 96, 'temp_kf': 0}, 'weather': [{'id': 801, 'main': 'Clouds', 'description': 'few clouds', 'icon': '02n'}], 'clouds': {'all': 23}, 'wind': {'speed': 1.49, 'deg': 13, 'gust': 2.45}, 'visibility': 10000, 'pop': 0, 'sys': {'pod': 'n'}, 'dt_txt': '2025-02-24 03:00:00'}, {'dt': 1740376800, 'main': {'temp': 264.23, 'feels_like': 261.2, 'temp_min': 264.23, 'temp_max': 264.23, 'pressure': 1036, 'sea_level': 1036, 'grnd_level': 1015, 'humidity': 91, 'temp_kf': 0}, 'weather': [{'id': 802, 'main': 'Clouds', 'description': 'scattered clouds', 'icon': '03d'}], 'clouds': {'all': 26}, 'wind': {'speed': 1.51, 'deg': 43, 'gust': 3.15}, 'visibility': 10000, 'pop': 0, 'sys': {'pod': 'd'}, 'dt_txt': '2025-02-24 06:00:00'}, {'dt': 1740387600, 'main': {'temp': 268, 'feels_like': 265.17, 'temp_min': 268, 'temp_max': 268, 'pressure': 1035, 'sea_level': 1035, 'grnd_level': 1014, 'humidity': 67, 'temp_kf': 0}, 'weather': [{'id': 800, 'main': 'Clear', 'description': 'clear sky', 'icon': '01d'}], 'clouds': {'all': 5}, 'wind': {'speed': 1.7, 'deg': 19, 'gust': 2.64}, 'visibility': 10000, 'pop': 0, 'sys': {'pod': 'd'}, 'dt_txt': '2025-02-24 09:00:00'}, {'dt': 1740398400, 'main': {'temp': 270.27, 'feels_like': 267.24, 'temp_min': 270.27, 'temp_max': 270.27, 'pressure': 1033, 'sea_level': 1033, 'grnd_level': 1012, 'humidity': 53, 'temp_kf': 0}, 'weather': [{'id': 800, 'main': 'Clear', 'description': 'clear sky', 'icon': '01d'}], 'clouds': {'all': 3}, 'wind': {'speed': 2.07, 'deg': 7, 'gust': 3.57}, 'visibility': 10000, 'pop': 0, 'sys': {'pod': 'd'}, 'dt_txt': '2025-02-24 12:00:00'}, {'dt': 1740409200, 'main': {'temp': 267.24, 'feels_like': 264.75, 'temp_min': 267.24, 'temp_max': 267.24, 'pressure': 1031, 'sea_level': 1031, 'grnd_level': 1011, 'humidity': 81, 'temp_kf': 0}, 'weather': [{'id': 800, 'main': 'Clear', 'description': 'clear sky', 'icon': '01n'}], 'clouds': {'all': 0}, 'wind': {'speed': 1.45, 'deg': 343, 'gust': 1.34}, 'visibility': 10000, 'pop': 0, 'sys': {'pod': 'n'}, 'dt_txt': '2025-02-24 15:00:00'}, {'dt': 1740420000, 'main': {'temp': 265.97, 'feels_like': 263.01, 'temp_min': 265.97, 'temp_max': 265.97, 'pressure': 1031, 'sea_level': 1031, 'grnd_level': 1011, 'humidity': 86, 'temp_kf': 0}, 'weather': [{'id': 800, 'main': 'Clear', 'description': 'clear sky', 'icon': '01n'}], 'clouds': {'all': 2}, 'wind': {'speed': 1.6, 'deg': 360, 'gust': 3.18}, 'visibility': 10000, 'pop': 0, 'sys': {'pod': 'n'}, 'dt_txt': '2025-02-24 18:00:00'}, {'dt': 1740430800, 'main': {'temp': 264.96, 'feels_like': 262.16, 'temp_min': 264.96, 'temp_max': 264.96, 'pressure': 1031, 'sea_level': 1031, 'grnd_level': 1010, 'humidity': 89, 'temp_kf': 0}, 'weather': [{'id': 800, 'main': 'Clear', 'description': 'clear sky', 'icon': '01n'}], 'clouds': {'all': 5}, 'wind': {'speed': 1.45, 'deg': 5, 'gust': 2.6}, 'visibility': 10000, 'pop': 0, 'sys': {'pod': 'n'}, 'dt_txt': '2025-02-24 21:00:00'}, {'dt': 1740441600, 'main': {'temp': 264.23, 'feels_like': 261.39, 'temp_min': 264.23, 'temp_max': 264.23, 'pressure': 1030, 'sea_level': 1030, 'grnd_level': 1009, 'humidity': 92, 'temp_kf': 0}, 'weather': [{'id': 800, 'main': 'Clear', 'description': 'clear sky', 'icon': '01n'}], 'clouds': {'all': 5}, 'wind': {'speed': 1.42, 'deg': 359, 'gust': 2.57}, 'visibility': 10000, 'pop': 0, 'sys': {'pod': 'n'}, 'dt_txt': '2025-02-25 00:00:00'}, {'dt': 1740452400, 'main': {'temp': 263.8, 'feels_like': 260.69, 'temp_min': 263.8, 'temp_max': 263.8, 'pressure': 1029, 'sea_level': 1029, 'grnd_level': 1009, 'humidity': 92, 'temp_kf': 0}, 'weather': [{'id': 802, 'main': 'Clouds', 'description': 'scattered clouds', 'icon': '03n'}], 'clouds': {'all': 26}, 'wind': {'speed': 1.52, 'deg': 355, 'gust': 2.65}, 'visibility': 10000, 'pop': 0, 'sys': {'pod': 'n'}, 'dt_txt': '2025-02-25 03:00:00'}, {'dt': 1740463200, 'main': {'temp': 265.16, 'feels_like': 261.84, 'temp_min': 265.16, 'temp_max': 265.16, 'pressure': 1029, 'sea_level': 1029, 'grnd_level': 1008, 'humidity': 86, 'temp_kf': 0}, 'weather': [{'id': 801, 'main': 'Clouds', 'description': 'few clouds', 'icon': '02d'}], 'clouds': {'all': 21}, 'wind': {'speed': 1.73, 'deg': 358, 'gust': 3.43}, 'visibility': 10000, 'pop': 0, 'sys': {'pod': 'd'}, 'dt_txt': '2025-02-25 06:00:00'}, {'dt': 1740474000, 'main': {'temp': 269.4, 'feels_like': 265.66, 'temp_min': 269.4, 'temp_max': 269.4, 'pressure': 1028, 'sea_level': 1028, 'grnd_level': 1008, 'humidity': 65, 'temp_kf': 0}, 'weather': [{'id': 802, 'main': 'Clouds', 'description': 'scattered clouds', 'icon': '03d'}], 'clouds': {'all': 41}, 'wind': {'speed': 2.52, 'deg': 4, 'gust': 4.08}, 'visibility': 10000, 'pop': 0, 'sys': {'pod': 'd'}, 'dt_txt': '2025-02-25 09:00:00'}, {'dt': 1740484800, 'main': {'temp': 271.52, 'feels_like': 268.12, 'temp_min': 271.52, 'temp_max': 271.52, 'pressure': 1027, 'sea_level': 1027, 'grnd_level': 1007, 'humidity': 57, 'temp_kf': 0}, 'weather': [{'id': 801, 'main': 'Clouds', 'description': 'few clouds', 'icon': '02d'}], 'clouds': {'all': 23}, 'wind': {'speed': 2.57, 'deg': 347, 'gust': 4.08}, 'visibility': 10000, 'pop': 0, 'sys': {'pod': 'd'}, 'dt_txt': '2025-02-25 12:00:00'}, {'dt': 1740495600, 'main': {'temp': 268.5, 'feels_like': 264.96, 'temp_min': 268.5, 'temp_max': 268.5, 'pressure': 1027, 'sea_level': 1027, 'grnd_level': 1006, 'humidity': 78, 'temp_kf': 0}, 'weather': [{'id': 800, 'main': 'Clear', 'description': 'clear sky', 'icon': '01n'}], 'clouds': {'all': 0}, 'wind': {'speed': 2.23, 'deg': 337, 'gust': 6.11}, 'visibility': 10000, 'pop': 0, 'sys': {'pod': 'n'}, 'dt_txt': '2025-02-25 15:00:00'}, {'dt': 1740506400, 'main': {'temp': 267.1, 'feels_like': 263.57, 'temp_min': 267.1, 'temp_max': 267.1, 'pressure': 1026, 'sea_level': 1026, 'grnd_level': 1006, 'humidity': 81, 'temp_kf': 0}, 'weather': [{'id': 800, 'main': 'Clear', 'description': 'clear sky', 'icon': '01n'}], 'clouds': {'all': 0}, 'wind': {'speed': 2.05, 'deg': 349, 'gust': 6.95}, 'visibility': 10000, 'pop': 0, 'sys': {'pod': 'n'}, 'dt_txt': '2025-02-25 18:00:00'}, {'dt': 1740517200, 'main': {'temp': 266.06, 'feels_like': 262.5, 'temp_min': 266.06, 'temp_max': 266.06, 'pressure': 1026, 'sea_level': 1026, 'grnd_level': 1005, 'humidity': 84, 'temp_kf': 0}, 'weather': [{'id': 800, 'main': 'Clear', 'description': 'clear sky', 'icon': '01n'}], 'clouds': {'all': 4}, 'wind': {'speed': 1.96, 'deg': 341, 'gust': 5.3}, 'visibility': 10000, 'pop': 0, 'sys': {'pod': 'n'}, 'dt_txt': '2025-02-25 21:00:00'}, {'dt': 1740528000, 'main': {'temp': 265.27, 'feels_like': 261.66, 'temp_min': 265.27, 'temp_max': 265.27, 'pressure': 1026, 'sea_level': 1026, 'grnd_level': 1005, 'humidity': 85, 'temp_kf': 0}, 'weather': [{'id': 800, 'main': 'Clear', 'description': 'clear sky', 'icon': '01n'}], 'clouds': {'all': 5}, 'wind': {'speed': 1.91, 'deg': 351, 'gust': 4.92}, 'visibility': 10000, 'pop': 0, 'sys': {'pod': 'n'}, 'dt_txt': '2025-02-26 00:00:00'}, {'dt': 1740538800, 'main': {'temp': 264.9, 'feels_like': 261.42, 'temp_min': 264.9, 'temp_max': 264.9, 'pressure': 1025, 'sea_level': 1025, 'grnd_level': 1004, 'humidity': 86, 'temp_kf': 0}, 'weather': [{'id': 803, 'main': 'Clouds', 'description': 'broken clouds', 'icon': '04n'}], 'clouds': {'all': 51}, 'wind': {'speed': 1.8, 'deg': 348, 'gust': 4.56}, 'visibility': 10000, 'pop': 0, 'sys': {'pod': 'n'}, 'dt_txt': '2025-02-26 03:00:00'}, {'dt': 1740549600, 'main': {'temp': 265.83, 'feels_like': 262.41, 'temp_min': 265.83, 'temp_max': 265.83, 'pressure': 1025, 'sea_level': 1025, 'grnd_level': 1005, 'humidity': 80, 'temp_kf': 0}, 'weather': [{'id': 802, 'main': 'Clouds', 'description': 'scattered clouds', 'icon': '03d'}], 'clouds': {'all': 38}, 'wind': {'speed': 1.85, 'deg': 25, 'gust': 4.77}, 'visibility': 10000, 'pop': 0, 'sys': {'pod': 'd'}, 'dt_txt': '2025-02-26 06:00:00'}, {'dt': 1740560400, 'main': {'temp': 269.74, 'feels_like': 267.01, 'temp_min': 269.74, 'temp_max': 269.74, 'pressure': 1025, 'sea_level': 1025, 'grnd_level': 1005, 'humidity': 65, 'temp_kf': 0}, 'weather': [{'id': 802, 'main': 'Clouds', 'description': 'scattered clouds', 'icon': '03d'}], 'clouds': {'all': 35}, 'wind': {'speed': 1.8, 'deg': 45, 'gust': 3.17}, 'visibility': 10000, 'pop': 0, 'sys': {'pod': 'd'}, 'dt_txt': '2025-02-26 09:00:00'}], 'city': {'id': 524901, 'name': 'Moscow', 'coord': {'lat': 55.7522, 'lon': 37.6156}, 'country': 'RU', 'population': 0, 'timezone': 10800, 'sunrise': 1740112829, 'sunset': 1740149170}}\n"
     ]
    }
   ],
   "source": [
    "import requests\n",
    "import pandas as pd\n",
    "api_key = '0ce292f0aab9c9340055125db900e1bb'\n",
    "url = f'http://api.openweathermap.org/data/2.5/forecast?id=524901&appid={api_key}'\n",
    "response = requests.get(url)\n",
    "data = response.json()\n",
    "# Muestra los datos obtenidos\n",
    "print(data)"
   ]
  },
  {
   "cell_type": "markdown",
   "metadata": {},
   "source": [
    "- Paso 3: Almacena los datos en un archivo CSV. Por ejemplo:"
   ]
  },
  {
   "cell_type": "code",
   "execution_count": 24,
   "metadata": {},
   "outputs": [
    {
     "name": "stdout",
     "output_type": "stream",
     "text": [
      "Data has been saved to weather_data.csv\n"
     ]
    }
   ],
   "source": [
    "# Supón que 'data' tiene la información del clima\n",
    "df = pd.json_normalize(data['list'])\n",
    "df.to_csv('weather_data.csv', index=False)\n",
    "print(\"Data has been saved to weather_data.csv\")"
   ]
  },
  {
   "cell_type": "markdown",
   "metadata": {},
   "source": [
    "### 2. Trabajo con Web Scraping (Ejemplo con BeautifulSoup):\n",
    "- Paso 1: Instala BeautifulSoup:"
   ]
  },
  {
   "cell_type": "code",
   "execution_count": 23,
   "metadata": {},
   "outputs": [
    {
     "name": "stdout",
     "output_type": "stream",
     "text": [
      "Requirement already satisfied: beautifulsoup4 in c:\\users\\javier\\anaconda3\\envs\\python\\lib\\site-packages (4.12.3)\n",
      "Requirement already satisfied: requests in c:\\users\\javier\\anaconda3\\envs\\python\\lib\\site-packages (2.32.3)\n",
      "Requirement already satisfied: soupsieve>1.2 in c:\\users\\javier\\anaconda3\\envs\\python\\lib\\site-packages (from beautifulsoup4) (2.5)\n",
      "Requirement already satisfied: charset-normalizer<4,>=2 in c:\\users\\javier\\anaconda3\\envs\\python\\lib\\site-packages (from requests) (3.3.2)\n",
      "Requirement already satisfied: idna<4,>=2.5 in c:\\users\\javier\\anaconda3\\envs\\python\\lib\\site-packages (from requests) (3.7)\n",
      "Requirement already satisfied: urllib3<3,>=1.21.1 in c:\\users\\javier\\anaconda3\\envs\\python\\lib\\site-packages (from requests) (2.3.0)\n",
      "Requirement already satisfied: certifi>=2017.4.17 in c:\\users\\javier\\anaconda3\\envs\\python\\lib\\site-packages (from requests) (2025.1.31)\n",
      "Note: you may need to restart the kernel to use updated packages.\n"
     ]
    }
   ],
   "source": [
    "%pip install beautifulsoup4 requests"
   ]
  },
  {
   "cell_type": "markdown",
   "metadata": {},
   "source": [
    "- Paso 2: Realiza scraping de un sitio web (por ejemplo, extraer los títulos de noticias de un sitio):\n"
   ]
  },
  {
   "cell_type": "code",
   "execution_count": 31,
   "metadata": {},
   "outputs": [
    {
     "name": "stdout",
     "output_type": "stream",
     "text": [
      "Follow BBC on:\n"
     ]
    }
   ],
   "source": [
    "from bs4 import BeautifulSoup # Importamos BeautifulSoup para analizar el contenido  HTML\n",
    "import requests # Importamos la librería requests para hacer peticiones HTTP\n",
    "# Definimos la URL del sitio web que queremos scrape\n",
    "url = 'https://www.bbc.com'\n",
    "# Realizamos la solicitud HTTP al sitio web y obtenemos la respuesta\n",
    "response = requests.get(url)\n",
    "# Usamos BeautifulSoup para analizar el contenido de la respuesta en formato HTML\n",
    "soup = BeautifulSoup(response.content, 'html.parser')\n",
    "# Buscamos todas las etiquetas <h2> en el contenido HTML, que deberían contener los titulares\n",
    "headlines = soup.find_all('h2')\n",
    "# Almacenamos los titulares en una lista\n",
    "news= []\n",
    "# Recorremos cada uno de los elementos encontrados\n",
    "for headline in headlines:\n",
    "    text = headline.text.strip()\n",
    "if text: # Solo añadimos si no está vacío\n",
    "    news.append(text)\n",
    "# Imprimimos todos los titulares juntos, cada uno en una línea\n",
    "print(\"\\n\".join(news))\n"
   ]
  },
  {
   "cell_type": "markdown",
   "metadata": {},
   "source": [
    "- Paso 3: Almacena los datos obtenidos en un archivo CSV:"
   ]
  },
  {
   "cell_type": "code",
   "execution_count": 32,
   "metadata": {},
   "outputs": [],
   "source": [
    "headlines_text = [headline.text for headline in headlines]\n",
    "df = pd.DataFrame(headlines_text, columns=['Headline'])\n",
    "df.to_csv('bbc_headlines.csv', index=False)\n"
   ]
  },
  {
   "cell_type": "markdown",
   "metadata": {},
   "source": [
    "### 3. Entregable:\n",
    "- Un informe que incluya:\n",
    "    - Respuestas a las preguntas teóricas.\n",
    "    - El código utilizado para obtener y almacenar los datos (de la API o mediante scraping)\n",
    "    - Los archivos CSV con los datos obtenidos"
   ]
  }
 ],
 "metadata": {
  "kernelspec": {
   "display_name": "python",
   "language": "python",
   "name": "python3"
  },
  "language_info": {
   "codemirror_mode": {
    "name": "ipython",
    "version": 3
   },
   "file_extension": ".py",
   "mimetype": "text/x-python",
   "name": "python",
   "nbconvert_exporter": "python",
   "pygments_lexer": "ipython3",
   "version": "3.12.9"
  }
 },
 "nbformat": 4,
 "nbformat_minor": 2
}
