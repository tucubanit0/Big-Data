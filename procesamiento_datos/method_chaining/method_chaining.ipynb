{
  "nbformat": 4,
  "nbformat_minor": 0,
  "metadata": {
    "colab": {
      "provenance": []
    },
    "kernelspec": {
      "name": "python3",
      "display_name": "Python 3"
    },
    "language_info": {
      "name": "python"
    }
  },
  "cells": [
    {
      "cell_type": "code",
      "execution_count": 1,
      "metadata": {
        "id": "9U1wAw-dhrs0"
      },
      "outputs": [],
      "source": [
        "import pandas as pd\n",
        "import seaborn as sns\n"
      ]
    },
    {
      "cell_type": "code",
      "source": [
        "# Carga conjunto de datos\n",
        "penguins = sns.load_dataset('penguins')"
      ],
      "metadata": {
        "id": "nNvxo9NTiMzk"
      },
      "execution_count": 2,
      "outputs": []
    },
    {
      "cell_type": "code",
      "source": [
        "print(penguins.head())\n",
        "species = 'Adelie'"
      ],
      "metadata": {
        "colab": {
          "base_uri": "https://localhost:8080/"
        },
        "id": "K9iCgPFNiVe8",
        "outputId": "c819bddf-1c49-4af8-d7dd-e862b1f1fae1"
      },
      "execution_count": 3,
      "outputs": [
        {
          "output_type": "stream",
          "name": "stdout",
          "text": [
            "  species     island  bill_length_mm  bill_depth_mm  flipper_length_mm  \\\n",
            "0  Adelie  Torgersen            39.1           18.7              181.0   \n",
            "1  Adelie  Torgersen            39.5           17.4              186.0   \n",
            "2  Adelie  Torgersen            40.3           18.0              195.0   \n",
            "3  Adelie  Torgersen             NaN            NaN                NaN   \n",
            "4  Adelie  Torgersen            36.7           19.3              193.0   \n",
            "\n",
            "   body_mass_g     sex  \n",
            "0       3750.0    Male  \n",
            "1       3800.0  Female  \n",
            "2       3250.0  Female  \n",
            "3          NaN     NaN  \n",
            "4       3450.0  Female  \n"
          ]
        }
      ]
    },
    {
      "cell_type": "code",
      "source": [
        "data = penguins[penguins['species'] == 'Adelie']['body_mass_g'].dropna()"
      ],
      "metadata": {
        "id": "iV_deFcXih4K"
      },
      "execution_count": 5,
      "outputs": []
    },
    {
      "cell_type": "markdown",
      "source": [
        "#### penguins['species'] == 'Adelie'  =>"
      ],
      "metadata": {
        "id": "x46SIZ2tjLmd"
      }
    },
    {
      "cell_type": "markdown",
      "source": [
        "#### penguins[penguins['species'] == 'Adelie']  => Solo selecciona las filas donde se da la condición True"
      ],
      "metadata": {
        "id": "KtLnsDMojr3l"
      }
    },
    {
      "cell_type": "markdown",
      "source": [
        "#### ['body_mass_g']  => Selecciona sólo esta columna 'body_mass_g'"
      ],
      "metadata": {
        "id": "EtzynHv6kWBS"
      }
    },
    {
      "cell_type": "markdown",
      "source": [
        "#### .dropna()  => Elimina si el valor es nulo"
      ],
      "metadata": {
        "id": "EBRNrssike0c"
      }
    },
    {
      "cell_type": "markdown",
      "source": [
        "#### data  => guarda el resultado"
      ],
      "metadata": {
        "id": "V4ZeReyUk1cc"
      }
    },
    {
      "cell_type": "code",
      "source": [
        "print(data)"
      ],
      "metadata": {
        "colab": {
          "base_uri": "https://localhost:8080/"
        },
        "id": "bATonQh9lBnq",
        "outputId": "36979ac7-a4d6-469e-9d54-6ce3d70b652b"
      },
      "execution_count": 6,
      "outputs": [
        {
          "output_type": "stream",
          "name": "stdout",
          "text": [
            "0      3750.0\n",
            "1      3800.0\n",
            "2      3250.0\n",
            "4      3450.0\n",
            "5      3650.0\n",
            "        ...  \n",
            "147    3475.0\n",
            "148    3450.0\n",
            "149    3750.0\n",
            "150    3700.0\n",
            "151    4000.0\n",
            "Name: body_mass_g, Length: 151, dtype: float64\n"
          ]
        }
      ]
    },
    {
      "cell_type": "code",
      "source": [
        "# Seleccionar la longitud del piso de la especie 'Gentoo', eliminando los nulos"
      ],
      "metadata": {
        "id": "cwgkd5hTlVEr"
      },
      "execution_count": null,
      "outputs": []
    },
    {
      "cell_type": "code",
      "source": [
        "gentoo_bill = penguins[penguins['species'] == 'Gentoo']['bill_length_mm'].dropna()\n",
        "print(gentoo_bill)\n",
        "print(type(gentoo_bill))"
      ],
      "metadata": {
        "colab": {
          "base_uri": "https://localhost:8080/"
        },
        "id": "AT7E-JmHluPs",
        "outputId": "298e119d-bdb6-4e2e-9b4c-d62a7716d78d"
      },
      "execution_count": 20,
      "outputs": [
        {
          "output_type": "stream",
          "name": "stdout",
          "text": [
            "220    46.1\n",
            "221    50.0\n",
            "222    48.7\n",
            "223    50.0\n",
            "224    47.6\n",
            "       ... \n",
            "338    47.2\n",
            "340    46.8\n",
            "341    50.4\n",
            "342    45.2\n",
            "343    49.9\n",
            "Name: bill_length_mm, Length: 123, dtype: float64\n",
            "<class 'pandas.core.series.Series'>\n"
          ]
        }
      ]
    },
    {
      "cell_type": "code",
      "source": [
        "# Obtener solo las filas de la especie 'Chinstrap'"
      ],
      "metadata": {
        "id": "_Fo59LAOmbL0"
      },
      "execution_count": null,
      "outputs": []
    },
    {
      "cell_type": "code",
      "source": [
        "chinstrap_data = penguins[penguins['species'] == 'Chinstrap']\n",
        "print(chinstrap_data)"
      ],
      "metadata": {
        "colab": {
          "base_uri": "https://localhost:8080/"
        },
        "id": "-CfYn5EPmi20",
        "outputId": "86acc73c-ad13-4dbf-ea78-d7a8e4c0d552"
      },
      "execution_count": 9,
      "outputs": [
        {
          "output_type": "stream",
          "name": "stdout",
          "text": [
            "       species island  bill_length_mm  bill_depth_mm  flipper_length_mm  \\\n",
            "152  Chinstrap  Dream            46.5           17.9              192.0   \n",
            "153  Chinstrap  Dream            50.0           19.5              196.0   \n",
            "154  Chinstrap  Dream            51.3           19.2              193.0   \n",
            "155  Chinstrap  Dream            45.4           18.7              188.0   \n",
            "156  Chinstrap  Dream            52.7           19.8              197.0   \n",
            "..         ...    ...             ...            ...                ...   \n",
            "215  Chinstrap  Dream            55.8           19.8              207.0   \n",
            "216  Chinstrap  Dream            43.5           18.1              202.0   \n",
            "217  Chinstrap  Dream            49.6           18.2              193.0   \n",
            "218  Chinstrap  Dream            50.8           19.0              210.0   \n",
            "219  Chinstrap  Dream            50.2           18.7              198.0   \n",
            "\n",
            "     body_mass_g     sex  \n",
            "152       3500.0  Female  \n",
            "153       3900.0    Male  \n",
            "154       3650.0    Male  \n",
            "155       3525.0  Female  \n",
            "156       3725.0    Male  \n",
            "..           ...     ...  \n",
            "215       4000.0    Male  \n",
            "216       3400.0  Female  \n",
            "217       3775.0    Male  \n",
            "218       4100.0    Male  \n",
            "219       3775.0  Female  \n",
            "\n",
            "[68 rows x 7 columns]\n"
          ]
        }
      ]
    },
    {
      "cell_type": "code",
      "source": [
        "# Seleccionar la masa corporal de los pinguinos que pesen más de 4000 gr"
      ],
      "metadata": {
        "id": "_ARr9cfmnEjq"
      },
      "execution_count": null,
      "outputs": []
    },
    {
      "cell_type": "code",
      "source": [
        "heavy_penguins = penguins[penguins['body_mass_g'] > 4000]\n",
        "print(heavy_penguins)"
      ],
      "metadata": {
        "colab": {
          "base_uri": "https://localhost:8080/"
        },
        "id": "JYzVhCHWnPMp",
        "outputId": "6dfc5f04-aa26-4ae6-d726-14f79e77082f"
      },
      "execution_count": 10,
      "outputs": [
        {
          "output_type": "stream",
          "name": "stdout",
          "text": [
            "    species     island  bill_length_mm  bill_depth_mm  flipper_length_mm  \\\n",
            "7    Adelie  Torgersen            39.2           19.6              195.0   \n",
            "9    Adelie  Torgersen            42.0           20.2              190.0   \n",
            "14   Adelie  Torgersen            34.6           21.1              198.0   \n",
            "17   Adelie  Torgersen            42.5           20.7              197.0   \n",
            "19   Adelie  Torgersen            46.0           21.5              194.0   \n",
            "..      ...        ...             ...            ...                ...   \n",
            "338  Gentoo     Biscoe            47.2           13.7              214.0   \n",
            "340  Gentoo     Biscoe            46.8           14.3              215.0   \n",
            "341  Gentoo     Biscoe            50.4           15.7              222.0   \n",
            "342  Gentoo     Biscoe            45.2           14.8              212.0   \n",
            "343  Gentoo     Biscoe            49.9           16.1              213.0   \n",
            "\n",
            "     body_mass_g     sex  \n",
            "7         4675.0    Male  \n",
            "9         4250.0     NaN  \n",
            "14        4400.0    Male  \n",
            "17        4500.0    Male  \n",
            "19        4200.0    Male  \n",
            "..           ...     ...  \n",
            "338       4925.0  Female  \n",
            "340       4850.0  Female  \n",
            "341       5750.0    Male  \n",
            "342       5200.0  Female  \n",
            "343       5400.0    Male  \n",
            "\n",
            "[172 rows x 7 columns]\n"
          ]
        }
      ]
    },
    {
      "cell_type": "code",
      "source": [
        "# Seleccionar la masa corporal de los pinguinos que pesen más de 4000 gr y qué sean hembras"
      ],
      "metadata": {
        "id": "KAK8cbxrnn4b"
      },
      "execution_count": null,
      "outputs": []
    },
    {
      "cell_type": "code",
      "source": [
        "heavy_female_penguins = penguins[(penguins['body_mass_g'] > 4000) & (penguins['sex'] == 'Female')]\n",
        "print(heavy_female_penguins)"
      ],
      "metadata": {
        "colab": {
          "base_uri": "https://localhost:8080/"
        },
        "id": "z8udGvsUoTWL",
        "outputId": "b9f69acf-9992-488f-c25e-e6675aa011f6"
      },
      "execution_count": 12,
      "outputs": [
        {
          "output_type": "stream",
          "name": "stdout",
          "text": [
            "       species  island  bill_length_mm  bill_depth_mm  flipper_length_mm  \\\n",
            "160  Chinstrap   Dream            46.0           18.9              195.0   \n",
            "220     Gentoo  Biscoe            46.1           13.2              211.0   \n",
            "222     Gentoo  Biscoe            48.7           14.1              210.0   \n",
            "225     Gentoo  Biscoe            46.5           13.5              210.0   \n",
            "226     Gentoo  Biscoe            45.4           14.6              211.0   \n",
            "228     Gentoo  Biscoe            43.3           13.4              209.0   \n",
            "230     Gentoo  Biscoe            40.9           13.7              214.0   \n",
            "232     Gentoo  Biscoe            45.5           13.7              214.0   \n",
            "234     Gentoo  Biscoe            45.8           14.6              210.0   \n",
            "236     Gentoo  Biscoe            42.0           13.5              210.0   \n",
            "238     Gentoo  Biscoe            46.2           14.5              209.0   \n",
            "241     Gentoo  Biscoe            45.1           14.5              215.0   \n",
            "242     Gentoo  Biscoe            46.5           14.5              213.0   \n",
            "244     Gentoo  Biscoe            42.9           13.1              215.0   \n",
            "248     Gentoo  Biscoe            48.2           14.3              210.0   \n",
            "251     Gentoo  Biscoe            42.8           14.2              209.0   \n",
            "252     Gentoo  Biscoe            45.1           14.5              207.0   \n",
            "254     Gentoo  Biscoe            49.1           14.8              220.0   \n",
            "256     Gentoo  Biscoe            42.6           13.7              213.0   \n",
            "258     Gentoo  Biscoe            44.0           13.6              208.0   \n",
            "262     Gentoo  Biscoe            45.3           13.7              210.0   \n",
            "265     Gentoo  Biscoe            43.6           13.9              217.0   \n",
            "266     Gentoo  Biscoe            45.5           13.9              210.0   \n",
            "268     Gentoo  Biscoe            44.9           13.3              213.0   \n",
            "270     Gentoo  Biscoe            46.6           14.2              210.0   \n",
            "272     Gentoo  Biscoe            45.1           14.4              210.0   \n",
            "274     Gentoo  Biscoe            46.5           14.4              217.0   \n",
            "276     Gentoo  Biscoe            43.8           13.9              208.0   \n",
            "278     Gentoo  Biscoe            43.2           14.5              208.0   \n",
            "280     Gentoo  Biscoe            45.3           13.8              208.0   \n",
            "282     Gentoo  Biscoe            45.7           13.9              214.0   \n",
            "284     Gentoo  Biscoe            45.8           14.2              219.0   \n",
            "288     Gentoo  Biscoe            43.5           14.2              220.0   \n",
            "290     Gentoo  Biscoe            47.7           15.0              216.0   \n",
            "293     Gentoo  Biscoe            46.5           14.8              217.0   \n",
            "294     Gentoo  Biscoe            46.4           15.0              216.0   \n",
            "296     Gentoo  Biscoe            47.5           14.2              209.0   \n",
            "298     Gentoo  Biscoe            45.2           13.8              215.0   \n",
            "300     Gentoo  Biscoe            49.1           14.5              212.0   \n",
            "302     Gentoo  Biscoe            47.4           14.6              212.0   \n",
            "304     Gentoo  Biscoe            44.9           13.8              212.0   \n",
            "306     Gentoo  Biscoe            43.4           14.4              218.0   \n",
            "308     Gentoo  Biscoe            47.5           14.0              212.0   \n",
            "310     Gentoo  Biscoe            47.5           15.0              218.0   \n",
            "312     Gentoo  Biscoe            45.5           14.5              212.0   \n",
            "314     Gentoo  Biscoe            44.5           14.7              214.0   \n",
            "317     Gentoo  Biscoe            46.9           14.6              222.0   \n",
            "318     Gentoo  Biscoe            48.4           14.4              203.0   \n",
            "320     Gentoo  Biscoe            48.5           15.0              219.0   \n",
            "322     Gentoo  Biscoe            47.2           15.5              215.0   \n",
            "326     Gentoo  Biscoe            41.7           14.7              210.0   \n",
            "328     Gentoo  Biscoe            43.3           14.0              208.0   \n",
            "330     Gentoo  Biscoe            50.5           15.2              216.0   \n",
            "332     Gentoo  Biscoe            43.5           15.2              213.0   \n",
            "334     Gentoo  Biscoe            46.2           14.1              217.0   \n",
            "338     Gentoo  Biscoe            47.2           13.7              214.0   \n",
            "340     Gentoo  Biscoe            46.8           14.3              215.0   \n",
            "342     Gentoo  Biscoe            45.2           14.8              212.0   \n",
            "\n",
            "     body_mass_g     sex  \n",
            "160       4150.0  Female  \n",
            "220       4500.0  Female  \n",
            "222       4450.0  Female  \n",
            "225       4550.0  Female  \n",
            "226       4800.0  Female  \n",
            "228       4400.0  Female  \n",
            "230       4650.0  Female  \n",
            "232       4650.0  Female  \n",
            "234       4200.0  Female  \n",
            "236       4150.0  Female  \n",
            "238       4800.0  Female  \n",
            "241       5000.0  Female  \n",
            "242       4400.0  Female  \n",
            "244       5000.0  Female  \n",
            "248       4600.0  Female  \n",
            "251       4700.0  Female  \n",
            "252       5050.0  Female  \n",
            "254       5150.0  Female  \n",
            "256       4950.0  Female  \n",
            "258       4350.0  Female  \n",
            "262       4300.0  Female  \n",
            "265       4900.0  Female  \n",
            "266       4200.0  Female  \n",
            "268       5100.0  Female  \n",
            "270       4850.0  Female  \n",
            "272       4400.0  Female  \n",
            "274       4900.0  Female  \n",
            "276       4300.0  Female  \n",
            "278       4450.0  Female  \n",
            "280       4200.0  Female  \n",
            "282       4400.0  Female  \n",
            "284       4700.0  Female  \n",
            "288       4700.0  Female  \n",
            "290       4750.0  Female  \n",
            "293       5200.0  Female  \n",
            "294       4700.0  Female  \n",
            "296       4600.0  Female  \n",
            "298       4750.0  Female  \n",
            "300       4625.0  Female  \n",
            "302       4725.0  Female  \n",
            "304       4750.0  Female  \n",
            "306       4600.0  Female  \n",
            "308       4875.0  Female  \n",
            "310       4950.0  Female  \n",
            "312       4750.0  Female  \n",
            "314       4850.0  Female  \n",
            "317       4875.0  Female  \n",
            "318       4625.0  Female  \n",
            "320       4850.0  Female  \n",
            "322       4975.0  Female  \n",
            "326       4700.0  Female  \n",
            "328       4575.0  Female  \n",
            "330       5000.0  Female  \n",
            "332       4650.0  Female  \n",
            "334       4375.0  Female  \n",
            "338       4925.0  Female  \n",
            "340       4850.0  Female  \n",
            "342       5200.0  Female  \n"
          ]
        }
      ]
    },
    {
      "cell_type": "code",
      "source": [
        "heavy_female_penguins = penguins.query(\"body_mass_g > 4000 and sex == 'Female'\")\n",
        "print(heavy_female_penguins)"
      ],
      "metadata": {
        "colab": {
          "base_uri": "https://localhost:8080/"
        },
        "id": "_4JmEcg1p_5P",
        "outputId": "d58b4d40-14b6-42d6-899e-fab026ffaf18"
      },
      "execution_count": 18,
      "outputs": [
        {
          "output_type": "stream",
          "name": "stdout",
          "text": [
            "       species  island  bill_length_mm  bill_depth_mm  flipper_length_mm  \\\n",
            "160  Chinstrap   Dream            46.0           18.9              195.0   \n",
            "220     Gentoo  Biscoe            46.1           13.2              211.0   \n",
            "222     Gentoo  Biscoe            48.7           14.1              210.0   \n",
            "225     Gentoo  Biscoe            46.5           13.5              210.0   \n",
            "226     Gentoo  Biscoe            45.4           14.6              211.0   \n",
            "228     Gentoo  Biscoe            43.3           13.4              209.0   \n",
            "230     Gentoo  Biscoe            40.9           13.7              214.0   \n",
            "232     Gentoo  Biscoe            45.5           13.7              214.0   \n",
            "234     Gentoo  Biscoe            45.8           14.6              210.0   \n",
            "236     Gentoo  Biscoe            42.0           13.5              210.0   \n",
            "238     Gentoo  Biscoe            46.2           14.5              209.0   \n",
            "241     Gentoo  Biscoe            45.1           14.5              215.0   \n",
            "242     Gentoo  Biscoe            46.5           14.5              213.0   \n",
            "244     Gentoo  Biscoe            42.9           13.1              215.0   \n",
            "248     Gentoo  Biscoe            48.2           14.3              210.0   \n",
            "251     Gentoo  Biscoe            42.8           14.2              209.0   \n",
            "252     Gentoo  Biscoe            45.1           14.5              207.0   \n",
            "254     Gentoo  Biscoe            49.1           14.8              220.0   \n",
            "256     Gentoo  Biscoe            42.6           13.7              213.0   \n",
            "258     Gentoo  Biscoe            44.0           13.6              208.0   \n",
            "262     Gentoo  Biscoe            45.3           13.7              210.0   \n",
            "265     Gentoo  Biscoe            43.6           13.9              217.0   \n",
            "266     Gentoo  Biscoe            45.5           13.9              210.0   \n",
            "268     Gentoo  Biscoe            44.9           13.3              213.0   \n",
            "270     Gentoo  Biscoe            46.6           14.2              210.0   \n",
            "272     Gentoo  Biscoe            45.1           14.4              210.0   \n",
            "274     Gentoo  Biscoe            46.5           14.4              217.0   \n",
            "276     Gentoo  Biscoe            43.8           13.9              208.0   \n",
            "278     Gentoo  Biscoe            43.2           14.5              208.0   \n",
            "280     Gentoo  Biscoe            45.3           13.8              208.0   \n",
            "282     Gentoo  Biscoe            45.7           13.9              214.0   \n",
            "284     Gentoo  Biscoe            45.8           14.2              219.0   \n",
            "288     Gentoo  Biscoe            43.5           14.2              220.0   \n",
            "290     Gentoo  Biscoe            47.7           15.0              216.0   \n",
            "293     Gentoo  Biscoe            46.5           14.8              217.0   \n",
            "294     Gentoo  Biscoe            46.4           15.0              216.0   \n",
            "296     Gentoo  Biscoe            47.5           14.2              209.0   \n",
            "298     Gentoo  Biscoe            45.2           13.8              215.0   \n",
            "300     Gentoo  Biscoe            49.1           14.5              212.0   \n",
            "302     Gentoo  Biscoe            47.4           14.6              212.0   \n",
            "304     Gentoo  Biscoe            44.9           13.8              212.0   \n",
            "306     Gentoo  Biscoe            43.4           14.4              218.0   \n",
            "308     Gentoo  Biscoe            47.5           14.0              212.0   \n",
            "310     Gentoo  Biscoe            47.5           15.0              218.0   \n",
            "312     Gentoo  Biscoe            45.5           14.5              212.0   \n",
            "314     Gentoo  Biscoe            44.5           14.7              214.0   \n",
            "317     Gentoo  Biscoe            46.9           14.6              222.0   \n",
            "318     Gentoo  Biscoe            48.4           14.4              203.0   \n",
            "320     Gentoo  Biscoe            48.5           15.0              219.0   \n",
            "322     Gentoo  Biscoe            47.2           15.5              215.0   \n",
            "326     Gentoo  Biscoe            41.7           14.7              210.0   \n",
            "328     Gentoo  Biscoe            43.3           14.0              208.0   \n",
            "330     Gentoo  Biscoe            50.5           15.2              216.0   \n",
            "332     Gentoo  Biscoe            43.5           15.2              213.0   \n",
            "334     Gentoo  Biscoe            46.2           14.1              217.0   \n",
            "338     Gentoo  Biscoe            47.2           13.7              214.0   \n",
            "340     Gentoo  Biscoe            46.8           14.3              215.0   \n",
            "342     Gentoo  Biscoe            45.2           14.8              212.0   \n",
            "\n",
            "     body_mass_g     sex  \n",
            "160       4150.0  Female  \n",
            "220       4500.0  Female  \n",
            "222       4450.0  Female  \n",
            "225       4550.0  Female  \n",
            "226       4800.0  Female  \n",
            "228       4400.0  Female  \n",
            "230       4650.0  Female  \n",
            "232       4650.0  Female  \n",
            "234       4200.0  Female  \n",
            "236       4150.0  Female  \n",
            "238       4800.0  Female  \n",
            "241       5000.0  Female  \n",
            "242       4400.0  Female  \n",
            "244       5000.0  Female  \n",
            "248       4600.0  Female  \n",
            "251       4700.0  Female  \n",
            "252       5050.0  Female  \n",
            "254       5150.0  Female  \n",
            "256       4950.0  Female  \n",
            "258       4350.0  Female  \n",
            "262       4300.0  Female  \n",
            "265       4900.0  Female  \n",
            "266       4200.0  Female  \n",
            "268       5100.0  Female  \n",
            "270       4850.0  Female  \n",
            "272       4400.0  Female  \n",
            "274       4900.0  Female  \n",
            "276       4300.0  Female  \n",
            "278       4450.0  Female  \n",
            "280       4200.0  Female  \n",
            "282       4400.0  Female  \n",
            "284       4700.0  Female  \n",
            "288       4700.0  Female  \n",
            "290       4750.0  Female  \n",
            "293       5200.0  Female  \n",
            "294       4700.0  Female  \n",
            "296       4600.0  Female  \n",
            "298       4750.0  Female  \n",
            "300       4625.0  Female  \n",
            "302       4725.0  Female  \n",
            "304       4750.0  Female  \n",
            "306       4600.0  Female  \n",
            "308       4875.0  Female  \n",
            "310       4950.0  Female  \n",
            "312       4750.0  Female  \n",
            "314       4850.0  Female  \n",
            "317       4875.0  Female  \n",
            "318       4625.0  Female  \n",
            "320       4850.0  Female  \n",
            "322       4975.0  Female  \n",
            "326       4700.0  Female  \n",
            "328       4575.0  Female  \n",
            "330       5000.0  Female  \n",
            "332       4650.0  Female  \n",
            "334       4375.0  Female  \n",
            "338       4925.0  Female  \n",
            "340       4850.0  Female  \n",
            "342       5200.0  Female  \n"
          ]
        }
      ]
    },
    {
      "cell_type": "code",
      "source": [
        "print(type(heavy_female_penguins))"
      ],
      "metadata": {
        "colab": {
          "base_uri": "https://localhost:8080/"
        },
        "id": "K0xNtzr6rW6r",
        "outputId": "65c590d2-adab-445c-dc5a-a9a2c035384c"
      },
      "execution_count": 19,
      "outputs": [
        {
          "output_type": "stream",
          "name": "stdout",
          "text": [
            "<class 'pandas.core.frame.DataFrame'>\n"
          ]
        }
      ]
    },
    {
      "cell_type": "code",
      "source": [
        "heavy_penguins = penguins[penguins['species'] == 'Chinstrap'] \\\n",
        "        .loc[penguins['body_mass_g'] > 3500] \\\n",
        "        ['body_mass_g'] \\\n",
        "        .dropna() \\\n",
        "        .astype(int) \\\n",
        "        .sort_values(ascending=False) \\\n",
        "        .head(10)\n",
        "print(heavy_penguins)"
      ],
      "metadata": {
        "colab": {
          "base_uri": "https://localhost:8080/"
        },
        "id": "zFt0dwIpr9CW",
        "outputId": "59696bd0-dddd-46ed-e5c2-08c2f03fc3b1"
      },
      "execution_count": 25,
      "outputs": [
        {
          "output_type": "stream",
          "name": "stdout",
          "text": [
            "189    4800\n",
            "181    4550\n",
            "191    4500\n",
            "197    4450\n",
            "171    4400\n",
            "183    4300\n",
            "199    4300\n",
            "160    4150\n",
            "177    4150\n",
            "218    4100\n",
            "Name: body_mass_g, dtype: int64\n"
          ]
        }
      ]
    },
    {
      "cell_type": "code",
      "source": [
        "chinstrap_data = penguins.query(\"species == 'Chinstrap'\")\n",
        "heavy_chinstrap = chinstrap_data[chinstrap_data['body_mass_g'] > 3500]\n",
        "body_mass = heavy_chinstrap['body_mass_g'].dropna().astype(int).sort_values(ascending=False)\n",
        "top5 = body_mass.head(5)\n",
        "print(top5)"
      ],
      "metadata": {
        "id": "tX26elafvuY8"
      },
      "execution_count": null,
      "outputs": []
    },
    {
      "cell_type": "code",
      "source": [
        "# convertir a una lista en Python\n",
        "#lista = gentoo_bill.to_list()\n",
        "\n",
        "# utilizar una conversion directa\n",
        "lista = list(gentoo_bill)\n",
        "print(lista)"
      ],
      "metadata": {
        "colab": {
          "base_uri": "https://localhost:8080/"
        },
        "id": "vfgaVWI3wxe-",
        "outputId": "b7672697-55d4-43a8-df59-d588b2b7bb10"
      },
      "execution_count": 27,
      "outputs": [
        {
          "output_type": "stream",
          "name": "stdout",
          "text": [
            "[46.1, 50.0, 48.7, 50.0, 47.6, 46.5, 45.4, 46.7, 43.3, 46.8, 40.9, 49.0, 45.5, 48.4, 45.8, 49.3, 42.0, 49.2, 46.2, 48.7, 50.2, 45.1, 46.5, 46.3, 42.9, 46.1, 44.5, 47.8, 48.2, 50.0, 47.3, 42.8, 45.1, 59.6, 49.1, 48.4, 42.6, 44.4, 44.0, 48.7, 42.7, 49.6, 45.3, 49.6, 50.5, 43.6, 45.5, 50.5, 44.9, 45.2, 46.6, 48.5, 45.1, 50.1, 46.5, 45.0, 43.8, 45.5, 43.2, 50.4, 45.3, 46.2, 45.7, 54.3, 45.8, 49.8, 46.2, 49.5, 43.5, 50.7, 47.7, 46.4, 48.2, 46.5, 46.4, 48.6, 47.5, 51.1, 45.2, 45.2, 49.1, 52.5, 47.4, 50.0, 44.9, 50.8, 43.4, 51.3, 47.5, 52.1, 47.5, 52.2, 45.5, 49.5, 44.5, 50.8, 49.4, 46.9, 48.4, 51.1, 48.5, 55.9, 47.2, 49.1, 47.3, 46.8, 41.7, 53.4, 43.3, 48.1, 50.5, 49.8, 43.5, 51.5, 46.2, 55.1, 44.5, 48.8, 47.2, 46.8, 50.4, 45.2, 49.9]\n"
          ]
        }
      ]
    },
    {
      "cell_type": "code",
      "source": [
        "# convertir a arreglo de Numpy\n",
        "import numpy as np\n",
        "arreglo = gentoo_bill.to_numpy()\n",
        "print(arreglo)"
      ],
      "metadata": {
        "colab": {
          "base_uri": "https://localhost:8080/"
        },
        "id": "_L2LC_9Axeok",
        "outputId": "a5d3b1ab-7cfa-45e4-aff8-e4a8eec378f9"
      },
      "execution_count": 28,
      "outputs": [
        {
          "output_type": "stream",
          "name": "stdout",
          "text": [
            "[46.1 50.  48.7 50.  47.6 46.5 45.4 46.7 43.3 46.8 40.9 49.  45.5 48.4\n",
            " 45.8 49.3 42.  49.2 46.2 48.7 50.2 45.1 46.5 46.3 42.9 46.1 44.5 47.8\n",
            " 48.2 50.  47.3 42.8 45.1 59.6 49.1 48.4 42.6 44.4 44.  48.7 42.7 49.6\n",
            " 45.3 49.6 50.5 43.6 45.5 50.5 44.9 45.2 46.6 48.5 45.1 50.1 46.5 45.\n",
            " 43.8 45.5 43.2 50.4 45.3 46.2 45.7 54.3 45.8 49.8 46.2 49.5 43.5 50.7\n",
            " 47.7 46.4 48.2 46.5 46.4 48.6 47.5 51.1 45.2 45.2 49.1 52.5 47.4 50.\n",
            " 44.9 50.8 43.4 51.3 47.5 52.1 47.5 52.2 45.5 49.5 44.5 50.8 49.4 46.9\n",
            " 48.4 51.1 48.5 55.9 47.2 49.1 47.3 46.8 41.7 53.4 43.3 48.1 50.5 49.8\n",
            " 43.5 51.5 46.2 55.1 44.5 48.8 47.2 46.8 50.4 45.2 49.9]\n"
          ]
        }
      ]
    },
    {
      "cell_type": "code",
      "source": [
        "# Estructuras de datos de Pandas\n",
        "# pd.series  (Series)\n"
      ],
      "metadata": {
        "id": "OcFiA9S4x-QK"
      },
      "execution_count": null,
      "outputs": []
    }
  ]
}