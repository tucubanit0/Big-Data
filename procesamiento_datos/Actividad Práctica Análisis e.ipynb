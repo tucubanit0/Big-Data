{
 "cells": [
  {
   "cell_type": "markdown",
   "metadata": {},
   "source": [
    "### Actividad Práctica: Análisis eInterpretación de Datos con Python"
   ]
  },
  {
   "cell_type": "markdown",
   "metadata": {},
   "source": [
    "### Objetivo"
   ]
  },
  {
   "cell_type": "markdown",
   "metadata": {},
   "source": [
    "- Aplicar técnicas de análisis exploratorio, estadística descriptiva,\n",
    "distribuciones de probabilidad, clustering y reducción de dimensionalidad para\n",
    "extraer información útil de un conjunto de datos real."
   ]
  },
  {
   "cell_type": "markdown",
   "metadata": {},
   "source": [
    "### Requisitos Previos"
   ]
  },
  {
   "cell_type": "markdown",
   "metadata": {},
   "source": [
    "- Uso de Python y librerías: pandas, numpy, matplotlib, seaborn,\n",
    "scipy.stats, sklearn.\n",
    "- Familiaridad con manipulación de datos, estadística básica y machine\n",
    "learning.\n",
    "- Entorno recomendado: Anaconda y Jupyter Notebooks."
   ]
  },
  {
   "cell_type": "markdown",
   "metadata": {},
   "source": [
    "### Conjunto de Datos"
   ]
  },
  {
   "cell_type": "markdown",
   "metadata": {},
   "source": [
    "### Usaremos el dataset penguins de la librería seaborn, que contiene características de tres especies de pingüinos.\n"
   ]
  },
  {
   "cell_type": "markdown",
   "metadata": {},
   "source": [
    "### Columnas principales:\n",
    "\n",
    "- species: Especie del pingüino.\n",
    "- bill_length_mm, bill_depth_mm: Longitud y profundidad del pico en mm.\n",
    "- flipper_length_mm: Longitud de las aletas en mm.\n",
    "- body_mass_g: Masa corporal en gramos.\n",
    "- island: Isla de origen.\n",
    "- sex: Sexo del pingüino.\n"
   ]
  },
  {
   "cell_type": "markdown",
   "metadata": {},
   "source": [
    "### Ejercicios\n"
   ]
  },
  {
   "cell_type": "markdown",
   "metadata": {},
   "source": [
    "### Ejercicio 1: Análisis Exploratorio y Estadísticos Básicos\n",
    "- Instrucciones:\n",
    "    - 1. Carga el conjunto de datos y visualiza las primeras filas.\n",
    "    - 2. Identifica los valores nulos y decide cómo imputarlos adecuadamente.\n",
    "    - 3. Calcula los estadísticos básicos (media, mediana, desviación estándar, percentiles) para las variables numéricas.\n",
    "    - 4. Visualiza la distribución de la masa corporal (body_mass_g) diferenciando entre especies usando un gráfico adecuado.\n"
   ]
  },
  {
   "cell_type": "markdown",
   "metadata": {},
   "source": [
    "### Ejercicio 2: Distribuciones de Probabilidad\n"
   ]
  },
  {
   "cell_type": "markdown",
   "metadata": {},
   "source": [
    "### Instrucciones:\n",
    "- 1. Ajusta una distribución normal a la variable body_mass_g para cada especie.\n",
    "- 2. Realiza un test de normalidad (como Shapiro-Wilk) para verificar si los datos siguen una distribución normal.\n",
    " - 3. Grafica la distribución de los datos junto con la curva de la distribución normal ajustada.\n"
   ]
  },
  {
   "cell_type": "markdown",
   "metadata": {},
   "source": [
    "### Ejercicio 3: Clustering con K-Means"
   ]
  },
  {
   "cell_type": "markdown",
   "metadata": {},
   "source": [
    "### Instrucciones:\n",
    "- 1. Selecciona las variables bill_length_mm y bill_depth_mm para realizar el clustering.\n",
    "- 2. Aplica el algoritmo K-Means con 3 clusters.\n",
    "- 3. Agrega la información de los clusters al DataFrame.\n",
    "- 4. Visualiza los clusters obtenidos usando un gráfico de dispersión e identifica los centroides.\n"
   ]
  },
  {
   "cell_type": "markdown",
   "metadata": {},
   "source": [
    "### Ejercicio 4: Reducción de Dimensionalidad con PCA\n",
    "- Instrucciones:\n",
    "    - 1. Selecciona las variables numéricas del dataset y elimina las no numéricas.\n",
    "    - 2. Aplica PCA para reducir la dimensionalidad a 2 componentes principales.\n",
    "    - 3. Transforma los datos usando PCA y crea un nuevo DataFrame con las componentes principales.\n",
    "    - 4. Grafica los datos transformados, coloreando por especie"
   ]
  }
 ],
 "metadata": {
  "kernelspec": {
   "display_name": "python",
   "language": "python",
   "name": "python3"
  },
  "language_info": {
   "name": "python",
   "version": "3.12.9"
  }
 },
 "nbformat": 4,
 "nbformat_minor": 2
}
