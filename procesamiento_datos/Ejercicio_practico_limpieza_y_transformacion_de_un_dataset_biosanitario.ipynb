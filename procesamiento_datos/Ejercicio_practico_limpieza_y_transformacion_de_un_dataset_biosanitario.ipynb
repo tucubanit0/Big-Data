{
 "cells": [
  {
   "cell_type": "markdown",
   "metadata": {},
   "source": [
    "### Ejercicio práctico: Limpieza y transformación de un dataset biosanitario\n"
   ]
  },
  {
   "cell_type": "markdown",
   "metadata": {},
   "source": [
    "Tema 3: Aplicación de aspectos avanzados de procesamiento de datos en Python"
   ]
  },
  {
   "cell_type": "markdown",
   "metadata": {},
   "source": [
    "- Objetivo práctico: Aplicar técnicas de limpieza y preprocesamiento de datos para preparar un conjunto de datos para su análisis."
   ]
  },
  {
   "cell_type": "markdown",
   "metadata": {},
   "source": [
    "### Descripción"
   ]
  },
  {
   "cell_type": "markdown",
   "metadata": {},
   "source": [
    "- En este ejercicio, vais a trabajar con un conjunto de datos sintéticos\n",
    "biosanitarios contenido en un único archivo CSV titulado\n",
    "pacientes_sintetico.csv. Este dataset simula registros de pacientes con\n",
    "columnas como edad, presión arterial, niveles de colesterol y frecuencia\n",
    "cardíaca máxima. El archivo ha sido diseñado para incluir imperfecciones\n",
    "comunes: valores nulos, duplicados y columnas numéricas que necesitan\n",
    "normalización."
   ]
  },
  {
   "cell_type": "markdown",
   "metadata": {},
   "source": [
    "### Vuestra tarea consiste en usar este archivo CSV y realizar las siguientes actividades utilizando Python y bibliotecas como pandas, numpy y sklearn:\n"
   ]
  },
  {
   "cell_type": "code",
   "execution_count": 2,
   "metadata": {},
   "outputs": [],
   "source": [
    "# Importar pandas, numoy, sklearn\n",
    "import pandas as pd\n",
    "import numpy as np\n",
    "from sklearn.preprocessing import StandardScaler, MinMaxScaler \n",
    "from sklearn.impute import SimpleImputer\n",
    "from sklearn.preprocessing import LabelEncoder\n",
    "import matplotlib.pyplot as plt\n",
    "import seaborn as sns"
   ]
  },
  {
   "cell_type": "markdown",
   "metadata": {},
   "source": [
    "1. Imputar valores nulos:\n",
    "Identificad las columnas con valores faltantes (por ejemplo,\n",
    "\"colesterol\" o \"presión arterial\") y rellenadlos utilizando el promedio\n",
    "(para datos continuos) o la mediana (para datos con distribuciones no\n",
    "uniformes)."
   ]
  },
  {
   "cell_type": "code",
   "execution_count": null,
   "metadata": {},
   "outputs": [],
   "source": []
  },
  {
   "cell_type": "markdown",
   "metadata": {},
   "source": [
    "2. Eliminar duplicados:\n",
    "Buscad y eliminad cualquier fila duplicada en el dataset para asegurar\n",
    "que cada paciente esté representado una sola vez.\n"
   ]
  },
  {
   "cell_type": "code",
   "execution_count": null,
   "metadata": {},
   "outputs": [],
   "source": []
  },
  {
   "cell_type": "markdown",
   "metadata": {},
   "source": [
    "3. Normalizar una columna numérica:\n",
    "Elegid una columna numérica del CSV (como \"edad\" o \"colesterol\") y\n",
    "aplicad la técnica de min-max scaling para escalar sus valores al rango\n",
    "[0, 1].\n"
   ]
  },
  {
   "cell_type": "code",
   "execution_count": null,
   "metadata": {},
   "outputs": [],
   "source": []
  },
  {
   "cell_type": "markdown",
   "metadata": {},
   "source": [
    "### Instrucciones"
   ]
  },
  {
   "cell_type": "markdown",
   "metadata": {},
   "source": [
    "- Usad el archivo pacientes_sintetico.csv que se os proporcionará (o\n",
    "generadlo con el código de ejemplo que se incluye más abajo).\n",
    "- Cargad el archivo en Python, limpiadlo y transformadlo.\n",
    "- Documentad vuestros pasos en el código con comentarios que expliquen qué\n",
    "hacéis y por qué."
   ]
  },
  {
   "cell_type": "markdown",
   "metadata": {},
   "source": [
    "### Entregable"
   ]
  },
  {
   "cell_type": "markdown",
   "metadata": {},
   "source": [
    "- Un script de Python con el código completo que realice las tres tareas a\n",
    "partir del archivo CSV.\n",
    "- Un resumen breve (puede ser en comentarios en el código) donde\n",
    "indiquéis:\n",
    "    - Qué columnas tenían valores nulos y cómo las tratasteis.\n",
    "    - Cuántos duplicados eliminasteis.\n",
    "    - Qué significa un valor normalizado (por ejemplo, 0 o 1) en la columna que elegisteis.\n",
    "\n"
   ]
  },
  {
   "cell_type": "markdown",
   "metadata": {},
   "source": [
    "### Contexto"
   ]
  },
  {
   "cell_type": "markdown",
   "metadata": {},
   "source": [
    "Imaginad que sois analistas de datos en un hospital preparando un archivo CSV\n",
    "con información clínica simulada para un estudio piloto sobre factores de\n",
    "riesgo cardiovascular. La calidad de los datos es clave para obtener\n",
    "resultados fiables, ¡así que aseguraos de que el dataset esté bien limpio y\n",
    "listo para el análisis!"
   ]
  }
 ],
 "metadata": {
  "kernelspec": {
   "display_name": "python",
   "language": "python",
   "name": "python3"
  },
  "language_info": {
   "codemirror_mode": {
    "name": "ipython",
    "version": 3
   },
   "file_extension": ".py",
   "mimetype": "text/x-python",
   "name": "python",
   "nbconvert_exporter": "python",
   "pygments_lexer": "ipython3",
   "version": "3.12.9"
  }
 },
 "nbformat": 4,
 "nbformat_minor": 2
}
