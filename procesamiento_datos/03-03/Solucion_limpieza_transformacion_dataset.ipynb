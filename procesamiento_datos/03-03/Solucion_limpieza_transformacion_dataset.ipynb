{
 "cells": [
  {
   "cell_type": "markdown",
   "metadata": {
    "id": "ahDJj_BuMzVF"
   },
   "source": [
    "**texto en negrita**# **Ejercicio práctico: Limpieza y transformación de un dataset biosanitario**  \n",
    "\n",
    "## **Tema 3: Aplicación de aspectos avanzados de procesamiento de datos en Python**  \n",
    "\n",
    "### **Objetivo práctico**  \n",
    "Aplicar técnicas de limpieza y preprocesamiento de datos para preparar un conjunto de datos para su análisis.  \n",
    "\n",
    "## **Descripción**  \n",
    "En este ejercicio, vais a trabajar con un conjunto de datos sintéticos biosanitarios contenido en un único archivo CSV titulado **`pacientes_sintetico.csv`**.  \n",
    "\n",
    "Este dataset simula registros de pacientes con columnas como:  \n",
    "- **Edad**  \n",
    "- **Presión arterial**  \n",
    "- **Niveles de colesterol**  \n",
    "- **Frecuencia cardíaca máxima**  \n",
    "\n",
    "El archivo ha sido diseñado para incluir **imperfecciones comunes**:  \n",
    "- **Valores nulos**  \n",
    "- **Duplicados**  \n",
    "- **Columnas numéricas que necesitan normalización**  \n",
    "\n",
    "### **Actividades a realizar**  \n",
    "Vuestra tarea consiste en usar este archivo CSV y realizar las siguientes actividades utilizando **Python** y bibliotecas como **pandas, numpy y sklearn**:  \n",
    "\n",
    "#### 1️⃣ **Imputar valores nulos**  \n",
    "- Identificad las columnas con valores faltantes (por ejemplo, **\"colesterol\"** o **\"presión arterial\"**) y rellenadlos utilizando:  \n",
    "  - **Promedio** → Para datos continuos  \n",
    "  - **Mediana** → Para datos con distribuciones no uniformes  \n",
    "\n",
    "#### 2️⃣ **Eliminar duplicados**  \n",
    "- Buscad y eliminad cualquier **fila duplicada** en el dataset para asegurar que cada paciente esté representado una sola vez.  \n",
    "\n",
    "#### 3️⃣ **Normalizar una columna numérica**  \n",
    "- Elegid una columna numérica del CSV (como **\"edad\"** o **\"colesterol\"**) y aplicad la técnica de **min-max scaling** para escalar sus valores al rango **[0, 1]**.  \n",
    "\n",
    "## **Instrucciones**  \n",
    "- 📂 Usad el archivo **`pacientes_sintetico.csv`** que se os proporcionará (o generadlo con el código de ejemplo que se incluye más abajo).  \n",
    "- 🐍 Cargad el archivo en **Python**, limpiadlo y transformadlo.  \n",
    "- 📝 Documentad vuestros pasos en el código con **comentarios** que expliquen **qué hacéis y por qué**.  \n",
    "\n",
    "## **Entregable**  \n",
    "🔹 **Un script de Python** con el código completo que realice las tres tareas a partir del archivo CSV.  \n",
    "🔹 **Un resumen breve** (puede ser en comentarios en el código) donde indiquéis:  \n",
    "   - 🏷️ **Qué columnas tenían valores nulos** y cómo las tratasteis.  \n",
    "   - 🔄 **Cuántos duplicados eliminasteis**.  \n",
    "   - 📊 **Qué significa un valor normalizado** (por ejemplo, **0 o 1**) en la columna que elegisteis.  \n",
    "\n",
    "## **Contexto**  \n",
    "📌 Imaginad que sois **analistas de datos en un hospital** preparando un archivo CSV con información clínica simulada para un **estudio piloto sobre factores de riesgo cardiovascular**.  \n",
    "\n",
    "✅ **La calidad de los datos es clave** para obtener resultados fiables, ¡así que aseguraos de que el dataset esté bien limpio y listo para el análisis!  \n"
   ]
  },
  {
   "cell_type": "code",
   "execution_count": 2,
   "metadata": {
    "executionInfo": {
     "elapsed": 1636,
     "status": "ok",
     "timestamp": 1740991896486,
     "user": {
      "displayName": "Rafael Martin",
      "userId": "15021715803208636251"
     },
     "user_tz": 0
    },
    "id": "9kEAb9YOdLqG"
   },
   "outputs": [],
   "source": [
    "# Importar las biblotecas\n",
    "import pandas as pd\n",
    "import numpy as np\n",
    "from sklearn.preprocessing import MinMaxScaler"
   ]
  },
  {
   "cell_type": "code",
   "execution_count": 3,
   "metadata": {
    "colab": {
     "base_uri": "https://localhost:8080/"
    },
    "executionInfo": {
     "elapsed": 14,
     "status": "ok",
     "timestamp": 1740991896488,
     "user": {
      "displayName": "Rafael Martin",
      "userId": "15021715803208636251"
     },
     "user_tz": 0
    },
    "id": "s7VqmcZcfqV1",
    "outputId": "2f4c2860-4921-4227-e3e6-29d1adcc5416"
   },
   "outputs": [
    {
     "name": "stdout",
     "output_type": "stream",
     "text": [
      "Imprimir el dataset\n",
      "(5050, 5)\n"
     ]
    }
   ],
   "source": [
    "# Paso 1: cargar archivo csv\n",
    "df = pd.read_csv('pacientes_sintetico.csv')\n",
    "print('Imprimir el dataset')\n",
    "print(df.shape)"
   ]
  },
  {
   "cell_type": "code",
   "execution_count": 4,
   "metadata": {
    "colab": {
     "base_uri": "https://localhost:8080/",
     "height": 716
    },
    "executionInfo": {
     "elapsed": 129,
     "status": "ok",
     "timestamp": 1740991896614,
     "user": {
      "displayName": "Rafael Martin",
      "userId": "15021715803208636251"
     },
     "user_tz": 0
    },
    "id": "D-N8SE6TgSu5",
    "outputId": "88601bfe-ef4d-41c2-88cd-66905778c828"
   },
   "outputs": [
    {
     "name": "stdout",
     "output_type": "stream",
     "text": [
      "\n",
      "Imprimir las primeras filas\n",
      "   id_paciente  edad  presion_arterial  colesterol  frec_cardiaca_max\n",
      "0            1    56              74.7       245.5                106\n",
      "1            2    69             122.8       216.0                 64\n",
      "2            3    46             147.0       212.4                121\n",
      "3            4    32               NaN       154.9                143\n",
      "4            5    60             123.1       153.7                192\n",
      "\n",
      "Información del dataset\n",
      "<class 'pandas.core.frame.DataFrame'>\n",
      "RangeIndex: 5050 entries, 0 to 5049\n",
      "Data columns (total 5 columns):\n",
      " #   Column             Non-Null Count  Dtype  \n",
      "---  ------             --------------  -----  \n",
      " 0   id_paciente        5050 non-null   int64  \n",
      " 1   edad               5050 non-null   int64  \n",
      " 2   presion_arterial   4578 non-null   float64\n",
      " 3   colesterol         4577 non-null   float64\n",
      " 4   frec_cardiaca_max  5050 non-null   int64  \n",
      "dtypes: float64(2), int64(3)\n",
      "memory usage: 197.4 KB\n",
      "\n",
      "Imprimir la estadisticas descriptiva\n"
     ]
    },
    {
     "data": {
      "text/html": [
       "<div>\n",
       "<style scoped>\n",
       "    .dataframe tbody tr th:only-of-type {\n",
       "        vertical-align: middle;\n",
       "    }\n",
       "\n",
       "    .dataframe tbody tr th {\n",
       "        vertical-align: top;\n",
       "    }\n",
       "\n",
       "    .dataframe thead th {\n",
       "        text-align: right;\n",
       "    }\n",
       "</style>\n",
       "<table border=\"1\" class=\"dataframe\">\n",
       "  <thead>\n",
       "    <tr style=\"text-align: right;\">\n",
       "      <th></th>\n",
       "      <th>id_paciente</th>\n",
       "      <th>edad</th>\n",
       "      <th>presion_arterial</th>\n",
       "      <th>colesterol</th>\n",
       "      <th>frec_cardiaca_max</th>\n",
       "    </tr>\n",
       "  </thead>\n",
       "  <tbody>\n",
       "    <tr>\n",
       "      <th>count</th>\n",
       "      <td>5050.000000</td>\n",
       "      <td>5050.000000</td>\n",
       "      <td>4578.000000</td>\n",
       "      <td>4577.000000</td>\n",
       "      <td>5050.000000</td>\n",
       "    </tr>\n",
       "    <tr>\n",
       "      <th>mean</th>\n",
       "      <td>2502.759406</td>\n",
       "      <td>48.739604</td>\n",
       "      <td>119.533443</td>\n",
       "      <td>199.524055</td>\n",
       "      <td>129.802178</td>\n",
       "    </tr>\n",
       "    <tr>\n",
       "      <th>std</th>\n",
       "      <td>1444.776986</td>\n",
       "      <td>17.912767</td>\n",
       "      <td>15.155113</td>\n",
       "      <td>40.334454</td>\n",
       "      <td>40.413782</td>\n",
       "    </tr>\n",
       "    <tr>\n",
       "      <th>min</th>\n",
       "      <td>1.000000</td>\n",
       "      <td>18.000000</td>\n",
       "      <td>72.300000</td>\n",
       "      <td>43.100000</td>\n",
       "      <td>60.000000</td>\n",
       "    </tr>\n",
       "    <tr>\n",
       "      <th>25%</th>\n",
       "      <td>1252.250000</td>\n",
       "      <td>34.000000</td>\n",
       "      <td>109.300000</td>\n",
       "      <td>172.900000</td>\n",
       "      <td>95.000000</td>\n",
       "    </tr>\n",
       "    <tr>\n",
       "      <th>50%</th>\n",
       "      <td>2504.500000</td>\n",
       "      <td>49.000000</td>\n",
       "      <td>119.500000</td>\n",
       "      <td>199.300000</td>\n",
       "      <td>130.000000</td>\n",
       "    </tr>\n",
       "    <tr>\n",
       "      <th>75%</th>\n",
       "      <td>3754.750000</td>\n",
       "      <td>64.000000</td>\n",
       "      <td>129.800000</td>\n",
       "      <td>226.100000</td>\n",
       "      <td>165.000000</td>\n",
       "    </tr>\n",
       "    <tr>\n",
       "      <th>max</th>\n",
       "      <td>5000.000000</td>\n",
       "      <td>79.000000</td>\n",
       "      <td>178.900000</td>\n",
       "      <td>335.100000</td>\n",
       "      <td>199.000000</td>\n",
       "    </tr>\n",
       "  </tbody>\n",
       "</table>\n",
       "</div>"
      ],
      "text/plain": [
       "       id_paciente         edad  presion_arterial   colesterol  \\\n",
       "count  5050.000000  5050.000000       4578.000000  4577.000000   \n",
       "mean   2502.759406    48.739604        119.533443   199.524055   \n",
       "std    1444.776986    17.912767         15.155113    40.334454   \n",
       "min       1.000000    18.000000         72.300000    43.100000   \n",
       "25%    1252.250000    34.000000        109.300000   172.900000   \n",
       "50%    2504.500000    49.000000        119.500000   199.300000   \n",
       "75%    3754.750000    64.000000        129.800000   226.100000   \n",
       "max    5000.000000    79.000000        178.900000   335.100000   \n",
       "\n",
       "       frec_cardiaca_max  \n",
       "count        5050.000000  \n",
       "mean          129.802178  \n",
       "std            40.413782  \n",
       "min            60.000000  \n",
       "25%            95.000000  \n",
       "50%           130.000000  \n",
       "75%           165.000000  \n",
       "max           199.000000  "
      ]
     },
     "execution_count": 4,
     "metadata": {},
     "output_type": "execute_result"
    }
   ],
   "source": [
    "# Exploración inicial: revisamos las primeras filas\n",
    "print('\\nImprimir las primeras filas')\n",
    "print(df.head())\n",
    "print('\\nInformación del dataset')\n",
    "df.info()\n",
    "print('\\nImprimir la estadisticas descriptiva')\n",
    "df.describe()"
   ]
  },
  {
   "cell_type": "code",
   "execution_count": 5,
   "metadata": {
    "colab": {
     "base_uri": "https://localhost:8080/"
    },
    "executionInfo": {
     "elapsed": 8,
     "status": "ok",
     "timestamp": 1740991896623,
     "user": {
      "displayName": "Rafael Martin",
      "userId": "15021715803208636251"
     },
     "user_tz": 0
    },
    "id": "as9F49jQhdVZ",
    "outputId": "48159db9-6ee5-4ad2-f3a3-15433d5604d8"
   },
   "outputs": [
    {
     "name": "stdout",
     "output_type": "stream",
     "text": [
      "\n",
      "Valores nulos por columnas\n",
      "id_paciente            0\n",
      "edad                   0\n",
      "presion_arterial     472\n",
      "colesterol           473\n",
      "frec_cardiaca_max      0\n",
      "dtype: int64\n",
      "\n",
      "Valores nulos del colesterol imputados con el promedio 199.52405505789815\n",
      "\n",
      "Valores nulos del colesterol imputados con el promedio 119.53344255133248\n",
      "\n",
      "Valores nulos después de imputación\n",
      "id_paciente          0\n",
      "edad                 0\n",
      "presion_arterial     0\n",
      "colesterol           0\n",
      "frec_cardiaca_max    0\n",
      "dtype: int64\n"
     ]
    }
   ],
   "source": [
    "# Imputar los vaores nulos\n",
    "print('\\nValores nulos por columnas')\n",
    "print(df.isnull().sum())\n",
    "\n",
    "# Imputamos los valores nulos del colesterol con el promedio\n",
    "colesterol_mean = df['colesterol'].mean()\n",
    "df.fillna({'colesterol': colesterol_mean}, inplace=True)\n",
    "print('\\nValores nulos del colesterol imputados con el promedio', colesterol_mean)\n",
    "\n",
    "# Imputamos los valores nulos de la presión arterial con el promedio\n",
    "\"\"\"\n",
    "Comentario de varias\n",
    "líneas de código\n",
    "\"\"\"\n",
    "presion_arterial_mean = df['presion_arterial'].mean()\n",
    "df.fillna({'presion_arterial': presion_arterial_mean}, inplace=True)\n",
    "print('\\nValores nulos del colesterol imputados con el promedio', presion_arterial_mean)\n",
    "\n",
    "print('\\nValores nulos después de imputación')\n",
    "print(df.isnull().sum())\n"
   ]
  },
  {
   "cell_type": "code",
   "execution_count": 6,
   "metadata": {
    "colab": {
     "base_uri": "https://localhost:8080/"
    },
    "executionInfo": {
     "elapsed": 4,
     "status": "ok",
     "timestamp": 1740991896652,
     "user": {
      "displayName": "Rafael Martin",
      "userId": "15021715803208636251"
     },
     "user_tz": 0
    },
    "id": "M9CIZvWOnlmb",
    "outputId": "10be348c-eb61-4b32-a6c8-97a7fe630977"
   },
   "outputs": [
    {
     "name": "stdout",
     "output_type": "stream",
     "text": [
      "\n",
      " Número de filas duplicadas antes de eliminarlas\n",
      "50\n",
      "\n",
      " Número de filas duplicadas después de eliminarlas\n",
      "0\n"
     ]
    }
   ],
   "source": [
    "# Eliminar los duplicados\n",
    "duplicados = df.duplicated().sum()\n",
    "print('\\n Número de filas duplicadas antes de eliminarlas')\n",
    "print(duplicados)\n",
    "\n",
    "df.drop_duplicates(inplace=True)\n",
    "duplicados2 = df.duplicated().sum()\n",
    "print('\\n Número de filas duplicadas después de eliminarlas')\n",
    "print(duplicados2)"
   ]
  },
  {
   "cell_type": "code",
   "execution_count": 7,
   "metadata": {
    "colab": {
     "base_uri": "https://localhost:8080/"
    },
    "executionInfo": {
     "elapsed": 48,
     "status": "ok",
     "timestamp": 1740991896699,
     "user": {
      "displayName": "Rafael Martin",
      "userId": "15021715803208636251"
     },
     "user_tz": 0
    },
    "id": "0IG6TdYYoMgI",
    "outputId": "cfe9dc68-dd06-4dbd-9232-21dbf7abf3e1"
   },
   "outputs": [
    {
     "name": "stdout",
     "output_type": "stream",
     "text": [
      "Mostramos las primeras filas para verificar la normalización\n",
      "   colesterol  colesterol_normalizado\n",
      "0       245.5                0.693151\n",
      "1       216.0                0.592123\n",
      "2       212.4                0.579795\n",
      "3       154.9                0.382877\n",
      "4       153.7                0.378767\n",
      "Estadistica del Colesterol Normalizado\n",
      "count    5000.000000\n",
      "mean        0.535605\n",
      "std         0.131328\n",
      "min         0.000000\n",
      "25%         0.455822\n",
      "50%         0.535699\n",
      "75%         0.617466\n",
      "max         1.000000\n",
      "Name: colesterol_normalizado, dtype: float64\n"
     ]
    }
   ],
   "source": [
    "# Normalizar una columna numérica\n",
    "scaler = MinMaxScaler()\n",
    "df['colesterol_normalizado'] = scaler.fit_transform(df[['colesterol']])\n",
    "print('Mostramos las primeras filas para verificar la normalización')\n",
    "print(df[['colesterol', 'colesterol_normalizado']].head())\n",
    "\n",
    "# Estadistica después de la normalización para confirmar el rango\n",
    "print('Estadistica del Colesterol Normalizado')\n",
    "print(df['colesterol_normalizado'].describe())"
   ]
  },
  {
   "cell_type": "code",
   "execution_count": 8,
   "metadata": {
    "colab": {
     "base_uri": "https://localhost:8080/"
    },
    "executionInfo": {
     "elapsed": 2,
     "status": "ok",
     "timestamp": 1740991896702,
     "user": {
      "displayName": "Rafael Martin",
      "userId": "15021715803208636251"
     },
     "user_tz": 0
    },
    "id": "q_9hdATrpzyR",
    "outputId": "e634103b-0be7-40e7-9f48-54af4db3e33d"
   },
   "outputs": [
    {
     "name": "stdout",
     "output_type": "stream",
     "text": [
      "\\Resumen del procesamiento\n",
      "- Columnas con valores nulos tratadas: 'colesterol' (promedio) y 'presion_arterial'(mediana)\n",
      "- Columnas duplicadas eliminadas: 50\n",
      "- Columna 'colesterol' normalizada al rango [0,1]\n",
      "\n",
      "Dataset limpio y transformado. Dimensiones finales (5000, 6)\n"
     ]
    },
    {
     "name": "stderr",
     "output_type": "stream",
     "text": [
      "<>:2: SyntaxWarning: invalid escape sequence '\\R'\n",
      "<>:2: SyntaxWarning: invalid escape sequence '\\R'\n",
      "C:\\Users\\javie\\AppData\\Local\\Temp\\ipykernel_18496\\3667643681.py:2: SyntaxWarning: invalid escape sequence '\\R'\n",
      "  print('\\Resumen del procesamiento')\n"
     ]
    }
   ],
   "source": [
    "# Resumen final\n",
    "print('\\Resumen del procesamiento')\n",
    "print(f\"- Columnas con valores nulos tratadas: 'colesterol' (promedio) y 'presion_arterial'(mediana)\")\n",
    "print(f\"- Columnas duplicadas eliminadas: {duplicados}\")\n",
    "print(f\"- Columna 'colesterol' normalizada al rango [0,1]\")\n",
    "\n",
    "print('\\nDataset limpio y transformado. Dimensiones finales', df.shape)\n",
    "\n",
    "\n"
   ]
  }
 ],
 "metadata": {
  "colab": {
   "authorship_tag": "ABX9TyPnJqEaCjBZTaIPX/erHiAe",
   "provenance": []
  },
  "kernelspec": {
   "display_name": "Python 3",
   "name": "python3"
  },
  "language_info": {
   "codemirror_mode": {
    "name": "ipython",
    "version": 3
   },
   "file_extension": ".py",
   "mimetype": "text/x-python",
   "name": "python",
   "nbconvert_exporter": "python",
   "pygments_lexer": "ipython3",
   "version": "3.12.9"
  }
 },
 "nbformat": 4,
 "nbformat_minor": 0
}
