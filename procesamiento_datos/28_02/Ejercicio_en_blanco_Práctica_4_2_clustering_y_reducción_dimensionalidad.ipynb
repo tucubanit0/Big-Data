{
  "nbformat": 4,
  "nbformat_minor": 0,
  "metadata": {
    "colab": {
      "provenance": []
    },
    "kernelspec": {
      "name": "python3",
      "display_name": "Python 3"
    },
    "language_info": {
      "name": "python"
    }
  },
  "cells": [
    {
      "cell_type": "markdown",
      "source": [
        "### Actividad Práctica 4.2: Clustering y Reducción de Dimensionalidad\n",
        "Vamos a resolver la actividad paso a paso, utilizando el algoritmo de K-means para realizar el agrupamiento (clustering) y el PCA (Análisis de Componentes Principales) para reducir la dimensionalidad.\n",
        "- Objetivo:\n",
        "Clustering (Agrupamiento): Utilizar K-means para identificar patrones en los datos.\n",
        "- Reducción de Dimensionalidad: Utilizar PCA para reducir el número de características manteniendo la mayor cantidad de información posible.\n"
      ],
      "metadata": {
        "id": "DU5jn2ZVkkl_"
      }
    },
    {
      "cell_type": "markdown",
      "source": [
        "#### Paso 1: Selección del conjunto de datos\n",
        "En este caso, utilizaremos un conjunto de datos de características de clientes, como por ejemplo, edad, ingresos, etc. Para simplificar, generaremos datos sintéticos representando dos características (edad e ingresos).\n"
      ],
      "metadata": {
        "id": "f8bq7rq3lFKn"
      }
    },
    {
      "cell_type": "markdown",
      "source": [
        "#### Paso 2: Generación de datos sintéticos\n",
        "Primero, vamos a generar datos de clientes con dos características:\n",
        "- Edad (en años)\n",
        "- Ingresos (en miles de dólares anuales)\n"
      ],
      "metadata": {
        "id": "UJ8q9sIilXRB"
      }
    },
    {
      "cell_type": "code",
      "source": [],
      "metadata": {
        "id": "L344gQVMluLx"
      },
      "execution_count": null,
      "outputs": []
    },
    {
      "cell_type": "markdown",
      "source": [
        "- Explicación:\n",
        "\n",
        "Hemos creado un conjunto de datos con 500 clientes, con edades entre 18 y 70 años, e ingresos entre 20,000 y 150,000 dólares.\n"
      ],
      "metadata": {
        "id": "IsRbb74IlnwP"
      }
    },
    {
      "cell_type": "markdown",
      "source": [
        "#### Paso 3: Aplicación de K-means para Clustering\n",
        "Ahora aplicaremos el algoritmo K-means para realizar el agrupamiento de clientes. Elegiremos un número de grupos K=3, que es una elección arbitraria para comenzar."
      ],
      "metadata": {
        "id": "zV95FUSWlwAB"
      }
    },
    {
      "cell_type": "code",
      "source": [],
      "metadata": {
        "id": "WwjDRx8Kl6he"
      },
      "execution_count": null,
      "outputs": []
    },
    {
      "cell_type": "markdown",
      "source": [
        "Explicación:\n",
        "\n",
        "- KMeans(n_clusters=3):\n",
        "- fit_predict():\n",
        "- Visualización:\n"
      ],
      "metadata": {
        "id": "ndllL-NSmFSB"
      }
    },
    {
      "cell_type": "markdown",
      "source": [
        "#### Paso 4: Reducción de Dimensionalidad con PCA\n",
        "Ahora vamos a reducir la dimensionalidad de los datos utilizando el Análisis de Componentes Principales (PCA). Esto es útil cuando tenemos más de dos características y queremos visualizar los datos en dos dimensiones.\n"
      ],
      "metadata": {
        "id": "pc9bmrO4mWug"
      }
    },
    {
      "cell_type": "code",
      "source": [],
      "metadata": {
        "id": "jK47WFwImrnK"
      },
      "execution_count": null,
      "outputs": []
    },
    {
      "cell_type": "markdown",
      "source": [
        "Explicación:\n",
        "\n",
        "- PCA(n_components=2):\n",
        "- fit_transform():\n",
        "- Visualización:"
      ],
      "metadata": {
        "id": "sM-i4Wwimwsc"
      }
    },
    {
      "cell_type": "markdown",
      "source": [
        "#### Paso 5: Comparación antes y después de la reducción de dimensionalidad\n",
        "Comparamos los resultados de clustering antes y después de aplicar PCA.\n",
        "\n",
        "- Clustering sin PCA (en 2 dimensiones originales):\n",
        "\n",
        "En el gráfico de dispersión anterior, los clusters están basados en las características de edad e ingresos.\n",
        "\n",
        "- Clustering con PCA:\n",
        "\n",
        "En el gráfico después de PCA, los puntos se proyectan sobre las 2 componentes principales, pero los clusters siguen siendo los mismos, ya que el algoritmo de K-means no cambia.\n"
      ],
      "metadata": {
        "id": "tQwCawqHnBhC"
      }
    },
    {
      "cell_type": "markdown",
      "source": [
        "#### Paso 6: Explicación de los Resultados\n",
        "\n",
        "- Antes de PCA:\n",
        "\n",
        "El clustering de K-means agrupó a los clientes en 3 clusters según sus características originales. Se puede ver que hay una cierta separación entre los grupos, especialmente entre los clientes jóvenes y mayores, o los que tienen altos o bajos ingresos.\n",
        "\n",
        "\n",
        "- Después de PCA:\n",
        "\n",
        "Al reducir la dimensionalidad, logramos representar los mismos datos en un espacio bidimensional, pero los clusters siguen siendo los mismos. Esto muestra que la reducción de dimensionalidad mantuvo la estructura del agrupamiento.\n"
      ],
      "metadata": {
        "id": "BSDy529QnSi4"
      }
    }
  ]
}
