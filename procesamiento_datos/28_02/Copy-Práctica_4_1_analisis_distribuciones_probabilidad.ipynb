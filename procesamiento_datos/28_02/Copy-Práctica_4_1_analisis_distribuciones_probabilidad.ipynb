{
  "nbformat": 4,
  "nbformat_minor": 0,
  "metadata": {
    "colab": {
      "provenance": []
    },
    "kernelspec": {
      "name": "python3",
      "display_name": "Python 3"
    },
    "language_info": {
      "name": "python"
    }
  },
  "cells": [
    {
      "cell_type": "markdown",
      "source": [
        "#### Actividad Práctica 4.1: Análisis de Distribuciones de Probabilidad\n",
        "\n",
        "-Objetivo\n",
        "El objetivo es analizar una distribución de probabilidad en un conjunto de datos utilizando herramientas estadísticas en Python.\n",
        "\n",
        "Paso 1: Selección del conjunto de datos\n",
        "Para este ejercicio, elegiremos datos simulados de alturas de personas en centímetros, que es una variable numérica continua.\n",
        "\n",
        " -Justificación:\n",
        " La altura es un ejemplo típico de una variable que sigue aproximadamente una distribución normal en poblaciones grandes. Esto permitirá explorar herramientas estadísticas y ajustar una distribución teórica.\n",
        "\n"
      ],
      "metadata": {
        "id": "0vSD83BMiB9i"
      }
    },
    {
      "cell_type": "markdown",
      "source": [
        "Paso 2: Generar y cargar los datos\n",
        "En este caso, generaremos datos simulados utilizando una distribución normal con:\n",
        "Media = 170 cm\n",
        "Desviación estándar = 10 cm\n",
        "Tamaño de la muestra = 500\n",
        "Estos valores son razonables para una población adulta."
      ],
      "metadata": {
        "id": "29PoK_4UiSBX"
      }
    },
    {
      "cell_type": "code",
      "execution_count": null,
      "metadata": {
        "id": "DBk07i6Eh_HB"
      },
      "outputs": [],
      "source": [
        "import numpy as np\n",
        "import pandas as pd\n",
        "\n",
        "# Fijamos la semilla para reproducibilidad\n",
        "np.random.seed(42)\n",
        "\n",
        "# Generamos datos de alturas simulados con distribución normal\n",
        "alturas = np.random.normal(loc=170, scale=10, size=500)\n",
        "\n",
        "# Convertimos en un DataFrame\n",
        "df = pd.DataFrame(alturas, columns=[\"Altura\"])\n",
        "\n",
        "# Mostramos las primeras filas del dataset\n",
        "df.head()"
      ]
    },
    {
      "cell_type": "markdown",
      "source": [
        "-Explicación:\n",
        "np.random.normal(loc=170, scale=10, size=500): Genera 500 datos siguiendo una distribución normal con media 170 y desviación estándar 10.\n",
        "Se almacenan en un DataFrame para facilitar el análisis.\n"
      ],
      "metadata": {
        "id": "KD-_foa8ihCq"
      }
    },
    {
      "cell_type": "markdown",
      "source": [
        "Paso 3: Análisis estadístico\n",
        "Ahora calculamos las principales métricas estadísticas:\n",
        "Media (promedio): Valor central de la distribución.\n",
        "Varianza: Cuantifica la dispersión de los datos.\n",
        "Skewness (asimetría): Mide si la distribución es simétrica o sesgada.\n"
      ],
      "metadata": {
        "id": "eqVEpo7timcJ"
      }
    },
    {
      "cell_type": "code",
      "source": [],
      "metadata": {
        "id": "RgASYq3Ji3vN"
      },
      "execution_count": null,
      "outputs": []
    },
    {
      "cell_type": "markdown",
      "source": [
        "Explicación:"
      ],
      "metadata": {
        "id": "_zYwvY9Gi4Wg"
      }
    },
    {
      "cell_type": "markdown",
      "source": [
        "Paso 4: Visualización con Histograma\n",
        "Para comprender la distribución, creamos un histograma y superponemos una curva de densidad."
      ],
      "metadata": {
        "id": "gRNn_Q9KiyjL"
      }
    },
    {
      "cell_type": "code",
      "source": [],
      "metadata": {
        "id": "K3p87rjei8YU"
      },
      "execution_count": null,
      "outputs": []
    },
    {
      "cell_type": "markdown",
      "source": [
        "Explicación:"
      ],
      "metadata": {
        "id": "I7aUWSSRi85a"
      }
    },
    {
      "cell_type": "markdown",
      "source": [
        "Paso 5: Ajuste de una distribución teórica\n",
        "Ahora ajustamos una distribución normal y la superponemos en el histograma."
      ],
      "metadata": {
        "id": "J_pj6UHui-AO"
      }
    },
    {
      "cell_type": "code",
      "source": [],
      "metadata": {
        "id": "fpPH_wDZjDTj"
      },
      "execution_count": null,
      "outputs": []
    },
    {
      "cell_type": "markdown",
      "source": [
        "Explicación:"
      ],
      "metadata": {
        "id": "IP-GG3_4jIBH"
      }
    },
    {
      "cell_type": "markdown",
      "source": [
        "Paso 6: Interpretación de Resultados\n",
        "Los resultados obtenidos fueron:"
      ],
      "metadata": {
        "id": "aTN_TQRZjOf7"
      }
    }
  ]
}