{
  "nbformat": 4,
  "nbformat_minor": 0,
  "metadata": {
    "colab": {
      "provenance": []
    },
    "kernelspec": {
      "name": "python3",
      "display_name": "Python 3"
    },
    "language_info": {
      "name": "python"
    }
  },
  "cells": [
    {
      "cell_type": "markdown",
      "source": [
        "### Actividad Práctica 4.3: Visualización de Datos\n",
        "\n",
        "Voy a resolver la actividad paso a paso de la manera más actualizada, utilizando las bibliotecas matplotlib y seaborn para crear visualizaciones de datos.\n",
        "\n",
        "#### Objetivo:\n",
        "Crear diferentes tipos de visualizaciones (gráficos de barras, líneas, dispersión y boxplots) para analizar un conjunto de datos y descubrir patrones y tendencias.\n"
      ],
      "metadata": {
        "id": "-gbo_HHetCeM"
      }
    },
    {
      "cell_type": "markdown",
      "source": [
        "#### Paso 1: Selección del conjunto de datos\n",
        "Para este ejercicio, utilizaré el conjunto de datos de ventas de productos (puede ser un dataset relacionado con ventas de una tienda en línea o datos de ventas mensuales de productos), que contiene información como:\n",
        "- Meses: Periodo de ventas.\n",
        "- Ventas: Ingresos mensuales generados por ventas.\n",
        "- Producto: Categorías de productos vendidos.\n",
        "\n",
        "Para facilitar el ejercicio, voy a generar un conjunto de datos sintético.\n"
      ],
      "metadata": {
        "id": "u_kKuPlktmjB"
      }
    },
    {
      "cell_type": "markdown",
      "source": [
        "#### Paso 2: Generación del conjunto de datos sintético\n",
        "\n",
        "Generamos un conjunto de datos sintético de ventas mensuales para productos en un año:\n"
      ],
      "metadata": {
        "id": "59IbWH_mty1_"
      }
    },
    {
      "cell_type": "code",
      "execution_count": null,
      "metadata": {
        "id": "Gwa2Soncs-Id"
      },
      "outputs": [],
      "source": []
    },
    {
      "cell_type": "markdown",
      "source": [
        "Explicación:\n",
        "\n",
        "- Utilizamos pd.date_range() para generar los meses del año 2023.\n",
        "\n",
        "- Los valores de ventas se generan aleatoriamente con np.random.randint(), representando ingresos entre 1,000 y 10,000 para cada producto.\n"
      ],
      "metadata": {
        "id": "BYg80cgHt405"
      }
    },
    {
      "cell_type": "markdown",
      "source": [
        "#### Paso 3: Crear diferentes tipos de visualizaciones\n",
        "\n",
        "Vamos a crear los siguientes tipos de gráficos:\n",
        "- Gráfico de barras: Para mostrar las ventas mensuales de cada producto.\n",
        "- Gráfico de líneas: Para visualizar las tendencias de ventas a lo largo del tiempo.\n",
        "- Gráfico de dispersión: Para comparar las ventas de dos productos.\n",
        "- Boxplot: Para observar la dispersión y los valores atípicos de las ventas por producto.\n",
        "\n",
        "##### 1. Gráfico de barras\n",
        "\n",
        "Este gráfico muestra las ventas de cada producto durante todo el año.\n"
      ],
      "metadata": {
        "id": "3NMPnyX7uFxe"
      }
    },
    {
      "cell_type": "code",
      "source": [],
      "metadata": {
        "id": "jOnqI7DGuSR0"
      },
      "execution_count": null,
      "outputs": []
    },
    {
      "cell_type": "markdown",
      "source": [
        "Explicación:\n",
        "\n",
        "- Usamos df_ventas.plot(kind='bar') para crear un gráfico de barras.\n",
        "\n",
        "- El gráfico muestra cómo las ventas varían de mes a mes para cada producto.\n"
      ],
      "metadata": {
        "id": "47Ehm3S6uSup"
      }
    },
    {
      "cell_type": "markdown",
      "source": [
        "##### 2. Gráfico de líneas\n",
        "Este gráfico muestra las tendencias de ventas de cada producto a lo largo del tiempo.\n",
        "\n"
      ],
      "metadata": {
        "id": "pMpQezkuuY8E"
      }
    },
    {
      "cell_type": "code",
      "source": [],
      "metadata": {
        "id": "c4oIURvTunG0"
      },
      "execution_count": null,
      "outputs": []
    },
    {
      "cell_type": "markdown",
      "source": [
        "Explicación:\n",
        "\n",
        "- Utilizamos df_ventas.plot(kind='line') para graficar las ventas a lo largo del tiempo (meses).\n",
        "\n",
        "- marker='o' agrega puntos en cada mes para mejorar la visualización.\n"
      ],
      "metadata": {
        "id": "c_u5TcI6unek"
      }
    },
    {
      "cell_type": "markdown",
      "source": [
        "##### 2. Gráfico de líneas\n",
        "Este gráfico muestra las tendencias de ventas de cada producto a lo largo del tiempo.\n"
      ],
      "metadata": {
        "id": "DeR_AQSou1ge"
      }
    },
    {
      "cell_type": "code",
      "source": [],
      "metadata": {
        "id": "f-WVgz7qu61J"
      },
      "execution_count": null,
      "outputs": []
    },
    {
      "cell_type": "markdown",
      "source": [
        "Explicación:\n",
        "\n",
        "- Utilizamos df_ventas.plot(kind='line') para graficar las ventas a lo largo del tiempo (meses).\n",
        "- marker='o' agrega puntos en cada mes para mejorar la visualización.\n"
      ],
      "metadata": {
        "id": "c0K57Naou7Rt"
      }
    },
    {
      "cell_type": "markdown",
      "source": [
        "##### 3. Gráfico de dispersión\n",
        "\n",
        "Comparamos las ventas de Electrónica vs Ropa a lo largo del tiempo.\n"
      ],
      "metadata": {
        "id": "DjLxKvndvBe3"
      }
    },
    {
      "cell_type": "code",
      "source": [],
      "metadata": {
        "id": "CYd8J764vOHc"
      },
      "execution_count": null,
      "outputs": []
    },
    {
      "cell_type": "markdown",
      "source": [
        "Explicación:\n",
        "- plt.scatter() crea el gráfico de dispersión entre las ventas de los productos \"Electrónica\" y \"Ropa\".\n",
        "- Este gráfico nos permite observar si hay alguna relación entre las ventas de ambos productos.\n"
      ],
      "metadata": {
        "id": "fjqmtG4PvHVl"
      }
    },
    {
      "cell_type": "markdown",
      "source": [
        "##### 4. Boxplot\n",
        "Este gráfico muestra la dispersión y los valores atípicos de las ventas por producto.\n"
      ],
      "metadata": {
        "id": "vrYwJNAQvPKF"
      }
    },
    {
      "cell_type": "code",
      "source": [],
      "metadata": {
        "id": "koTPT3IuvSTZ"
      },
      "execution_count": null,
      "outputs": []
    },
    {
      "cell_type": "markdown",
      "source": [
        "Explicación:\n",
        "- Usamos sns.boxplot() para visualizar la dispersión de las ventas de cada producto.\n",
        "- El boxplot nos permite observar la mediana, los cuartiles, y los valores atípicos (outliers) de las ventas.\n"
      ],
      "metadata": {
        "id": "EjMl0wtZvaXB"
      }
    },
    {
      "cell_type": "markdown",
      "source": [
        "#### Paso 4: Análisis de los patrones y tendencias visibles\n",
        "Análisis de los gráficos:\n",
        "\n",
        "- Gráfico de barras:\n",
        "\n",
        "\n",
        "Se pueden observar las diferencias en las ventas de cada producto a lo largo del año. Algunos productos como \"Electrónica\" y \"Alimentos\" podrían mostrar ventas más estables, mientras que \"Ropa\" podría tener picos de ventas en ciertos meses, como en temporada de descuentos.\n",
        "\n",
        "- Gráfico de líneas:\n",
        "\n",
        "\n",
        "Las tendencias de ventas muestran fluctuaciones a lo largo del tiempo. Por ejemplo, en los meses de fin de año, las ventas de ciertos productos pueden ser más altas debido a las festividades o campañas de marketing.\n",
        "\n",
        "- Gráfico de dispersión:\n",
        "\n",
        "\n",
        "Podemos observar si hay alguna correlación entre las ventas de \"Electrónica\" y \"Ropa\". Si los puntos están dispersos sin un patrón claro, eso sugiere que no hay una relación directa entre las ventas de ambos productos.\n",
        "\n",
        "- Boxplot:\n",
        "\n",
        "\n",
        "Este gráfico revela la dispersión de las ventas. Productos con valores atípicos, como \"Electrónica\", pueden tener meses con ventas extremadamente altas o bajas, mientras que otros productos podrían ser más constantes.\n",
        "\n",
        "##### Conclusión\n",
        "\n",
        "- Gráficos de barras: Útiles para comparar valores a través de diferentes categorías.\n",
        "- Gráficos de líneas: Permiten ver cómo varían las variables a lo largo del tiempo.\n",
        "- Gráficos de dispersión: Ayudan a detectar relaciones entre dos variables.\n",
        "- Boxplots: Son excelentes para analizar la variabilidad de los datos y detectar outliers.\n",
        "\n",
        "Estas visualizaciones nos ayudan a entender mejor los patrones de ventas y a tomar decisiones informadas sobre estrategias de negocio o marketing.\n"
      ],
      "metadata": {
        "id": "X9ni16RlvkzR"
      }
    }
  ]
}