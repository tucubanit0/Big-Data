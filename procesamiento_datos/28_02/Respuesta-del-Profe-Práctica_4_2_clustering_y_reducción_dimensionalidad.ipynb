{
  "nbformat": 4,
  "nbformat_minor": 0,
  "metadata": {
    "colab": {
      "provenance": []
    },
    "kernelspec": {
      "name": "python3",
      "display_name": "Python 3"
    },
    "language_info": {
      "name": "python"
    }
  },
  "cells": [
    {
      "cell_type": "markdown",
      "source": [
        "### Actividad Práctica 4.2: Clustering y Reducción de Dimensionalidad\n",
        "Vamos a resolver la actividad paso a paso, utilizando el algoritmo de K-means para realizar el agrupamiento (clustering) y el PCA (Análisis de Componentes Principales) para reducir la dimensionalidad.\n",
        "- Objetivo:\n",
        "Clustering (Agrupamiento): Utilizar K-means para identificar patrones en los datos.\n",
        "- Reducción de Dimensionalidad: Utilizar PCA para reducir el número de características manteniendo la mayor cantidad de información posible.\n"
      ],
      "metadata": {
        "id": "DU5jn2ZVkkl_"
      }
    },
    {
      "cell_type": "markdown",
      "source": [
        "#### Paso 1: Selección del conjunto de datos\n",
        "En este caso, utilizaremos un conjunto de datos de características de clientes, como por ejemplo, edad, ingresos, etc. Para simplificar, generaremos datos sintéticos representando dos características (edad e ingresos).\n"
      ],
      "metadata": {
        "id": "f8bq7rq3lFKn"
      }
    },
    {
      "cell_type": "markdown",
      "source": [
        "#### Paso 2: Generación de datos sintéticos\n",
        "Primero, vamos a generar datos de clientes con dos características:\n",
        "- Edad (en años)\n",
        "- Ingresos (en miles de dólares anuales)\n"
      ],
      "metadata": {
        "id": "UJ8q9sIilXRB"
      }
    },
    {
      "cell_type": "code",
      "source": [
        "import numpy as np\n",
        "import pandas as pd\n",
        "\n",
        "# Fiujamos la semilla\n",
        "np.random.seed(42)\n",
        "\n",
        "# Generamos datos sinteticos para 500 clientes (edad, ingresos)\n",
        "edad1 = np.random.randint(18, 30, 150)\n",
        "ingreso1 = np.random.randint(15, 50, 150)\n",
        "\n",
        "edad2 = np.random.randint(30, 50, 150)\n",
        "ingresos2 = np.random.randint(40, 70, 150)\n",
        "\n",
        "edad3 = np.random.randint(50, 70, 150)\n",
        "ingresos3 = np.random.randint(60, 150, 150)\n",
        "\n",
        "edad = np.concatenate((edad1, edad2, edad3))\n",
        "ingresos = np.concatenate((ingreso1, ingresos2, ingresos3))\n",
        "\n",
        "\n",
        "df = pd.DataFrame({'Edad': edad, 'Ingresos': ingresos})\n",
        "\n",
        "df.head()"
      ],
      "metadata": {
        "id": "L344gQVMluLx",
        "colab": {
          "base_uri": "https://localhost:8080/",
          "height": 206
        },
        "outputId": "4418bf15-9a05-4b45-af4b-ca5f6f774bdb"
      },
      "execution_count": null,
      "outputs": [
        {
          "output_type": "execute_result",
          "data": {
            "text/plain": [
              "   Edad  Ingresos\n",
              "0    24        27\n",
              "1    21        46\n",
              "2    28        46\n",
              "3    25        18\n",
              "4    22        44"
            ],
            "text/html": [
              "\n",
              "  <div id=\"df-2b452b57-ebc5-45cd-b66c-951b2f25c85b\" class=\"colab-df-container\">\n",
              "    <div>\n",
              "<style scoped>\n",
              "    .dataframe tbody tr th:only-of-type {\n",
              "        vertical-align: middle;\n",
              "    }\n",
              "\n",
              "    .dataframe tbody tr th {\n",
              "        vertical-align: top;\n",
              "    }\n",
              "\n",
              "    .dataframe thead th {\n",
              "        text-align: right;\n",
              "    }\n",
              "</style>\n",
              "<table border=\"1\" class=\"dataframe\">\n",
              "  <thead>\n",
              "    <tr style=\"text-align: right;\">\n",
              "      <th></th>\n",
              "      <th>Edad</th>\n",
              "      <th>Ingresos</th>\n",
              "    </tr>\n",
              "  </thead>\n",
              "  <tbody>\n",
              "    <tr>\n",
              "      <th>0</th>\n",
              "      <td>24</td>\n",
              "      <td>27</td>\n",
              "    </tr>\n",
              "    <tr>\n",
              "      <th>1</th>\n",
              "      <td>21</td>\n",
              "      <td>46</td>\n",
              "    </tr>\n",
              "    <tr>\n",
              "      <th>2</th>\n",
              "      <td>28</td>\n",
              "      <td>46</td>\n",
              "    </tr>\n",
              "    <tr>\n",
              "      <th>3</th>\n",
              "      <td>25</td>\n",
              "      <td>18</td>\n",
              "    </tr>\n",
              "    <tr>\n",
              "      <th>4</th>\n",
              "      <td>22</td>\n",
              "      <td>44</td>\n",
              "    </tr>\n",
              "  </tbody>\n",
              "</table>\n",
              "</div>\n",
              "    <div class=\"colab-df-buttons\">\n",
              "\n",
              "  <div class=\"colab-df-container\">\n",
              "    <button class=\"colab-df-convert\" onclick=\"convertToInteractive('df-2b452b57-ebc5-45cd-b66c-951b2f25c85b')\"\n",
              "            title=\"Convert this dataframe to an interactive table.\"\n",
              "            style=\"display:none;\">\n",
              "\n",
              "  <svg xmlns=\"http://www.w3.org/2000/svg\" height=\"24px\" viewBox=\"0 -960 960 960\">\n",
              "    <path d=\"M120-120v-720h720v720H120Zm60-500h600v-160H180v160Zm220 220h160v-160H400v160Zm0 220h160v-160H400v160ZM180-400h160v-160H180v160Zm440 0h160v-160H620v160ZM180-180h160v-160H180v160Zm440 0h160v-160H620v160Z\"/>\n",
              "  </svg>\n",
              "    </button>\n",
              "\n",
              "  <style>\n",
              "    .colab-df-container {\n",
              "      display:flex;\n",
              "      gap: 12px;\n",
              "    }\n",
              "\n",
              "    .colab-df-convert {\n",
              "      background-color: #E8F0FE;\n",
              "      border: none;\n",
              "      border-radius: 50%;\n",
              "      cursor: pointer;\n",
              "      display: none;\n",
              "      fill: #1967D2;\n",
              "      height: 32px;\n",
              "      padding: 0 0 0 0;\n",
              "      width: 32px;\n",
              "    }\n",
              "\n",
              "    .colab-df-convert:hover {\n",
              "      background-color: #E2EBFA;\n",
              "      box-shadow: 0px 1px 2px rgba(60, 64, 67, 0.3), 0px 1px 3px 1px rgba(60, 64, 67, 0.15);\n",
              "      fill: #174EA6;\n",
              "    }\n",
              "\n",
              "    .colab-df-buttons div {\n",
              "      margin-bottom: 4px;\n",
              "    }\n",
              "\n",
              "    [theme=dark] .colab-df-convert {\n",
              "      background-color: #3B4455;\n",
              "      fill: #D2E3FC;\n",
              "    }\n",
              "\n",
              "    [theme=dark] .colab-df-convert:hover {\n",
              "      background-color: #434B5C;\n",
              "      box-shadow: 0px 1px 3px 1px rgba(0, 0, 0, 0.15);\n",
              "      filter: drop-shadow(0px 1px 2px rgba(0, 0, 0, 0.3));\n",
              "      fill: #FFFFFF;\n",
              "    }\n",
              "  </style>\n",
              "\n",
              "    <script>\n",
              "      const buttonEl =\n",
              "        document.querySelector('#df-2b452b57-ebc5-45cd-b66c-951b2f25c85b button.colab-df-convert');\n",
              "      buttonEl.style.display =\n",
              "        google.colab.kernel.accessAllowed ? 'block' : 'none';\n",
              "\n",
              "      async function convertToInteractive(key) {\n",
              "        const element = document.querySelector('#df-2b452b57-ebc5-45cd-b66c-951b2f25c85b');\n",
              "        const dataTable =\n",
              "          await google.colab.kernel.invokeFunction('convertToInteractive',\n",
              "                                                    [key], {});\n",
              "        if (!dataTable) return;\n",
              "\n",
              "        const docLinkHtml = 'Like what you see? Visit the ' +\n",
              "          '<a target=\"_blank\" href=https://colab.research.google.com/notebooks/data_table.ipynb>data table notebook</a>'\n",
              "          + ' to learn more about interactive tables.';\n",
              "        element.innerHTML = '';\n",
              "        dataTable['output_type'] = 'display_data';\n",
              "        await google.colab.output.renderOutput(dataTable, element);\n",
              "        const docLink = document.createElement('div');\n",
              "        docLink.innerHTML = docLinkHtml;\n",
              "        element.appendChild(docLink);\n",
              "      }\n",
              "    </script>\n",
              "  </div>\n",
              "\n",
              "\n",
              "<div id=\"df-95e8963e-2a01-4a4f-b940-2bcf8c4b57b6\">\n",
              "  <button class=\"colab-df-quickchart\" onclick=\"quickchart('df-95e8963e-2a01-4a4f-b940-2bcf8c4b57b6')\"\n",
              "            title=\"Suggest charts\"\n",
              "            style=\"display:none;\">\n",
              "\n",
              "<svg xmlns=\"http://www.w3.org/2000/svg\" height=\"24px\"viewBox=\"0 0 24 24\"\n",
              "     width=\"24px\">\n",
              "    <g>\n",
              "        <path d=\"M19 3H5c-1.1 0-2 .9-2 2v14c0 1.1.9 2 2 2h14c1.1 0 2-.9 2-2V5c0-1.1-.9-2-2-2zM9 17H7v-7h2v7zm4 0h-2V7h2v10zm4 0h-2v-4h2v4z\"/>\n",
              "    </g>\n",
              "</svg>\n",
              "  </button>\n",
              "\n",
              "<style>\n",
              "  .colab-df-quickchart {\n",
              "      --bg-color: #E8F0FE;\n",
              "      --fill-color: #1967D2;\n",
              "      --hover-bg-color: #E2EBFA;\n",
              "      --hover-fill-color: #174EA6;\n",
              "      --disabled-fill-color: #AAA;\n",
              "      --disabled-bg-color: #DDD;\n",
              "  }\n",
              "\n",
              "  [theme=dark] .colab-df-quickchart {\n",
              "      --bg-color: #3B4455;\n",
              "      --fill-color: #D2E3FC;\n",
              "      --hover-bg-color: #434B5C;\n",
              "      --hover-fill-color: #FFFFFF;\n",
              "      --disabled-bg-color: #3B4455;\n",
              "      --disabled-fill-color: #666;\n",
              "  }\n",
              "\n",
              "  .colab-df-quickchart {\n",
              "    background-color: var(--bg-color);\n",
              "    border: none;\n",
              "    border-radius: 50%;\n",
              "    cursor: pointer;\n",
              "    display: none;\n",
              "    fill: var(--fill-color);\n",
              "    height: 32px;\n",
              "    padding: 0;\n",
              "    width: 32px;\n",
              "  }\n",
              "\n",
              "  .colab-df-quickchart:hover {\n",
              "    background-color: var(--hover-bg-color);\n",
              "    box-shadow: 0 1px 2px rgba(60, 64, 67, 0.3), 0 1px 3px 1px rgba(60, 64, 67, 0.15);\n",
              "    fill: var(--button-hover-fill-color);\n",
              "  }\n",
              "\n",
              "  .colab-df-quickchart-complete:disabled,\n",
              "  .colab-df-quickchart-complete:disabled:hover {\n",
              "    background-color: var(--disabled-bg-color);\n",
              "    fill: var(--disabled-fill-color);\n",
              "    box-shadow: none;\n",
              "  }\n",
              "\n",
              "  .colab-df-spinner {\n",
              "    border: 2px solid var(--fill-color);\n",
              "    border-color: transparent;\n",
              "    border-bottom-color: var(--fill-color);\n",
              "    animation:\n",
              "      spin 1s steps(1) infinite;\n",
              "  }\n",
              "\n",
              "  @keyframes spin {\n",
              "    0% {\n",
              "      border-color: transparent;\n",
              "      border-bottom-color: var(--fill-color);\n",
              "      border-left-color: var(--fill-color);\n",
              "    }\n",
              "    20% {\n",
              "      border-color: transparent;\n",
              "      border-left-color: var(--fill-color);\n",
              "      border-top-color: var(--fill-color);\n",
              "    }\n",
              "    30% {\n",
              "      border-color: transparent;\n",
              "      border-left-color: var(--fill-color);\n",
              "      border-top-color: var(--fill-color);\n",
              "      border-right-color: var(--fill-color);\n",
              "    }\n",
              "    40% {\n",
              "      border-color: transparent;\n",
              "      border-right-color: var(--fill-color);\n",
              "      border-top-color: var(--fill-color);\n",
              "    }\n",
              "    60% {\n",
              "      border-color: transparent;\n",
              "      border-right-color: var(--fill-color);\n",
              "    }\n",
              "    80% {\n",
              "      border-color: transparent;\n",
              "      border-right-color: var(--fill-color);\n",
              "      border-bottom-color: var(--fill-color);\n",
              "    }\n",
              "    90% {\n",
              "      border-color: transparent;\n",
              "      border-bottom-color: var(--fill-color);\n",
              "    }\n",
              "  }\n",
              "</style>\n",
              "\n",
              "  <script>\n",
              "    async function quickchart(key) {\n",
              "      const quickchartButtonEl =\n",
              "        document.querySelector('#' + key + ' button');\n",
              "      quickchartButtonEl.disabled = true;  // To prevent multiple clicks.\n",
              "      quickchartButtonEl.classList.add('colab-df-spinner');\n",
              "      try {\n",
              "        const charts = await google.colab.kernel.invokeFunction(\n",
              "            'suggestCharts', [key], {});\n",
              "      } catch (error) {\n",
              "        console.error('Error during call to suggestCharts:', error);\n",
              "      }\n",
              "      quickchartButtonEl.classList.remove('colab-df-spinner');\n",
              "      quickchartButtonEl.classList.add('colab-df-quickchart-complete');\n",
              "    }\n",
              "    (() => {\n",
              "      let quickchartButtonEl =\n",
              "        document.querySelector('#df-95e8963e-2a01-4a4f-b940-2bcf8c4b57b6 button');\n",
              "      quickchartButtonEl.style.display =\n",
              "        google.colab.kernel.accessAllowed ? 'block' : 'none';\n",
              "    })();\n",
              "  </script>\n",
              "</div>\n",
              "\n",
              "    </div>\n",
              "  </div>\n"
            ],
            "application/vnd.google.colaboratory.intrinsic+json": {
              "type": "dataframe",
              "variable_name": "df",
              "summary": "{\n  \"name\": \"df\",\n  \"rows\": 450,\n  \"fields\": [\n    {\n      \"column\": \"Edad\",\n      \"properties\": {\n        \"dtype\": \"number\",\n        \"std\": 15,\n        \"min\": 18,\n        \"max\": 69,\n        \"num_unique_values\": 52,\n        \"samples\": [\n          49,\n          55,\n          53\n        ],\n        \"semantic_type\": \"\",\n        \"description\": \"\"\n      }\n    },\n    {\n      \"column\": \"Ingresos\",\n      \"properties\": {\n        \"dtype\": \"number\",\n        \"std\": 34,\n        \"min\": 15,\n        \"max\": 149,\n        \"num_unique_values\": 119,\n        \"samples\": [\n          136,\n          107,\n          37\n        ],\n        \"semantic_type\": \"\",\n        \"description\": \"\"\n      }\n    }\n  ]\n}"
            }
          },
          "metadata": {},
          "execution_count": 4
        }
      ]
    },
    {
      "cell_type": "markdown",
      "source": [
        "- Explicación:\n",
        "\n",
        "Hemos creado un conjunto de datos con 500 clientes, con edades entre 18 y 70 años, e ingresos entre 20,000 y 150,000 dólares.\n"
      ],
      "metadata": {
        "id": "IsRbb74IlnwP"
      }
    },
    {
      "cell_type": "markdown",
      "source": [
        "#### Paso 3: Aplicación de K-means para Clustering\n",
        "Ahora aplicaremos el algoritmo K-means para realizar el agrupamiento de clientes. Elegiremos un número de grupos K=3, que es una elección arbitraria para comenzar."
      ],
      "metadata": {
        "id": "zV95FUSWlwAB"
      }
    },
    {
      "cell_type": "code",
      "source": [],
      "metadata": {
        "id": "WwjDRx8Kl6he"
      },
      "execution_count": null,
      "outputs": []
    },
    {
      "cell_type": "markdown",
      "source": [
        "Explicación:\n",
        "\n",
        "- KMeans(n_clusters=3):\n",
        "- fit_predict():\n",
        "- Visualización:\n"
      ],
      "metadata": {
        "id": "ndllL-NSmFSB"
      }
    },
    {
      "cell_type": "markdown",
      "source": [
        "#### Paso 4: Reducción de Dimensionalidad con PCA\n",
        "Ahora vamos a reducir la dimensionalidad de los datos utilizando el Análisis de Componentes Principales (PCA). Esto es útil cuando tenemos más de dos características y queremos visualizar los datos en dos dimensiones.\n"
      ],
      "metadata": {
        "id": "pc9bmrO4mWug"
      }
    },
    {
      "cell_type": "code",
      "source": [],
      "metadata": {
        "id": "jK47WFwImrnK"
      },
      "execution_count": null,
      "outputs": []
    },
    {
      "cell_type": "markdown",
      "source": [
        "Explicación:\n",
        "\n",
        "- PCA(n_components=2):\n",
        "- fit_transform():\n",
        "- Visualización:"
      ],
      "metadata": {
        "id": "sM-i4Wwimwsc"
      }
    },
    {
      "cell_type": "markdown",
      "source": [
        "#### Paso 5: Comparación antes y después de la reducción de dimensionalidad\n",
        "Comparamos los resultados de clustering antes y después de aplicar PCA.\n",
        "\n",
        "- Clustering sin PCA (en 2 dimensiones originales):\n",
        "\n",
        "En el gráfico de dispersión anterior, los clusters están basados en las características de edad e ingresos.\n",
        "\n",
        "- Clustering con PCA:\n",
        "\n",
        "En el gráfico después de PCA, los puntos se proyectan sobre las 2 componentes principales, pero los clusters siguen siendo los mismos, ya que el algoritmo de K-means no cambia.\n"
      ],
      "metadata": {
        "id": "tQwCawqHnBhC"
      }
    },
    {
      "cell_type": "markdown",
      "source": [
        "#### Paso 6: Explicación de los Resultados\n",
        "\n",
        "- Antes de PCA:\n",
        "\n",
        "El clustering de K-means agrupó a los clientes en 3 clusters según sus características originales. Se puede ver que hay una cierta separación entre los grupos, especialmente entre los clientes jóvenes y mayores, o los que tienen altos o bajos ingresos.\n",
        "\n",
        "\n",
        "- Después de PCA:\n",
        "\n",
        "Al reducir la dimensionalidad, logramos representar los mismos datos en un espacio bidimensional, pero los clusters siguen siendo los mismos. Esto muestra que la reducción de dimensionalidad mantuvo la estructura del agrupamiento.\n"
      ],
      "metadata": {
        "id": "BSDy529QnSi4"
      }
    }
  ]
}