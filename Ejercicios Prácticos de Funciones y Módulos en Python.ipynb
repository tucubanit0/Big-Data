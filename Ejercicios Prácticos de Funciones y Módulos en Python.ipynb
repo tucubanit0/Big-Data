{
 "cells": [
  {
   "cell_type": "code",
   "execution_count": null,
   "metadata": {},
   "outputs": [
    {
     "name": "stdout",
     "output_type": "stream",
     "text": [
      " El resultado de la suma es 60.0\n"
     ]
    }
   ],
   "source": [
    "#Ejercicio 1. Suma de dos números: Crea una función que tome dos números como entrada ydevuelva su suma\n",
    "\n",
    "a = float(input('Escribe el primer numero: '))\n",
    "b = float(input('Escribe el segundo numero: '))\n",
    "\n",
    "print(f' El resultado de la suma es {a + b}')"
   ]
  },
  {
   "cell_type": "code",
   "execution_count": null,
   "metadata": {},
   "outputs": [
    {
     "name": "stdout",
     "output_type": "stream",
     "text": [
      " El area del circulo con radio 5.0 es 78.5\n"
     ]
    }
   ],
   "source": [
    "#Ejercicio 2. Cálculo del área de un círculo: Escribe una función que calcule el área de un círculo dado su radio.\n",
    "pi = 3.14\n",
    "def calcular_area( radio):\n",
    "    area = pi * (radio ** 2)\n",
    "    return area\n",
    "radio = float(input('Introduce el radio del circulo: '))\n",
    "area = calcular_area(radio)\n",
    "print(f' El area del circulo con radio {radio} es {area}')\n"
   ]
  },
  {
   "cell_type": "code",
   "execution_count": null,
   "metadata": {},
   "outputs": [
    {
     "name": "stdout",
     "output_type": "stream",
     "text": [
      "Cadena invertida es ['Ramon', 'Pepe', 'Carmen', 'Juana', 'Juan']\n"
     ]
    }
   ],
   "source": [
    "#Ejercicio 3 Inversión de una cadena: Crea una función que reciba una cadena y la devuelva invertida.\n",
    "cadena = [ 'Juan', 'Juana', 'Carmen', 'Pepe', 'Ramon']\n",
    "def invertir_cadena(cad):\n",
    "    return cad[::-1]\n",
    "cad = invertir_cadena(cadena)\n",
    "print(f'Cadena invertida es {cad}')"
   ]
  },
  {
   "cell_type": "code",
   "execution_count": null,
   "metadata": {},
   "outputs": [
    {
     "name": "stdout",
     "output_type": "stream",
     "text": [
      "False\n"
     ]
    }
   ],
   "source": [
    "#Ejercicio 4. Verificar si un número es par: Diseña una función que determine si un número dado es par o no.\n",
    "numero = int(input(\"Ingrese un número: \"))\n",
    "def verificar_paridad(numero):\n",
    "    if numero %2 == 0:\n",
    "        return True\n",
    "    else:\n",
    "        return False\n",
    "es_par = verificar_paridad(numero)\n",
    "print(verificar_paridad(numero))"
   ]
  },
  {
   "cell_type": "code",
   "execution_count": 9,
   "metadata": {},
   "outputs": [
    {
     "name": "stdout",
     "output_type": "stream",
     "text": [
      "1 x 1 = 1\n",
      "1 x 2 = 2\n",
      "1 x 3 = 3\n",
      "1 x 4 = 4\n",
      "1 x 5 = 5\n",
      "1 x 6 = 6\n",
      "1 x 7 = 7\n",
      "1 x 8 = 8\n",
      "1 x 9 = 9\n",
      "1 x 10 = 10\n"
     ]
    }
   ],
   "source": [
    "#Ejercicio 5. Generador de tablas de multiplicar: Escribe una función que genere la tabla de multiplicar de un número dado.\n",
    "numero = int(input(\"Ingrese un número: \"))\n",
    "def tabla_multiplicar(num):\n",
    "    for i in range(1, 11):\n",
    "        print(f\"{num} x {i} = {num * i}\")\n",
    "tabla_multiplicar(numero)"
   ]
  },
  {
   "cell_type": "code",
   "execution_count": 10,
   "metadata": {},
   "outputs": [
    {
     "name": "stdout",
     "output_type": "stream",
     "text": [
      "2\n",
      "4\n",
      "6\n",
      "8\n",
      "10\n"
     ]
    }
   ],
   "source": [
    "#Ejercicio 6. Filtrado de listas: Crea una función que filtre una lista de números para devolver solo los números pares.\n",
    "numeros = [1, 2, 3, 4, 5, 6, 7, 8, 9, 10]\n",
    "for i in numeros:\n",
    "    if i %2 == 0:\n",
    "        print(i)\n",
    "    "
   ]
  },
  {
   "cell_type": "code",
   "execution_count": 12,
   "metadata": {},
   "outputs": [
    {
     "name": "stdout",
     "output_type": "stream",
     "text": [
      "15.5\n"
     ]
    }
   ],
   "source": [
    "#Ejercicio 7. Cálculo de promedio: Escribe una función que calcule el promedio de una lista de números.\n",
    "numbers = [1, 2, 3, 4, 5, 6, 7, 8, 9, 10, 11, 12, 13, 14, 15, 16, 17, 18, 19, 20, 21, 22, 23, 24, 25, 26, 27, 28, 29, 30]\n",
    "def calculate_average (numbers):\n",
    "    return sum(numbers) / len(numbers)\n",
    "print(calculate_average(numbers))"
   ]
  },
  {
   "cell_type": "code",
   "execution_count": 13,
   "metadata": {},
   "outputs": [
    {
     "name": "stdout",
     "output_type": "stream",
     "text": [
      "Hola mundo esto es Python\n"
     ]
    }
   ],
   "source": [
    "#Ejercicio 8. Concatenación de cadenas: Diseña una función que concatene varias cadenas con un separador específico.\n",
    "def concatenar_cadenas(cadenas, separador):\n",
    "    return separador.join(cadenas)\n",
    "\n",
    "cadenas = [\"Hola\", \"mundo\", \"esto\", \"es\", \"Python\"]\n",
    "separador = \" \"\n",
    "resultado = concatenar_cadenas(cadenas, separador)\n",
    "print(resultado) \n"
   ]
  },
  {
   "cell_type": "code",
   "execution_count": 19,
   "metadata": {},
   "outputs": [
    {
     "name": "stdout",
     "output_type": "stream",
     "text": [
      "El factorial de 5 es 120\n"
     ]
    }
   ],
   "source": [
    "#Ejercicio 9. Factorial de un número: Implementa una función que calcule el factorial de un número dado.\n",
    "nume = int(input('Escribe el numero: '))\n",
    "def factorial(nu):\n",
    "    if nu == 0:\n",
    "        return 1\n",
    "    else:\n",
    "        return nu * factorial(nu-1)\n",
    "print(f'El factorial de {nume} es {factorial(nume)}')"
   ]
  },
  {
   "cell_type": "code",
   "execution_count": 27,
   "metadata": {},
   "outputs": [
    {
     "name": "stdout",
     "output_type": "stream",
     "text": [
      "El correo juan@gmail.com es válido: True\n"
     ]
    }
   ],
   "source": [
    "#Ejercicio 10 Validación de correo electrónico: Crea una función que valide si una cadena tiene formato de correo electrónico válido\n",
    "datos = {'nombe': 'Juan', 'edad': 25, 'correo': 'juan@gmail.com', 'telefono': 1234567890}\n",
    "def validar_correo(correo):\n",
    "    if \"@\" in correo and \".\" in correo:\n",
    "        return True\n",
    "    else:\n",
    "        return False\n",
    "correo = datos['correo']\n",
    "es_correo = validar_correo(correo)\n",
    "print(f'El correo {correo} es válido: {es_correo}')   \n",
    "    "
   ]
  }
 ],
 "metadata": {
  "kernelspec": {
   "display_name": "python",
   "language": "python",
   "name": "python3"
  },
  "language_info": {
   "codemirror_mode": {
    "name": "ipython",
    "version": 3
   },
   "file_extension": ".py",
   "mimetype": "text/x-python",
   "name": "python",
   "nbconvert_exporter": "python",
   "pygments_lexer": "ipython3",
   "version": "3.12.9"
  }
 },
 "nbformat": 4,
 "nbformat_minor": 2
}
