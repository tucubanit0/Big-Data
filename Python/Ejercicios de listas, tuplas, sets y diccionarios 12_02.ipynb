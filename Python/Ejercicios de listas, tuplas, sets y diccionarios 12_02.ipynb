{
 "cells": [
  {
   "cell_type": "code",
   "execution_count": 3,
   "id": "32a461a8",
   "metadata": {},
   "outputs": [
    {
     "name": "stdout",
     "output_type": "stream",
     "text": [
      "Se ha añadido a Javier Perez a la lista de pacientes\n",
      "Se ha eliminado a Carlos Gómez\n",
      "El paciente María López se encuentra en la posición 1\n",
      "Lista de pacientes ordenada alfabéticamente: ['Ana Torres', 'Javier Perez', 'Juan Pérez', 'María López']\n"
     ]
    }
   ],
   "source": [
    "#Ejercicio 1\n",
    "pacientes = ['Juan Pérez', 'María López', 'Carlos Gómez', 'Ana Torres']\n",
    "\n",
    "nuevo_paciente = input('Ingrese el nombre del nuevo paciente: ')\n",
    "pacientes.append(nuevo_paciente)\n",
    "print(f'Se ha añadido a {nuevo_paciente} a la lista de pacientes')\n",
    "\n",
    "paciente_a_eliminar = input('Ingrese el nombre del paciente a eliminar: ')\n",
    "if paciente_a_eliminar in pacientes:\n",
    "    pacientes.remove(paciente_a_eliminar)\n",
    "    print(f'Se ha eliminado a {paciente_a_eliminar}')  \n",
    "else:\n",
    "    print(f'El paciente {paciente_a_eliminar} no se encuentra en la lista de pacientes')\n",
    "\n",
    "paciente_a_buscar = input('Ingrese el nombre del paciente a buscar: ')\n",
    "if paciente_a_buscar in pacientes:\n",
    "    pacientes.index(paciente_a_buscar)\n",
    "    print(f'El paciente {paciente_a_buscar} se encuentra en la posición {pacientes.index(paciente_a_buscar)}')\n",
    "else:\n",
    "    print(f'El paciente {paciente_a_buscar} no se encuentra en la lista de pacientes')\n",
    "    \n",
    "pacientes.sort()\n",
    "print (f'Lista de pacientes ordenada alfabéticamente: {pacientes}')\n"
   ]
  },
  {
   "cell_type": "code",
   "execution_count": null,
   "id": "b5acd074",
   "metadata": {},
   "outputs": [
    {
     "name": "stdout",
     "output_type": "stream",
     "text": [
      "Nombre del paciente Juan Pérez\n",
      "presión sistólica 120 y presión diastólica 80\n",
      "El pulso de Juan Pérez es menor a 90\n"
     ]
    }
   ],
   "source": [
    "#Ejercicio 2\n",
    "\n",
    "parametros_vitales = (\"Juan Pérez\", 36.5, 120, 80, 80) #nombre, temperatura, presión sistólica, presión diastólica, pulso\n",
    "\n",
    "paciente_a_buscar = input('Ingrese el nombre del paciente a buscar: ')\n",
    "if paciente_a_buscar in parametros_vitales:\n",
    "    print(f'Nombre del paciente {parametros_vitales[0]}')\n",
    "    print(f'presión sistólica {parametros_vitales[2]} y presión diastólica {parametros_vitales[3]}')\n",
    "\n",
    "if parametros_vitales[4] < 90:\n",
    "    print(f'El pulso de {parametros_vitales[0]} es menor a 90!')"
   ]
  },
  {
   "cell_type": "code",
   "execution_count": 6,
   "id": "73e62391",
   "metadata": {},
   "outputs": [
    {
     "name": "stdout",
     "output_type": "stream",
     "text": [
      "Se ha añadido a Hambre a la lista de diagnósticos\n",
      "Se ha eliminado a hipertensión\n",
      "Intersección de diagnósticos: {'asma'}\n",
      "¿El conjunto A está completamente incluido en el conjunto B? True\n"
     ]
    }
   ],
   "source": [
    "#Ejercicio 3\n",
    "\n",
    "diagnosticos = {\"diabetes\", \"hipertensión\", \"asma\", \"influenza\", \"COVID-19\"}\n",
    "\n",
    "nuevo_diagnostico = input('Ingrese el nombre del nuevo diagnóstico: ')\n",
    "diagnosticos.add(nuevo_diagnostico)\n",
    "print(f'Se ha añadido a {nuevo_diagnostico} a la lista de diagnósticos')\n",
    "\n",
    "eliminar_diagnostico = input('Ingrese el nombre del diagnóstico a eliminar: ')\n",
    "if eliminar_diagnostico in diagnosticos:\n",
    "    diagnosticos.remove(eliminar_diagnostico)\n",
    "    print(f'Se ha eliminado a {eliminar_diagnostico}')\n",
    "\n",
    "diagnosticos_paciente_1 = {\"diabetes\", \"asma\"}\n",
    "diagnosticos_paciente_2 = {\"asma\", \"influenza\"}\n",
    "interseccion_diagnosticos = diagnosticos_paciente_1.intersection(diagnosticos_paciente_2)\n",
    "print(f'Intersección de diagnósticos: {interseccion_diagnosticos}')\n",
    "\n",
    "conjunto_a = {\"diabetes\", \"asma\"}\n",
    "conjunto_b = {\"diabetes\", \"asma\", \"hipertensión\"}\n",
    "inclusion_completa = conjunto_a.issubset(conjunto_b)\n",
    "print(f'¿El conjunto A está completamente incluido en el conjunto B? {inclusion_completa}')\n"
   ]
  },
  {
   "cell_type": "code",
   "execution_count": null,
   "id": "26537be7",
   "metadata": {},
   "outputs": [
    {
     "name": "stdout",
     "output_type": "stream",
     "text": [
      "Se ha añadido a Paracetamol 8mg/dia al tratamiento de la historia clínica\n",
      "Se ha eliminado el contacto de emergencia\n",
      "Nombre: María López\n",
      "Edad: 45\n",
      "Diagnósticos: ['diabetes', 'hipertensión']\n",
      "El tratamiento para la hipertensión es 10 mg/día\n"
     ]
    }
   ],
   "source": [
    "#Ejercicio 4\n",
    "\n",
    "historia_clinica = {\n",
    "\"nombre\": \"María López\",\n",
    "\"edad\": 45,\n",
    "\"diagnosticos\": [\"diabetes\", \"hipertensión\"],\n",
    "\"tratamientos\": {\"metformina\": \"500 mg/día\", \"enalapril\": \"10 mg/día\"},\n",
    "\"contacto_emergencia\": {\"nombre\": \"Carlos López\", \"teléfono\": \"555-1234\"}\n",
    "}\n",
    "\n",
    "nuevo_tratamiento = input('Ingrese el nombre del nuevo tratamiento: ')\n",
    "historia_clinica['tratamientos'] = nuevo_tratamiento\n",
    "print(f'Se ha añadido a {nuevo_tratamiento} al tratamiento de la historia clínica')\n",
    "\n",
    "historia_clinica['contacto_emergencia'].pop('nombre' and 'teléfono')\n",
    "print(f'Se ha eliminado el contacto de emergencia')\n",
    "\n",
    "historia_clinica.get('nombre', 'edad' and 'diagnosticos')\n",
    "print(f'Nombre: {historia_clinica[\"nombre\"]}')\n",
    "print(f'Edad: {historia_clinica[\"edad\"]}')\n",
    "print(f'Diagnósticos: {historia_clinica[\"diagnosticos\"]}')\n",
    "\n",
    "if 'hipertensión' in historia_clinica['diagnosticos']:\n",
    "    if 'enalapril' in historia_clinica['tratamientos']:\n",
    "        print(f'El tratamiento para la hipertensión es {historia_clinica[\"tratamientos\"][\"enalapril\"]}')\n",
    "    else:\n",
    "        print('No se encontró tratamiento para la hipertensión')\n",
    "else:\n",
    "    print('No se encontró diagnóstico de hipertensión')"
   ]
  },
  {
   "cell_type": "code",
   "execution_count": 20,
   "id": "c312cd5d",
   "metadata": {},
   "outputs": [
    {
     "name": "stdout",
     "output_type": "stream",
     "text": [
      "Se ha añadido a omeprazol a la lista de medicamentos\n",
      "Se ha eliminado el medicamento ibuprofeno\n",
      "El medicamento paracetamol se administró 2 veces\n",
      "Lista de medicamentos ordenada alfabéticamente: ['insulina', 'metformina', 'omeprazol', 'paracetamol', 'paracetamol']\n"
     ]
    }
   ],
   "source": [
    "#Ejercicio 5\n",
    "\n",
    "medicamentos_admin = [\"paracetamol\", \"ibuprofeno\", \"metformina\", \"insulina\",\n",
    "\"paracetamol\"]\n",
    "\n",
    "nuevo_medicamento = input('Ingrese el nombre del nuevo medicamento: ')\n",
    "medicamentos_admin.append(nuevo_medicamento)\n",
    "print(f'Se ha añadido a {nuevo_medicamento} a la lista de medicamentos')\n",
    "\n",
    "medicamentos_admin.remove('ibuprofeno')\n",
    "print(f'Se ha eliminado el medicamento ibuprofeno')\n",
    "\n",
    "medicamentos_admin.count('paracetamol')\n",
    "print(f'El medicamento paracetamol se administró {medicamentos_admin.count('paracetamol')} veces')\n",
    "\n",
    "medicamentos_admin.sort()\n",
    "print(f'Lista de medicamentos ordenada alfabéticamente: {medicamentos_admin}')\n",
    "   \n"
   ]
  },
  {
   "cell_type": "code",
   "execution_count": 38,
   "id": "5d903fe7",
   "metadata": {},
   "outputs": [
    {
     "name": "stdout",
     "output_type": "stream",
     "text": [
      "Medicamento: metformina, Dosis: 500 mg\n",
      "Total de medicamentos prescritos: 3\n"
     ]
    }
   ],
   "source": [
    "#Ejercicio 6\n",
    "\n",
    "\n",
    "medicamentos_prescritos = (\"metformina\", \"500 mg\", \"enalapril\", \"10 mg\", \"insulina\", \"20 UI\")\n",
    "\n",
    "\n",
    "indice_metformina = medicamentos_prescritos.index(\"metformina\")\n",
    "medicamento = medicamentos_prescritos[indice_metformina]\n",
    "dosis = medicamentos_prescritos[indice_metformina + 1]\n",
    "print(f\"Medicamento: {medicamento}, Dosis: {dosis}\")\n",
    "\n",
    "\n",
    "cantidad_medicamentos = len(medicamentos_prescritos) // 2 \n",
    "print(f\"Total de medicamentos prescritos: {cantidad_medicamentos}\")\n"
   ]
  },
  {
   "cell_type": "code",
   "execution_count": 42,
   "id": "82b7945d",
   "metadata": {},
   "outputs": [
    {
     "name": "stdout",
     "output_type": "stream",
     "text": [
      "Se ha añadido a colera a la lista de enfermedades preexistentes\n",
      "Se ha eliminado a asma\n",
      "El paciente tiene diabetes\n"
     ]
    }
   ],
   "source": [
    "#Ejercico 7\n",
    "enfermedades_preexistentes = {\"hipertensión\", \"asma\", \"diabetes\"}\n",
    "\n",
    "nueva_enfermedad = input('Ingrese el nombre de la nueva enfermedad: ')\n",
    "print(f'Se ha añadido a {nueva_enfermedad} a la lista de enfermedades preexistentes')\n",
    "\n",
    "eliminar_enfermedad = input('Ingrese el nombre de la enfermedad a eliminar: ')\n",
    "if eliminar_enfermedad in enfermedades_preexistentes:\n",
    "    enfermedades_preexistentes.remove(eliminar_enfermedad)\n",
    "    print(f'Se ha eliminado a {eliminar_enfermedad}')\n",
    "else:\n",
    "    print(f'No se encontró la enfermedad {eliminar_enfermedad}')\n",
    "\n",
    "if 'diabetes' in enfermedades_preexistentes:\n",
    "    print('El paciente tiene diabetes')"
   ]
  },
  {
   "cell_type": "code",
   "execution_count": 58,
   "id": "1050d893",
   "metadata": {},
   "outputs": [
    {
     "name": "stdout",
     "output_type": "stream",
     "text": [
      "\n",
      "--- MENÚ ---\n",
      "1. Agregar una consulta\n",
      "2. Eliminar un paciente\n",
      "3. Mostrar consultas de un paciente\n",
      "4. Salir\n",
      "Consulta agregada para Juan Pérez: consulta 3\n",
      "\n",
      "--- MENÚ ---\n",
      "1. Agregar una consulta\n",
      "2. Eliminar un paciente\n",
      "3. Mostrar consultas de un paciente\n",
      "4. Salir\n",
      "Paciente María López eliminado del registro.\n",
      "\n",
      "--- MENÚ ---\n",
      "1. Agregar una consulta\n",
      "2. Eliminar un paciente\n",
      "3. Mostrar consultas de un paciente\n",
      "4. Salir\n",
      "Consultas de Juan Pérez: consulta 1, consulta 2, consulta 3\n",
      "\n",
      "--- MENÚ ---\n",
      "1. Agregar una consulta\n",
      "2. Eliminar un paciente\n",
      "3. Mostrar consultas de un paciente\n",
      "4. Salir\n",
      "Saliendo del programa...\n"
     ]
    }
   ],
   "source": [
    "#Ejercicio 8\n",
    "\n",
    "# Diccionario con los pacientes y sus consultas médicas\n",
    "pacientes_registro = {\n",
    "    \"Juan Pérez\": [\"consulta 1\", \"consulta 2\"],\n",
    "    \"María López\": [\"consulta 1\", \"consulta 2\"]\n",
    "}\n",
    "\n",
    "# Función para agregar una nueva consulta\n",
    "def agregar_consulta():\n",
    "    paciente = input(\"Ingrese el nombre del paciente: \")\n",
    "    nueva_consulta = input(\"Ingrese la nueva consulta: \")\n",
    "    \n",
    "    if paciente in pacientes_registro:\n",
    "        pacientes_registro[paciente].append(nueva_consulta)\n",
    "    else:\n",
    "        pacientes_registro.update({paciente: [nueva_consulta]})  # Se agrega un nuevo paciente si no existe\n",
    "    \n",
    "    print(f\"Consulta agregada para {paciente}: {nueva_consulta}\")\n",
    "\n",
    "# Función para eliminar un paciente del registro\n",
    "def eliminar_paciente():\n",
    "    paciente = input(\"Ingrese el nombre del paciente a eliminar: \")\n",
    "    \n",
    "    if paciente in pacientes_registro:\n",
    "        pacientes_registro.pop(paciente)\n",
    "        print(f\"Paciente {paciente} eliminado del registro.\")\n",
    "    else:\n",
    "        print(f\"Paciente {paciente} no encontrado en el registro.\")\n",
    "\n",
    "# Función para mostrar todas las consultas de un paciente\n",
    "def mostrar_consultas():\n",
    "    paciente = input(\"Ingrese el nombre del paciente: \")\n",
    "    consultas = pacientes_registro.get(paciente, [])\n",
    "    \n",
    "    if consultas:\n",
    "        print(f\"Consultas de {paciente}: {', '.join(consultas)}\")\n",
    "    else:\n",
    "        print(f\"No hay consultas registradas para {paciente}.\")\n",
    "        \n",
    "# Menú interactivo\n",
    "def menu():\n",
    "    while True:\n",
    "        print(\"\\n--- MENÚ ---\")\n",
    "        print(\"1. Agregar una consulta\")\n",
    "        print(\"2. Eliminar un paciente\")\n",
    "        print(\"3. Mostrar consultas de un paciente\")\n",
    "        print(\"4. Salir\")\n",
    "        \n",
    "        opcion = input(\"Seleccione una opción: \")\n",
    "        \n",
    "        if opcion == \"1\":\n",
    "            agregar_consulta()\n",
    "        elif opcion == \"2\":\n",
    "            eliminar_paciente()\n",
    "        elif opcion == \"3\":\n",
    "            mostrar_consultas()\n",
    "        elif opcion == \"4\":\n",
    "            print(\"Saliendo del programa...\")\n",
    "            break\n",
    "        else:\n",
    "            print(\"Opción no válida, intente nuevamente.\")\n",
    "\n",
    "# Ejecutar el menú\n",
    "menu()\n"
   ]
  },
  {
   "cell_type": "code",
   "execution_count": 71,
   "id": "37bcc500",
   "metadata": {},
   "outputs": [
    {
     "name": "stdout",
     "output_type": "stream",
     "text": [
      "Se ha eliminado al paciente que tiene más tiempo esperando\n",
      "Lista de pacientes en espera:\n",
      "Ana Torres\n",
      "Juan Pérez\n",
      "María López\n",
      "Pedro Rodríguez\n",
      "Laura Sánchez\n"
     ]
    }
   ],
   "source": [
    "#Ejercicio 9\n",
    "#Listas: Pacientes en Espera para Consulta\n",
    "pacientes_espera = [\"Carlos Gómez\", \"Ana Torres\", \"Juan Pérez\"]\n",
    "\n",
    "#Agregar 3 nuevos pacientes a la lista\n",
    "\n",
    "pacientes_espera.append(\"María López\")\n",
    "pacientes_espera.append(\"Pedro Rodríguez\")\n",
    "pacientes_espera.append(\"Laura Sánchez\")\n",
    "\n",
    "#Elimina el paciente que tiene más tiempo espereando\n",
    "pacientes_espera.remove(pacientes_espera[0])\n",
    "print(f'Se ha eliminado al paciente que tiene más tiempo esperando')\n",
    "\n",
    "#Muestra la lista de pacientes en orden de llegada (del primero al último)\n",
    "print('Lista de pacientes en espera:')\n",
    "for paciente in pacientes_espera:\n",
    "    print(paciente)"
   ]
  },
  {
   "cell_type": "code",
   "execution_count": 74,
   "id": "25b9c5b7",
   "metadata": {},
   "outputs": [
    {
     "name": "stdout",
     "output_type": "stream",
     "text": [
      "Medicamentos recetados en cardiología: ('atenolol', 'amlodipino', 'lisinopril')\n",
      "El primer medicamento recetado en neurología es: gabapentina\n"
     ]
    }
   ],
   "source": [
    "#Ejercicio 10\n",
    "\n",
    "#Tuplas: Medicamentos Recetados por Especialidad\n",
    "medicamentos_cardiologia = (\"atenolol\", \"amlodipino\", \"lisinopril\")\n",
    "medicamentos_neurologia = (\"gabapentina\", \"lamotrigina\")\n",
    "\n",
    "#Encuentra los medicamentos recetados en la especialidad de\"cardiología\".\n",
    "print(f'Medicamentos recetados en cardiología: {medicamentos_cardiologia}')\n",
    "\n",
    "#Obtén el primer medicamento recetado en \"neurología\".\n",
    "print(f'El primer medicamento recetado en neurología es: {medicamentos_neurologia[0]}')\n"
   ]
  },
  {
   "cell_type": "code",
   "execution_count": 76,
   "id": "40598de5",
   "metadata": {},
   "outputs": [
    {
     "name": "stdout",
     "output_type": "stream",
     "text": [
      "Diagnósticos comunes: {'hipertensión'}\n",
      "Diagnósticos exclusivos de paciente 1: {'insuficiencia renal', 'diabetes'}\n",
      "Diagnósticos exclusivos de paciente 2: {'asma', 'artritis'}\n"
     ]
    }
   ],
   "source": [
    "#Ejercicio 11\n",
    "\n",
    "#Sets: Diagnósticos Comunes entre Pacientes\n",
    "\n",
    "diagnosticos_paciente_1 = {\"diabetes\", \"hipertensión\", \"insuficiencia renal\"}\n",
    "diagnosticos_paciente_2 = {\"hipertensión\", \"asma\", \"artritis\"}\n",
    "\n",
    "#Encuentra los diagnósticos comunes entre dos pacientes y aquellos que son exclusivos de cada uno\n",
    "diagnosticos_comunes = diagnosticos_paciente_1.intersection(diagnosticos_paciente_2)\n",
    "diagnosticos_exclusivos_paciente_1 = diagnosticos_paciente_1.difference(diagnosticos_paciente_2)\n",
    "diagnosticos_exclusivos_paciente_2 = diagnosticos_paciente_2.difference(diagnosticos_paciente_1)    \n",
    "print(f'Diagnósticos comunes: {diagnosticos_comunes}')\n",
    "print(f'Diagnósticos exclusivos de paciente 1: {diagnosticos_exclusivos_paciente_1}')\n",
    "print(f'Diagnósticos exclusivos de paciente 2: {diagnosticos_exclusivos_paciente_2}')"
   ]
  },
  {
   "cell_type": "code",
   "execution_count": 8,
   "id": "2656b094",
   "metadata": {},
   "outputs": [
    {
     "name": "stdout",
     "output_type": "stream",
     "text": [
      "Medicamentos recetados a María López: insulina, paracetamol, ibuprofeno, simvastatina\n",
      "Paciente con tratamiento complejo\n"
     ]
    }
   ],
   "source": [
    "#Ejercicio 12\n",
    "\n",
    "#Diccionarios: Historial de Medicamentos de Pacientes\n",
    "medicamentos_pacientes = {\n",
    "\"Juan Pérez\": [\"metformina\", \"enalapril\"],\n",
    "\"María López\": [\"insulina\", \"paracetamol\", \"ibuprofeno\"]\n",
    "}\n",
    "\n",
    "#Agrega un medicamento a un paciente específico.\n",
    "medicamentos_pacientes[\"María López\"].append(\"simvastatina\")\n",
    "\n",
    "#Muestra los medicamentos recetados a un paciente dado.\n",
    "medicamentos_maria_lopez = medicamentos_pacientes.get(\"María López\", [])\n",
    "print(f'Medicamentos recetados a María López: {\", \".join(medicamentos_maria_lopez)}')\n",
    "\n",
    "if len(medicamentos_pacientes.get('María López', [])) > 3:\n",
    "    print('Paciente con tratamiento complejo')\n",
    "else:\n",
    "    print('Paciente con tratamiento sencillo')"
   ]
  },
  {
   "cell_type": "code",
   "execution_count": null,
   "id": "77c7a589",
   "metadata": {},
   "outputs": [
    {
     "name": "stdout",
     "output_type": "stream",
     "text": [
      "Resultados de laboratorio ordenados: [(105, 'Juan Pérez'), (150, 'Jesus Rodriguez'), (160, 'David Gamby'), (190, 'Ana Torres'), (200, 'Deveg Perez'), (245, 'Carlos Gómez')]\n",
      "Resultados de laboratorio con nivel de glucosa superior a 200: [(245, 'Carlos Gómez')]\n"
     ]
    }
   ],
   "source": [
    "#Ejercicio 13\n",
    "\n",
    "#Listas: Seguimiento de Resultados de Laboratorio\n",
    "\n",
    "#Tienes una lista con los resultados de los análisis de sangre de variospacientes. Realiza las siguientes operaciones\n",
    "resultados_laboratorio = [(105, \"Juan Pérez\"), (245, \"Carlos Gómez\"), (190, \"Ana Torres\")]\n",
    "\n",
    "#Añade los resultados de 3 nuevos pacientes.\n",
    "resultados_laboratorio.append((150, 'Jesus Rodriguez'))\n",
    "resultados_laboratorio.append((200, 'Deveg Perez'))\n",
    "resultados_laboratorio.append((160, 'David Gamby'))\n",
    "\n",
    "#Ordena los resultados por valores numéricos (por ejemplo, niveles deglucosa).\n",
    "resultados_laboratorio.sort()\n",
    "print(f'Resultados de laboratorio ordenados: {resultados_laboratorio}') \n",
    "\n",
    "#Filtra los resultados donde el nivel de glucosa es superior a 200.\n",
    "resultados_altos = [resultado for resultado in resultados_laboratorio if resultado[0] > 200]\n",
    "print(f'Resultados de laboratorio con nivel de glucosa superior a 200: {resultados_altos}')\n"
   ]
  },
  {
   "cell_type": "code",
   "execution_count": null,
   "id": "d9b8fa99",
   "metadata": {},
   "outputs": [
    {
     "name": "stdout",
     "output_type": "stream",
     "text": [
      "Fecha de la consulta de Juan Pérez: 2025-02-01\n",
      "El paciente no tiene una consulta programada en los próximos 7 días\n"
     ]
    }
   ],
   "source": [
    "#Ejercicio 14\n",
    "#Tuplas: Consulta Médica con Fechas\n",
    "\n",
    "#Tienes tuplas con la fecha de las consultas médicas de los pacientes. Realizalas siguientes operaciones:\n",
    "\n",
    "consultas_paciente = (\"2025-02-01\", \"Juan Pérez\")\n",
    "\n",
    "#Accede a la fecha de la consulta de un paciente específico.\n",
    "consultas_paciente[0] \n",
    "print(f'Fecha de la consulta de Juan Pérez: {consultas_paciente[0]}')\n",
    "\n",
    "#Verifica si el paciente tiene una consulta programada dentro de los próximos 7 días.\n",
    "if consultas_paciente[0] < \"2025-02-01\":\n",
    "    print('El paciente tiene una consulta programada en los próximos 7 días')\n",
    "else:\n",
    "    print('El paciente no tiene una consulta programada en los próximos 7 días')\n"
   ]
  },
  {
   "cell_type": "code",
   "execution_count": 1,
   "id": "bd2ade11",
   "metadata": {},
   "outputs": [
    {
     "name": "stdout",
     "output_type": "stream",
     "text": [
      "Enfermedades comunes: {'diabetes'}\n",
      "Enfermedades exclusivas de crónicas: {'hipertensión', 'asma'}\n"
     ]
    }
   ],
   "source": [
    "#Ejercicio 15\n",
    "#Sets: Enfermedades Crónicas y Agudas\n",
    "\n",
    "enfermedades_cronicas = {\"hipertensión\", \"diabetes\", \"asma\"} \n",
    "enfermedades_agudas = {\"influenza\", \"neumonía\", \"diabetes\"}\n",
    "\n",
    "#Tienes un conjunto de enfermedades crónicas y otro de enfermedades agudas. Encuentra las enfermedades comunes y las que son exclusivas de cada conjunto.\n",
    "enfermedades_comunes = enfermedades_cronicas.intersection(enfermedades_agudas)\n",
    "enfermedades_exclusivas_cronicas = enfermedades_cronicas.difference(enfermedades_agudas)\n",
    "print(f'Enfermedades comunes: {enfermedades_comunes}')\n",
    "print(f'Enfermedades exclusivas de crónicas: {enfermedades_exclusivas_cronicas}')"
   ]
  },
  {
   "cell_type": "code",
   "execution_count": 3,
   "id": "5a47ec02",
   "metadata": {},
   "outputs": [
    {
     "name": "stdout",
     "output_type": "stream",
     "text": [
      "Se ha añadido simvastatina al tratamiento de María López\n",
      "Tratamientos de María López: insulina, paracetamol, ibuprofeno, simvastatina\n",
      "El paciente Juan Pérez tiene un tratamiento para la hipertensión\n"
     ]
    }
   ],
   "source": [
    "#Ejercicio 16\n",
    "#Diccionarios: Asignación de Medicamentos por Paciente\n",
    "\n",
    "tratamientos_pacientes = { \n",
    "\"Juan Pérez\": [\"metformina\", \"enalapril\"], \n",
    "\"María López\": [\"insulina\", \"paracetamol\", \"ibuprofeno\"] \n",
    "} \n",
    "\n",
    "#Añade un nuevo medicamento a un paciente específico.\n",
    "tratamientos_pacientes['María López'].append('simvastatina')\n",
    "print(f'Se ha añadido simvastatina al tratamiento de María López')\n",
    "\n",
    "#Muestra los tratamientos de todos los pacientes con más de 2 medicamentos.\n",
    "for paciente, tratamientos in tratamientos_pacientes.items():\n",
    "    if len(tratamientos) > 2:\n",
    "        print(f'Tratamientos de {paciente}: {\", \".join(tratamientos)}')\n",
    "\n",
    "#Verifica si un paciente tiene un tratamiento para \"hipertensión\".\n",
    "for paciente, tratamientos in tratamientos_pacientes.items():\n",
    "    if 'enalapril' in tratamientos:\n",
    "        print(f'El paciente {paciente} tiene un tratamiento para la hipertensión')"
   ]
  },
  {
   "cell_type": "code",
   "execution_count": 4,
   "id": "d6b59d01",
   "metadata": {},
   "outputs": [
    {
     "name": "stdout",
     "output_type": "stream",
     "text": [
      "Primer paciente: María López\n",
      "Último paciente: Deveg Bebeg\n"
     ]
    }
   ],
   "source": [
    "#Ejercicio 17\n",
    "# Listas: Control de Pacientes en Sala de Espera\n",
    "\n",
    "#Tienes una lista con los pacientes que han llegado a la sala de espera. Realiza las siguientes operaciones:\n",
    "sala_espera = [\"Juan Pérez\", \"María López\", \"Carlos Gómez\"]\n",
    "\n",
    "#Añade un nuevo paciente que acaba de llegar.\n",
    "sala_espera.append('Deveg Bebeg')\n",
    "\n",
    "# Elimina al paciente que ya ha sido atendido.\n",
    "sala_espera.remove('Juan Pérez')\n",
    "\n",
    "#  Muestra el primer y el último paciente de la lista.\n",
    "primer_paciente = sala_espera[0]\n",
    "ultiumo_paciente = sala_espera[-1]\n",
    "print(f'Primer paciente: {primer_paciente}')\n",
    "print(f'Último paciente: {ultiumo_paciente}')"
   ]
  },
  {
   "cell_type": "code",
   "execution_count": 8,
   "id": "0d836f26",
   "metadata": {},
   "outputs": [
    {
     "name": "stdout",
     "output_type": "stream",
     "text": [
      "Medicamentos prescritos y dosis: ('metformina', '500 mg', 'enalapril', '10 mg')\n",
      "La dosis de metformina es igual o inferior a 500 mg\n"
     ]
    }
   ],
   "source": [
    "#Ejercicio 18\n",
    "#Tuplas: Medicamentos Prescritos y Dosis\n",
    "medicamentos_prescritos = (\"metformina\", \"500 mg\", \"enalapril\", \"10 mg\")\n",
    "\n",
    "#Accede a los medicamentos prescritos y su dosis.\n",
    "print(f'Medicamentos prescritos y dosis: {medicamentos_prescritos}')\n",
    "\n",
    "#Verifica si la dosis de \"metformina\" es superior a 500 mg.\n",
    "if medicamentos_prescritos[1] > \"500 mg\":\n",
    "    print('La dosis de metformina es superior a 500 mg')\n",
    "else:\n",
    "    print('La dosis de metformina es igual o inferior a 500 mg')"
   ]
  },
  {
   "cell_type": "code",
   "execution_count": 9,
   "id": "41e8bccd",
   "metadata": {},
   "outputs": [
    {
     "name": "stdout",
     "output_type": "stream",
     "text": [
      "El medicamento paracetamol está en stock\n"
     ]
    }
   ],
   "source": [
    "#Ejercicio 19\n",
    "#Sets: Medicamentos en Stock\n",
    "\n",
    "#Tienes un conjunto con los medicamentos disponibles en el stock del hospital. Realiza las siguientes operaciones:\n",
    "stock_medicamentos = {\"paracetamol\", \"ibuprofeno\", \"insulina\"}\n",
    "\n",
    "# Añade un nuevo medicamento al stock.\n",
    "stock_medicamentos.add('metformina')\n",
    "\n",
    "#Elimina un medicamento que está fuera de stock\n",
    "stock_medicamentos.remove('ibuprofeno')\n",
    "\n",
    "#Verifica si un medicamento específico está en stock.\n",
    "if 'paracetamol' in stock_medicamentos:\n",
    "    print('El medicamento paracetamol está en stock')   "
   ]
  },
  {
   "cell_type": "code",
   "execution_count": 11,
   "id": "e6d5bbfc",
   "metadata": {},
   "outputs": [
    {
     "name": "stdout",
     "output_type": "stream",
     "text": [
      "Pacientes atendidos por el Dr. López: Juan Pérez, Carlos Gómez, Deveg Perez\n"
     ]
    }
   ],
   "source": [
    "#Ejercicio 20\n",
    "# Diccionarios: Seguimiento de Pacientes por Médico\n",
    "\n",
    "#Tienes un diccionario que asocia a cada médico con una lista de pacientes que ha atendido. Realiza las siguientes operaciones:\n",
    "pacientes_medico = { \n",
    "\"Dr. López\": [\"Juan Pérez\", \"Carlos Gómez\"], \n",
    "\"Dr. Fernández\": [\"Ana Torres\", \"María López\"] \n",
    "}\n",
    "\n",
    "#Añade un nuevo paciente a la lista de un médico.\n",
    "pacientes_medico['Dr. López'].append('Deveg Perez')\n",
    "\n",
    "# Elimina un paciente de la lista de un médico.\n",
    "pacientes_medico['Dr. Fernández'].remove('Ana Torres')\n",
    "\n",
    "# Muestra todos los pacientes atendidos por un médico específico.\n",
    "pacientes_dr_lopez = pacientes_medico.get('Dr. López', [])\n",
    "print(f'Pacientes atendidos por el Dr. López: {\", \".join(pacientes_dr_lopez)}')"
   ]
  },
  {
   "cell_type": "code",
   "execution_count": null,
   "id": "acca3b6c",
   "metadata": {},
   "outputs": [],
   "source": [
    "#Ejercicio: Sumar dos números\n",
    "#Crea dos variables a = 5 y b = 3. Suma los dos números y muestrael resultado.\n",
    "a = 5\n",
    "b = 3\n",
    "resultado = a + b\n",
    "print(f'El resultado de la suma es: {resultado}')\n"
   ]
  }
 ],
 "metadata": {
  "kernelspec": {
   "display_name": "python",
   "language": "python",
   "name": "python3"
  },
  "language_info": {
   "codemirror_mode": {
    "name": "ipython",
    "version": 3
   },
   "file_extension": ".py",
   "mimetype": "text/x-python",
   "name": "python",
   "nbconvert_exporter": "python",
   "pygments_lexer": "ipython3",
   "version": "3.12.9"
  }
 },
 "nbformat": 4,
 "nbformat_minor": 5
}
