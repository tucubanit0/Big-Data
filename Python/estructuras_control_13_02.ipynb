{
 "cells": [
  {
   "cell_type": "code",
   "execution_count": 5,
   "metadata": {},
   "outputs": [
    {
     "name": "stdout",
     "output_type": "stream",
     "text": [
      "Obesidad\n"
     ]
    }
   ],
   "source": [
    "#Ejercicio 1: Clasificación de pacientes según su IMC Descripción:\n",
    "#Desarrolla un programa que solicite al usuario ingresar su peso (en kg) y altura (en metros). Calcula el Índice de Masa Corporal (IMC) y clasifica al paciente según las siguientes categorías:\n",
    "\n",
    "#Datos:\n",
    "#Menor a 18.5: Bajo peso\n",
    "#Entre 18.5 y 24.9: Peso normal\n",
    "#Entre 25 y 29.9: Sobrepeso\n",
    "#Mayor o igual a 30: Obesidad\n",
    "\n",
    "peso_paciente = input('Introduce tú peso: ')\n",
    "peso_paciente = float(peso_paciente)\n",
    "if peso_paciente < 18.5:\n",
    "    print('Bajo peso')\n",
    "elif peso_paciente >= 18.5 and peso_paciente <= 24.9:\n",
    "    print('Peso normal')\n",
    "elif peso_paciente >= 25 and peso_paciente <= 29.9:\n",
    "    print('Sobrepeso')\n",
    "elif peso_paciente >= 30:\n",
    "    print('Obesidad')\n"
   ]
  },
  {
   "cell_type": "code",
   "execution_count": 7,
   "metadata": {},
   "outputs": [
    {
     "name": "stdout",
     "output_type": "stream",
     "text": [
      "Prediabetes\n"
     ]
    }
   ],
   "source": [
    "#Ejercicio 2: Análisis de glucosa en sangre Descripción:\n",
    "#Un laboratorio necesita un programa que evalúe los niveles de glucosa en sangre de un paciente. Los resultados se clasifican como:\n",
    "#Menor a 70 mg/dL: Hipoglucemia\n",
    "#Entre 70 y 99 mg/dL: Nivel normal\n",
    "#Entre 100 y 125 mg/dL: Prediabetes\n",
    "#Mayor o igual a 126 mg/dL: Diabetes\n",
    "\n",
    "glucosa = input('Introduce el nivel de glucosa en sangre: ')\n",
    "glucosa = int(glucosa)\n",
    "if glucosa < 70:\n",
    "    print('Hipoglucemia')\n",
    "elif glucosa >= 70 and glucosa <= 99:\n",
    "    print('Nivel normal')\n",
    "elif glucosa >= 100 and glucosa <= 125:\n",
    "    print('Prediabetes')\n",
    "elif glucosa >= 126:\n",
    "    print('Diabetes')"
   ]
  },
  {
   "cell_type": "code",
   "execution_count": 11,
   "metadata": {},
   "outputs": [
    {
     "name": "stdout",
     "output_type": "stream",
     "text": [
      "La dosis es de:  1080.0 mg\n"
     ]
    }
   ],
   "source": [
    "#Ejercicio 3: Cálculo de dosis de medicamento Descripción:\n",
    "#Un médico necesita calcular la dosis de un medicamento según la edad del paciente. Las pautas son:\n",
    "\n",
    "#Menores de 12 años: 10 mg por cada kilogramo de peso\n",
    "#De 12 a 60 años: 15 mg por cada kilogramo de peso\n",
    "#Mayores de 60 años: 12 mg por cada kilogramo de peso\n",
    "\n",
    "edad = input('introduce tu edad: ')\n",
    "edad = int(edad)\n",
    "peso = input('introduce tu peso: ')\n",
    "peso = float(peso)\n",
    "\n",
    "if edad < 12:\n",
    "    print('La dosis es de: ', 10 * peso, 'mg')\n",
    "    \n",
    "elif edad >= 12 and edad <=60:\n",
    "    print('La dosis es de: ', 15 * peso, 'mg')\n",
    "\n",
    "elif edad > 60:\n",
    "    print('La dosis es de: ', 12 * peso, 'mg')"
   ]
  },
  {
   "cell_type": "code",
   "execution_count": 21,
   "metadata": {},
   "outputs": [
    {
     "name": "stdout",
     "output_type": "stream",
     "text": [
      "Frecuencia cardiaca anormal\n",
      "Temperatura corporal normal\n",
      "Presión arterial anormal\n"
     ]
    }
   ],
   "source": [
    "#Ejercicio 4: Monitoreo de signos vitales Descripción:\n",
    "#Un sistema de monitoreo de signos vitales necesita determinar si un paciente presenta alguna anomalía. El programa debe evaluar:\n",
    "#Frecuencia cardíaca: Normal entre 60 y 100 latidos por minuto.\n",
    "#Temperatura corporal: Normal entre 36.1°C y 37.2°C.\n",
    "#Presión arterial: Normal si la sistólica está entre 90 y 120 mmHg y la diastólica entre 60 y 80 mmHg.\n",
    "\n",
    "frecuencia_cardiaca = input('Itroduce la frecuencia cardiaca: ')\n",
    "frecuencia_cardiaca = int(frecuencia_cardiaca)\n",
    "if frecuencia_cardiaca >= 60 and frecuencia_cardiaca <= 100:\n",
    "    print('Frecuencia cardiaca normal')\n",
    "else:\n",
    "    print('Frecuencia cardiaca anormal')\n",
    "\n",
    "\n",
    "temperatura_corporal = input('Introduce la temperatura corporal: ')\n",
    "temperatura_corporal = float(temperatura_corporal)\n",
    "if temperatura_corporal >= 36.1 and temperatura_corporal <= 37.2:\n",
    "    print('Temperatura corporal normal')\n",
    "else:\n",
    "   print('Temperatura corporal normal')\n",
    "\n",
    "\n",
    "presion_arterial_sistolica = input('Introduce la presión arterial sistolica: ')\n",
    "presion_arterial_sistolica = int(presion_arterial_sistolica)\n",
    "presion_arterial_diastolica = input('Introduce la presión arterial diastolica: ')\n",
    "presion_arterial_diastolica = int(presion_arterial_diastolica)\n",
    "if presion_arterial_sistolica >= 90 and presion_arterial_sistolica <= 120 and presion_arterial_diastolica >= 60 and presion_arterial_diastolica <= 80:\n",
    "      print('Presión arterial normal')  \n",
    "else:\n",
    "    print('Presión arterial anormal')"
   ]
  },
  {
   "cell_type": "code",
   "execution_count": 22,
   "metadata": {},
   "outputs": [
    {
     "name": "stdout",
     "output_type": "stream",
     "text": [
      "Faltan las siguientes vacunas:  ['Sarampión', 'Tétanos']\n"
     ]
    }
   ],
   "source": [
    "#Ejercicio 5: Seguimiento de vacunación Descripción:\n",
    "\n",
    "#Un programa debe registrar el historial de vacunación de un paciente. \n",
    "# El usuario ingresa las vacunas recibidas hasta ahora (por ejemplo, \"Sarampión\", \"Tétanos\", \"Gripe\") \n",
    "# y el programa verifica si falta alguna vacuna obligatoria (\"Sarampión\", \"Tétanos\", \"Rubeola\"). Si falta alguna, el programa debe indicarlo.\n",
    "\n",
    "nombre_paciente = input ('Introduce tu nombre: ')\n",
    "vacunas_recibidas = input('Introduce las vacunas recibidas: ')\n",
    "\n",
    "vacunas_obligatorias = ['Sarampión', 'Tétanos', 'Rubeola']\n",
    "\n",
    "vacunas_faltantes = [vacuna for vacuna in vacunas_obligatorias if vacuna not in vacunas_recibidas]\n",
    "\n",
    "if vacunas_faltantes:\n",
    "    print('Faltan las siguientes vacunas: ', vacunas_faltantes)\n",
    "else:\n",
    "    print('Todas las vacunas han sido aplicadas')\n"
   ]
  },
  {
   "cell_type": "code",
   "execution_count": 30,
   "metadata": {},
   "outputs": [
    {
     "name": "stdout",
     "output_type": "stream",
     "text": [
      "Bacterias en la hora 1: 200\n",
      "Bacterias en la hora 2: 400\n",
      "Bacterias en la hora 3: 800\n",
      "Bacterias en la hora 4: 1600\n",
      "Bacterias en la hora 5: 3200\n",
      "Bacterias en la hora 6: 6400\n",
      "Bacterias en la hora 7: 12800\n",
      "Bacterias en la hora 8: 25600\n",
      "Bacterias en la hora 9: 51200\n",
      "Bacterias en la hora 10: 102400\n"
     ]
    }
   ],
   "source": [
    "#Ejercicio 6: Simulación de crecimiento bacteriano Descripción:\n",
    "#Un cultivo bacteriano crece exponencialmente. Su tamaño inicial es de 100 bacterias y se duplica cada hora. \n",
    "#Escribe un programa que muestre el número de bacterias cada hora durante un período de 10 horas.\n",
    "\n",
    "bacterias = 100\n",
    "for i in range(1, 11):\n",
    "    bacterias *= 2\n",
    "    print(f'Bacterias en la hora {i}: {bacterias}')"
   ]
  }
 ],
 "metadata": {
  "kernelspec": {
   "display_name": "python",
   "language": "python",
   "name": "python3"
  },
  "language_info": {
   "codemirror_mode": {
    "name": "ipython",
    "version": 3
   },
   "file_extension": ".py",
   "mimetype": "text/x-python",
   "name": "python",
   "nbconvert_exporter": "python",
   "pygments_lexer": "ipython3",
   "version": "3.12.9"
  }
 },
 "nbformat": 4,
 "nbformat_minor": 2
}
