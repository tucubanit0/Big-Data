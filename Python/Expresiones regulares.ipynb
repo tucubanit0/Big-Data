{
 "cells": [
  {
   "cell_type": "code",
   "execution_count": null,
   "metadata": {},
   "outputs": [],
   "source": [
    "%pip install re"
   ]
  },
  {
   "cell_type": "markdown",
   "metadata": {},
   "source": [
    "### Expresiones regulares\n",
    "- Son secuencias de  caracteres que son un patrón de busqueda\n",
    "- Para el trabajo de busqueda\n",
    "\n",
    "\n",
    "import re\n",
    "cadena = 'Vamos a aprender expresiones regulares'\n",
    "print(re.search('aprender', cadena))\n",
    "\n",
    "textoBuscar = 'aprender'        # Para buscar si un texto está en una cadena de caracteres\n",
    "if re.search(textoBuscar, cadena) is not None:\n",
    "    print('He encontrado el texto')\n",
    "else:('No he encontrado el texto')\n",
    "\n",
    "textoEncontrado = re.search(textoBuscar, cadena)   #Pondrá lo que se encuentre dentro de la variable\n",
    "print(textoEncontrado.start())               #Empieza a contar( el cero se cuenta y los espacios también)\n",
    "\n",
    "print(textoEncontrado.end()) \n",
    "\n",
    "print(textoEncontrado.span()) \n",
    "\n",
    "textoBuscar = 'Python'\n",
    "print(len(re.findall(textoBuscar, cadena)))   "
   ]
  },
  {
   "cell_type": "markdown",
   "metadata": {},
   "source": [
    "### En una lista\n",
    "\n",
    "import re\n",
    "\n",
    "lista_nombres = ['Ana Gómez',\n",
    "                'María Martín',\n",
    "                'Sandra Lopez',\n",
    "                'Santiago Martín',\n",
    "                Sandra Fernández ']\n",
    "\n",
    "for elemento in lista_nombres:\n",
    "    if re.findall('Martín$', elemento):  #Esto me devuelve todo lo que tenga lo que coloque en las comillas\n",
    "        print(elemento)\n",
    "\n",
    "for elemento in lista_nombres:\n",
    "    if re.findall('[n]$', elemento)\n",
    "        print(elemento)"
   ]
  },
  {
   "cell_type": "code",
   "execution_count": null,
   "metadata": {},
   "outputs": [
    {
     "name": "stdout",
     "output_type": "stream",
     "text": [
      "Ana Gómez\n",
      "Ana Gómez\n",
      "María Martín\n",
      "Sandra Lopez\n",
      "Santiago Martín\n",
      "Sandra Fernández\n"
     ]
    }
   ],
   "source": [
    "import re\n",
    "\n",
    "lista_nombres = ['Ana Gómez',\n",
    "                'María Martín',\n",
    "                'Sandra Lopez',\n",
    "                'Santiago Martín',\n",
    "                'Sandra Fernández']\n",
    "\n",
    "for elemento in lista_nombres:\n",
    "    if re.findall('^Ana', elemento):  #Esto me devuelve todo lo que tenga lo que coloque en las comillas. \n",
    "#Melon en el codigo if re.findall('^Ana', elemento): Se utiliza ^ para que te de todo lo que comienza con lo que le escribiste\n",
    "# Y si pones if re.findall('Ana$', elemento): El $ te dará todo lo que termina con lo que le escribiste\n",
    "        print(elemento)\n",
    "\n",
    "for elemento in lista_nombres:\n",
    "    if re.findall('[n]', elemento): #Devuelve todo lo que tenga n escrito\n",
    "        print(elemento)"
   ]
  }
 ],
 "metadata": {
  "kernelspec": {
   "display_name": "python",
   "language": "python",
   "name": "python3"
  },
  "language_info": {
   "codemirror_mode": {
    "name": "ipython",
    "version": 3
   },
   "file_extension": ".py",
   "mimetype": "text/x-python",
   "name": "python",
   "nbconvert_exporter": "python",
   "pygments_lexer": "ipython3",
   "version": "3.12.9"
  }
 },
 "nbformat": 4,
 "nbformat_minor": 2
}
