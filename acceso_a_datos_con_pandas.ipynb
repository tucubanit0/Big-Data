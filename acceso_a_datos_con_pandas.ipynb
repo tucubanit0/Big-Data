{
 "cells": [
  {
   "cell_type": "markdown",
   "metadata": {
    "_cell_guid": "aaf805b9-fdd3-4573-9484-dc0321d10201",
    "_uuid": "ec80e19dc22ea802a11121cd593b0a3ca710f6f9"
   },
   "source": [
    "### Biodiversidad en los parques\n",
    "Este tutorial te guiará a través de los conceptos esenciales sobre cómo indexar y filtrar datos con Pandas. Piensa en él como una versión muy condensada y con un enfoque específico de [the official indexing documentation.](http://pandas.pydata.org/pandas-docs/stable/indexing.html#).\n",
    "\n",
    "Empezamos cargando Pandas y los datos:"
   ]
  },
  {
   "cell_type": "code",
   "execution_count": null,
   "metadata": {},
   "outputs": [],
   "source": []
  },
  {
   "cell_type": "code",
   "execution_count": null,
   "metadata": {},
   "outputs": [],
   "source": []
  },
  {
   "cell_type": "code",
   "execution_count": null,
   "metadata": {},
   "outputs": [],
   "source": []
  },
  {
   "cell_type": "markdown",
   "metadata": {
    "_cell_guid": "c17515e5-13ca-4771-b644-facf558e0b9c",
    "_uuid": "c9324546cdefc4b865acb018a7dfec42bde43f7c"
   },
   "source": [
    "### Indexing: Single Rows\n",
    "La forma más sencilla de acceder a una fila es pasar el número de fila al método \".iloc\". Ten en cuenta que la primera fila es cero, al igual que los índices de las listas."
   ]
  },
  {
   "cell_type": "code",
   "execution_count": null,
   "metadata": {},
   "outputs": [],
   "source": []
  },
  {
   "cell_type": "markdown",
   "metadata": {
    "_cell_guid": "95813fb6-9db0-46a4-97dc-1983ef2035de",
    "_uuid": "d1012b10ee4c6ec7017c5c10d1fad37066df68fa"
   },
   "source": [
    "El otro enfoque principal es pasar un valor del índice de tu DataFrame al método \".loc\":"
   ]
  },
  {
   "cell_type": "code",
   "execution_count": null,
   "metadata": {},
   "outputs": [],
   "source": []
  },
  {
   "cell_type": "markdown",
   "metadata": {
    "_cell_guid": "c6cb4421-d06d-4f3d-b978-3aee2526b57c",
    "_uuid": "96abef4ba5bb2aee5b19b5c7468698cc87168f51"
   },
   "source": [
    "### Indexing: Multiple Rows\n",
    "Si necesitamos múltiples filas, podemos pasar varios valores de índice. ¡Ten en cuenta que esto cambia el orden de los resultados!"
   ]
  },
  {
   "cell_type": "code",
   "execution_count": null,
   "metadata": {},
   "outputs": [],
   "source": []
  },
  {
   "cell_type": "code",
   "execution_count": null,
   "metadata": {},
   "outputs": [],
   "source": []
  },
  {
   "cell_type": "markdown",
   "metadata": {
    "_cell_guid": "e0a231a8-afd1-473c-8caf-44cb20caed49",
    "_uuid": "8c8fb5130ab3232f54bd88dc239375076fb2533a"
   },
   "source": [
    "Cortar (slicing) el DataFrame como si fuera una lista también funciona."
   ]
  },
  {
   "cell_type": "code",
   "execution_count": null,
   "metadata": {},
   "outputs": [],
   "source": []
  },
  {
   "cell_type": "code",
   "execution_count": null,
   "metadata": {},
   "outputs": [],
   "source": []
  },
  {
   "cell_type": "markdown",
   "metadata": {
    "_cell_guid": "8eeb6f0d-e8bd-4324-9d93-fe7066162220",
    "_uuid": "f778c78d005a589b7e211e2c99a8f6671cd3eaae"
   },
   "source": [
    "### Indexing: Columns\n",
    "Podemos acceder a un subconjunto de las columnas en un DataFrame colocando la lista de columnas entre corchetes de la siguiente manera:"
   ]
  },
  {
   "cell_type": "code",
   "execution_count": null,
   "metadata": {},
   "outputs": [],
   "source": []
  },
  {
   "cell_type": "markdown",
   "metadata": {
    "_cell_guid": "7e033701-36eb-4ad7-8112-78cf906c2ea1",
    "_uuid": "4723d3baf3783eb4d37d9dd65fdd482655b35f10"
   },
   "source": [
    "También puedes acceder a una sola columna como si fuera un atributo del DataFrame, pero solo si el nombre no tiene espacios, utiliza solo caracteres básicos y no comparte un nombre con un método del DataFrame. Así que, \"df.State\" funciona."
   ]
  },
  {
   "cell_type": "code",
   "execution_count": null,
   "metadata": {},
   "outputs": [],
   "source": []
  },
  {
   "cell_type": "markdown",
   "metadata": {
    "_cell_guid": "753907e6-af2a-4a29-8ddf-80285b5fc50a",
    "_uuid": "f1dbdaaadd15f2e3ced8a30cead8ce20e4b8deaa"
   },
   "source": [
    "Pero \"df.Park Code\" fallará ya que hay un espacio en el nombre."
   ]
  },
  {
   "cell_type": "code",
   "execution_count": 12,
   "metadata": {
    "_cell_guid": "1f4477f6-de96-469c-a004-4b01e41014b8",
    "_uuid": "dca8065d074650d490b14b80ba61c37e8dc981e4"
   },
   "outputs": [
    {
     "ename": "SyntaxError",
     "evalue": "invalid syntax (1629693805.py, line 1)",
     "output_type": "error",
     "traceback": [
      "\u001b[0;36m  Cell \u001b[0;32mIn[12], line 1\u001b[0;36m\u001b[0m\n\u001b[0;31m    df.Park Code\u001b[0m\n\u001b[0m            ^\u001b[0m\n\u001b[0;31mSyntaxError\u001b[0m\u001b[0;31m:\u001b[0m invalid syntax\n"
     ]
    }
   ],
   "source": [
    "df.Park Code"
   ]
  },
  {
   "cell_type": "markdown",
   "metadata": {
    "_cell_guid": "f8b25873-b400-430a-907b-2ea715d7407e",
    "_uuid": "2a227170ef8ec1177c2920bc481f8932bb6418cd"
   },
   "source": [
    "Solo podemos acceder a la columna \"Park Code\" pasando su nombre como una cadena entre corchetes, como \"df['Park Code']\". Recomiendo usar siempre ese enfoque o convertir siempre los nombres de las columnas a un formato válido tan pronto como leas los datos para que no tengas que mezclar los dos métodos. Es solo un poco más ordenado.\n",
    "\n",
    "Es una buena práctica limpiar los nombres de las columnas para evitar este tipo de errores. Usaré una función de limpieza muy simple aquí, ya que los nombres no tienen caracteres extraños. Por convención, los nombres también deben ser convertidos a minúsculas. Pandas es sensible a mayúsculas y minúsculas, por lo que las llamadas futuras a todas las columnas deberán ser actualizadas."
   ]
  },
  {
   "cell_type": "code",
   "execution_count": null,
   "metadata": {},
   "outputs": [],
   "source": []
  },
  {
   "cell_type": "markdown",
   "metadata": {
    "_cell_guid": "48de9e74-8a63-4a0f-9cec-80cc6a0ce5e7",
    "_uuid": "466ece4db69be3abb140421fddc361b93db0e9ad"
   },
   "source": [
    "### Indexing: Columns and Rows\n",
    "Si necesitamos hacer un subconjunto tanto por columnas como por filas, puedes apilar los comandos que ya hemos aprendido."
   ]
  },
  {
   "cell_type": "code",
   "execution_count": null,
   "metadata": {},
   "outputs": [],
   "source": []
  },
  {
   "cell_type": "code",
   "execution_count": null,
   "metadata": {},
   "outputs": [],
   "source": []
  },
  {
   "cell_type": "code",
   "execution_count": null,
   "metadata": {},
   "outputs": [],
   "source": []
  },
  {
   "cell_type": "code",
   "execution_count": null,
   "metadata": {},
   "outputs": [],
   "source": []
  },
  {
   "cell_type": "code",
   "execution_count": null,
   "metadata": {},
   "outputs": [],
   "source": []
  },
  {
   "cell_type": "code",
   "execution_count": null,
   "metadata": {},
   "outputs": [],
   "source": []
  },
  {
   "cell_type": "code",
   "execution_count": null,
   "metadata": {},
   "outputs": [],
   "source": []
  },
  {
   "cell_type": "code",
   "execution_count": null,
   "metadata": {},
   "outputs": [],
   "source": []
  },
  {
   "cell_type": "markdown",
   "metadata": {
    "_cell_guid": "8d57d503-6f14-4945-ba26-3fa14aa4af2e",
    "_uuid": "06a5c1c524adaf082e55a04fa9387c68d6e9d8c0"
   },
   "source": [
    "### Indexing: Scalar Values\n",
    "Como habrás notado, todo lo que hemos probado hasta ahora devuelve un pequeño DataFrame o una serie. Si necesitas un solo valor, simplemente pasa un solo valor de columna e índice."
   ]
  },
  {
   "cell_type": "code",
   "execution_count": 2,
   "metadata": {},
   "outputs": [],
   "source": [
    "# Accede al valor de la columna 'state' en la fila de la posición 2 (recuerda que los índices son cero-basados).\n"
   ]
  },
  {
   "cell_type": "markdown",
   "metadata": {
    "_cell_guid": "0b2747af-226c-4cbd-98e6-8eeb29237ecd",
    "_uuid": "93b7956d972472d89762a2a1daf6520568cb85f9"
   },
   "source": [
    "Ten en cuenta que obtendrás un tipo de retorno diferente si pasas un solo valor dentro de una lista."
   ]
  },
  {
   "cell_type": "code",
   "execution_count": null,
   "metadata": {},
   "outputs": [],
   "source": []
  },
  {
   "cell_type": "code",
   "execution_count": 3,
   "metadata": {
    "_cell_guid": "1934a246-530c-4f87-9f4d-d7d0eb6f5652",
    "_uuid": "56c4cbe662b730c1bde2e62ac1a30db3d87de55f"
   },
   "outputs": [],
   "source": [
    "# Accede al valor de la columna 'state' en la fila de la posición 2, pero devuelve una Serie en lugar de un valor único \n",
    "# porque el índice está dentro de una lista.\n"
   ]
  },
  {
   "cell_type": "markdown",
   "metadata": {
    "_cell_guid": "04bbfa38-a32c-4369-bbdb-04f22e4e3af1",
    "_uuid": "16ecd5a03fdb21bce28aa2d376e6ea9841cc5e02"
   },
   "source": [
    "### Selecting a Subset of the Data"
   ]
  },
  {
   "cell_type": "markdown",
   "metadata": {
    "_cell_guid": "fbc5aa04-dac1-4cc5-b6d3-fe708ae71fff",
    "_uuid": "884d54c635b20ee09ec54519878e50e8ea59ef5d"
   },
   "source": [
    "El método principal para hacer subconjuntos de datos en Pandas se llama [indexación booleana](http://pandas.pydata.org/pandas-docs/stable/indexing.html#boolean-indexing). Primero, echemos un vistazo a lo que hace Pandas cuando le pedimos que evalúe un valor booleano:"
   ]
  },
  {
   "cell_type": "code",
   "execution_count": 4,
   "metadata": {
    "_cell_guid": "54ffff3f-67d0-4c06-bb74-baa2d25cd822",
    "_uuid": "b16fe3476ebd200bee5c5160a59f55f8ee65b2fd"
   },
   "outputs": [],
   "source": [
    "# Compara cada valor de la columna 'state' con 'UT', devolviendo una serie de valores booleanos, \n",
    "# luego muestra las primeras 3 filas con .head(3).\n"
   ]
  },
  {
   "cell_type": "markdown",
   "metadata": {
    "_cell_guid": "be8ebce7-1c01-4c0b-b274-f8fd259e48b1",
    "_uuid": "30ab3185a692b22b7cbc208635b1202a3d3c9c09"
   },
   "source": [
    "Obtenemos una serie con los resultados del valor booleano. Al pasar esa serie a un DataFrame, obtenemos el subconjunto del DataFrame donde el valor booleano evalúa como `True`."
   ]
  },
  {
   "cell_type": "code",
   "execution_count": 5,
   "metadata": {
    "_cell_guid": "d6e46944-2de7-4e67-a123-c38da7edff38",
    "_uuid": "708bf6bc00d79050d7e6f1ab185e6df4cfb1c661"
   },
   "outputs": [],
   "source": [
    "# Filtra el DataFrame 'df' para seleccionar solo las filas donde el valor de la columna 'state' es igual a 'UT'.\n"
   ]
  },
  {
   "cell_type": "markdown",
   "metadata": {
    "_cell_guid": "d6d95aa8-2f0e-40a5-b25e-ba835b103e9b",
    "_uuid": "82f422cd77925e2ff141d3334124a85693a7b693"
   },
   "source": [
    "Algunos de los operadores lógicos son diferentes:\n",
    "- `~` reemplaza a `not`\n",
    "- `|` reemplaza a `or`\n",
    "- `&` reemplaza a `and`\n",
    "\n",
    "Si tienes varios argumentos, deberán estar envueltos entre paréntesis. Por ejemplo:"
   ]
  },
  {
   "cell_type": "code",
   "execution_count": 6,
   "metadata": {
    "_cell_guid": "08758ccb-2c2a-4c52-b972-96b1e1c2412f",
    "_uuid": "e996cf6954130df1c67b2e4d39f2bab2d1f352c5"
   },
   "outputs": [],
   "source": [
    "# Filtra el DataFrame 'df' seleccionando las filas donde la latitud es mayor a 60 o \n",
    "# el número de acres es mayor a un millón, y luego muestra las primeras 3 filas del resultado.\n"
   ]
  },
  {
   "cell_type": "markdown",
   "metadata": {
    "_cell_guid": "02a2d3f9-5f7a-4dd3-9828-f37589317ba0",
    "_uuid": "2f1a5a2e86fbe369085998490f33e74ecb124d77"
   },
   "source": [
    "También puedes usar expresiones más complicadas, incluyendo lambdas."
   ]
  },
  {
   "cell_type": "code",
   "execution_count": 7,
   "metadata": {
    "_cell_guid": "3b2a5145-82fc-4fa3-af08-c3cee631690e",
    "_uuid": "ba049726a59d195e6b43bf48e7196aba14c16e21"
   },
   "outputs": [],
   "source": [
    "# Filtra el DataFrame 'df' seleccionando las filas donde el nombre del parque \n",
    "# ('park_name') se divide en 3 palabras, y luego muestra las primeras 3 filas del resultado.\n"
   ]
  },
  {
   "cell_type": "markdown",
   "metadata": {},
   "source": [
    "El comentario explica lo siguiente:\n",
    "\n",
    "- `df['park_name'].str.split()`: Divide cada valor de la columna 'park_name' en palabras, utilizando el espacio como separador. Esto devuelve una lista de palabras para cada nombre de parque.\n",
    "- `.apply(lambda x: len(x) == 3)`: Aplica una función lambda que evalúa si la longitud de la lista (el número de palabras) es igual a 3. Devuelve True para las filas cuyo nombre de parque contiene exactamente tres palabras y False en caso contrario.\n",
    "- `df[...]`: Usa la serie booleana resultante para filtrar el DataFrame df y seleccionar solo las filas donde el nombre del parque contiene tres palabras.\n",
    "- `.head(3)`: Muestra las primeras tres filas del subconjunto filtrado.\n",
    "\n",
    "\n",
    "\n",
    "\n",
    "\n",
    "\n"
   ]
  },
  {
   "cell_type": "markdown",
   "metadata": {},
   "source": [
    "### La expresión `lambda x: len(x) == 3` tiene tres partes principales:\n",
    "\n",
    "1. **`lambda`**:\n",
    "   - Es una palabra clave en Python que se utiliza para crear funciones anónimas, es decir, funciones sin nombre. Estas funciones son muy útiles cuando necesitas una función simple y corta, como en este caso.\n",
    "   \n",
    "2. **`x`**:\n",
    "   - Es el parámetro de entrada de la función `lambda`. En este caso, `x` representa cada elemento de la lista de palabras que resulta de dividir el valor de `'park_name'`. Es decir, cada `x` es una lista de palabras (por ejemplo, `['Yellowstone', 'National', 'Park']`).\n",
    "\n",
    "3. **`len(x) == 3`**:\n",
    "   - Esta es la expresión que evalúa la función `lambda`. Para cada elemento `x` (que es una lista de palabras), se calcula la longitud con `len(x)`. Si la longitud de la lista es igual a 3, la expresión devuelve `True`, de lo contrario devuelve `False`.\n",
    "\n",
    "### Resumen de la expresión:\n",
    "\n",
    "- `lambda x: len(x) == 3`: Crea una función anónima que toma un parámetro `x` (en este caso, una lista de palabras) y devuelve `True` si la longitud de esa lista es 3, o `False` si no lo es.\n",
    "\n",
    "### Aplicación en el código:\n",
    "\n",
    "- **`df['park_name'].str.split()`**: Divide cada nombre de parque en palabras.\n",
    "- **`.apply(lambda x: len(x) == 3)`**: Aplica la función `lambda` a cada lista de palabras obtenida, verificando si el nombre del parque tiene exactamente tres palabras."
   ]
  },
  {
   "cell_type": "code",
   "execution_count": 60,
   "metadata": {},
   "outputs": [
    {
     "data": {
      "text/html": [
       "<div>\n",
       "<style scoped>\n",
       "    .dataframe tbody tr th:only-of-type {\n",
       "        vertical-align: middle;\n",
       "    }\n",
       "\n",
       "    .dataframe tbody tr th {\n",
       "        vertical-align: top;\n",
       "    }\n",
       "\n",
       "    .dataframe thead th {\n",
       "        text-align: right;\n",
       "    }\n",
       "</style>\n",
       "<table border=\"1\" class=\"dataframe\">\n",
       "  <thead>\n",
       "    <tr style=\"text-align: right;\">\n",
       "      <th></th>\n",
       "      <th>park_name</th>\n",
       "      <th>state</th>\n",
       "      <th>acres</th>\n",
       "      <th>latitude</th>\n",
       "      <th>longitude</th>\n",
       "    </tr>\n",
       "    <tr>\n",
       "      <th>Park Code</th>\n",
       "      <th></th>\n",
       "      <th></th>\n",
       "      <th></th>\n",
       "      <th></th>\n",
       "      <th></th>\n",
       "    </tr>\n",
       "  </thead>\n",
       "  <tbody>\n",
       "    <tr>\n",
       "      <th>ACAD</th>\n",
       "      <td>Acadia National Park</td>\n",
       "      <td>ME</td>\n",
       "      <td>47390</td>\n",
       "      <td>44.35</td>\n",
       "      <td>-68.21</td>\n",
       "    </tr>\n",
       "    <tr>\n",
       "      <th>ARCH</th>\n",
       "      <td>Arches National Park</td>\n",
       "      <td>UT</td>\n",
       "      <td>76519</td>\n",
       "      <td>38.68</td>\n",
       "      <td>-109.57</td>\n",
       "    </tr>\n",
       "    <tr>\n",
       "      <th>BADL</th>\n",
       "      <td>Badlands National Park</td>\n",
       "      <td>SD</td>\n",
       "      <td>242756</td>\n",
       "      <td>43.75</td>\n",
       "      <td>-102.50</td>\n",
       "    </tr>\n",
       "  </tbody>\n",
       "</table>\n",
       "</div>"
      ],
      "text/plain": [
       "                        park_name state   acres  latitude  longitude\n",
       "Park Code                                                           \n",
       "ACAD         Acadia National Park    ME   47390     44.35     -68.21\n",
       "ARCH         Arches National Park    UT   76519     38.68    -109.57\n",
       "BADL       Badlands National Park    SD  242756     43.75    -102.50"
      ]
     },
     "execution_count": 60,
     "metadata": {},
     "output_type": "execute_result"
    }
   ],
   "source": [
    "def check_three_words(x):\n",
    "    return len(x) == 3\n",
    "\n",
    "df[df['park_name'].str.split().apply(check_three_words)].head(3)"
   ]
  },
  {
   "cell_type": "markdown",
   "metadata": {
    "_cell_guid": "2d8137c1-af04-4c50-974d-279c3c8264d0",
    "_uuid": "f199a5273560004c180ae6e1bae60797d5f50190"
   },
   "source": [
    "### Key Companion Methods: `isin` and `isnull`\n",
    "Estos métodos facilitan y aceleran mucho la realización de algunas tareas muy comunes. Supongamos que queremos encontrar todos los parques de la costa oeste. `isin` hace que eso sea simple:"
   ]
  },
  {
   "cell_type": "code",
   "execution_count": 8,
   "metadata": {
    "_cell_guid": "988a43e9-fdb8-49e2-a380-122570824550",
    "_uuid": "51f3b8cbfc62e7426bc36233d95095ae56887b9d"
   },
   "outputs": [],
   "source": [
    "# Filtra el DataFrame 'df' seleccionando las filas donde el valor de la columna 'state' es 'WA', 'OR' o 'CA', \n",
    "# y muestra las primeras 5 filas del resultado.\n"
   ]
  },
  {
   "cell_type": "markdown",
   "metadata": {
    "_cell_guid": "ac23b412-e093-40af-88ba-3ac960c553a3",
    "_uuid": "38376945433dafef1d848af2ddc1f1482a5a883e"
   },
   "source": [
    "### Less Common Methods\n",
    "Pandas ofrece muchos más métodos de indexación. Probablemente deberías ceñirte a algunos de ellos para mantener tu código legible, pero vale la pena saber que existen en caso de que necesites leer el código de otras personas o tengas un caso de uso inusual:\n",
    "\n",
    "- Hay otras formas de dividir los datos con corchetes. Por razones de legibilidad, por favor, no uses ninguno de ellos.\n",
    "- `.at` y `.iat`: como `.loc` y `.iloc`, pero mucho más rápidos a cambio de solo funcionar con una sola columna y devolver un solo resultado.\n",
    "- `.eval`: evaluación rápida de un conjunto limitado de operadores simples. `.query` funciona llamando a esto.\n",
    "- `.ix`: método obsoleto que intentaba determinar si un índice debía evaluarse con `.loc` o `.iloc`. ¡Esto llevó a muchos errores sutiles! Si ves esto, estás viendo un código antiguo que ya no funcionará.\n",
    "- `.get`: como `.loc`, pero devolverá un valor predeterminado si la clave no existe en el índice. Solo funciona en una sola columna/serie.\n",
    "- `.lookup`: No recomendado. Está en la documentación, pero no está claro si esto aún se admite.\n",
    "- `.mask`: como la indexación booleana, pero devuelve un DataFrame/serie del mismo tamaño que el original y dondequiera que el booleano se evalúe como `True`, se establece en `nan`.\n",
    "- `.query`: similar a la indexación booleana. Más rápido para DataFrames grandes. Solo admite un conjunto restringido de operaciones; no lo uses si necesitas `isnull()` u otros métodos de DataFrame.\n",
    "- `.take`: equivalente a `.iloc`, pero puede operar tanto en filas como en columnas.\n",
    "- `.where`: como la indexación booleana, pero devuelve un DataFrame/serie del mismo tamaño que el original y dondequiera que el booleano se evalúe como `False`, se establece en `nan`.\n",
    "- [Multi-indexing](http://pandas.pydata.org/pandas-docs/stable/advanced.html): potencialmente útil para conjuntos de datos jerárquicos pequeños a medianos. Lento en conjuntos de datos más grandes."
   ]
  },
  {
   "cell_type": "code",
   "execution_count": null,
   "metadata": {
    "_cell_guid": "e167cd75-9c1d-4327-ac0c-11ca9e5d1ddb",
    "_uuid": "259f0bbe2718e237b41e162ff691a612d846075e"
   },
   "outputs": [],
   "source": []
  }
 ],
 "metadata": {
  "kaggle": {
   "accelerator": "none",
   "dataSources": [
    {
     "datasetId": 670,
     "sourceId": 1306,
     "sourceType": "datasetVersion"
    }
   ],
   "dockerImageVersionId": 37,
   "isGpuEnabled": false,
   "isInternetEnabled": false,
   "language": "python",
   "sourceType": "notebook"
  },
  "kernelspec": {
   "display_name": "Python 3 (ipykernel)",
   "language": "python",
   "name": "python3"
  },
  "language_info": {
   "codemirror_mode": {
    "name": "ipython",
    "version": 3
   },
   "file_extension": ".py",
   "mimetype": "text/x-python",
   "name": "python",
   "nbconvert_exporter": "python",
   "pygments_lexer": "ipython3",
   "version": "3.9.21"
  }
 },
 "nbformat": 4,
 "nbformat_minor": 4
}
