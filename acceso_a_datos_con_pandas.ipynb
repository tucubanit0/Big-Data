{
 "cells": [
  {
   "cell_type": "markdown",
   "metadata": {
    "_cell_guid": "aaf805b9-fdd3-4573-9484-dc0321d10201",
    "_uuid": "ec80e19dc22ea802a11121cd593b0a3ca710f6f9"
   },
   "source": [
    "### Biodiversidad en los parques\n",
    "Este tutorial te guiará a través de los conceptos esenciales sobre cómo indexar y filtrar datos con Pandas. Piensa en él como una versión muy condensada y con un enfoque específico de [the official indexing documentation.](http://pandas.pydata.org/pandas-docs/stable/indexing.html#).\n",
    "\n",
    "Empezamos cargando Pandas y los datos:"
   ]
  },
  {
   "cell_type": "code",
   "execution_count": 1,
   "metadata": {},
   "outputs": [],
   "source": [
    "import pandas as pd"
   ]
  },
  {
   "cell_type": "code",
   "execution_count": 2,
   "metadata": {},
   "outputs": [],
   "source": [
    "df = pd.read_csv('parks.csv', index_col =['Park Code'])  #el index_col es para llamar al indice \n",
    "                                                         #df es la variable que estamos definiendo (DataFrame)  pd(pandas).read_csv(para que lear el archivo csv)\n",
    "                                                         #colocamos df = pd.read_csv('nombre del archivo csv', index_col = ['Park Code(que es el nombre de la parte de codigo)'])"
   ]
  },
  {
   "cell_type": "code",
   "execution_count": 3,
   "metadata": {},
   "outputs": [
    {
     "name": "stdout",
     "output_type": "stream",
     "text": [
      "                                                Park Name       State  \\\n",
      "Park Code                                                               \n",
      "ACAD                                 Acadia National Park          ME   \n",
      "ARCH                                 Arches National Park          UT   \n",
      "BADL                               Badlands National Park          SD   \n",
      "BIBE                               Big Bend National Park          TX   \n",
      "BISC                               Biscayne National Park          FL   \n",
      "BLCA           Black Canyon of the Gunnison National Park          CO   \n",
      "BRCA                           Bryce Canyon National Park          UT   \n",
      "CANY                            Canyonlands National Park          UT   \n",
      "CARE                           Capitol Reef National Park          UT   \n",
      "CAVE                       Carlsbad Caverns National Park          NM   \n",
      "CHIS                        Channel Islands National Park          CA   \n",
      "CONG                               Congaree National Park          SC   \n",
      "CRLA                            Crater Lake National Park          OR   \n",
      "CUVA                        Cuyahoga Valley National Park          OH   \n",
      "DENA                    Denali National Park and Preserve          AK   \n",
      "DEVA                           Death Valley National Park      CA, NV   \n",
      "DRTO                           Dry Tortugas National Park          FL   \n",
      "EVER                             Everglades National Park          FL   \n",
      "GAAR       Gates Of The Arctic National Park and Preserve          AK   \n",
      "GLAC                                Glacier National Park          MT   \n",
      "GLBA               Glacier Bay National Park and Preserve          AK   \n",
      "GRBA                            Great Basin National Park          NV   \n",
      "GRCA                           Grand Canyon National Park          AZ   \n",
      "GRSA          Great Sand Dunes National Park and Preserve          CO   \n",
      "GRSM                  Great Smoky Mountains National Park      TN, NC   \n",
      "GRTE                            Grand Teton National Park          WY   \n",
      "GUMO                    Guadalupe Mountains National Park          TX   \n",
      "HALE                              Haleakala National Park          HI   \n",
      "HAVO                       Hawaii Volcanoes National Park          HI   \n",
      "HOSP                            Hot Springs National Park          AR   \n",
      "ISRO                            Isle Royale National Park          MI   \n",
      "JOTR                            Joshua Tree National Park          CA   \n",
      "KATM                    Katmai National Park and Preserve          AK   \n",
      "KEFJ                           Kenai Fjords National Park          AK   \n",
      "KOVA                           Kobuk Valley National Park          AK   \n",
      "LACL                Lake Clark National Park and Preserve          AK   \n",
      "LAVO                        Lassen Volcanic National Park          CA   \n",
      "MACA                           Mammoth Cave National Park          KY   \n",
      "MEVE                             Mesa Verde National Park          CO   \n",
      "MORA                          Mount Rainier National Park          WA   \n",
      "NOCA                         North Cascades National Park          WA   \n",
      "OLYM                                Olympic National Park          WA   \n",
      "PEFO                       Petrified Forest National Park          AZ   \n",
      "PINN                              Pinnacles National Park          CA   \n",
      "REDW                                Redwood National Park          CA   \n",
      "ROMO                         Rocky Mountain National Park          CO   \n",
      "SAGU                                Saguaro National Park          AZ   \n",
      "SEKI              Sequoia and Kings Canyon National Parks          CA   \n",
      "SHEN                             Shenandoah National Park          VA   \n",
      "THRO                     Theodore Roosevelt National Park          ND   \n",
      "VOYA                              Voyageurs National Park          MN   \n",
      "WICA                              Wind Cave National Park          SD   \n",
      "WRST       Wrangell - St Elias National Park and Preserve          AK   \n",
      "YELL                            Yellowstone National Park  WY, MT, ID   \n",
      "YOSE                               Yosemite National Park          CA   \n",
      "ZION                                   Zion National Park          UT   \n",
      "\n",
      "             Acres  Latitude  Longitude  \n",
      "Park Code                                \n",
      "ACAD         47390     44.35     -68.21  \n",
      "ARCH         76519     38.68    -109.57  \n",
      "BADL        242756     43.75    -102.50  \n",
      "BIBE        801163     29.25    -103.25  \n",
      "BISC        172924     25.65     -80.08  \n",
      "BLCA         32950     38.57    -107.72  \n",
      "BRCA         35835     37.57    -112.18  \n",
      "CANY        337598     38.20    -109.93  \n",
      "CARE        241904     38.20    -111.17  \n",
      "CAVE         46766     32.17    -104.44  \n",
      "CHIS        249561     34.01    -119.42  \n",
      "CONG         26546     33.78     -80.78  \n",
      "CRLA        183224     42.94    -122.10  \n",
      "CUVA         32950     41.24     -81.55  \n",
      "DENA       3372402     63.33    -150.50  \n",
      "DEVA       4740912     36.24    -116.82  \n",
      "DRTO         64701     24.63     -82.87  \n",
      "EVER       1508538     25.32     -80.93  \n",
      "GAAR       7523898     67.78    -153.30  \n",
      "GLAC       1013572     48.80    -114.00  \n",
      "GLBA       3224840     58.50    -137.00  \n",
      "GRBA         77180     38.98    -114.30  \n",
      "GRCA       1217403     36.06    -112.14  \n",
      "GRSA         42984     37.73    -105.51  \n",
      "GRSM        521490     35.68     -83.53  \n",
      "GRTE        309995     43.73    -110.80  \n",
      "GUMO         86416     31.92    -104.87  \n",
      "HALE         29094     20.72    -156.17  \n",
      "HAVO        323431     19.38    -155.20  \n",
      "HOSP          5550     34.51     -93.05  \n",
      "ISRO        571790     48.10     -88.55  \n",
      "JOTR        789745     33.79    -115.90  \n",
      "KATM       3674530     58.50    -155.00  \n",
      "KEFJ        669983     59.92    -149.65  \n",
      "KOVA       1750717     67.55    -159.28  \n",
      "LACL       2619733     60.97    -153.42  \n",
      "LAVO        106372     40.49    -121.51  \n",
      "MACA         52830     37.18     -86.10  \n",
      "MEVE         52122     37.18    -108.49  \n",
      "MORA        235625     46.85    -121.75  \n",
      "NOCA        504781     48.70    -121.20  \n",
      "OLYM        922651     47.97    -123.50  \n",
      "PEFO         93533     35.07    -109.78  \n",
      "PINN         26606     36.48    -121.16  \n",
      "REDW        112512     41.30    -124.00  \n",
      "ROMO        265828     40.40    -105.58  \n",
      "SAGU         91440     32.25    -110.50  \n",
      "SEKI        865952     36.43    -118.68  \n",
      "SHEN        199045     38.53     -78.35  \n",
      "THRO         70447     46.97    -103.45  \n",
      "VOYA        218200     48.50     -92.88  \n",
      "WICA         28295     43.57    -103.48  \n",
      "WRST       8323148     61.00    -142.00  \n",
      "YELL       2219791     44.60    -110.50  \n",
      "YOSE        761266     37.83    -119.50  \n",
      "ZION        146598     37.30    -113.05  \n"
     ]
    }
   ],
   "source": [
    "print(df)"
   ]
  },
  {
   "cell_type": "code",
   "execution_count": 4,
   "metadata": {},
   "outputs": [
    {
     "data": {
      "text/html": [
       "<div>\n",
       "<style scoped>\n",
       "    .dataframe tbody tr th:only-of-type {\n",
       "        vertical-align: middle;\n",
       "    }\n",
       "\n",
       "    .dataframe tbody tr th {\n",
       "        vertical-align: top;\n",
       "    }\n",
       "\n",
       "    .dataframe thead th {\n",
       "        text-align: right;\n",
       "    }\n",
       "</style>\n",
       "<table border=\"1\" class=\"dataframe\">\n",
       "  <thead>\n",
       "    <tr style=\"text-align: right;\">\n",
       "      <th></th>\n",
       "      <th>Park Name</th>\n",
       "      <th>State</th>\n",
       "      <th>Acres</th>\n",
       "      <th>Latitude</th>\n",
       "      <th>Longitude</th>\n",
       "    </tr>\n",
       "    <tr>\n",
       "      <th>Park Code</th>\n",
       "      <th></th>\n",
       "      <th></th>\n",
       "      <th></th>\n",
       "      <th></th>\n",
       "      <th></th>\n",
       "    </tr>\n",
       "  </thead>\n",
       "  <tbody>\n",
       "    <tr>\n",
       "      <th>ACAD</th>\n",
       "      <td>Acadia National Park</td>\n",
       "      <td>ME</td>\n",
       "      <td>47390</td>\n",
       "      <td>44.35</td>\n",
       "      <td>-68.21</td>\n",
       "    </tr>\n",
       "    <tr>\n",
       "      <th>ARCH</th>\n",
       "      <td>Arches National Park</td>\n",
       "      <td>UT</td>\n",
       "      <td>76519</td>\n",
       "      <td>38.68</td>\n",
       "      <td>-109.57</td>\n",
       "    </tr>\n",
       "    <tr>\n",
       "      <th>BADL</th>\n",
       "      <td>Badlands National Park</td>\n",
       "      <td>SD</td>\n",
       "      <td>242756</td>\n",
       "      <td>43.75</td>\n",
       "      <td>-102.50</td>\n",
       "    </tr>\n",
       "    <tr>\n",
       "      <th>BIBE</th>\n",
       "      <td>Big Bend National Park</td>\n",
       "      <td>TX</td>\n",
       "      <td>801163</td>\n",
       "      <td>29.25</td>\n",
       "      <td>-103.25</td>\n",
       "    </tr>\n",
       "    <tr>\n",
       "      <th>BISC</th>\n",
       "      <td>Biscayne National Park</td>\n",
       "      <td>FL</td>\n",
       "      <td>172924</td>\n",
       "      <td>25.65</td>\n",
       "      <td>-80.08</td>\n",
       "    </tr>\n",
       "  </tbody>\n",
       "</table>\n",
       "</div>"
      ],
      "text/plain": [
       "                        Park Name State   Acres  Latitude  Longitude\n",
       "Park Code                                                           \n",
       "ACAD         Acadia National Park    ME   47390     44.35     -68.21\n",
       "ARCH         Arches National Park    UT   76519     38.68    -109.57\n",
       "BADL       Badlands National Park    SD  242756     43.75    -102.50\n",
       "BIBE       Big Bend National Park    TX  801163     29.25    -103.25\n",
       "BISC       Biscayne National Park    FL  172924     25.65     -80.08"
      ]
     },
     "execution_count": 4,
     "metadata": {},
     "output_type": "execute_result"
    }
   ],
   "source": [
    "df.head()  #para que muestre los 5 primeros, si pones df.head(6) o cualquier otro numero te da la cantidad que le pides, si no pones nada pues te da solo 5"
   ]
  },
  {
   "cell_type": "code",
   "execution_count": 5,
   "metadata": {},
   "outputs": [
    {
     "name": "stdout",
     "output_type": "stream",
     "text": [
      "                                                Park Name       State  \\\n",
      "Park Code                                                               \n",
      "DENA                    Denali National Park and Preserve          AK   \n",
      "DEVA                           Death Valley National Park      CA, NV   \n",
      "EVER                             Everglades National Park          FL   \n",
      "GAAR       Gates Of The Arctic National Park and Preserve          AK   \n",
      "GLAC                                Glacier National Park          MT   \n",
      "GLBA               Glacier Bay National Park and Preserve          AK   \n",
      "GRCA                           Grand Canyon National Park          AZ   \n",
      "KATM                    Katmai National Park and Preserve          AK   \n",
      "KOVA                           Kobuk Valley National Park          AK   \n",
      "LACL                Lake Clark National Park and Preserve          AK   \n",
      "WRST       Wrangell - St Elias National Park and Preserve          AK   \n",
      "YELL                            Yellowstone National Park  WY, MT, ID   \n",
      "\n",
      "             Acres  Latitude  Longitude  \n",
      "Park Code                                \n",
      "DENA       3372402     63.33    -150.50  \n",
      "DEVA       4740912     36.24    -116.82  \n",
      "EVER       1508538     25.32     -80.93  \n",
      "GAAR       7523898     67.78    -153.30  \n",
      "GLAC       1013572     48.80    -114.00  \n",
      "GLBA       3224840     58.50    -137.00  \n",
      "GRCA       1217403     36.06    -112.14  \n",
      "KATM       3674530     58.50    -155.00  \n",
      "KOVA       1750717     67.55    -159.28  \n",
      "LACL       2619733     60.97    -153.42  \n",
      "WRST       8323148     61.00    -142.00  \n",
      "YELL       2219791     44.60    -110.50  \n"
     ]
    }
   ],
   "source": [
    "filtro = df[df['Acres'] > 10e5]   #Da los que tengan un millon o más de Acres. df['Aquí va los que quieras solicitar'] luego pones > o < y el numero por ejemplo 10e6 que es un \n",
    "                                  #millon. \n",
    "print(filtro)"
   ]
  },
  {
   "cell_type": "markdown",
   "metadata": {
    "_cell_guid": "c17515e5-13ca-4771-b644-facf558e0b9c",
    "_uuid": "c9324546cdefc4b865acb018a7dfec42bde43f7c"
   },
   "source": [
    "### Indexing: Single Rows\n",
    "La forma más sencilla de acceder a una fila es pasar el número de fila al método \".iloc\". Ten en cuenta que la primera fila es cero, al igual que los índices de las listas."
   ]
  },
  {
   "cell_type": "code",
   "execution_count": 6,
   "metadata": {},
   "outputs": [
    {
     "data": {
      "text/plain": [
       "Park Name    Badlands National Park\n",
       "State                            SD\n",
       "Acres                        242756\n",
       "Latitude                      43.75\n",
       "Longitude                    -102.5\n",
       "Name: BADL, dtype: object"
      ]
     },
     "execution_count": 6,
     "metadata": {},
     "output_type": "execute_result"
    }
   ],
   "source": [
    "df.iloc[2] #iloc es por indice, te da los datos de la posicion en la lista de los que pongas dentro de []"
   ]
  },
  {
   "cell_type": "markdown",
   "metadata": {
    "_cell_guid": "95813fb6-9db0-46a4-97dc-1983ef2035de",
    "_uuid": "d1012b10ee4c6ec7017c5c10d1fad37066df68fa"
   },
   "source": [
    "El otro enfoque principal es pasar un valor del índice de tu DataFrame al método \".loc\":"
   ]
  },
  {
   "cell_type": "code",
   "execution_count": 7,
   "metadata": {},
   "outputs": [
    {
     "data": {
      "text/plain": [
       "Park Name    Big Bend National Park\n",
       "State                            TX\n",
       "Acres                        801163\n",
       "Latitude                      29.25\n",
       "Longitude                   -103.25\n",
       "Name: BIBE, dtype: object"
      ]
     },
     "execution_count": 7,
     "metadata": {},
     "output_type": "execute_result"
    }
   ],
   "source": [
    "df.loc['BIBE'] #.loc['Aquí el codigo de area'] y te da los datos de solo ese codigo"
   ]
  },
  {
   "cell_type": "markdown",
   "metadata": {
    "_cell_guid": "c6cb4421-d06d-4f3d-b978-3aee2526b57c",
    "_uuid": "96abef4ba5bb2aee5b19b5c7468698cc87168f51"
   },
   "source": [
    "### Indexing: Multiple Rows\n",
    "Si necesitamos múltiples filas, podemos pasar varios valores de índice. ¡Ten en cuenta que esto cambia el orden de los resultados!"
   ]
  },
  {
   "cell_type": "code",
   "execution_count": 8,
   "metadata": {},
   "outputs": [
    {
     "data": {
      "text/html": [
       "<div>\n",
       "<style scoped>\n",
       "    .dataframe tbody tr th:only-of-type {\n",
       "        vertical-align: middle;\n",
       "    }\n",
       "\n",
       "    .dataframe tbody tr th {\n",
       "        vertical-align: top;\n",
       "    }\n",
       "\n",
       "    .dataframe thead th {\n",
       "        text-align: right;\n",
       "    }\n",
       "</style>\n",
       "<table border=\"1\" class=\"dataframe\">\n",
       "  <thead>\n",
       "    <tr style=\"text-align: right;\">\n",
       "      <th></th>\n",
       "      <th>Park Name</th>\n",
       "      <th>State</th>\n",
       "      <th>Acres</th>\n",
       "      <th>Latitude</th>\n",
       "      <th>Longitude</th>\n",
       "    </tr>\n",
       "    <tr>\n",
       "      <th>Park Code</th>\n",
       "      <th></th>\n",
       "      <th></th>\n",
       "      <th></th>\n",
       "      <th></th>\n",
       "      <th></th>\n",
       "    </tr>\n",
       "  </thead>\n",
       "  <tbody>\n",
       "    <tr>\n",
       "      <th>BIBE</th>\n",
       "      <td>Big Bend National Park</td>\n",
       "      <td>TX</td>\n",
       "      <td>801163</td>\n",
       "      <td>29.25</td>\n",
       "      <td>-103.25</td>\n",
       "    </tr>\n",
       "    <tr>\n",
       "      <th>BADL</th>\n",
       "      <td>Badlands National Park</td>\n",
       "      <td>SD</td>\n",
       "      <td>242756</td>\n",
       "      <td>43.75</td>\n",
       "      <td>-102.50</td>\n",
       "    </tr>\n",
       "    <tr>\n",
       "      <th>ACAD</th>\n",
       "      <td>Acadia National Park</td>\n",
       "      <td>ME</td>\n",
       "      <td>47390</td>\n",
       "      <td>44.35</td>\n",
       "      <td>-68.21</td>\n",
       "    </tr>\n",
       "  </tbody>\n",
       "</table>\n",
       "</div>"
      ],
      "text/plain": [
       "                        Park Name State   Acres  Latitude  Longitude\n",
       "Park Code                                                           \n",
       "BIBE       Big Bend National Park    TX  801163     29.25    -103.25\n",
       "BADL       Badlands National Park    SD  242756     43.75    -102.50\n",
       "ACAD         Acadia National Park    ME   47390     44.35     -68.21"
      ]
     },
     "execution_count": 8,
     "metadata": {},
     "output_type": "execute_result"
    }
   ],
   "source": [
    "df.loc[['BIBE', 'BADL', 'ACAD']] #Esto para varias filas y el doble [] es para el arreglo y la funcion, aquí te lo trae por el nombre"
   ]
  },
  {
   "cell_type": "code",
   "execution_count": 9,
   "metadata": {},
   "outputs": [
    {
     "data": {
      "text/html": [
       "<div>\n",
       "<style scoped>\n",
       "    .dataframe tbody tr th:only-of-type {\n",
       "        vertical-align: middle;\n",
       "    }\n",
       "\n",
       "    .dataframe tbody tr th {\n",
       "        vertical-align: top;\n",
       "    }\n",
       "\n",
       "    .dataframe thead th {\n",
       "        text-align: right;\n",
       "    }\n",
       "</style>\n",
       "<table border=\"1\" class=\"dataframe\">\n",
       "  <thead>\n",
       "    <tr style=\"text-align: right;\">\n",
       "      <th></th>\n",
       "      <th>Park Name</th>\n",
       "      <th>State</th>\n",
       "      <th>Acres</th>\n",
       "      <th>Latitude</th>\n",
       "      <th>Longitude</th>\n",
       "    </tr>\n",
       "    <tr>\n",
       "      <th>Park Code</th>\n",
       "      <th></th>\n",
       "      <th></th>\n",
       "      <th></th>\n",
       "      <th></th>\n",
       "      <th></th>\n",
       "    </tr>\n",
       "  </thead>\n",
       "  <tbody>\n",
       "    <tr>\n",
       "      <th>BADL</th>\n",
       "      <td>Badlands National Park</td>\n",
       "      <td>SD</td>\n",
       "      <td>242756</td>\n",
       "      <td>43.75</td>\n",
       "      <td>-102.50</td>\n",
       "    </tr>\n",
       "    <tr>\n",
       "      <th>BLCA</th>\n",
       "      <td>Black Canyon of the Gunnison National Park</td>\n",
       "      <td>CO</td>\n",
       "      <td>32950</td>\n",
       "      <td>38.57</td>\n",
       "      <td>-107.72</td>\n",
       "    </tr>\n",
       "    <tr>\n",
       "      <th>CHIS</th>\n",
       "      <td>Channel Islands National Park</td>\n",
       "      <td>CA</td>\n",
       "      <td>249561</td>\n",
       "      <td>34.01</td>\n",
       "      <td>-119.42</td>\n",
       "    </tr>\n",
       "  </tbody>\n",
       "</table>\n",
       "</div>"
      ],
      "text/plain": [
       "                                            Park Name State   Acres  Latitude  \\\n",
       "Park Code                                                                       \n",
       "BADL                           Badlands National Park    SD  242756     43.75   \n",
       "BLCA       Black Canyon of the Gunnison National Park    CO   32950     38.57   \n",
       "CHIS                    Channel Islands National Park    CA  249561     34.01   \n",
       "\n",
       "           Longitude  \n",
       "Park Code             \n",
       "BADL         -102.50  \n",
       "BLCA         -107.72  \n",
       "CHIS         -119.42  "
      ]
     },
     "execution_count": 9,
     "metadata": {},
     "output_type": "execute_result"
    }
   ],
   "source": [
    "df.iloc[[2, 5, 10]]   #Literalmente lo mismo pero ahora te da tal cual el de esa posición en la tabla, por orden de indice"
   ]
  },
  {
   "cell_type": "markdown",
   "metadata": {
    "_cell_guid": "e0a231a8-afd1-473c-8caf-44cb20caed49",
    "_uuid": "8c8fb5130ab3232f54bd88dc239375076fb2533a"
   },
   "source": [
    "Cortar (slicing) el DataFrame como si fuera una lista también funciona."
   ]
  },
  {
   "cell_type": "code",
   "execution_count": 10,
   "metadata": {},
   "outputs": [
    {
     "data": {
      "text/html": [
       "<div>\n",
       "<style scoped>\n",
       "    .dataframe tbody tr th:only-of-type {\n",
       "        vertical-align: middle;\n",
       "    }\n",
       "\n",
       "    .dataframe tbody tr th {\n",
       "        vertical-align: top;\n",
       "    }\n",
       "\n",
       "    .dataframe thead th {\n",
       "        text-align: right;\n",
       "    }\n",
       "</style>\n",
       "<table border=\"1\" class=\"dataframe\">\n",
       "  <thead>\n",
       "    <tr style=\"text-align: right;\">\n",
       "      <th></th>\n",
       "      <th>Park Name</th>\n",
       "      <th>State</th>\n",
       "      <th>Acres</th>\n",
       "      <th>Latitude</th>\n",
       "      <th>Longitude</th>\n",
       "    </tr>\n",
       "    <tr>\n",
       "      <th>Park Code</th>\n",
       "      <th></th>\n",
       "      <th></th>\n",
       "      <th></th>\n",
       "      <th></th>\n",
       "      <th></th>\n",
       "    </tr>\n",
       "  </thead>\n",
       "  <tbody>\n",
       "    <tr>\n",
       "      <th>ACAD</th>\n",
       "      <td>Acadia National Park</td>\n",
       "      <td>ME</td>\n",
       "      <td>47390</td>\n",
       "      <td>44.35</td>\n",
       "      <td>-68.21</td>\n",
       "    </tr>\n",
       "    <tr>\n",
       "      <th>ARCH</th>\n",
       "      <td>Arches National Park</td>\n",
       "      <td>UT</td>\n",
       "      <td>76519</td>\n",
       "      <td>38.68</td>\n",
       "      <td>-109.57</td>\n",
       "    </tr>\n",
       "    <tr>\n",
       "      <th>BADL</th>\n",
       "      <td>Badlands National Park</td>\n",
       "      <td>SD</td>\n",
       "      <td>242756</td>\n",
       "      <td>43.75</td>\n",
       "      <td>-102.50</td>\n",
       "    </tr>\n",
       "  </tbody>\n",
       "</table>\n",
       "</div>"
      ],
      "text/plain": [
       "                        Park Name State   Acres  Latitude  Longitude\n",
       "Park Code                                                           \n",
       "ACAD         Acadia National Park    ME   47390     44.35     -68.21\n",
       "ARCH         Arches National Park    UT   76519     38.68    -109.57\n",
       "BADL       Badlands National Park    SD  242756     43.75    -102.50"
      ]
     },
     "execution_count": 10,
     "metadata": {},
     "output_type": "execute_result"
    }
   ],
   "source": [
    "df[:3]     #Para los 3 primeros registros en el indice, el 0,1,2  (Ya sabes tonto que empieza por el cero)"
   ]
  },
  {
   "cell_type": "code",
   "execution_count": 11,
   "metadata": {},
   "outputs": [
    {
     "data": {
      "text/html": [
       "<div>\n",
       "<style scoped>\n",
       "    .dataframe tbody tr th:only-of-type {\n",
       "        vertical-align: middle;\n",
       "    }\n",
       "\n",
       "    .dataframe tbody tr th {\n",
       "        vertical-align: top;\n",
       "    }\n",
       "\n",
       "    .dataframe thead th {\n",
       "        text-align: right;\n",
       "    }\n",
       "</style>\n",
       "<table border=\"1\" class=\"dataframe\">\n",
       "  <thead>\n",
       "    <tr style=\"text-align: right;\">\n",
       "      <th></th>\n",
       "      <th>Park Name</th>\n",
       "      <th>State</th>\n",
       "      <th>Acres</th>\n",
       "      <th>Latitude</th>\n",
       "      <th>Longitude</th>\n",
       "    </tr>\n",
       "    <tr>\n",
       "      <th>Park Code</th>\n",
       "      <th></th>\n",
       "      <th></th>\n",
       "      <th></th>\n",
       "      <th></th>\n",
       "      <th></th>\n",
       "    </tr>\n",
       "  </thead>\n",
       "  <tbody>\n",
       "    <tr>\n",
       "      <th>BIBE</th>\n",
       "      <td>Big Bend National Park</td>\n",
       "      <td>TX</td>\n",
       "      <td>801163</td>\n",
       "      <td>29.25</td>\n",
       "      <td>-103.25</td>\n",
       "    </tr>\n",
       "    <tr>\n",
       "      <th>BISC</th>\n",
       "      <td>Biscayne National Park</td>\n",
       "      <td>FL</td>\n",
       "      <td>172924</td>\n",
       "      <td>25.65</td>\n",
       "      <td>-80.08</td>\n",
       "    </tr>\n",
       "    <tr>\n",
       "      <th>BLCA</th>\n",
       "      <td>Black Canyon of the Gunnison National Park</td>\n",
       "      <td>CO</td>\n",
       "      <td>32950</td>\n",
       "      <td>38.57</td>\n",
       "      <td>-107.72</td>\n",
       "    </tr>\n",
       "  </tbody>\n",
       "</table>\n",
       "</div>"
      ],
      "text/plain": [
       "                                            Park Name State   Acres  Latitude  \\\n",
       "Park Code                                                                       \n",
       "BIBE                           Big Bend National Park    TX  801163     29.25   \n",
       "BISC                           Biscayne National Park    FL  172924     25.65   \n",
       "BLCA       Black Canyon of the Gunnison National Park    CO   32950     38.57   \n",
       "\n",
       "           Longitude  \n",
       "Park Code             \n",
       "BIBE         -103.25  \n",
       "BISC          -80.08  \n",
       "BLCA         -107.72  "
      ]
     },
     "execution_count": 11,
     "metadata": {},
     "output_type": "execute_result"
    }
   ],
   "source": [
    "df[3:6]     #Y aquí ahora cara almeja lo que está sucediendo es que estás filtrando desde el lugar 3 del indicie hasta el 5, porque si pones df[3:6] el 6 no se incluye"
   ]
  },
  {
   "cell_type": "markdown",
   "metadata": {
    "_cell_guid": "8eeb6f0d-e8bd-4324-9d93-fe7066162220",
    "_uuid": "f778c78d005a589b7e211e2c99a8f6671cd3eaae"
   },
   "source": [
    "### Indexing: Columns\n",
    "Podemos acceder a un subconjunto de las columnas en un DataFrame colocando la lista de columnas entre corchetes de la siguiente manera:"
   ]
  },
  {
   "cell_type": "code",
   "execution_count": 12,
   "metadata": {},
   "outputs": [
    {
     "data": {
      "text/plain": [
       "Park Code\n",
       "ACAD    ME\n",
       "ARCH    UT\n",
       "BADL    SD\n",
       "BIBE    TX\n",
       "BISC    FL\n",
       "Name: State, dtype: object"
      ]
     },
     "execution_count": 12,
     "metadata": {},
     "output_type": "execute_result"
    }
   ],
   "source": [
    "df['State'].head()         #Colocando la lista de las columnas en los [] y luego el .head() pa que se vea creo yo"
   ]
  },
  {
   "cell_type": "markdown",
   "metadata": {
    "_cell_guid": "7e033701-36eb-4ad7-8112-78cf906c2ea1",
    "_uuid": "4723d3baf3783eb4d37d9dd65fdd482655b35f10"
   },
   "source": [
    "También puedes acceder a una sola columna como si fuera un atributo del DataFrame, pero solo si el nombre no tiene espacios, utiliza solo caracteres básicos y no comparte un nombre con un método del DataFrame. Así que, \"df.State\" funciona."
   ]
  },
  {
   "cell_type": "code",
   "execution_count": 13,
   "metadata": {},
   "outputs": [
    {
     "data": {
      "text/plain": [
       "Park Code\n",
       "ACAD    ME\n",
       "ARCH    UT\n",
       "BADL    SD\n",
       "BIBE    TX\n",
       "BISC    FL\n",
       "Name: State, dtype: object"
      ]
     },
     "execution_count": 13,
     "metadata": {},
     "output_type": "execute_result"
    }
   ],
   "source": [
    "df.State.head()         #La mimsa puta mierda que el de arriba, basicamente este cara anchoa -> df['State'].head() "
   ]
  },
  {
   "cell_type": "markdown",
   "metadata": {
    "_cell_guid": "753907e6-af2a-4a29-8ddf-80285b5fc50a",
    "_uuid": "f1dbdaaadd15f2e3ced8a30cead8ce20e4b8deaa"
   },
   "source": [
    "Pero \"df.Park Code\" fallará ya que hay un espacio en el nombre."
   ]
  },
  {
   "cell_type": "code",
   "execution_count": null,
   "metadata": {
    "_cell_guid": "1f4477f6-de96-469c-a004-4b01e41014b8",
    "_uuid": "dca8065d074650d490b14b80ba61c37e8dc981e4"
   },
   "outputs": [
    {
     "ename": "SyntaxError",
     "evalue": "invalid syntax (1629693805.py, line 1)",
     "output_type": "error",
     "traceback": [
      "\u001b[1;36m  Cell \u001b[1;32mIn[14], line 1\u001b[1;36m\u001b[0m\n\u001b[1;33m    df.Park Code\u001b[0m\n\u001b[1;37m            ^\u001b[0m\n\u001b[1;31mSyntaxError\u001b[0m\u001b[1;31m:\u001b[0m invalid syntax\n"
     ]
    }
   ],
   "source": [
    "#df.Park Code"
   ]
  },
  {
   "cell_type": "code",
   "execution_count": null,
   "metadata": {},
   "outputs": [
    {
     "name": "stdout",
     "output_type": "stream",
     "text": [
      "0     YNP\n",
      "1    GRCA\n",
      "2    ZION\n",
      "3    YOSE\n",
      "4    GLAC\n",
      "Name: Park Code, dtype: object\n"
     ]
    }
   ],
   "source": [
    "# Example DataFrame\n",
    "data = {\n",
    "    'Park Code': ['YNP', 'GRCA', 'ZION', 'YOSE', 'GLAC'],\n",
    "    'Park Name': ['Yellowstone', 'Grand Canyon', 'Zion', 'Yosemite', 'Glacier']\n",
    "}\n",
    "df = pd.DataFrame(data)\n",
    "# Access the 'Park Code' column and display the first few rows\n",
    "print(df['Park Code'].head())"
   ]
  },
  {
   "cell_type": "markdown",
   "metadata": {
    "_cell_guid": "f8b25873-b400-430a-907b-2ea715d7407e",
    "_uuid": "2a227170ef8ec1177c2920bc481f8932bb6418cd"
   },
   "source": [
    "Solo podemos acceder a la columna \"Park Code\" pasando su nombre como una cadena entre corchetes, como \"df['Park Code']\". Recomiendo usar siempre ese enfoque o convertir siempre los nombres de las columnas a un formato válido tan pronto como leas los datos para que no tengas que mezclar los dos métodos. Es solo un poco más ordenado.\n",
    "\n",
    "Es una buena práctica limpiar los nombres de las columnas para evitar este tipo de errores. Usaré una función de limpieza muy simple aquí, ya que los nombres no tienen caracteres extraños. Por convención, los nombres también deben ser convertidos a minúsculas. Pandas es sensible a mayúsculas y minúsculas, por lo que las llamadas futuras a todas las columnas deberán ser actualizadas."
   ]
  },
  {
   "cell_type": "code",
   "execution_count": 15,
   "metadata": {},
   "outputs": [
    {
     "name": "stdout",
     "output_type": "stream",
     "text": [
      "Index(['park_name', 'state', 'acres', 'latitude', 'longitude'], dtype='object')\n"
     ]
    }
   ],
   "source": [
    "df.columns = [col.replace(' ', '_').lower() for col in df.columns]\n",
    "\n",
    "# Print the modified column names\n",
    "print(df.columns)"
   ]
  },
  {
   "cell_type": "markdown",
   "metadata": {
    "_cell_guid": "48de9e74-8a63-4a0f-9cec-80cc6a0ce5e7",
    "_uuid": "466ece4db69be3abb140421fddc361b93db0e9ad"
   },
   "source": [
    "### Indexing: Columns and Rows\n",
    "Si necesitamos hacer un subconjunto tanto por columnas como por filas, puedes apilar los comandos que ya hemos aprendido."
   ]
  },
  {
   "cell_type": "code",
   "execution_count": null,
   "metadata": {},
   "outputs": [
    {
     "name": "stdout",
     "output_type": "stream",
     "text": [
      "          state   acres\n",
      "Park Code              \n",
      "ACAD         ME   47390\n",
      "ARCH         UT   76519\n",
      "BADL         SD  242756\n"
     ]
    }
   ],
   "source": [
    "print(df[['state', 'acres']][:3])   #Selecciona las columnas [['tal', 'y tal']] de las primeras 3 filas"
   ]
  },
  {
   "cell_type": "code",
   "execution_count": null,
   "metadata": {},
   "outputs": [
    {
     "data": {
      "text/html": [
       "<div>\n",
       "<style scoped>\n",
       "    .dataframe tbody tr th:only-of-type {\n",
       "        vertical-align: middle;\n",
       "    }\n",
       "\n",
       "    .dataframe tbody tr th {\n",
       "        vertical-align: top;\n",
       "    }\n",
       "\n",
       "    .dataframe thead th {\n",
       "        text-align: right;\n",
       "    }\n",
       "</style>\n",
       "<table border=\"1\" class=\"dataframe\">\n",
       "  <thead>\n",
       "    <tr style=\"text-align: right;\">\n",
       "      <th></th>\n",
       "      <th>state</th>\n",
       "      <th>acres</th>\n",
       "    </tr>\n",
       "    <tr>\n",
       "      <th>Park Code</th>\n",
       "      <th></th>\n",
       "      <th></th>\n",
       "    </tr>\n",
       "  </thead>\n",
       "  <tbody>\n",
       "    <tr>\n",
       "      <th>ACAD</th>\n",
       "      <td>ME</td>\n",
       "      <td>47390</td>\n",
       "    </tr>\n",
       "    <tr>\n",
       "      <th>BADL</th>\n",
       "      <td>SD</td>\n",
       "      <td>242756</td>\n",
       "    </tr>\n",
       "    <tr>\n",
       "      <th>BISC</th>\n",
       "      <td>FL</td>\n",
       "      <td>172924</td>\n",
       "    </tr>\n",
       "  </tbody>\n",
       "</table>\n",
       "</div>"
      ],
      "text/plain": [
       "          state   acres\n",
       "Park Code              \n",
       "ACAD         ME   47390\n",
       "BADL         SD  242756\n",
       "BISC         FL  172924"
      ]
     },
     "execution_count": 22,
     "metadata": {},
     "output_type": "execute_result"
    }
   ],
   "source": [
    "df[['state', 'acres']].iloc[[0,2,4]]      #Selecciona las filas con indice 0,2,4 y Las columnas 'state' y 'acres'"
   ]
  },
  {
   "cell_type": "code",
   "execution_count": 26,
   "metadata": {},
   "outputs": [
    {
     "data": {
      "text/html": [
       "<div>\n",
       "<style scoped>\n",
       "    .dataframe tbody tr th:only-of-type {\n",
       "        vertical-align: middle;\n",
       "    }\n",
       "\n",
       "    .dataframe tbody tr th {\n",
       "        vertical-align: top;\n",
       "    }\n",
       "\n",
       "    .dataframe thead th {\n",
       "        text-align: right;\n",
       "    }\n",
       "</style>\n",
       "<table border=\"1\" class=\"dataframe\">\n",
       "  <thead>\n",
       "    <tr style=\"text-align: right;\">\n",
       "      <th></th>\n",
       "      <th>state</th>\n",
       "      <th>acres</th>\n",
       "    </tr>\n",
       "    <tr>\n",
       "      <th>Park Code</th>\n",
       "      <th></th>\n",
       "      <th></th>\n",
       "    </tr>\n",
       "  </thead>\n",
       "  <tbody>\n",
       "    <tr>\n",
       "      <th>BADL</th>\n",
       "      <td>SD</td>\n",
       "      <td>242756</td>\n",
       "    </tr>\n",
       "    <tr>\n",
       "      <th>BIBE</th>\n",
       "      <td>TX</td>\n",
       "      <td>801163</td>\n",
       "    </tr>\n",
       "    <tr>\n",
       "      <th>BISC</th>\n",
       "      <td>FL</td>\n",
       "      <td>172924</td>\n",
       "    </tr>\n",
       "  </tbody>\n",
       "</table>\n",
       "</div>"
      ],
      "text/plain": [
       "          state   acres\n",
       "Park Code              \n",
       "BADL         SD  242756\n",
       "BIBE         TX  801163\n",
       "BISC         FL  172924"
      ]
     },
     "execution_count": 26,
     "metadata": {},
     "output_type": "execute_result"
    }
   ],
   "source": [
    "df[['state', 'acres']][2:5]    #Selecciona las filas desde la 2 hasta las 4"
   ]
  },
  {
   "cell_type": "code",
   "execution_count": null,
   "metadata": {},
   "outputs": [
    {
     "data": {
      "text/html": [
       "<div>\n",
       "<style scoped>\n",
       "    .dataframe tbody tr th:only-of-type {\n",
       "        vertical-align: middle;\n",
       "    }\n",
       "\n",
       "    .dataframe tbody tr th {\n",
       "        vertical-align: top;\n",
       "    }\n",
       "\n",
       "    .dataframe thead th {\n",
       "        text-align: right;\n",
       "    }\n",
       "</style>\n",
       "<table border=\"1\" class=\"dataframe\">\n",
       "  <thead>\n",
       "    <tr style=\"text-align: right;\">\n",
       "      <th></th>\n",
       "      <th>state</th>\n",
       "      <th>acres</th>\n",
       "    </tr>\n",
       "    <tr>\n",
       "      <th>Park Code</th>\n",
       "      <th></th>\n",
       "      <th></th>\n",
       "    </tr>\n",
       "  </thead>\n",
       "  <tbody>\n",
       "    <tr>\n",
       "      <th>GAAR</th>\n",
       "      <td>AK</td>\n",
       "      <td>7523898</td>\n",
       "    </tr>\n",
       "    <tr>\n",
       "      <th>WRST</th>\n",
       "      <td>AK</td>\n",
       "      <td>8323148</td>\n",
       "    </tr>\n",
       "  </tbody>\n",
       "</table>\n",
       "</div>"
      ],
      "text/plain": [
       "          state    acres\n",
       "Park Code               \n",
       "GAAR         AK  7523898\n",
       "WRST         AK  8323148"
      ]
     },
     "execution_count": 28,
     "metadata": {},
     "output_type": "execute_result"
    }
   ],
   "source": [
    "df[df['acres'] > 5e6][['state', 'acres']]  #Para que de las filas donde la columna de 'acres' sea mayor a 5M y tambien las columnas"
   ]
  },
  {
   "cell_type": "code",
   "execution_count": 29,
   "metadata": {},
   "outputs": [
    {
     "data": {
      "text/plain": [
       "Park Code\n",
       "ARCH    UT\n",
       "BADL    SD\n",
       "BIBE    TX\n",
       "Name: state, dtype: object"
      ]
     },
     "execution_count": 29,
     "metadata": {},
     "output_type": "execute_result"
    }
   ],
   "source": [
    "#Selecciona las filas de 1 a 3 y la columna 'state' usando la posicion de la columna obtenida en 'get_loc'\n",
    "df.iloc[1:4, df.columns.get_loc('state')]"
   ]
  },
  {
   "cell_type": "code",
   "execution_count": 30,
   "metadata": {},
   "outputs": [
    {
     "data": {
      "text/html": [
       "<div>\n",
       "<style scoped>\n",
       "    .dataframe tbody tr th:only-of-type {\n",
       "        vertical-align: middle;\n",
       "    }\n",
       "\n",
       "    .dataframe tbody tr th {\n",
       "        vertical-align: top;\n",
       "    }\n",
       "\n",
       "    .dataframe thead th {\n",
       "        text-align: right;\n",
       "    }\n",
       "</style>\n",
       "<table border=\"1\" class=\"dataframe\">\n",
       "  <thead>\n",
       "    <tr style=\"text-align: right;\">\n",
       "      <th></th>\n",
       "      <th>state</th>\n",
       "      <th>acres</th>\n",
       "    </tr>\n",
       "    <tr>\n",
       "      <th>Park Code</th>\n",
       "      <th></th>\n",
       "      <th></th>\n",
       "    </tr>\n",
       "  </thead>\n",
       "  <tbody>\n",
       "    <tr>\n",
       "      <th>ACAD</th>\n",
       "      <td>ME</td>\n",
       "      <td>47390</td>\n",
       "    </tr>\n",
       "    <tr>\n",
       "      <th>ARCH</th>\n",
       "      <td>UT</td>\n",
       "      <td>76519</td>\n",
       "    </tr>\n",
       "    <tr>\n",
       "      <th>BADL</th>\n",
       "      <td>SD</td>\n",
       "      <td>242756</td>\n",
       "    </tr>\n",
       "  </tbody>\n",
       "</table>\n",
       "</div>"
      ],
      "text/plain": [
       "          state   acres\n",
       "Park Code              \n",
       "ACAD         ME   47390\n",
       "ARCH         UT   76519\n",
       "BADL         SD  242756"
      ]
     },
     "execution_count": 30,
     "metadata": {},
     "output_type": "execute_result"
    }
   ],
   "source": [
    "#Selecciona las filas con indices 'ACAD', 'ARCH' y 'BADL' y las columnas 'state' y 'acres'\n",
    "\n",
    "df.loc[['ACAD', 'ARCH', 'BADL'], ['state', 'acres']]"
   ]
  },
  {
   "cell_type": "code",
   "execution_count": 31,
   "metadata": {},
   "outputs": [
    {
     "name": "stdout",
     "output_type": "stream",
     "text": [
      "Index(['ACAD', 'ARCH', 'BADL', 'BIBE', 'BISC', 'BLCA', 'BRCA', 'CANY', 'CARE',\n",
      "       'CAVE', 'CHIS', 'CONG', 'CRLA', 'CUVA', 'DENA', 'DEVA', 'DRTO', 'EVER',\n",
      "       'GAAR', 'GLAC', 'GLBA', 'GRBA', 'GRCA', 'GRSA', 'GRSM', 'GRTE', 'GUMO',\n",
      "       'HALE', 'HAVO', 'HOSP', 'ISRO', 'JOTR', 'KATM', 'KEFJ', 'KOVA', 'LACL',\n",
      "       'LAVO', 'MACA', 'MEVE', 'MORA', 'NOCA', 'OLYM', 'PEFO', 'PINN', 'REDW',\n",
      "       'ROMO', 'SAGU', 'SEKI', 'SHEN', 'THRO', 'VOYA', 'WICA', 'WRST', 'YELL',\n",
      "       'YOSE', 'ZION'],\n",
      "      dtype='object', name='Park Code')\n"
     ]
    }
   ],
   "source": [
    "print(df.index)"
   ]
  },
  {
   "cell_type": "code",
   "execution_count": 32,
   "metadata": {},
   "outputs": [
    {
     "data": {
      "text/plain": [
       "'UT'"
      ]
     },
     "execution_count": 32,
     "metadata": {},
     "output_type": "execute_result"
    }
   ],
   "source": [
    "#Accede al valor de la columna 'state' en la fila de la posicion 2 (recuerda que los indices son cero-basado)\n",
    "df.state.iloc[1]"
   ]
  },
  {
   "cell_type": "markdown",
   "metadata": {
    "_cell_guid": "8d57d503-6f14-4945-ba26-3fa14aa4af2e",
    "_uuid": "06a5c1c524adaf082e55a04fa9387c68d6e9d8c0"
   },
   "source": [
    "### Indexing: Scalar Values\n",
    "Como habrás notado, todo lo que hemos probado hasta ahora devuelve un pequeño DataFrame o una serie. Si necesitas un solo valor, simplemente pasa un solo valor de columna e índice."
   ]
  },
  {
   "cell_type": "code",
   "execution_count": 33,
   "metadata": {},
   "outputs": [
    {
     "data": {
      "text/plain": [
       "'UT'"
      ]
     },
     "execution_count": 33,
     "metadata": {},
     "output_type": "execute_result"
    }
   ],
   "source": [
    "# Accede al valor de la columna 'state' en la fila de la posición 2 (recuerda que los índices son cero-basados).\n",
    "df.state.iloc[1]"
   ]
  },
  {
   "cell_type": "markdown",
   "metadata": {
    "_cell_guid": "0b2747af-226c-4cbd-98e6-8eeb29237ecd",
    "_uuid": "93b7956d972472d89762a2a1daf6520568cb85f9"
   },
   "source": [
    "Ten en cuenta que obtendrás un tipo de retorno diferente si pasas un solo valor dentro de una lista."
   ]
  },
  {
   "cell_type": "code",
   "execution_count": 34,
   "metadata": {},
   "outputs": [
    {
     "data": {
      "text/plain": [
       "Park Code\n",
       "BIBE    TX\n",
       "BISC    FL\n",
       "BLCA    CO\n",
       "Name: state, dtype: object"
      ]
     },
     "execution_count": 34,
     "metadata": {},
     "output_type": "execute_result"
    }
   ],
   "source": [
    "df.state.iloc[[3, 4, 5]]"
   ]
  },
  {
   "cell_type": "code",
   "execution_count": null,
   "metadata": {
    "_cell_guid": "1934a246-530c-4f87-9f4d-d7d0eb6f5652",
    "_uuid": "56c4cbe662b730c1bde2e62ac1a30db3d87de55f"
   },
   "outputs": [
    {
     "data": {
      "text/plain": [
       "Series([], Name: state, dtype: object)"
      ]
     },
     "execution_count": 37,
     "metadata": {},
     "output_type": "execute_result"
    }
   ],
   "source": [
    "#Esto es la explicación de lo de arriba\n",
    "# Accede al valor de la columna 'state' en la fila de la posición 2, pero devuelve una Serie en lugar de un valor único \n",
    "# porque el índice está dentro de una lista.\n"
   ]
  },
  {
   "cell_type": "markdown",
   "metadata": {
    "_cell_guid": "04bbfa38-a32c-4369-bbdb-04f22e4e3af1",
    "_uuid": "16ecd5a03fdb21bce28aa2d376e6ea9841cc5e02"
   },
   "source": [
    "### Selecting a Subset of the Data"
   ]
  },
  {
   "cell_type": "markdown",
   "metadata": {
    "_cell_guid": "fbc5aa04-dac1-4cc5-b6d3-fe708ae71fff",
    "_uuid": "884d54c635b20ee09ec54519878e50e8ea59ef5d"
   },
   "source": [
    "El método principal para hacer subconjuntos de datos en Pandas se llama [indexación booleana](http://pandas.pydata.org/pandas-docs/stable/indexing.html#boolean-indexing). Primero, echemos un vistazo a lo que hace Pandas cuando le pedimos que evalúe un valor booleano:"
   ]
  },
  {
   "cell_type": "code",
   "execution_count": 38,
   "metadata": {
    "_cell_guid": "54ffff3f-67d0-4c06-bb74-baa2d25cd822",
    "_uuid": "b16fe3476ebd200bee5c5160a59f55f8ee65b2fd"
   },
   "outputs": [
    {
     "data": {
      "text/plain": [
       "Park Code\n",
       "ACAD    False\n",
       "ARCH     True\n",
       "BADL    False\n",
       "Name: state, dtype: bool"
      ]
     },
     "execution_count": 38,
     "metadata": {},
     "output_type": "execute_result"
    }
   ],
   "source": [
    "# Compara cada valor de la columna 'state' con 'UT', devolviendo una serie de valores booleanos, \n",
    "# luego muestra las primeras 3 filas con .head(3).\n",
    "(df.state == 'UT').head(3)"
   ]
  },
  {
   "cell_type": "markdown",
   "metadata": {
    "_cell_guid": "be8ebce7-1c01-4c0b-b274-f8fd259e48b1",
    "_uuid": "30ab3185a692b22b7cbc208635b1202a3d3c9c09"
   },
   "source": [
    "Obtenemos una serie con los resultados del valor booleano. Al pasar esa serie a un DataFrame, obtenemos el subconjunto del DataFrame donde el valor booleano evalúa como `True`."
   ]
  },
  {
   "cell_type": "code",
   "execution_count": 39,
   "metadata": {
    "_cell_guid": "d6e46944-2de7-4e67-a123-c38da7edff38",
    "_uuid": "708bf6bc00d79050d7e6f1ab185e6df4cfb1c661"
   },
   "outputs": [
    {
     "data": {
      "text/html": [
       "<div>\n",
       "<style scoped>\n",
       "    .dataframe tbody tr th:only-of-type {\n",
       "        vertical-align: middle;\n",
       "    }\n",
       "\n",
       "    .dataframe tbody tr th {\n",
       "        vertical-align: top;\n",
       "    }\n",
       "\n",
       "    .dataframe thead th {\n",
       "        text-align: right;\n",
       "    }\n",
       "</style>\n",
       "<table border=\"1\" class=\"dataframe\">\n",
       "  <thead>\n",
       "    <tr style=\"text-align: right;\">\n",
       "      <th></th>\n",
       "      <th>park_name</th>\n",
       "      <th>state</th>\n",
       "      <th>acres</th>\n",
       "      <th>latitude</th>\n",
       "      <th>longitude</th>\n",
       "    </tr>\n",
       "    <tr>\n",
       "      <th>Park Code</th>\n",
       "      <th></th>\n",
       "      <th></th>\n",
       "      <th></th>\n",
       "      <th></th>\n",
       "      <th></th>\n",
       "    </tr>\n",
       "  </thead>\n",
       "  <tbody>\n",
       "    <tr>\n",
       "      <th>ARCH</th>\n",
       "      <td>Arches National Park</td>\n",
       "      <td>UT</td>\n",
       "      <td>76519</td>\n",
       "      <td>38.68</td>\n",
       "      <td>-109.57</td>\n",
       "    </tr>\n",
       "    <tr>\n",
       "      <th>BRCA</th>\n",
       "      <td>Bryce Canyon National Park</td>\n",
       "      <td>UT</td>\n",
       "      <td>35835</td>\n",
       "      <td>37.57</td>\n",
       "      <td>-112.18</td>\n",
       "    </tr>\n",
       "    <tr>\n",
       "      <th>CANY</th>\n",
       "      <td>Canyonlands National Park</td>\n",
       "      <td>UT</td>\n",
       "      <td>337598</td>\n",
       "      <td>38.20</td>\n",
       "      <td>-109.93</td>\n",
       "    </tr>\n",
       "    <tr>\n",
       "      <th>CARE</th>\n",
       "      <td>Capitol Reef National Park</td>\n",
       "      <td>UT</td>\n",
       "      <td>241904</td>\n",
       "      <td>38.20</td>\n",
       "      <td>-111.17</td>\n",
       "    </tr>\n",
       "    <tr>\n",
       "      <th>ZION</th>\n",
       "      <td>Zion National Park</td>\n",
       "      <td>UT</td>\n",
       "      <td>146598</td>\n",
       "      <td>37.30</td>\n",
       "      <td>-113.05</td>\n",
       "    </tr>\n",
       "  </tbody>\n",
       "</table>\n",
       "</div>"
      ],
      "text/plain": [
       "                            park_name state   acres  latitude  longitude\n",
       "Park Code                                                               \n",
       "ARCH             Arches National Park    UT   76519     38.68    -109.57\n",
       "BRCA       Bryce Canyon National Park    UT   35835     37.57    -112.18\n",
       "CANY        Canyonlands National Park    UT  337598     38.20    -109.93\n",
       "CARE       Capitol Reef National Park    UT  241904     38.20    -111.17\n",
       "ZION               Zion National Park    UT  146598     37.30    -113.05"
      ]
     },
     "execution_count": 39,
     "metadata": {},
     "output_type": "execute_result"
    }
   ],
   "source": [
    "# Filtra el DataFrame 'df' para seleccionar solo las filas donde el valor de la columna 'state' es igual a 'UT'.\n",
    "df[df.state == 'UT']"
   ]
  },
  {
   "cell_type": "markdown",
   "metadata": {
    "_cell_guid": "d6d95aa8-2f0e-40a5-b25e-ba835b103e9b",
    "_uuid": "82f422cd77925e2ff141d3334124a85693a7b693"
   },
   "source": [
    "Algunos de los operadores lógicos son diferentes:\n",
    "- `~` reemplaza a `not`\n",
    "- `|` reemplaza a `or`\n",
    "- `&` reemplaza a `and`\n",
    "\n",
    "Si tienes varios argumentos, deberán estar envueltos entre paréntesis. Por ejemplo:"
   ]
  },
  {
   "cell_type": "code",
   "execution_count": 43,
   "metadata": {
    "_cell_guid": "08758ccb-2c2a-4c52-b972-96b1e1c2412f",
    "_uuid": "e996cf6954130df1c67b2e4d39f2bab2d1f352c5"
   },
   "outputs": [
    {
     "data": {
      "text/html": [
       "<div>\n",
       "<style scoped>\n",
       "    .dataframe tbody tr th:only-of-type {\n",
       "        vertical-align: middle;\n",
       "    }\n",
       "\n",
       "    .dataframe tbody tr th {\n",
       "        vertical-align: top;\n",
       "    }\n",
       "\n",
       "    .dataframe thead th {\n",
       "        text-align: right;\n",
       "    }\n",
       "</style>\n",
       "<table border=\"1\" class=\"dataframe\">\n",
       "  <thead>\n",
       "    <tr style=\"text-align: right;\">\n",
       "      <th></th>\n",
       "      <th>park_name</th>\n",
       "      <th>state</th>\n",
       "      <th>acres</th>\n",
       "      <th>latitude</th>\n",
       "      <th>longitude</th>\n",
       "    </tr>\n",
       "    <tr>\n",
       "      <th>Park Code</th>\n",
       "      <th></th>\n",
       "      <th></th>\n",
       "      <th></th>\n",
       "      <th></th>\n",
       "      <th></th>\n",
       "    </tr>\n",
       "  </thead>\n",
       "  <tbody>\n",
       "    <tr>\n",
       "      <th>DENA</th>\n",
       "      <td>Denali National Park and Preserve</td>\n",
       "      <td>AK</td>\n",
       "      <td>3372402</td>\n",
       "      <td>63.33</td>\n",
       "      <td>-150.50</td>\n",
       "    </tr>\n",
       "    <tr>\n",
       "      <th>DEVA</th>\n",
       "      <td>Death Valley National Park</td>\n",
       "      <td>CA, NV</td>\n",
       "      <td>4740912</td>\n",
       "      <td>36.24</td>\n",
       "      <td>-116.82</td>\n",
       "    </tr>\n",
       "    <tr>\n",
       "      <th>EVER</th>\n",
       "      <td>Everglades National Park</td>\n",
       "      <td>FL</td>\n",
       "      <td>1508538</td>\n",
       "      <td>25.32</td>\n",
       "      <td>-80.93</td>\n",
       "    </tr>\n",
       "  </tbody>\n",
       "</table>\n",
       "</div>"
      ],
      "text/plain": [
       "                                   park_name   state    acres  latitude  \\\n",
       "Park Code                                                                 \n",
       "DENA       Denali National Park and Preserve      AK  3372402     63.33   \n",
       "DEVA              Death Valley National Park  CA, NV  4740912     36.24   \n",
       "EVER                Everglades National Park      FL  1508538     25.32   \n",
       "\n",
       "           longitude  \n",
       "Park Code             \n",
       "DENA         -150.50  \n",
       "DEVA         -116.82  \n",
       "EVER          -80.93  "
      ]
     },
     "execution_count": 43,
     "metadata": {},
     "output_type": "execute_result"
    }
   ],
   "source": [
    "# Filtra el DataFrame 'df' seleccionando las filas donde la latitud es mayor a 60 o \n",
    "# el número de acres es mayor a un millón, y luego muestra las primeras 3 filas del resultado.\n",
    "df[(df.latitude > 60) | (df.acres > 10**6)].head(3)"
   ]
  },
  {
   "cell_type": "markdown",
   "metadata": {
    "_cell_guid": "02a2d3f9-5f7a-4dd3-9828-f37589317ba0",
    "_uuid": "2f1a5a2e86fbe369085998490f33e74ecb124d77"
   },
   "source": [
    "También puedes usar expresiones más complicadas, incluyendo lambdas."
   ]
  },
  {
   "cell_type": "code",
   "execution_count": 47,
   "metadata": {
    "_cell_guid": "3b2a5145-82fc-4fa3-af08-c3cee631690e",
    "_uuid": "ba049726a59d195e6b43bf48e7196aba14c16e21"
   },
   "outputs": [
    {
     "data": {
      "text/html": [
       "<div>\n",
       "<style scoped>\n",
       "    .dataframe tbody tr th:only-of-type {\n",
       "        vertical-align: middle;\n",
       "    }\n",
       "\n",
       "    .dataframe tbody tr th {\n",
       "        vertical-align: top;\n",
       "    }\n",
       "\n",
       "    .dataframe thead th {\n",
       "        text-align: right;\n",
       "    }\n",
       "</style>\n",
       "<table border=\"1\" class=\"dataframe\">\n",
       "  <thead>\n",
       "    <tr style=\"text-align: right;\">\n",
       "      <th></th>\n",
       "      <th>park_name</th>\n",
       "      <th>state</th>\n",
       "      <th>acres</th>\n",
       "      <th>latitude</th>\n",
       "      <th>longitude</th>\n",
       "    </tr>\n",
       "    <tr>\n",
       "      <th>Park Code</th>\n",
       "      <th></th>\n",
       "      <th></th>\n",
       "      <th></th>\n",
       "      <th></th>\n",
       "      <th></th>\n",
       "    </tr>\n",
       "  </thead>\n",
       "  <tbody>\n",
       "    <tr>\n",
       "      <th>ACAD</th>\n",
       "      <td>Acadia National Park</td>\n",
       "      <td>ME</td>\n",
       "      <td>47390</td>\n",
       "      <td>44.35</td>\n",
       "      <td>-68.21</td>\n",
       "    </tr>\n",
       "    <tr>\n",
       "      <th>ARCH</th>\n",
       "      <td>Arches National Park</td>\n",
       "      <td>UT</td>\n",
       "      <td>76519</td>\n",
       "      <td>38.68</td>\n",
       "      <td>-109.57</td>\n",
       "    </tr>\n",
       "    <tr>\n",
       "      <th>BADL</th>\n",
       "      <td>Badlands National Park</td>\n",
       "      <td>SD</td>\n",
       "      <td>242756</td>\n",
       "      <td>43.75</td>\n",
       "      <td>-102.50</td>\n",
       "    </tr>\n",
       "  </tbody>\n",
       "</table>\n",
       "</div>"
      ],
      "text/plain": [
       "                        park_name state   acres  latitude  longitude\n",
       "Park Code                                                           \n",
       "ACAD         Acadia National Park    ME   47390     44.35     -68.21\n",
       "ARCH         Arches National Park    UT   76519     38.68    -109.57\n",
       "BADL       Badlands National Park    SD  242756     43.75    -102.50"
      ]
     },
     "execution_count": 47,
     "metadata": {},
     "output_type": "execute_result"
    }
   ],
   "source": [
    "# Filtra el DataFrame 'df' seleccionando las filas donde el nombre del parque \n",
    "# ('park_name') se divide en 3 palabras, y luego muestra las primeras 3 filas del resultado.\n",
    "df[df['park_name'].str.split().apply(lambda x: len(x) == 3)].head(3)"
   ]
  },
  {
   "cell_type": "markdown",
   "metadata": {},
   "source": [
    "El comentario explica lo siguiente:\n",
    "\n",
    "- `df['park_name'].str.split()`: Divide cada valor de la columna 'park_name' en palabras, utilizando el espacio como separador. Esto devuelve una lista de palabras para cada nombre de parque.\n",
    "- `.apply(lambda x: len(x) == 3)`: Aplica una función lambda que evalúa si la longitud de la lista (el número de palabras) es igual a 3. Devuelve True para las filas cuyo nombre de parque contiene exactamente tres palabras y False en caso contrario.\n",
    "- `df[...]`: Usa la serie booleana resultante para filtrar el DataFrame df y seleccionar solo las filas donde el nombre del parque contiene tres palabras.\n",
    "- `.head(3)`: Muestra las primeras tres filas del subconjunto filtrado.\n",
    "\n",
    "\n",
    "\n",
    "\n",
    "\n",
    "\n"
   ]
  },
  {
   "cell_type": "markdown",
   "metadata": {},
   "source": [
    "### La expresión `lambda x: len(x) == 3` tiene tres partes principales:\n",
    "\n",
    "1. **`lambda`**:\n",
    "   - Es una palabra clave en Python que se utiliza para crear funciones anónimas, es decir, funciones sin nombre. Estas funciones son muy útiles cuando necesitas una función simple y corta, como en este caso.\n",
    "   \n",
    "2. **`x`**:\n",
    "   - Es el parámetro de entrada de la función `lambda`. En este caso, `x` representa cada elemento de la lista de palabras que resulta de dividir el valor de `'park_name'`. Es decir, cada `x` es una lista de palabras (por ejemplo, `['Yellowstone', 'National', 'Park']`).\n",
    "\n",
    "3. **`len(x) == 3`**:\n",
    "   - Esta es la expresión que evalúa la función `lambda`. Para cada elemento `x` (que es una lista de palabras), se calcula la longitud con `len(x)`. Si la longitud de la lista es igual a 3, la expresión devuelve `True`, de lo contrario devuelve `False`.\n",
    "\n",
    "### Resumen de la expresión:\n",
    "\n",
    "- `lambda x: len(x) == 3`: Crea una función anónima que toma un parámetro `x` (en este caso, una lista de palabras) y devuelve `True` si la longitud de esa lista es 3, o `False` si no lo es.\n",
    "\n",
    "### Aplicación en el código:\n",
    "\n",
    "- **`df['park_name'].str.split()`**: Divide cada nombre de parque en palabras.\n",
    "- **`.apply(lambda x: len(x) == 3)`**: Aplica la función `lambda` a cada lista de palabras obtenida, verificando si el nombre del parque tiene exactamente tres palabras."
   ]
  },
  {
   "cell_type": "code",
   "execution_count": null,
   "metadata": {},
   "outputs": [
    {
     "data": {
      "text/html": [
       "<div>\n",
       "<style scoped>\n",
       "    .dataframe tbody tr th:only-of-type {\n",
       "        vertical-align: middle;\n",
       "    }\n",
       "\n",
       "    .dataframe tbody tr th {\n",
       "        vertical-align: top;\n",
       "    }\n",
       "\n",
       "    .dataframe thead th {\n",
       "        text-align: right;\n",
       "    }\n",
       "</style>\n",
       "<table border=\"1\" class=\"dataframe\">\n",
       "  <thead>\n",
       "    <tr style=\"text-align: right;\">\n",
       "      <th></th>\n",
       "      <th>park_name</th>\n",
       "      <th>state</th>\n",
       "      <th>acres</th>\n",
       "      <th>latitude</th>\n",
       "      <th>longitude</th>\n",
       "    </tr>\n",
       "    <tr>\n",
       "      <th>Park Code</th>\n",
       "      <th></th>\n",
       "      <th></th>\n",
       "      <th></th>\n",
       "      <th></th>\n",
       "      <th></th>\n",
       "    </tr>\n",
       "  </thead>\n",
       "  <tbody>\n",
       "    <tr>\n",
       "      <th>ACAD</th>\n",
       "      <td>Acadia National Park</td>\n",
       "      <td>ME</td>\n",
       "      <td>47390</td>\n",
       "      <td>44.35</td>\n",
       "      <td>-68.21</td>\n",
       "    </tr>\n",
       "    <tr>\n",
       "      <th>ARCH</th>\n",
       "      <td>Arches National Park</td>\n",
       "      <td>UT</td>\n",
       "      <td>76519</td>\n",
       "      <td>38.68</td>\n",
       "      <td>-109.57</td>\n",
       "    </tr>\n",
       "    <tr>\n",
       "      <th>BADL</th>\n",
       "      <td>Badlands National Park</td>\n",
       "      <td>SD</td>\n",
       "      <td>242756</td>\n",
       "      <td>43.75</td>\n",
       "      <td>-102.50</td>\n",
       "    </tr>\n",
       "  </tbody>\n",
       "</table>\n",
       "</div>"
      ],
      "text/plain": [
       "                        park_name state   acres  latitude  longitude\n",
       "Park Code                                                           \n",
       "ACAD         Acadia National Park    ME   47390     44.35     -68.21\n",
       "ARCH         Arches National Park    UT   76519     38.68    -109.57\n",
       "BADL       Badlands National Park    SD  242756     43.75    -102.50"
      ]
     },
     "execution_count": 60,
     "metadata": {},
     "output_type": "execute_result"
    }
   ],
   "source": [
    "def check_three_words(x):\n",
    "    return len(x) == 3\n",
    "\n",
    "df[df['park_name'].str.split().apply(check_three_words)].head(3)"
   ]
  },
  {
   "cell_type": "markdown",
   "metadata": {
    "_cell_guid": "2d8137c1-af04-4c50-974d-279c3c8264d0",
    "_uuid": "f199a5273560004c180ae6e1bae60797d5f50190"
   },
   "source": [
    "### Key Companion Methods: `isin` and `isnull`\n",
    "Estos métodos facilitan y aceleran mucho la realización de algunas tareas muy comunes. Supongamos que queremos encontrar todos los parques de la costa oeste. `isin` hace que eso sea simple:"
   ]
  },
  {
   "cell_type": "code",
   "execution_count": 52,
   "metadata": {
    "_cell_guid": "988a43e9-fdb8-49e2-a380-122570824550",
    "_uuid": "51f3b8cbfc62e7426bc36233d95095ae56887b9d"
   },
   "outputs": [
    {
     "data": {
      "text/html": [
       "<div>\n",
       "<style scoped>\n",
       "    .dataframe tbody tr th:only-of-type {\n",
       "        vertical-align: middle;\n",
       "    }\n",
       "\n",
       "    .dataframe tbody tr th {\n",
       "        vertical-align: top;\n",
       "    }\n",
       "\n",
       "    .dataframe thead th {\n",
       "        text-align: right;\n",
       "    }\n",
       "</style>\n",
       "<table border=\"1\" class=\"dataframe\">\n",
       "  <thead>\n",
       "    <tr style=\"text-align: right;\">\n",
       "      <th></th>\n",
       "      <th>park_name</th>\n",
       "      <th>state</th>\n",
       "      <th>acres</th>\n",
       "      <th>latitude</th>\n",
       "      <th>longitude</th>\n",
       "    </tr>\n",
       "    <tr>\n",
       "      <th>Park Code</th>\n",
       "      <th></th>\n",
       "      <th></th>\n",
       "      <th></th>\n",
       "      <th></th>\n",
       "      <th></th>\n",
       "    </tr>\n",
       "  </thead>\n",
       "  <tbody>\n",
       "    <tr>\n",
       "      <th>CHIS</th>\n",
       "      <td>Channel Islands National Park</td>\n",
       "      <td>CA</td>\n",
       "      <td>249561</td>\n",
       "      <td>34.01</td>\n",
       "      <td>-119.42</td>\n",
       "    </tr>\n",
       "    <tr>\n",
       "      <th>CRLA</th>\n",
       "      <td>Crater Lake National Park</td>\n",
       "      <td>OR</td>\n",
       "      <td>183224</td>\n",
       "      <td>42.94</td>\n",
       "      <td>-122.10</td>\n",
       "    </tr>\n",
       "    <tr>\n",
       "      <th>JOTR</th>\n",
       "      <td>Joshua Tree National Park</td>\n",
       "      <td>CA</td>\n",
       "      <td>789745</td>\n",
       "      <td>33.79</td>\n",
       "      <td>-115.90</td>\n",
       "    </tr>\n",
       "    <tr>\n",
       "      <th>LAVO</th>\n",
       "      <td>Lassen Volcanic National Park</td>\n",
       "      <td>CA</td>\n",
       "      <td>106372</td>\n",
       "      <td>40.49</td>\n",
       "      <td>-121.51</td>\n",
       "    </tr>\n",
       "    <tr>\n",
       "      <th>MORA</th>\n",
       "      <td>Mount Rainier National Park</td>\n",
       "      <td>WA</td>\n",
       "      <td>235625</td>\n",
       "      <td>46.85</td>\n",
       "      <td>-121.75</td>\n",
       "    </tr>\n",
       "  </tbody>\n",
       "</table>\n",
       "</div>"
      ],
      "text/plain": [
       "                               park_name state   acres  latitude  longitude\n",
       "Park Code                                                                  \n",
       "CHIS       Channel Islands National Park    CA  249561     34.01    -119.42\n",
       "CRLA           Crater Lake National Park    OR  183224     42.94    -122.10\n",
       "JOTR           Joshua Tree National Park    CA  789745     33.79    -115.90\n",
       "LAVO       Lassen Volcanic National Park    CA  106372     40.49    -121.51\n",
       "MORA         Mount Rainier National Park    WA  235625     46.85    -121.75"
      ]
     },
     "execution_count": 52,
     "metadata": {},
     "output_type": "execute_result"
    }
   ],
   "source": [
    "# Filtra el DataFrame 'df' seleccionando las filas donde el valor de la columna 'state' es 'WA', 'OR' o 'CA', \n",
    "# y muestra las primeras 5 filas del resultado.\n",
    "df[df.state.isin(['WA', 'OR', 'CA'])].head()"
   ]
  },
  {
   "cell_type": "markdown",
   "metadata": {
    "_cell_guid": "ac23b412-e093-40af-88ba-3ac960c553a3",
    "_uuid": "38376945433dafef1d848af2ddc1f1482a5a883e"
   },
   "source": [
    "### Less Common Methods\n",
    "Pandas ofrece muchos más métodos de indexación. Probablemente deberías ceñirte a algunos de ellos para mantener tu código legible, pero vale la pena saber que existen en caso de que necesites leer el código de otras personas o tengas un caso de uso inusual:\n",
    "\n",
    "- Hay otras formas de dividir los datos con corchetes. Por razones de legibilidad, por favor, no uses ninguno de ellos.\n",
    "- `.at` y `.iat`: como `.loc` y `.iloc`, pero mucho más rápidos a cambio de solo funcionar con una sola columna y devolver un solo resultado.\n",
    "- `.eval`: evaluación rápida de un conjunto limitado de operadores simples. `.query` funciona llamando a esto.\n",
    "- `.ix`: método obsoleto que intentaba determinar si un índice debía evaluarse con `.loc` o `.iloc`. ¡Esto llevó a muchos errores sutiles! Si ves esto, estás viendo un código antiguo que ya no funcionará.\n",
    "- `.get`: como `.loc`, pero devolverá un valor predeterminado si la clave no existe en el índice. Solo funciona en una sola columna/serie.\n",
    "- `.lookup`: No recomendado. Está en la documentación, pero no está claro si esto aún se admite.\n",
    "- `.mask`: como la indexación booleana, pero devuelve un DataFrame/serie del mismo tamaño que el original y dondequiera que el booleano se evalúe como `True`, se establece en `nan`.\n",
    "- `.query`: similar a la indexación booleana. Más rápido para DataFrames grandes. Solo admite un conjunto restringido de operaciones; no lo uses si necesitas `isnull()` u otros métodos de DataFrame.\n",
    "- `.take`: equivalente a `.iloc`, pero puede operar tanto en filas como en columnas.\n",
    "- `.where`: como la indexación booleana, pero devuelve un DataFrame/serie del mismo tamaño que el original y dondequiera que el booleano se evalúe como `False`, se establece en `nan`.\n",
    "- [Multi-indexing](http://pandas.pydata.org/pandas-docs/stable/advanced.html): potencialmente útil para conjuntos de datos jerárquicos pequeños a medianos. Lento en conjuntos de datos más grandes."
   ]
  },
  {
   "cell_type": "code",
   "execution_count": null,
   "metadata": {
    "_cell_guid": "e167cd75-9c1d-4327-ac0c-11ca9e5d1ddb",
    "_uuid": "259f0bbe2718e237b41e162ff691a612d846075e"
   },
   "outputs": [],
   "source": []
  }
 ],
 "metadata": {
  "kaggle": {
   "accelerator": "none",
   "dataSources": [
    {
     "datasetId": 670,
     "sourceId": 1306,
     "sourceType": "datasetVersion"
    }
   ],
   "dockerImageVersionId": 37,
   "isGpuEnabled": false,
   "isInternetEnabled": false,
   "language": "python",
   "sourceType": "notebook"
  },
  "kernelspec": {
   "display_name": "python",
   "language": "python",
   "name": "python3"
  },
  "language_info": {
   "codemirror_mode": {
    "name": "ipython",
    "version": 3
   },
   "file_extension": ".py",
   "mimetype": "text/x-python",
   "name": "python",
   "nbconvert_exporter": "python",
   "pygments_lexer": "ipython3",
   "version": "3.12.9"
  }
 },
 "nbformat": 4,
 "nbformat_minor": 4
}
