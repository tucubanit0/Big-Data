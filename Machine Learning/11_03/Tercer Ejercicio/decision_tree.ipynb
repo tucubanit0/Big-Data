{
 "cells": [
  {
   "cell_type": "markdown",
   "metadata": {},
   "source": [
    "### Ejercicio clasificación de árboles de decisión para flores Iris"
   ]
  },
  {
   "cell_type": "markdown",
   "metadata": {},
   "source": [
    "Ejemplo de clasificación de árboles de decisión para flores Iris. En este \n",
    "caso, usa X, y = load_iris(return_X_y=_True) para cargar los datos de Iris y \n",
    "devuelve los datos con X e y, usando las cuatro características de los datos. \n",
    "Luego divide los datos en el conjunto de entrenamiento y el conjunto de \n",
    "prueba. Luego entrena el modelo clasificador del árbol de decisión y haz \n",
    "predicciones en el conjunto de prueba. También calcula y muestra el número \n",
    "total de puntos, así como el número de puntos que se pronosticaron \n",
    "correctamente."
   ]
  },
  {
   "cell_type": "code",
   "execution_count": 2,
   "metadata": {},
   "outputs": [],
   "source": [
    "import numpy as np\n",
    "from sklearn.datasets import load_iris\n",
    "from sklearn.model_selection import train_test_split\n",
    "from sklearn.tree import DecisionTreeClassifier\n",
    "from sklearn.metrics import accuracy_score"
   ]
  },
  {
   "cell_type": "code",
   "execution_count": null,
   "metadata": {},
   "outputs": [
    {
     "name": "stdout",
     "output_type": "stream",
     "text": [
      "Total number of points: 45\n",
      "Number of correctly predicted points: 45\n",
      "Accuracy: 100.00%\n"
     ]
    }
   ],
   "source": [
    "# Load the Iris dataset\n",
    "X, y = load_iris(return_X_y=True)\n",
    "\n",
    "# Split the dataset into training and testing sets\n",
    "X_train, X_test, y_train, y_test = train_test_split(X, y, test_size=0.3, random_state=42)\n",
    "\n",
    "# Initialize the Decision Tree Classifier\n",
    "clf = DecisionTreeClassifier()\n",
    "\n",
    "# Train the classifier\n",
    "clf.fit(X_train, y_train)\n",
    "\n",
    "# Make predictions on the test set\n",
    "y_pred = clf.predict(X_test)\n",
    "\n",
    "# Calculate the accuracy\n",
    "accuracy = accuracy_score(y_test, y_pred)\n",
    "\n",
    "# Print the results\n",
    "print(f\"Total number of points: {len(y_test)}\")\n",
    "print(f\"Number of correctly predicted points: {np.sum(y_test == y_pred)}\")\n",
    "print(f\"Accuracy: {accuracy * 100:.2f}%\")"
   ]
  }
 ],
 "metadata": {
  "kernelspec": {
   "display_name": "python",
   "language": "python",
   "name": "python3"
  },
  "language_info": {
   "codemirror_mode": {
    "name": "ipython",
    "version": 3
   },
   "file_extension": ".py",
   "mimetype": "text/x-python",
   "name": "python",
   "nbconvert_exporter": "python",
   "pygments_lexer": "ipython3",
   "version": "3.12.9"
  }
 },
 "nbformat": 4,
 "nbformat_minor": 2
}
