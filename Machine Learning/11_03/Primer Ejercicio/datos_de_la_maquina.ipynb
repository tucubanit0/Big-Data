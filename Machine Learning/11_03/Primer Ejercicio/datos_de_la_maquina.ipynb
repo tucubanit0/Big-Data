{
 "cells": [
  {
   "cell_type": "code",
   "execution_count": 17,
   "metadata": {},
   "outputs": [],
   "source": [
    "import pandas as pd   \n",
    "from sklearn.model_selection import train_test_split   \n",
    "from sklearn.preprocessing import StandardScaler   \n",
    "from sklearn.ensemble import RandomForestClassifier   \n",
    "from sklearn.metrics import accuracy_score, confusion_matrix   \n",
    "# Cargar dataset   \n",
    "url = \"https://raw.githubusercontent.com/jbrownlee/Datasets/master/pima-indians-diabetes.data.csv\"   "
   ]
  },
  {
   "cell_type": "code",
   "execution_count": 18,
   "metadata": {},
   "outputs": [
    {
     "name": "stdout",
     "output_type": "stream",
     "text": [
      "   Embarazos  Glucosa  Presion_Arterial  Espesor_Piel  Insulina   IMC  \\\n",
      "0          6      148                72            35         0  33.6   \n",
      "1          1       85                66            29         0  26.6   \n",
      "2          8      183                64             0         0  23.3   \n",
      "3          1       89                66            23        94  28.1   \n",
      "4          0      137                40            35       168  43.1   \n",
      "\n",
      "   DiabetesPedigree  Edad  Diabetes  \n",
      "0             0.627    50         1  \n",
      "1             0.351    31         0  \n",
      "2             0.672    32         1  \n",
      "3             0.167    21         0  \n",
      "4             2.288    33         1  \n",
      "        Embarazos     Glucosa  Presion_Arterial  Espesor_Piel    Insulina  \\\n",
      "count  768.000000  768.000000        768.000000    768.000000  768.000000   \n",
      "mean     3.845052  120.894531         69.105469     20.536458   79.799479   \n",
      "std      3.369578   31.972618         19.355807     15.952218  115.244002   \n",
      "min      0.000000    0.000000          0.000000      0.000000    0.000000   \n",
      "25%      1.000000   99.000000         62.000000      0.000000    0.000000   \n",
      "50%      3.000000  117.000000         72.000000     23.000000   30.500000   \n",
      "75%      6.000000  140.250000         80.000000     32.000000  127.250000   \n",
      "max     17.000000  199.000000        122.000000     99.000000  846.000000   \n",
      "\n",
      "              IMC  DiabetesPedigree        Edad    Diabetes  \n",
      "count  768.000000        768.000000  768.000000  768.000000  \n",
      "mean    31.992578          0.471876   33.240885    0.348958  \n",
      "std      7.884160          0.331329   11.760232    0.476951  \n",
      "min      0.000000          0.078000   21.000000    0.000000  \n",
      "25%     27.300000          0.243750   24.000000    0.000000  \n",
      "50%     32.000000          0.372500   29.000000    0.000000  \n",
      "75%     36.600000          0.626250   41.000000    1.000000  \n",
      "max     67.100000          2.420000   81.000000    1.000000  \n",
      "Embarazos           0\n",
      "Glucosa             0\n",
      "Presion_Arterial    0\n",
      "Espesor_Piel        0\n",
      "Insulina            0\n",
      "IMC                 0\n",
      "DiabetesPedigree    0\n",
      "Edad                0\n",
      "Diabetes            0\n",
      "dtype: int64\n"
     ]
    }
   ],
   "source": [
    "columnas = [\"Embarazos\", \"Glucosa\", \"Presion_Arterial\", \"Espesor_Piel\", \n",
    "\"Insulina\", \"IMC\", \"DiabetesPedigree\", \"Edad\", \"Diabetes\"]   \n",
    "df = pd.read_csv(url, names=columnas)   \n",
    "# Exploración   \n",
    "print(df.head())   \n",
    "print(df.describe())   \n",
    "print(df.isnull().sum())   "
   ]
  },
  {
   "cell_type": "code",
   "execution_count": 19,
   "metadata": {},
   "outputs": [],
   "source": [
    "# Separar características y variable objetivo   \n",
    "X = df.drop(columns=[\"Diabetes\"])   \n",
    "y = df[\"Diabetes\"]   \n",
    "# Dividir en entrenamiento y prueba   \n",
    "X_train, X_test, y_train, y_test = train_test_split(X, y, test_size=0.2, \n",
    "random_state=42)   \n",
    "# Normalización   \n",
    "scaler = StandardScaler()   \n",
    "X_train = scaler.fit_transform(X_train)   \n",
    "X_test = scaler.transform(X_test)"
   ]
  },
  {
   "cell_type": "code",
   "execution_count": 20,
   "metadata": {},
   "outputs": [
    {
     "name": "stdout",
     "output_type": "stream",
     "text": [
      "Precisión del modelo: 0.72\n",
      "Matriz de Confusión:\n",
      "[[77 22]\n",
      " [21 34]]\n"
     ]
    }
   ],
   "source": [
    "# Entrenar modelo Random Forest   \n",
    "modelo = RandomForestClassifier(n_estimators=100, random_state=42)   \n",
    "modelo.fit(X_train, y_train)   \n",
    "# Predicciones   \n",
    "y_pred = modelo.predict(X_test)   \n",
    "# Evaluación   \n",
    "accuracy = accuracy_score(y_test, y_pred)   \n",
    "matriz_confusion = confusion_matrix(y_test, y_pred)   \n",
    "print(f\"Precisión del modelo: {accuracy:.2f}\")   \n",
    "print(\"Matriz de Confusión:\")   \n",
    "print(matriz_confusion)"
   ]
  }
 ],
 "metadata": {
  "kernelspec": {
   "display_name": "python",
   "language": "python",
   "name": "python3"
  },
  "language_info": {
   "codemirror_mode": {
    "name": "ipython",
    "version": 3
   },
   "file_extension": ".py",
   "mimetype": "text/x-python",
   "name": "python",
   "nbconvert_exporter": "python",
   "pygments_lexer": "ipython3",
   "version": "3.12.9"
  }
 },
 "nbformat": 4,
 "nbformat_minor": 2
}
