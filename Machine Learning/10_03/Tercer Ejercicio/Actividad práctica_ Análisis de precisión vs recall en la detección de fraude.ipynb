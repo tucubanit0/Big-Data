{
 "cells": [
  {
   "cell_type": "code",
   "execution_count": 1,
   "metadata": {},
   "outputs": [],
   "source": [
    "import pandas as pd\n",
    "from sklearn.datasets import make_classification\n",
    "from sklearn.model_selection import train_test_split\n",
    "from sklearn.ensemble import RandomForestClassifier\n",
    "from sklearn.metrics import accuracy_score, precision_score, recall_score\n",
    "import matplotlib.pyplot as plt\n",
    "import seaborn as sns\n",
    "from sklearn.model_selection import GridSearchCV"
   ]
  },
  {
   "cell_type": "code",
   "execution_count": 2,
   "metadata": {},
   "outputs": [
    {
     "name": "stdout",
     "output_type": "stream",
     "text": [
      "Precisión: 0.9833333333333333\n",
      "Recall: 0.7222222222222222\n",
      "Exactitud: 0.9833333333333333\n"
     ]
    }
   ],
   "source": [
    "# Crear el conjunto de datos simulados\n",
    "X, y = make_classification(n_samples=1000, n_features=20, n_informative=2, n_redundant=10, weights=[0.95, 0.05], flip_y=0, n_classes=2, random_state=42)\n",
    "\n",
    "# Dividir los datos en conjuntos de entrenamiento y prueba\n",
    "X_train, X_test, y_train, y_test = train_test_split(X, y, test_size=0.3, random_state=42)\n",
    "\n",
    "# Crear un modelo de bosque aleatorio\n",
    "model = RandomForestClassifier(n_estimators=100, random_state=42)\n",
    "\n",
    "# Entrenar el modelo\n",
    "model.fit(X_train, y_train)\n",
    "\n",
    "# Hacer predicciones\n",
    "y_pred = model.predict(X_test)\n",
    "\n",
    "# Clacular la precisión\n",
    "precision = accuracy_score(y_test, y_pred)\n",
    "\n",
    "# Calcular el recall\n",
    "recall = recall_score(y_test, y_pred)\n",
    "\n",
    "# Calcular la exactitud del modelo\n",
    "accuracy = accuracy_score(y_test, y_pred)\n",
    "\n",
    "# Imprimir las métricas\n",
    "print(f'Precisión: {precision}')\n",
    "print(f'Recall: {recall}')\n",
    "print(f'Exactitud: {accuracy}')\n"
   ]
  }
 ],
 "metadata": {
  "kernelspec": {
   "display_name": "python",
   "language": "python",
   "name": "python3"
  },
  "language_info": {
   "codemirror_mode": {
    "name": "ipython",
    "version": 3
   },
   "file_extension": ".py",
   "mimetype": "text/x-python",
   "name": "python",
   "nbconvert_exporter": "python",
   "pygments_lexer": "ipython3",
   "version": "3.12.9"
  }
 },
 "nbformat": 4,
 "nbformat_minor": 2
}
