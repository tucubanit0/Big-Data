{
 "cells": [
  {
   "cell_type": "markdown",
   "metadata": {},
   "source": [
    "### 01 Actividad práctica: Evaluación realista en el Titanic: Riesgos del sobreajuste y la evaluación poco realista"
   ]
  },
  {
   "cell_type": "markdown",
   "metadata": {},
   "source": [
    "**Objetivo**:"
   ]
  },
  {
   "cell_type": "markdown",
   "metadata": {},
   "source": [
    "Los estudiantes aprenderán cómo un modelo de Machine Learning puede tener un \n",
    "rendimiento sobreestimado cuando el conjunto de prueba no es independiente y \n",
    "cómo este tipo de error puede afectar la toma de decisiones en proyectos \n",
    "reales. "
   ]
  },
  {
   "cell_type": "markdown",
   "metadata": {},
   "source": [
    "**Requisitos:**"
   ]
  },
  {
   "cell_type": "markdown",
   "metadata": {},
   "source": [
    "- Python (con bibliotecas como pandas, scikit-learn, matplotlib) \n",
    "- Jupyter Notebook o entorno similar \n",
    "- Conjunto de datos de Titanic disponible en Kaggle Titanic Dataset."
   ]
  },
  {
   "cell_type": "code",
   "execution_count": null,
   "metadata": {},
   "outputs": [],
   "source": [
    "import pandas as pd\n",
    "import matplotlib.pyplot as plt\n",
    "import sklearn\n",
    "from sklearn "
   ]
  },
  {
   "cell_type": "markdown",
   "metadata": {},
   "source": [
    "**Descripción de la actividad:**"
   ]
  },
  {
   "cell_type": "markdown",
   "metadata": {},
   "source": [
    "1. Cargar y preprocesar los datos: Cargar el conjunto de datos Titanic \n",
    "desde un archivo CSV o Kaggle, preprocesar los datos (tratamiento de \n",
    "valores faltantes, codificación de variables categóricas, etc.). "
   ]
  },
  {
   "cell_type": "code",
   "execution_count": null,
   "metadata": {},
   "outputs": [],
   "source": []
  },
  {
   "cell_type": "markdown",
   "metadata": {},
   "source": [
    "2. Entrenar un modelo: Usar un modelo de clasificación (por ejemplo, Árbol \n",
    "de Decisión o Regresión Logística) para predecir la supervivencia de los \n",
    "pasajeros basándose en características como la clase, el sexo, la edad, \n",
    "el puerto de embarque, etc."
   ]
  },
  {
   "cell_type": "code",
   "execution_count": null,
   "metadata": {},
   "outputs": [],
   "source": []
  },
  {
   "cell_type": "markdown",
   "metadata": {},
   "source": [
    "3. Evaluación del modelo: "
   ]
  },
  {
   "cell_type": "markdown",
   "metadata": {},
   "source": [
    "- Evaluación inicial (métrica con datos de prueba no \n",
    "independientes): Evaluar el modelo usando un conjunto de prueba \n",
    "que tenga algunos datos duplicados o filtrados del conjunto de \n",
    "entrenamiento. \n",
    "- Evaluación con datos de prueba verdaderamente independientes: \n",
    "Evaluar el modelo en un conjunto de prueba completamente independiente (datos que no se han utilizado en el entrenamiento). "
   ]
  },
  {
   "cell_type": "code",
   "execution_count": null,
   "metadata": {},
   "outputs": [],
   "source": []
  },
  {
   "cell_type": "markdown",
   "metadata": {},
   "source": [
    "4. Observación de las métricas: Los estudiantes compararán las métricas de \n",
    "rendimiento (precisión, recall, F1-score, etc.) obtenidas de ambas \n",
    "evaluaciones (no independiente e independiente) y observarán cómo se \n",
    "inflan las métricas en el primer caso."
   ]
  },
  {
   "cell_type": "code",
   "execution_count": null,
   "metadata": {},
   "outputs": [],
   "source": []
  },
  {
   "cell_type": "markdown",
   "metadata": {},
   "source": [
    "5. Conclusión: Los estudiantes documentarán cómo un conjunto de prueba no \n",
    "independiente puede dar lugar a una evaluación sobreestimada y cómo esto \n",
    "puede afectar la implementación de modelos en la práctica."
   ]
  }
 ],
 "metadata": {
  "kernelspec": {
   "display_name": "python",
   "language": "python",
   "name": "python3"
  },
  "language_info": {
   "codemirror_mode": {
    "name": "ipython",
    "version": 3
   },
   "file_extension": ".py",
   "mimetype": "text/x-python",
   "name": "python",
   "nbconvert_exporter": "python",
   "pygments_lexer": "ipython3",
   "version": "3.12.9"
  }
 },
 "nbformat": 4,
 "nbformat_minor": 2
}
