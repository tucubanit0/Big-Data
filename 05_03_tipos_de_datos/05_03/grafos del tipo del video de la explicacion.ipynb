{
  "cells": [
    {
      "cell_type": "markdown",
      "metadata": {
        "id": "bD9BJkZI0uGZ"
      },
      "source": [
        "@author: Octavio Gutiérrez de Código Máquina\n",
        "\n",
        "URL del canal: https://www.youtube.com/CodigoMaquina\n",
        "\n",
        "URL del video: https://youtu.be/HYGd2UMRb-o"
      ]
    },
    {
      "cell_type": "markdown",
      "metadata": {
        "id": "B_vsOWNaz2gE"
      },
      "source": [
        "# Creación de grafos y digrafos con NetworkX\n",
        "### Librerías"
      ]
    },
    {
      "cell_type": "code",
      "execution_count": 7,
      "metadata": {
        "id": "_Sz9snIpzAUA"
      },
      "outputs": [],
      "source": [
        "import networkx as nx             # NetworkX es una librería de Python para la creación, manipulación y estudio de la estructura, dinámica y funciones de redes complejas.\n",
        "import matplotlib.pyplot as plt"
      ]
    },
    {
      "cell_type": "markdown",
      "metadata": {
        "id": "eEKSDfSBz81V"
      },
      "source": [
        "# Grafos no dirigidos\n",
        "\n"
      ]
    },
    {
      "cell_type": "markdown",
      "metadata": {
        "id": "QwFjSYO28JTU"
      },
      "source": [
        "### Creación del grafo"
      ]
    },
    {
      "cell_type": "code",
      "execution_count": 2,
      "metadata": {
        "id": "PpPUq_7Pz2RI"
      },
      "outputs": [],
      "source": [
        "grafo = nx.Graph()\n",
        "\n",
        "# Agregando vértices/nodos\n",
        "grafo.add_nodes_from([\"maria\", \"luis\", \"claudia\", \"pedro\"])\n",
        "\n",
        "# Agregando aristas\n",
        "grafo.add_edge(\"maria\", \"luis\", weight=4)\n",
        "grafo.add_edge(\"maria\", \"claudia\", weight=10)\n",
        "grafo.add_edge(\"luis\", \"pedro\", weight=2)\n",
        "grafo.add_edge(\"pedro\", \"maria\", weight=3)"
      ]
    },
    {
      "cell_type": "markdown",
      "metadata": {
        "id": "Mz3zu4tn8k88"
      },
      "source": [
        "### Propiedades básicas"
      ]
    },
    {
      "cell_type": "code",
      "execution_count": 3,
      "metadata": {
        "colab": {
          "base_uri": "https://localhost:8080/"
        },
        "id": "hIujJXxx8k0t",
        "outputId": "827d329f-b2b4-4101-a788-bcc2cbc1f318"
      },
      "outputs": [
        {
          "name": "stdout",
          "output_type": "stream",
          "text": [
            "Número de vértices: 4\n",
            "Número de aristas: 4\n",
            "Vértices: ['maria', 'luis', 'claudia', 'pedro']\n",
            "Aristas: [('maria', 'luis'), ('maria', 'claudia'), ('maria', 'pedro'), ('luis', 'pedro')]\n"
          ]
        }
      ],
      "source": [
        "# Número de vértices y aristas\n",
        "print(\"Número de vértices:\", grafo.number_of_nodes())\n",
        "print(\"Número de aristas:\", grafo.number_of_edges())\n",
        "\n",
        "# Lista de vértices\n",
        "print(\"Vértices:\", grafo.nodes)\n",
        "\n",
        "# Lista de aristas\n",
        "print(\"Aristas:\", grafo.edges)"
      ]
    },
    {
      "cell_type": "markdown",
      "metadata": {
        "id": "EoVRsWPU7bgX"
      },
      "source": [
        "### Visualización del grafo no dirigido"
      ]
    },
    {
      "cell_type": "code",
      "execution_count": 4,
      "metadata": {
        "colab": {
          "base_uri": "https://localhost:8080/",
          "height": 337
        },
        "id": "2TBS_fdq7evE",
        "outputId": "2572bd56-9441-4ad3-bea2-7dbe01a39730"
      },
      "outputs": [
        {
          "data": {
            "image/png": "[encoded data removed]",
            "text/plain": [
              "<Figure size 300x300 with 1 Axes>"
            ]
          },
          "metadata": {},
          "output_type": "display_data"
        }
      ],
      "source": [
        "plt.figure(figsize=(3, 3))\n",
        "\n",
        "# Posiciona adecuadamente los vertices -> (x, y)\n",
        "posiciones = nx.spring_layout(grafo, seed=10)\n",
        "\n",
        "# Extrae los pesos de las aristas\n",
        "pesos = nx.get_edge_attributes(grafo, \"weight\")\n",
        "\n",
        "# Dibuja los vértices en las posiciones adecuadas\n",
        "nx.draw(grafo, posiciones, with_labels=True)\n",
        "\n",
        "# Dibuja las etiquetas de las aristas en las posiciones adecuadas\n",
        "nx.draw_networkx_edge_labels(grafo, posiciones, edge_labels=pesos)\n",
        "\n",
        "plt.show()"
      ]
    },
    {
      "cell_type": "markdown",
      "metadata": {
        "id": "dq3nNQgo851P"
      },
      "source": [
        "# Grafos dirigidos o Digrafos"
      ]
    },
    {
      "cell_type": "code",
      "execution_count": 5,
      "metadata": {
        "id": "2hxZspy_9d1T"
      },
      "outputs": [],
      "source": [
        "digrafo = nx.DiGraph()\n",
        "\n",
        "# Agregando vértices/nodos\n",
        "digrafo.add_nodes_from([\"maria\", \"luis\", \"claudia\", \"famos@\"])\n",
        "\n",
        "# Agregando aristas\n",
        "digrafo.add_edge(\"maria\", \"famos@\")\n",
        "digrafo.add_edge(\"luis\", \"famos@\")\n",
        "digrafo.add_edge(\"claudia\", \"famos@\")"
      ]
    },
    {
      "cell_type": "markdown",
      "metadata": {
        "id": "Pd0BjScsBCKQ"
      },
      "source": [
        "### Visualización del Digrafo"
      ]
    },
    {
      "cell_type": "code",
      "execution_count": 6,
      "metadata": {
        "colab": {
          "base_uri": "https://localhost:8080/",
          "height": 337
        },
        "id": "SbchruecA6Gf",
        "outputId": "b1d15ccb-c7a9-4f02-b74a-c32a518429cf"
      },
      "outputs": [
        {
          "data": {
            "image/png": "[encoded data removed]",
            "text/plain": [
              "<Figure size 300x300 with 1 Axes>"
            ]
          },
          "metadata": {},
          "output_type": "display_data"
        }
      ],
      "source": [
        "plt.figure(figsize=(3, 3))\n",
        "\n",
        "# Posiciona adecuadamente los vertices -> (x, y)\n",
        "posiciones = nx.spring_layout(digrafo, seed=1)\n",
        "\n",
        "# Dibuja los vértices en las posiciones adecuadas\n",
        "nx.draw(digrafo, posiciones, with_labels=True)\n",
        "\n",
        "plt.show()"
      ]
    }
  ],
  "metadata": {
    "colab": {
      "provenance": []
    },
    "kernelspec": {
      "display_name": "python",
      "language": "python",
      "name": "python3"
    },
    "language_info": {
      "codemirror_mode": {
        "name": "ipython",
        "version": 3
      },
      "file_extension": ".py",
      "mimetype": "text/x-python",
      "name": "python",
      "nbconvert_exporter": "python",
      "pygments_lexer": "ipython3",
      "version": "3.12.9"
    }
  },
  "nbformat": 4,
  "nbformat_minor": 0
}
