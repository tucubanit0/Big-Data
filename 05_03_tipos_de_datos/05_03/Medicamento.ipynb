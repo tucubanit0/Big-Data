{
 "cells": [
  {
   "cell_type": "code",
   "execution_count": 7,
   "id": "ab3a4d14-bae9-4aa3-9daa-7c01fc137eca",
   "metadata": {},
   "outputs": [],
   "source": [
    "# Importaciones principales\n",
    "import pandas as pd\n",
    "import numpy as np\n",
    "import matplotlib.pyplot as plt\n",
    "import seaborn as sns\n",
    "import networkx as nx\n",
    "import scipy.stats as stats\n",
    "from sklearn.preprocessing import StandardScaler\n",
    "from sklearn.cluster import KMeans\n",
    "from sklearn.decomposition import PCA"
   ]
  },
  {
   "cell_type": "code",
   "execution_count": 11,
   "id": "be64c672-3571-4fde-ae4d-565fc0069bec",
   "metadata": {},
   "outputs": [
    {
     "name": "stdout",
     "output_type": "stream",
     "text": [
      "Comparación de grupos\n",
      "              Marcador_inicial  Marcador_final  Efectos_secundarios  \\\n",
      "Grupo                                                                 \n",
      "Control             100.975091      100.975091             0.039062   \n",
      "Intervencion        102.170947       81.382710             0.213115   \n",
      "\n",
      "              Tiempo_recuperacion  \n",
      "Grupo                              \n",
      "Control                 20.851321  \n",
      "Intervencion            14.203042  \n"
     ]
    }
   ],
   "source": [
    "# Generación de datos sintéticos\n",
    "def generar_datos_ensayo_clinico(n_muestras=500):\n",
    "    np.random.seed(42)\n",
    "\n",
    "    # Variables\n",
    "    grupo = np.random.choice(['Intervencion', 'Control'], n_muestras)\n",
    "    dosis = np.where(grupo == 'Intervencion',\n",
    "                    np.random.uniform(50, 200, n_muestras),\n",
    "                    np.zeros(n_muestras))\n",
    "    # Marcadores biológicos simulados\n",
    "    marcador_base = np.random.normal(100, 20, n_muestras)\n",
    "    marcador_final = np.where(\n",
    "        grupo == 'Intervencion',\n",
    "        marcador_base * (1 - np.random.uniform(0.1, 0.3, n_muestras)),\n",
    "        marcador_base\n",
    "    )\n",
    "\n",
    "    \n",
    "    # efectos secundarios\n",
    "    efectos_secundarios = np.random.binomial(1,\n",
    "                                             np.where(grupo == 'Intervencion', 0.2, 0.05),\n",
    "                                             n_muestras)\n",
    "    tiempo_recuperacion = np.random.normal(np.where(grupo == 'Intervencion', 14, 21),\n",
    "                                          3,\n",
    "                                          n_muestras)\n",
    "\n",
    "    df = pd.DataFrame({\n",
    "        'ID' : range(1, n_muestras + 1),\n",
    "        'Grupo' : grupo,\n",
    "        'Dosis' : dosis,\n",
    "        'Marcador_inicial' : marcador_base,\n",
    "        'Marcador_final' : marcador_final,\n",
    "        'Efectos_secundarios' : efectos_secundarios,\n",
    "        'Tiempo_recuperacion' : tiempo_recuperacion\n",
    "    })\n",
    "\n",
    "    return df\n",
    "\n",
    "# Generar los datos\n",
    "datos_ensayo = generar_datos_ensayo_clinico()\n",
    "\n",
    "\n",
    "# Analisis ensayo\n",
    "def analisis_ensayo_clinico(df):\n",
    "    # Analisis comparativo de grupos\n",
    "    comparacion_grupos = df.groupby('Grupo').agg({\n",
    "        'Marcador_inicial' : 'mean',\n",
    "        'Marcador_final' : 'mean',\n",
    "        'Efectos_secundarios' : 'mean',\n",
    "        'Tiempo_recuperacion' : 'mean'\n",
    "    })\n",
    "\n",
    "    print('Comparación de grupos')\n",
    "    print(comparacion_grupos)\n",
    "\n",
    "# Ejecutar analisis\n",
    "analisis_ensayo_clinico(datos_ensayo)"
   ]
  },
  {
   "cell_type": "code",
   "execution_count": null,
   "id": "4722cdb7-bcff-4a0b-9ea4-b4aa14ea17dc",
   "metadata": {},
   "outputs": [],
   "source": []
  }
 ],
 "metadata": {
  "kernelspec": {
   "display_name": "Python 3 (ipykernel)",
   "language": "python",
   "name": "python3"
  },
  "language_info": {
   "codemirror_mode": {
    "name": "ipython",
    "version": 3
   },
   "file_extension": ".py",
   "mimetype": "text/x-python",
   "name": "python",
   "nbconvert_exporter": "python",
   "pygments_lexer": "ipython3",
   "version": "3.12.9"
  }
 },
 "nbformat": 4,
 "nbformat_minor": 5
}
