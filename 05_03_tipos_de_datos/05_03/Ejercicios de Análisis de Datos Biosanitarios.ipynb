{
 "cells": [
  {
   "cell_type": "code",
   "execution_count": 1,
   "metadata": {},
   "outputs": [],
   "source": [
    "import pandas as pd\n",
    "import numpy as np\n",
    "import matplotlib.pyplot as plt\n",
    "import seaborn as sns\n",
    "import networkx as nx\n",
    "import scipy.stats as stats\n",
    "from sklearn.preprocessing import StandardScaler\n",
    "from sklearn.cluster import KMeans\n",
    "from sklearn.decomposition import PCA\n",
    "from sklearn.linear_model import LinearRegression"
   ]
  },
  {
   "cell_type": "markdown",
   "metadata": {},
   "source": [
    "### **Ejercicios de Análisis de Datos Biosanitarios**"
   ]
  },
  {
   "cell_type": "markdown",
   "metadata": {},
   "source": [
    "### 1. Análisis de Datos Tabulares"
   ]
  },
  {
   "cell_type": "markdown",
   "metadata": {},
   "source": [
    "### Ejercicio 1.1: Perfil Epidemiológico de Enfermedades Cardiovasculares"
   ]
  },
  {
   "cell_type": "markdown",
   "metadata": {},
   "source": [
    "Descripción: Analizar un conjunto de datos de pacientes para identificar \n",
    "factores de riesgo y patrones relacionados con enfermedades cardiovasculares. "
   ]
  },
  {
   "cell_type": "markdown",
   "metadata": {},
   "source": [
    "### Instrucciones: "
   ]
  },
  {
   "cell_type": "markdown",
   "metadata": {},
   "source": [
    "### 1. Cargar un conjunto de datos de historias clínicas con las siguientes variables:\n",
    "- Edad \n",
    "- Género \n",
    "- Nivel de colesterol \n",
    "- Presión arterial \n",
    "- Índice de masa corporal (IMC) \n",
    "- Historial de diabetes \n",
    "- Incidencia de enfermedad cardiovascular"
   ]
  },
  {
   "cell_type": "code",
   "execution_count": 2,
   "metadata": {},
   "outputs": [
    {
     "data": {
      "text/plain": [
       "\"# Generacion de datos sinteticos\\ndef generar_datos_cardiovasculares(n_muestras=1000):\\n    np.random.seed(42)\\n    \\n    # Generación de variables\\n    edad = np.random.normal(55, 15, n_muestras)\\n    genero = np.random.choice(['Masculino', 'Femenino'], n_muestras)\\n    colesterol = np.random.normal(200, 40, n_muestras)\\n    presión_arterial = np.random.normal(130, 20, n_muestras)\\n    imc = np.random.normal(27, 5, n_muestras)\\n    diabetes = np.random.choice([0,1], n_muestras, p=[0.7, 0.3])\\n    \\n    # Cálculo de riesgo cardiovascular\\n    riesgo = (\\n        (edad > 50) * 0.3 +\\n        (genero == 'Masculino') * 0.2 +\\n        (colesterol > 240) * 0.25 +\\n        (presión_arterial > 140) * 0.2 +\\n        (imc > 30) * 0.15 +\\n        (diabetes == 1) * 0.3\\n        )\\n    \\n    # COnvertir el DataFrame\\n    df = pd.DataFrame ({\\n        'Edad': edad,\\n        'Género': genero,\\n        'Colesterol': colesterol,\\n        'Presión arterial': presión_arterial,\\n        'IMC': imc,\\n        'Diabetes': diabetes,\\n        'Riesgo Cardiovascular': riesgo\\n        })\\n\\n    return df\\n\\ndatos_cv = generar_datos_cardiovasculares()\""
      ]
     },
     "execution_count": 2,
     "metadata": {},
     "output_type": "execute_result"
    }
   ],
   "source": [
    "'''# Generacion de datos sinteticos\n",
    "def generar_datos_cardiovasculares(n_muestras=1000):\n",
    "    np.random.seed(42)\n",
    "    \n",
    "    # Generación de variables\n",
    "    edad = np.random.normal(55, 15, n_muestras)\n",
    "    genero = np.random.choice(['Masculino', 'Femenino'], n_muestras)\n",
    "    colesterol = np.random.normal(200, 40, n_muestras)\n",
    "    presión_arterial = np.random.normal(130, 20, n_muestras)\n",
    "    imc = np.random.normal(27, 5, n_muestras)\n",
    "    diabetes = np.random.choice([0,1], n_muestras, p=[0.7, 0.3])\n",
    "    \n",
    "    # Cálculo de riesgo cardiovascular\n",
    "    riesgo = (\n",
    "        (edad > 50) * 0.3 +\n",
    "        (genero == 'Masculino') * 0.2 +\n",
    "        (colesterol > 240) * 0.25 +\n",
    "        (presión_arterial > 140) * 0.2 +\n",
    "        (imc > 30) * 0.15 +\n",
    "        (diabetes == 1) * 0.3\n",
    "        )\n",
    "    \n",
    "    # COnvertir el DataFrame\n",
    "    df = pd.DataFrame ({\n",
    "        'Edad': edad,\n",
    "        'Género': genero,\n",
    "        'Colesterol': colesterol,\n",
    "        'Presión arterial': presión_arterial,\n",
    "        'IMC': imc,\n",
    "        'Diabetes': diabetes,\n",
    "        'Riesgo Cardiovascular': riesgo\n",
    "        })\n",
    "\n",
    "    return df\n",
    "\n",
    "datos_cv = generar_datos_cardiovasculares()'''"
   ]
  },
  {
   "cell_type": "markdown",
   "metadata": {},
   "source": [
    "### 2. Realizar las siguientes tareas de análisis: \n",
    "- Calcular estadísticas descriptivas \n",
    "- Identificar correlaciones entre variables \n",
    "- Segmentar la población por grupos de riesgo \n",
    "- Crear visualizaciones para comparar factores "
   ]
  },
  {
   "cell_type": "code",
   "execution_count": 3,
   "metadata": {},
   "outputs": [
    {
     "data": {
      "text/plain": [
       "\"def analisis_perfil_cardiovascular(df):\\n    # Estadísticas descriptivas\\n    print('Estadísticas descriptivas')\\n    print(df.describe())\\n    \\n    # Correlaciónes\\n    correlaciones = df[['Edad', 'Colesterol', 'Presión arterial', 'IMC']].corr()\\n    plt.figure(figsize=(10, 8))\\n    sns.heatmap(correlaciones, annot=True, cmap='coolwarm')\\n    plt.title('Matriz de correlaciones')\\n    plt.show()\\n    \\n\\n    # Segmentar los grupos de riesgo\\n    features = ['Edad', 'Colesterol', 'Presión arterial', 'IMC']\\n    scaler = StandardScaler()\\n    datos_escalados = scaler.fit_transform(df[features])\\n    kmeans = KMeans(n_clusters=3, random_state=42)\\n    df['Grupo de Riesgo'] = kmeans.fit_predict(datos_escalados)\\n\\n\\n    # Visualización de grupos de riesgo\\n    plt.figure(figsize=(12, 6))\\n    sns.scatterplot(data=df, x='Edad', y='Colesterol', hue='Grupo de Riesgo', palette='viridis')\\n    plt.title('Grupo de Riesgo Cardiovascular')\\n    plt.show()\\n                \\n    # Analisis de riesgo de género\\n    riesgo_por_genero = df.groupby('Género')['Riesgo Cardiovascular'].mean()\\n    print('\\nRiesgo Cardiovascular por Género')\\n    print(riesgo_por_genero)\\n    \\n    \\n    # Prueba Estadística de diferencias de riesgo por género\\n    riesgo_masculino = df[df['Género'] == 'Masculino']['Riesgo Cardiovascular']\\n    riesgo_femenino = df[df['Género'] == 'Femenino']['Riesgo Cardiovascular']\\n    \\n    t_statistic, p_value = stats.ttest_ind(riesgo_masculino, riesgo_femenino)\\n    print(f'\\nPrueba t de diferencia de riesgo por género')\\n    print(f'Estadístico t: {t_statistic}')\\n    print(f'Valor p: {p_value}')\\n    \\n    \\n                                        \\n# Ejecutar analisis \\nanalisis_perfil_cardiovascular(datos_cv)\""
      ]
     },
     "execution_count": 3,
     "metadata": {},
     "output_type": "execute_result"
    }
   ],
   "source": [
    "'''def analisis_perfil_cardiovascular(df):\n",
    "    # Estadísticas descriptivas\n",
    "    print('Estadísticas descriptivas')\n",
    "    print(df.describe())\n",
    "    \n",
    "    # Correlaciónes\n",
    "    correlaciones = df[['Edad', 'Colesterol', 'Presión arterial', 'IMC']].corr()\n",
    "    plt.figure(figsize=(10, 8))\n",
    "    sns.heatmap(correlaciones, annot=True, cmap='coolwarm')\n",
    "    plt.title('Matriz de correlaciones')\n",
    "    plt.show()\n",
    "    \n",
    "\n",
    "    # Segmentar los grupos de riesgo\n",
    "    features = ['Edad', 'Colesterol', 'Presión arterial', 'IMC']\n",
    "    scaler = StandardScaler()\n",
    "    datos_escalados = scaler.fit_transform(df[features])\n",
    "    kmeans = KMeans(n_clusters=3, random_state=42)\n",
    "    df['Grupo de Riesgo'] = kmeans.fit_predict(datos_escalados)\n",
    "\n",
    "\n",
    "    # Visualización de grupos de riesgo\n",
    "    plt.figure(figsize=(12, 6))\n",
    "    sns.scatterplot(data=df, x='Edad', y='Colesterol', hue='Grupo de Riesgo', palette='viridis')\n",
    "    plt.title('Grupo de Riesgo Cardiovascular')\n",
    "    plt.show()\n",
    "                \n",
    "    # Analisis de riesgo de género\n",
    "    riesgo_por_genero = df.groupby('Género')['Riesgo Cardiovascular'].mean()\n",
    "    print('\\nRiesgo Cardiovascular por Género')\n",
    "    print(riesgo_por_genero)\n",
    "    \n",
    "    \n",
    "    # Prueba Estadística de diferencias de riesgo por género\n",
    "    riesgo_masculino = df[df['Género'] == 'Masculino']['Riesgo Cardiovascular']\n",
    "    riesgo_femenino = df[df['Género'] == 'Femenino']['Riesgo Cardiovascular']\n",
    "    \n",
    "    t_statistic, p_value = stats.ttest_ind(riesgo_masculino, riesgo_femenino)\n",
    "    print(f'\\nPrueba t de diferencia de riesgo por género')\n",
    "    print(f'Estadístico t: {t_statistic}')\n",
    "    print(f'Valor p: {p_value}')\n",
    "    \n",
    "    \n",
    "                                        \n",
    "# Ejecutar analisis \n",
    "analisis_perfil_cardiovascular(datos_cv)'''"
   ]
  },
  {
   "cell_type": "markdown",
   "metadata": {},
   "source": [
    "### Ejercicio 1.2: Análisis de Ensayo Clínico de Nuevo Medicamento "
   ]
  },
  {
   "cell_type": "markdown",
   "metadata": {},
   "source": [
    "Descripción: Evaluar la eficacia de un nuevo tratamiento comparando grupos de \n",
    "intervención y control."
   ]
  },
  {
   "cell_type": "markdown",
   "metadata": {},
   "source": [
    "Instrucciones: "
   ]
  },
  {
   "cell_type": "markdown",
   "metadata": {},
   "source": [
    "1. Importar datos de un ensayo clínico con columnas: \n",
    "- ID de paciente \n",
    "- Grupo (intervención/control) \n",
    "- Dosis del medicamento \n",
    "- Marcadores biológicos \n",
    "- Efectos secundarios \n",
    "- Tiempo de recuperación "
   ]
  },
  {
   "cell_type": "code",
   "execution_count": null,
   "metadata": {},
   "outputs": [
    {
     "name": "stdout",
     "output_type": "stream",
     "text": [
      "Comparación de grupos:\n",
      "               Marcador_inicial  Marcador_final  Efectos_secundarios  \\\n",
      "Grupo                                                                 \n",
      "Control             100.975091      100.975091             0.039062   \n",
      "Intervencion        102.170947       81.382710             0.213115   \n",
      "\n",
      "              Tiempo_recuperacion  \n",
      "Grupo                              \n",
      "Control                 20.986556  \n",
      "Intervencion            14.203042  \n",
      "\n",
      "Prueba t para Marcadores:\n",
      "Estadístico t: -12.219107972874003\n",
      "Valor p: 0.000000\n",
      "\n",
      "Efectos secundarios por dosis en grupo de intervención:\n",
      " Dosis\n",
      "(51.676, 88.494]      0.238806\n",
      "(88.494, 125.166]     0.269231\n",
      "(125.166, 161.837]    0.222222\n",
      "(161.837, 198.508]    0.140845\n",
      "Name: Efectos_secundarios, dtype: float64\n"
     ]
    },
    {
     "name": "stderr",
     "output_type": "stream",
     "text": [
      "C:\\Users\\Javier\\AppData\\Local\\Temp\\ipykernel_10392\\3738216983.py:57: FutureWarning: The default of observed=False is deprecated and will be changed to True in a future version of pandas. Pass observed=False to retain current behavior or observed=True to adopt the future default and silence this warning.\n",
      "  .groupby(pd.cut(df[df['Grupo'] == 'Intervencion']['Dosis'], bins=4))\n"
     ]
    },
    {
     "data": {
      "image/png": "[encoded data removed]",
      "text/plain": [
       "<Figure size 800x500 with 2 Axes>"
      ]
     },
     "metadata": {},
     "output_type": "display_data"
    },
    {
     "name": "stdout",
     "output_type": "stream",
     "text": [
      "\n",
      "Modelo de Regresión - Dosis vs Marcador:\n",
      "Pendiente: 0.028646\n",
      "Intercepto: 77.777915\n"
     ]
    }
   ],
   "source": [
    "'''# Generación de datos sintéticos\n",
    "def generar_datos_ensayo_clinico(n_muestras=500):\n",
    "    np.random.seed(42)\n",
    "    # Variables\n",
    "    grupo = np.random.choice(['Intervencion', 'Control'], n_muestras)\n",
    "    dosis = np.where(grupo == 'Intervencion',\n",
    "                     np.random.uniform(50, 200, n_muestras),\n",
    "                     np.zeros(n_muestras))\n",
    "    # Marcadores biológicos simulados\n",
    "    marcador_base = np.random.normal(100, 20, n_muestras)\n",
    "    marcador_final = np.where(\n",
    "        grupo == 'Intervencion',\n",
    "        marcador_base * (1 - np.random.uniform(0.1, 0.3, n_muestras)),\n",
    "        marcador_base\n",
    "    )\n",
    "    # Efectos secundarios\n",
    "    efectos_secundarios = np.where(grupo == 'Intervencion', 0.2, 0.05)\n",
    "    efectos_secundarios = np.random.binomial(1, efectos_secundarios)\n",
    "    tiempo_recuperacion = np.where(\n",
    "        grupo == 'Intervencion',\n",
    "        np.random.normal(14, 3, n_muestras),\n",
    "        np.random.normal(21, 3, n_muestras)\n",
    "    )\n",
    "    \n",
    "    df = pd.DataFrame({\n",
    "        'ID': range(1, n_muestras + 1),\n",
    "        'Grupo': grupo,\n",
    "        'Dosis': dosis,\n",
    "        'Marcador_inicial': marcador_base,\n",
    "        'Marcador_final': marcador_final,\n",
    "        'Efectos_secundarios': efectos_secundarios,\n",
    "        'Tiempo_recuperacion': tiempo_recuperacion\n",
    "    })\n",
    "    return df\n",
    "# Generar los datos\n",
    "datos_ensayo = generar_datos_ensayo_clinico()\n",
    "# Análisis ensayo\n",
    "def analisis_ensayo_clinico(df):\n",
    "    # Análisis comparativo de grupos\n",
    "    comparacion_grupos = df.groupby('Grupo').agg({\n",
    "        'Marcador_inicial': 'mean',\n",
    "        'Marcador_final': 'mean',\n",
    "        'Efectos_secundarios': 'mean',\n",
    "        'Tiempo_recuperacion': 'mean'\n",
    "    })\n",
    "    print('Comparación de grupos:\\n', comparacion_grupos)\n",
    "\n",
    "    # Prueba de significancia (t-test) entre los marcadores de ambos grupos\n",
    "    grupo_intervencion = df[df['Grupo'] == 'Intervencion']['Marcador_final']\n",
    "    grupo_control = df[df['Grupo'] == 'Control']['Marcador_final']\n",
    "    \n",
    "    t_statistic, p_value = stats.ttest_ind(grupo_intervencion, grupo_control, equal_var=False)\n",
    "    print(f'\\nPrueba t para Marcadores:\\nEstadístico t: {t_statistic}\\nValor p: {p_value:4f}')\n",
    "    \n",
    "    # Promedio de efetos secundarios por rango de dosis en grupos de intervención\n",
    "    efectos_por_dosis = (df[df['Grupo'] == 'Intervencion']\n",
    "                         .groupby(pd.cut(df[df['Grupo'] == 'Intervencion']['Dosis'], bins=4))\n",
    "                         ['Efectos_secundarios'].mean())\n",
    "    print('\\nEfectos secundarios por dosis en grupo de intervención:\\n', efectos_por_dosis)\n",
    "\n",
    "\n",
    "    # Visualización de resultados\n",
    "    plt.figure(figsize=(8, 5))\n",
    "    \n",
    "    plt.subplot(1, 2, 1)\n",
    "    sns.boxplot(x='Grupo', y='Marcador_final', data=df)\n",
    "    plt.title('Marcador Final por Grupos')\n",
    "\n",
    "    # Scatterplot de dosis vs tiempo de recuperación en el grupo de intervención\n",
    "    plt.subplot(1, 2, 2)\n",
    "    sns.scatterplot(x='Dosis', y='Tiempo_recuperacion', hue= 'Efectos_secundarios', data=df[df['Grupo'] == 'Intervencion'])\n",
    "    plt.title('Dosis vs Tiempo de Recuperación')\n",
    "    \n",
    "    plt.tight_layout()\n",
    "    plt.show()\n",
    "\n",
    "    # Analisis de regresión Lineal: Relación entre dosis y marcador final\n",
    "    x = df[df['Grupo'] == 'Intervencion'] [['Dosis']]\n",
    "    y_marcador = df[df['Grupo'] == 'Intervencion']['Marcador_final']\n",
    "    \n",
    "    modelo = LinearRegression().fit(x, y_marcador)\n",
    "    print(f'\\nModelo de Regresión - Dosis vs Marcador:\\nPendiente: {modelo.coef_[0]:4f}\\nIntercepto: {modelo.intercept_:4f}')\n",
    "    \n",
    "    \n",
    "\n",
    "# Ejecutar análisis\n",
    "analisis_ensayo_clinico(datos_ensayo)'''"
   ]
  },
  {
   "cell_type": "markdown",
   "metadata": {},
   "source": [
    "2. Tareas a realizar: \n",
    "- Realizar pruebas estadísticas de significancia \n",
    "- Calcular tasas de respuesta al tratamiento \n",
    "- Analizar distribución de efectos secundarios \n",
    "- Crear intervalos de confianza para los resultados "
   ]
  },
  {
   "cell_type": "code",
   "execution_count": null,
   "metadata": {},
   "outputs": [],
   "source": []
  },
  {
   "cell_type": "markdown",
   "metadata": {},
   "source": [
    "### Ejercicio 1.3: Estudio Nutricional Longitudinal"
   ]
  },
  {
   "cell_type": "markdown",
   "metadata": {},
   "source": [
    "**Descripción**: Analizar cambios en parámetros nutricionales de un grupo de \n",
    "pacientes."
   ]
  },
  {
   "cell_type": "markdown",
   "metadata": {},
   "source": [
    "**Instrucciones**:"
   ]
  },
  {
   "cell_type": "markdown",
   "metadata": {},
   "source": [
    "1. Cargar datos con información: \n",
    "- Nombre del participante \n",
    "- Edad \n",
    "- Peso \n",
    "- Índice de masa corporal \n",
    "- Consumo calórico \n",
    "- Niveles de micronutrientes \n",
    "- Actividad física"
   ]
  },
  {
   "cell_type": "code",
   "execution_count": null,
   "metadata": {},
   "outputs": [],
   "source": []
  },
  {
   "cell_type": "markdown",
   "metadata": {},
   "source": [
    "2. Desarrollar análisis: \n",
    "- Identificar tendencias de cambio \n",
    "- Calcular promedios y desviaciones estándar \n",
    "- Realizar agrupaciones por características demográficas \n",
    "- Generar informes de progresión individual "
   ]
  },
  {
   "cell_type": "code",
   "execution_count": null,
   "metadata": {},
   "outputs": [],
   "source": []
  },
  {
   "cell_type": "markdown",
   "metadata": {},
   "source": [
    "### Ejercicio 1.4: Base de Datos Genómica "
   ]
  },
  {
   "cell_type": "markdown",
   "metadata": {},
   "source": [
    "**Descripción**: Analizar variantes genéticas asociadas a una condición médica \n",
    "específica. "
   ]
  },
  {
   "cell_type": "markdown",
   "metadata": {},
   "source": [
    "**Instrucciones**: "
   ]
  },
  {
   "cell_type": "markdown",
   "metadata": {},
   "source": [
    "1. Manejar conjunto de datos genómicos con: \n",
    "- ID de muestra \n",
    "- Marcadores genéticos \n",
    "- Presencia/ausencia de mutación \n",
    "- Información clínica asociada \n",
    "- Resultado de condición médica "
   ]
  },
  {
   "cell_type": "code",
   "execution_count": null,
   "metadata": {},
   "outputs": [],
   "source": []
  },
  {
   "cell_type": "markdown",
   "metadata": {},
   "source": [
    "2. Tareas de análisis: \n",
    "- Identificar frecuencia de variantes \n",
    "- Realizar análisis de asociación genética \n",
    "- Crear visualizaciones de distribución genética \n",
    "- Calcular riesgos relativos "
   ]
  },
  {
   "cell_type": "code",
   "execution_count": null,
   "metadata": {},
   "outputs": [],
   "source": []
  },
  {
   "cell_type": "markdown",
   "metadata": {},
   "source": [
    "### Ejercicio 1.5: Registro de Eventos Hospitalarios"
   ]
  },
  {
   "cell_type": "markdown",
   "metadata": {},
   "source": [
    "**Descripción**: Analizar eficiencia y patrones en un registro de eventos \n",
    "hospitalarios."
   ]
  },
  {
   "cell_type": "markdown",
   "metadata": {},
   "source": [
    "**Instrucciones**:"
   ]
  },
  {
   "cell_type": "markdown",
   "metadata": {},
   "source": [
    "1. Trabajar con datos de: \n",
    "- Número de ingreso \n",
    "- Fecha de admisión/alta \n",
    "- Especialidad médica \n",
    "- Duración de estancia \n",
    "- Diagnóstico principal \n",
    "- Procedimientos realizados"
   ]
  },
  {
   "cell_type": "code",
   "execution_count": 20,
   "metadata": {},
   "outputs": [
    {
     "data": {
      "text/html": [
       "<div>\n",
       "<style scoped>\n",
       "    .dataframe tbody tr th:only-of-type {\n",
       "        vertical-align: middle;\n",
       "    }\n",
       "\n",
       "    .dataframe tbody tr th {\n",
       "        vertical-align: top;\n",
       "    }\n",
       "\n",
       "    .dataframe thead th {\n",
       "        text-align: right;\n",
       "    }\n",
       "</style>\n",
       "<table border=\"1\" class=\"dataframe\">\n",
       "  <thead>\n",
       "    <tr style=\"text-align: right;\">\n",
       "      <th></th>\n",
       "      <th>NumIngreso</th>\n",
       "      <th>FechaAdmision</th>\n",
       "      <th>FechaAlta</th>\n",
       "      <th>Especialidad</th>\n",
       "      <th>Diagnostico</th>\n",
       "      <th>DuracionEstancia</th>\n",
       "      <th>Procedimiento</th>\n",
       "    </tr>\n",
       "  </thead>\n",
       "  <tbody>\n",
       "    <tr>\n",
       "      <th>0</th>\n",
       "      <td>HOSP_1</td>\n",
       "      <td>2025-12-15</td>\n",
       "      <td>2025-12-22</td>\n",
       "      <td>Oncologia</td>\n",
       "      <td>Neumonia</td>\n",
       "      <td>7</td>\n",
       "      <td>1</td>\n",
       "    </tr>\n",
       "    <tr>\n",
       "      <th>1</th>\n",
       "      <td>HOSP_2</td>\n",
       "      <td>2025-05-02</td>\n",
       "      <td>2025-05-09</td>\n",
       "      <td>Oncologia</td>\n",
       "      <td>Hipertension</td>\n",
       "      <td>7</td>\n",
       "      <td>3</td>\n",
       "    </tr>\n",
       "    <tr>\n",
       "      <th>2</th>\n",
       "      <td>HOSP_3</td>\n",
       "      <td>2025-03-29</td>\n",
       "      <td>2025-04-09</td>\n",
       "      <td>Medicina Interna</td>\n",
       "      <td>Fractura</td>\n",
       "      <td>11</td>\n",
       "      <td>4</td>\n",
       "    </tr>\n",
       "    <tr>\n",
       "      <th>3</th>\n",
       "      <td>HOSP_4</td>\n",
       "      <td>2025-05-11</td>\n",
       "      <td>2025-05-19</td>\n",
       "      <td>Pediatria</td>\n",
       "      <td>Neumonia</td>\n",
       "      <td>8</td>\n",
       "      <td>2</td>\n",
       "    </tr>\n",
       "    <tr>\n",
       "      <th>4</th>\n",
       "      <td>HOSP_5</td>\n",
       "      <td>2025-10-21</td>\n",
       "      <td>2025-10-29</td>\n",
       "      <td>Nuerologia</td>\n",
       "      <td>Fractura</td>\n",
       "      <td>8</td>\n",
       "      <td>1</td>\n",
       "    </tr>\n",
       "  </tbody>\n",
       "</table>\n",
       "</div>"
      ],
      "text/plain": [
       "  NumIngreso FechaAdmision  FechaAlta      Especialidad   Diagnostico  \\\n",
       "0     HOSP_1    2025-12-15 2025-12-22         Oncologia      Neumonia   \n",
       "1     HOSP_2    2025-05-02 2025-05-09         Oncologia  Hipertension   \n",
       "2     HOSP_3    2025-03-29 2025-04-09  Medicina Interna      Fractura   \n",
       "3     HOSP_4    2025-05-11 2025-05-19         Pediatria      Neumonia   \n",
       "4     HOSP_5    2025-10-21 2025-10-29        Nuerologia      Fractura   \n",
       "\n",
       "   DuracionEstancia  Procedimiento  \n",
       "0                 7              1  \n",
       "1                 7              3  \n",
       "2                11              4  \n",
       "3                 8              2  \n",
       "4                 8              1  "
      ]
     },
     "execution_count": 20,
     "metadata": {},
     "output_type": "execute_result"
    }
   ],
   "source": [
    "def generar_datos_hospitalarios(n_eventos=1000):\n",
    "    np.random.seed(42)\n",
    "    \n",
    "    # Especialidades médicas\n",
    "    especialidades = [\n",
    "        'Cardiologia', 'Nuerologia', 'Oncologia',\n",
    "        'Traumatologia', 'Medicina Interna', 'Pediatria'\n",
    "    ]\n",
    "    \n",
    "    diagnostico = [\n",
    "        'Infarto', 'Ictus', 'Tumor', 'Fractura',\n",
    "        'Neumonia', 'Diabetes', 'Hipertension'\n",
    "    ]\n",
    "    \n",
    "    # Generación de datos\n",
    "    datos = []\n",
    "    fecha_base = pd.Timestamp('2025-01-01')\n",
    "    \n",
    "    for i in range(n_eventos):\n",
    "        # Fecha de admisión y alta\n",
    "        duracion = np.random.randint(1, 15)\n",
    "        fecha_admision = fecha_base + pd.Timedelta(days=np.random.randint(0, 365))\n",
    "        fecha_alta = fecha_admision + pd.Timedelta(days=duracion)\n",
    "        \n",
    "        datos.append({\n",
    "            'NumIngreso': f'HOSP_{i+1}',\n",
    "            'FechaAdmision': fecha_admision,\n",
    "            'FechaAlta': fecha_alta,\n",
    "            'Especialidad': np.random.choice(especialidades),\n",
    "            'Diagnostico': np.random.choice(diagnostico),\n",
    "            'DuracionEstancia': duracion,\n",
    "            'Procedimiento': np.random.randint(1,5)\n",
    "            })\n",
    "        \n",
    "    return pd.DataFrame(datos)\n",
    "    \n",
    "    # Generar los datos hospitalarios\n",
    "datos_hospitalarios = generar_datos_hospitalarios()\n",
    "\n",
    "# Mostrar los primeros registros\n",
    "datos_hospitalarios.head()"
   ]
  },
  {
   "cell_type": "markdown",
   "metadata": {},
   "source": [
    "2. Realizar análisis: \n",
    "- Calcular tiempos de estancia promedio \n",
    "- Identificar especialidades con mayor carga \n",
    "- Analizar distribución de diagnósticos \n",
    "- Crear indicadores de eficiencia hospitalaria \n"
   ]
  },
  {
   "cell_type": "code",
   "execution_count": 41,
   "metadata": {},
   "outputs": [
    {
     "name": "stdout",
     "output_type": "stream",
     "text": [
      "Estadísticas de Estancia por Especialidad\n",
      "                       mean  median  max  count\n",
      "Especialidad                                  \n",
      "Oncologia         7.875000     8.0   14    176\n",
      "Cardiologia       7.551724     8.0   14    174\n",
      "Medicina Interna  7.742515     7.0   14    167\n",
      "Nuerologia        7.871166     8.0   14    163\n",
      "Pediatria         7.043210     7.0   14    162\n",
      "Traumatologia     7.405063     7.0   14    158\n"
     ]
    },
    {
     "data": {
      "image/png": "[encoded data removed]",
      "text/plain": [
       "<Figure size 1200x600 with 1 Axes>"
      ]
     },
     "metadata": {},
     "output_type": "display_data"
    },
    {
     "name": "stdout",
     "output_type": "stream",
     "text": [
      "\n",
      "Distribución de Diagnósticos\n",
      " Diagnostico\n",
      "Neumonia        0.155\n",
      "Tumor           0.147\n",
      "Ictus           0.144\n",
      "Hipertension    0.143\n",
      "Fractura        0.142\n",
      "Infarto         0.139\n",
      "Diabetes        0.130\n",
      "Name: proportion, dtype: float64\n"
     ]
    },
    {
     "data": {
      "image/png": "[encoded data removed]",
      "text/plain": [
       "<Figure size 1200x600 with 1 Axes>"
      ]
     },
     "metadata": {},
     "output_type": "display_data"
    },
    {
     "name": "stdout",
     "output_type": "stream",
     "text": [
      "\n",
      "Correlación entre Procedimiento - Duración de Estancia\n",
      "Coeficiente de Correlación: 0.004180033394106976\n",
      "\n",
      "Analisis de varianza duración de estancia\n",
      "F-statistic: 1.081428417774029\n",
      "P-Value: 0.36896662590305657\n"
     ]
    }
   ],
   "source": [
    "def analisis_eventos_hospitalarios(df):\n",
    "    \n",
    "    # Estadisticas de estancia\n",
    "    estancia_por_especialidad = df.groupby('Especialidad')['DuracionEstancia'].agg(['mean', 'median', 'max', 'count']).sort_values('count', ascending=False)\n",
    "    print('Estadísticas de Estancia por Especialidad\\n', estancia_por_especialidad)\n",
    "    \n",
    "       \n",
    "    # Visualizar carga por especialidades\n",
    "    plt.figure(figsize=(12, 6))\n",
    "    df['Especialidad'].value_counts().plot(kind='bar', color='skyblue')\n",
    "    plt.title('Volumen de eventos por Especialidad')\n",
    "    plt.xlabel('Especialidad')\n",
    "    plt.ylabel('Número de Eventos')\n",
    "    plt.xticks(rotation=45)\n",
    "    \n",
    "    plt.show()\n",
    "    \n",
    "    # Distribución por diagnóstico\n",
    "    distribucion_diagnostico = df['Diagnostico'].value_counts(normalize=True)\n",
    "    print('\\nDistribución de Diagnósticos\\n', distribucion_diagnostico)\n",
    "\n",
    "\n",
    "    # Analisis temporal para tiempo estancia\n",
    "    df['Mes'] = df['FechaAdmision'].dt.to_period('M')\n",
    "    eventos_mensuales = df.groupby('Mes').size()\n",
    "    \n",
    "    \n",
    "    plt.figure(figsize=(12, 6))\n",
    "    eventos_mensuales.plot(kind='line', color='red')\n",
    "    plt.title('Eventos hospitalarios mensuales')\n",
    "    plt.xlabel('Mes')\n",
    "    plt.ylabel('Número de eventos')\n",
    "    plt.show()\n",
    "    \n",
    "    \n",
    "    # Indicadores de efiencia\n",
    "    #Correlación entre el procedimiento y duración de la estancia\n",
    "    correlacion = df['Procedimiento'].corr(df['DuracionEstancia'])\n",
    "    print('\\nCorrelación entre Procedimiento - Duración de Estancia')\n",
    "    print(f'Coeficiente de Correlación: {correlacion}')\n",
    "\n",
    "    # Prueba estadística de varianza\n",
    "    grupos_especialidad = [\n",
    "        grupo['DuracionEstancia']\n",
    "        for nombre, grupo in df.groupby('Especialidad')\n",
    "    ]\n",
    "    f_statistic, p_value = stats.f_oneway(*grupos_especialidad)\n",
    "    print('\\nAnalisis de varianza duración de estancia')\n",
    "    print(f'F-statistic: {f_statistic}\\nP-Value: {p_value}')\n",
    "    \n",
    "    \n",
    "# Ejecutar el analisis\n",
    "analisis_eventos_hospitalarios(datos_hospitalarios)"
   ]
  },
  {
   "cell_type": "markdown",
   "metadata": {},
   "source": [
    "### 2. Análisis de Grafos"
   ]
  },
  {
   "cell_type": "markdown",
   "metadata": {},
   "source": [
    "### Ejercicio 2.1: Red de Transmisión Epidemiológica"
   ]
  },
  {
   "cell_type": "markdown",
   "metadata": {},
   "source": [
    "Descripción: Modelar y analizar la propagación de una enfermedad infecciosa. "
   ]
  },
  {
   "cell_type": "markdown",
   "metadata": {},
   "source": [
    "Instrucciones: "
   ]
  },
  {
   "cell_type": "markdown",
   "metadata": {},
   "source": [
    "1. Construir grafo de transmisión con: \n",
    "- Nodos: Individuos \n",
    "- Aristas: Contactos/Transmisión \n",
    "- Atributos: Edad, estado de salud, localización "
   ]
  },
  {
   "cell_type": "code",
   "execution_count": null,
   "metadata": {},
   "outputs": [],
   "source": []
  },
  {
   "cell_type": "markdown",
   "metadata": {},
   "source": [
    "2. Tareas de análisis: \n",
    "- Calcular centralidad de nodos \n",
    "- Identificar \"superspreaders\" \n",
    "- Simular patrones de propagación \n",
    "- Visualizar estructura de red "
   ]
  },
  {
   "cell_type": "code",
   "execution_count": null,
   "metadata": {},
   "outputs": [],
   "source": []
  },
  {
   "cell_type": "markdown",
   "metadata": {},
   "source": [
    "### Ejercicio 2.2: Interacciones Proteicas "
   ]
  },
  {
   "cell_type": "markdown",
   "metadata": {},
   "source": [
    "Descripción: Analizar red de interacciones proteicas en una vía metabólica. "
   ]
  },
  {
   "cell_type": "markdown",
   "metadata": {},
   "source": [
    "Instrucciones: "
   ]
  },
  {
   "cell_type": "markdown",
   "metadata": {},
   "source": [
    "1. Crear grafo de interacciones con: \n",
    "- Nodos: Proteínas \n",
    "- Aristas: Interacciones/Modificaciones \n",
    "- Atributos: Función biológica "
   ]
  },
  {
   "cell_type": "code",
   "execution_count": null,
   "metadata": {},
   "outputs": [],
   "source": []
  },
  {
   "cell_type": "markdown",
   "metadata": {},
   "source": [
    "2. Desarrollar análisis: \n",
    "- Identificar proteínas clave \n",
    "- Calcular grados de conectividad \n",
    "- Analizar comunidades de proteínas \n",
    "- Visualizar estructura de red"
   ]
  },
  {
   "cell_type": "code",
   "execution_count": null,
   "metadata": {},
   "outputs": [],
   "source": []
  },
  {
   "cell_type": "markdown",
   "metadata": {},
   "source": [
    "### Ejercicio 2.3: Red de Colaboración Científica "
   ]
  },
  {
   "cell_type": "markdown",
   "metadata": {},
   "source": [
    "Descripción: Estudiar colaboraciones en investigación biomédica. "
   ]
  },
  {
   "cell_type": "markdown",
   "metadata": {},
   "source": [
    "Instrucciones:"
   ]
  },
  {
   "cell_type": "markdown",
   "metadata": {},
   "source": [
    "1. Construir grafo de: \n",
    "- Nodos: Investigadores \n",
    "- Aristas: Publicaciones conjuntas \n",
    "- Atributos: Especialidad, institución "
   ]
  },
  {
   "cell_type": "code",
   "execution_count": null,
   "metadata": {},
   "outputs": [],
   "source": []
  },
  {
   "cell_type": "markdown",
   "metadata": {},
   "source": [
    "2. Realizar análisis: \n",
    "- Calcular índices de centralidad \n",
    "- Identificar investigadores clave \n",
    "- Analizar comunidades de investigación \n",
    "- Visualizar estructura de colaboración "
   ]
  },
  {
   "cell_type": "code",
   "execution_count": null,
   "metadata": {},
   "outputs": [],
   "source": []
  },
  {
   "cell_type": "markdown",
   "metadata": {},
   "source": [
    "### Ejercicio 2.4: Red de Referencia Hospitalaria "
   ]
  },
  {
   "cell_type": "markdown",
   "metadata": {},
   "source": [
    "Descripción: Modelar sistema de referencias entre centros de salud. "
   ]
  },
  {
   "cell_type": "markdown",
   "metadata": {},
   "source": [
    "Instrucciones:"
   ]
  },
  {
   "cell_type": "markdown",
   "metadata": {},
   "source": [
    "1. Crear grafo de: \n",
    "- Nodos: Centros de salud \n",
    "- Aristas: Referencias/Derivaciones \n",
    "- Atributos: Especialidades, complejidad "
   ]
  },
  {
   "cell_type": "code",
   "execution_count": null,
   "metadata": {},
   "outputs": [],
   "source": []
  },
  {
   "cell_type": "markdown",
   "metadata": {},
   "source": [
    "2. Tareas de análisis: \n",
    "- Identificar centros centrales \n",
    "- Calcular flujos de referencia \n",
    "- Analizar eficiencia del sistema \n",
    "- Visualizar estructura de red \n"
   ]
  },
  {
   "cell_type": "code",
   "execution_count": null,
   "metadata": {},
   "outputs": [],
   "source": []
  },
  {
   "cell_type": "markdown",
   "metadata": {},
   "source": [
    "### Ejercicio 2.5: Red de Transmisión Genética"
   ]
  },
  {
   "cell_type": "markdown",
   "metadata": {},
   "source": [
    "Descripción: Analizar árbol genealógico para estudios de herencia. "
   ]
  },
  {
   "cell_type": "markdown",
   "metadata": {},
   "source": [
    "Instrucciones:"
   ]
  },
  {
   "cell_type": "markdown",
   "metadata": {},
   "source": [
    "1. Construir grafo de: \n",
    "- Nodos: Individuos \n",
    "- Aristas: Relaciones familiares \n",
    "- Atributos: Características genéticas"
   ]
  },
  {
   "cell_type": "code",
   "execution_count": null,
   "metadata": {},
   "outputs": [],
   "source": []
  },
  {
   "cell_type": "markdown",
   "metadata": {},
   "source": [
    "2. Desarrollar análisis: \n",
    "- Identificar patrones de herencia \n",
    "- Calcular probabilidades genéticas \n",
    "- Visualizar árbol genealógico \n",
    "- Analizar riesgos de transmisión"
   ]
  },
  {
   "cell_type": "code",
   "execution_count": null,
   "metadata": {},
   "outputs": [],
   "source": []
  },
  {
   "cell_type": "markdown",
   "metadata": {},
   "source": [
    "### 3. Análisis de Datos Textuales"
   ]
  },
  {
   "cell_type": "markdown",
   "metadata": {},
   "source": [
    "Ejercicio 3.1: Análisis de Historias Clínicas"
   ]
  },
  {
   "cell_type": "markdown",
   "metadata": {},
   "source": [
    "Descripción: Extraer información de registros médicos textuales."
   ]
  },
  {
   "cell_type": "markdown",
   "metadata": {},
   "source": [
    "Instrucciones: "
   ]
  },
  {
   "cell_type": "markdown",
   "metadata": {},
   "source": [
    "1. Recopilar conjunto de: \n",
    "- Informes médicos \n",
    "- Notas de evolución \n",
    "- Resúmenes de alta "
   ]
  },
  {
   "cell_type": "code",
   "execution_count": null,
   "metadata": {},
   "outputs": [],
   "source": []
  },
  {
   "cell_type": "markdown",
   "metadata": {},
   "source": [
    "2. Realizar procesamiento: \n",
    "- Limpieza de texto \n",
    "- Extracción de entidades médicas \n",
    "- Análisis de sentimiento \n",
    "- Identificación de diagnósticos"
   ]
  },
  {
   "cell_type": "code",
   "execution_count": null,
   "metadata": {},
   "outputs": [],
   "source": []
  },
  {
   "cell_type": "markdown",
   "metadata": {},
   "source": [
    "### Ejercicio 3.2: Minería de Literatura Científica"
   ]
  },
  {
   "cell_type": "markdown",
   "metadata": {},
   "source": [
    "Descripción: Analizar publicaciones biomédicas."
   ]
  },
  {
   "cell_type": "markdown",
   "metadata": {},
   "source": [
    "Instrucciones: "
   ]
  },
  {
   "cell_type": "markdown",
   "metadata": {},
   "source": [
    "1. Recopilar corpus de: \n",
    "- Artículos científicos \n",
    "- Resúmenes de investigación \n",
    "- Revisiones sistemáticas "
   ]
  },
  {
   "cell_type": "code",
   "execution_count": null,
   "metadata": {},
   "outputs": [],
   "source": []
  },
  {
   "cell_type": "markdown",
   "metadata": {},
   "source": [
    "2. Desarrollar análisis: \n",
    "- Extracción de palabras clave \n",
    "- Identificación de temas \n",
    "- Análisis de co-ocurrencia \n",
    "- Visualización de tendencias"
   ]
  },
  {
   "cell_type": "code",
   "execution_count": null,
   "metadata": {},
   "outputs": [],
   "source": []
  },
  {
   "cell_type": "markdown",
   "metadata": {},
   "source": [
    "### Ejercicio 3.3: Análisis de Consentimientos Informados"
   ]
  },
  {
   "cell_type": "markdown",
   "metadata": {},
   "source": [
    "Descripción: Procesar documentos de consentimiento. "
   ]
  },
  {
   "cell_type": "markdown",
   "metadata": {},
   "source": [
    "Instrucciones: "
   ]
  },
  {
   "cell_type": "markdown",
   "metadata": {},
   "source": [
    "1. Trabajar con: \n",
    "- Modelos de consentimiento \n",
    "- Variantes de documentos \n",
    "- Versiones en diferentes idiomas "
   ]
  },
  {
   "cell_type": "code",
   "execution_count": null,
   "metadata": {},
   "outputs": [],
   "source": []
  },
  {
   "cell_type": "markdown",
   "metadata": {},
   "source": [
    "2. Realizar tareas: \n",
    "- Normalización de texto \n",
    "- Extracción de cláusulas \n",
    "- Análisis comparativo \n",
    "- Identificación de variaciones"
   ]
  },
  {
   "cell_type": "code",
   "execution_count": null,
   "metadata": {},
   "outputs": [],
   "source": []
  },
  {
   "cell_type": "markdown",
   "metadata": {},
   "source": [
    "### Ejercicio 3.4: Revisión de Reportes de Eventos Adversos"
   ]
  },
  {
   "cell_type": "markdown",
   "metadata": {},
   "source": [
    "Descripción: Analizar reportes de farmacovigilancia."
   ]
  },
  {
   "cell_type": "markdown",
   "metadata": {},
   "source": [
    "Instrucciones:"
   ]
  },
  {
   "cell_type": "markdown",
   "metadata": {},
   "source": [
    "1. Recopilar: \n",
    "- Reportes de efectos secundarios \n",
    "- Descripciones de incidentes \n",
    "- Información de pacientes "
   ]
  },
  {
   "cell_type": "code",
   "execution_count": null,
   "metadata": {},
   "outputs": [],
   "source": []
  },
  {
   "cell_type": "markdown",
   "metadata": {},
   "source": [
    "2. Desarrollar análisis: \n",
    "- Clasificación de eventos \n",
    "- Extracción de síntomas \n",
    "- Identificación de patrones \n",
    "- Generación de alertas "
   ]
  },
  {
   "cell_type": "code",
   "execution_count": null,
   "metadata": {},
   "outputs": [],
   "source": []
  },
  {
   "cell_type": "markdown",
   "metadata": {},
   "source": [
    "### Ejercicio 3.5: Análisis de Comunicaciones de Pacientes"
   ]
  },
  {
   "cell_type": "markdown",
   "metadata": {},
   "source": [
    "Descripción: Procesar comunicaciones en plataformas de salud."
   ]
  },
  {
   "cell_type": "markdown",
   "metadata": {},
   "source": [
    "Instrucciones:"
   ]
  },
  {
   "cell_type": "markdown",
   "metadata": {},
   "source": [
    "1. Trabajar con: \n",
    "- Mensajes de pacientes \n",
    "- Consultas en línea \n",
    "- Foros de salud"
   ]
  },
  {
   "cell_type": "code",
   "execution_count": null,
   "metadata": {},
   "outputs": [],
   "source": []
  },
  {
   "cell_type": "markdown",
   "metadata": {},
   "source": [
    "2. Realizar tareas: \n",
    "- Clasificación de consultas \n",
    "- Análisis de sentimiento \n",
    "- Detección de necesidades \n",
    "- Generación de insights "
   ]
  },
  {
   "cell_type": "code",
   "execution_count": null,
   "metadata": {},
   "outputs": [],
   "source": []
  },
  {
   "cell_type": "markdown",
   "metadata": {},
   "source": [
    "### 4. Análisis de Series Temporales"
   ]
  },
  {
   "cell_type": "markdown",
   "metadata": {},
   "source": [
    "Ejercicio 4.1: Monitoreo de Indicadores Epidemiológicos "
   ]
  },
  {
   "cell_type": "markdown",
   "metadata": {},
   "source": [
    "Descripción: Analizar evolución de enfermedades. "
   ]
  },
  {
   "cell_type": "markdown",
   "metadata": {},
   "source": [
    "Instrucciones: "
   ]
  },
  {
   "cell_type": "markdown",
   "metadata": {},
   "source": [
    "1. Recopilar datos de: \n",
    "- Casos confirmados \n",
    "- Hospitalizaciones \n",
    "- Recuperaciones \n",
    "- Fallecimientos "
   ]
  },
  {
   "cell_type": "code",
   "execution_count": null,
   "metadata": {},
   "outputs": [],
   "source": []
  },
  {
   "cell_type": "markdown",
   "metadata": {},
   "source": [
    "2. Realizar análisis: \n",
    "- Descomposición de series \n",
    "- Predicción de tendencias \n",
    "- Detección de patrones estacionales \n",
    "- Modelado de escenarios \n"
   ]
  },
  {
   "cell_type": "code",
   "execution_count": null,
   "metadata": {},
   "outputs": [],
   "source": []
  },
  {
   "cell_type": "markdown",
   "metadata": {},
   "source": [
    "### Ejercicio 4.2: Seguimiento de Parámetros Fisiológicos "
   ]
  },
  {
   "cell_type": "markdown",
   "metadata": {},
   "source": [
    "Descripción: Monitorear variables de pacientes."
   ]
  },
  {
   "cell_type": "markdown",
   "metadata": {},
   "source": [
    "Instrucciones:"
   ]
  },
  {
   "cell_type": "markdown",
   "metadata": {},
   "source": [
    "1. Trabajar con: \n",
    "- Registros de presión arterial \n",
    "- Niveles de glucosa \n",
    "- Frecuencia cardíaca \n",
    "- Peso corporal "
   ]
  },
  {
   "cell_type": "code",
   "execution_count": null,
   "metadata": {},
   "outputs": [],
   "source": []
  },
  {
   "cell_type": "markdown",
   "metadata": {},
   "source": [
    "2. Desarrollar análisis: \n",
    "- Identificación de tendencias \n",
    "- Detección de anomalías \n",
    "- Predicción de cambios \n",
    "- Generación de alertas "
   ]
  },
  {
   "cell_type": "code",
   "execution_count": null,
   "metadata": {},
   "outputs": [],
   "source": []
  },
  {
   "cell_type": "markdown",
   "metadata": {},
   "source": [
    "### Ejercicio 4.3: Evolución de Tratamientos Farmacológicos"
   ]
  },
  {
   "cell_type": "markdown",
   "metadata": {},
   "source": [
    "Descripción: Seguimiento de respuesta a medicamentos."
   ]
  },
  {
   "cell_type": "markdown",
   "metadata": {},
   "source": [
    "Instrucciones: "
   ]
  },
  {
   "cell_type": "markdown",
   "metadata": {},
   "source": [
    "1. Recopilar datos de: \n",
    "- Dosis administradas \n",
    "- Marcadores biológicos \n",
    "- Respuesta al tratamiento \n",
    "- Efectos secundarios "
   ]
  },
  {
   "cell_type": "code",
   "execution_count": null,
   "metadata": {},
   "outputs": [],
   "source": []
  },
  {
   "cell_type": "markdown",
   "metadata": {},
   "source": [
    "2. Realizar tareas: \n",
    "- Análisis de progresión \n",
    "- Modelado de respuesta \n",
    "- Identificación de patrones \n",
    "- Optimización de tratamientos "
   ]
  },
  {
   "cell_type": "code",
   "execution_count": null,
   "metadata": {},
   "outputs": [],
   "source": []
  },
  {
   "cell_type": "markdown",
   "metadata": {},
   "source": [
    "### Ejercicio 4.4: Estudio de Variabilidad Genética "
   ]
  },
  {
   "cell_type": "markdown",
   "metadata": {},
   "source": [
    "Descripción: Analizar cambios genéticos en el tiempo. "
   ]
  },
  {
   "cell_type": "markdown",
   "metadata": {},
   "source": [
    "Instrucciones: \n"
   ]
  },
  {
   "cell_type": "markdown",
   "metadata": {},
   "source": [
    "1. Trabajar con: \n",
    "- Secuencias genéticas \n",
    "- Mutaciones \n",
    "- Expresión génica \n",
    "- Marcadores evolutivos "
   ]
  },
  {
   "cell_type": "code",
   "execution_count": null,
   "metadata": {},
   "outputs": [],
   "source": []
  },
  {
   "cell_type": "markdown",
   "metadata": {},
   "source": [
    "2. Desarrollar análisis: \n",
    "- Identificación de cambios \n",
    "- Modelado de evolución \n",
    "- Predicción de variantes \n",
    "- Estudio de trayectorias "
   ]
  },
  {
   "cell_type": "code",
   "execution_count": null,
   "metadata": {},
   "outputs": [],
   "source": []
  },
  {
   "cell_type": "markdown",
   "metadata": {},
   "source": [
    "### Ejercicio 4.5: Registro de Parámetros Ambientales en Salud"
   ]
  },
  {
   "cell_type": "markdown",
   "metadata": {},
   "source": [
    "Descripción: Monitorear impacto ambiental."
   ]
  },
  {
   "cell_type": "markdown",
   "metadata": {},
   "source": [
    "Instrucciones: "
   ]
  },
  {
   "cell_type": "markdown",
   "metadata": {},
   "source": [
    "1. Recopilar datos de: \n",
    "- Contaminación atmosférica \n",
    "- Temperatura \n",
    "- Humedad \n",
    "- Índices de enfermedades"
   ]
  },
  {
   "cell_type": "code",
   "execution_count": null,
   "metadata": {},
   "outputs": [],
   "source": []
  },
  {
   "cell_type": "markdown",
   "metadata": {},
   "source": [
    "2. Realizar tareas: \n",
    "- Correlación ambiente-salud \n",
    "- Predicción de impactos \n",
    "- Identificación de patrones \n",
    "- Modelado de escenarios"
   ]
  },
  {
   "cell_type": "code",
   "execution_count": null,
   "metadata": {},
   "outputs": [],
   "source": []
  },
  {
   "cell_type": "markdown",
   "metadata": {},
   "source": [
    "### 5. Análisis de Imágenes"
   ]
  },
  {
   "cell_type": "markdown",
   "metadata": {},
   "source": [
    "Ejercicio 5.1: Diagnóstico por Imágenes Médicas"
   ]
  },
  {
   "cell_type": "markdown",
   "metadata": {},
   "source": [
    "Descripción: Procesamiento de radiografías."
   ]
  },
  {
   "cell_type": "markdown",
   "metadata": {},
   "source": [
    "Instrucciones: "
   ]
  },
  {
   "cell_type": "markdown",
   "metadata": {},
   "source": [
    "1. Trabajar con: \n",
    "- Radiografías de tórax \n",
    "- Imágenes de resonancia \n",
    "- Tomografías \n",
    "- Marcadores de lesiones "
   ]
  },
  {
   "cell_type": "code",
   "execution_count": null,
   "metadata": {},
   "outputs": [],
   "source": []
  },
  {
   "cell_type": "markdown",
   "metadata": {},
   "source": [
    "2. Realizar tareas: \n",
    "- Segmentación de imágenes \n",
    "- Detección de anomalías -\n",
    "- Clasificación de lesiones \n",
    "- Cuantificación de hallazgos "
   ]
  },
  {
   "cell_type": "code",
   "execution_count": null,
   "metadata": {},
   "outputs": [],
   "source": []
  },
  {
   "cell_type": "markdown",
   "metadata": {},
   "source": [
    "### Ejercicio 5.2: Análisis Histológico "
   ]
  },
  {
   "cell_type": "markdown",
   "metadata": {},
   "source": [
    "Descripción: Procesamiento de imágenes microscópicas. "
   ]
  },
  {
   "cell_type": "markdown",
   "metadata": {},
   "source": [
    "Instrucciones: "
   ]
  },
  {
   "cell_type": "markdown",
   "metadata": {},
   "source": [
    "1. Recopilar: \n",
    "- Preparaciones histológicas \n",
    "- Cortes celulares \n",
    "- Imágenes de tejidos \n",
    "- Marcadores tumorales"
   ]
  },
  {
   "cell_type": "code",
   "execution_count": null,
   "metadata": {},
   "outputs": [],
   "source": []
  },
  {
   "cell_type": "markdown",
   "metadata": {},
   "source": [
    "2. Desarrollar análisis: \n",
    "- Segmentación celular \n",
    "- Clasificación de estructuras \n",
    "- Cuantificación de células \n",
    "- Detección de patologías "
   ]
  },
  {
   "cell_type": "code",
   "execution_count": null,
   "metadata": {},
   "outputs": [],
   "source": []
  },
  {
   "cell_type": "markdown",
   "metadata": {},
   "source": [
    "### Ejercicio 5.3: Seguimiento de Cicatrización"
   ]
  },
  {
   "cell_type": "markdown",
   "metadata": {},
   "source": [
    "Descripción: Monitoreo de heridas."
   ]
  },
  {
   "cell_type": "markdown",
   "metadata": {},
   "source": [
    "Instrucciones: "
   ]
  },
  {
   "cell_type": "markdown",
   "metadata": {},
   "source": [
    "1. Trabajar con: \n",
    "- Fotografías de heridas \n",
    "- Imágenes secuenciales \n",
    "- Marcadores de evolución \n",
    "- Registros de curación"
   ]
  },
  {
   "cell_type": "code",
   "execution_count": null,
   "metadata": {},
   "outputs": [],
   "source": []
  },
  {
   "cell_type": "markdown",
   "metadata": {},
   "source": [
    "2. Realizar tareas: \n",
    "- Medición de área \n",
    "- Análisis de color \n",
    "- Detección de cambios \n",
    "- Predicción de cicatrización "
   ]
  },
  {
   "cell_type": "code",
   "execution_count": null,
   "metadata": {},
   "outputs": [],
   "source": []
  },
  {
   "cell_type": "markdown",
   "metadata": {},
   "source": [
    "### Ejercicio 5.4: Análisis de Biomarcadores Visuales"
   ]
  },
  {
   "cell_type": "markdown",
   "metadata": {},
   "source": [
    "Descripción: Procesamiento de imágenes de biomarcadores."
   ]
  },
  {
   "cell_type": "markdown",
   "metadata": {},
   "source": [
    "Instrucciones:"
   ]
  },
  {
   "cell_type": "markdown",
   "metadata": {},
   "source": [
    "1. Recopilar: \n",
    "- Imágenes de marcadores \n",
    "- Tinciones específicas \n",
    "- Biomarcadores fluorescentes \n",
    "- Registros de expresión "
   ]
  },
  {
   "cell_type": "code",
   "execution_count": null,
   "metadata": {},
   "outputs": [],
   "source": []
  },
  {
   "cell_type": "markdown",
   "metadata": {},
   "source": [
    "2. Desarrollar análisis: \n",
    "- Cuantificación de expresión \n",
    "- Segmentación de marcadores \n",
    "- Clasificación de patrones \n",
    "- Correlación con diagnósticos "
   ]
  },
  {
   "cell_type": "code",
   "execution_count": null,
   "metadata": {},
   "outputs": [],
   "source": []
  },
  {
   "cell_type": "markdown",
   "metadata": {},
   "source": [
    "### Ejercicio 5.5: Análisis Genético por Imagen "
   ]
  },
  {
   "cell_type": "markdown",
   "metadata": {},
   "source": [
    "Descripción: Procesamiento de cariotipo."
   ]
  },
  {
   "cell_type": "markdown",
   "metadata": {},
   "source": [
    "Instrucciones:"
   ]
  },
  {
   "cell_type": "markdown",
   "metadata": {},
   "source": [
    "1. Trabajar con: \n",
    "- Imágenes de cromosomas \n",
    "- Preparaciones de cariotipo \n",
    "- Marcadores cromosómicos \n",
    "- Registros genéticos "
   ]
  },
  {
   "cell_type": "code",
   "execution_count": null,
   "metadata": {},
   "outputs": [],
   "source": []
  },
  {
   "cell_type": "markdown",
   "metadata": {},
   "source": [
    "2. Realizar tareas: \n",
    "- Identificación cromosómica \n",
    "- Detección de anomalías \n",
    "- Cuantificación de variantes \n",
    "- Análisis de estructuras \n"
   ]
  },
  {
   "cell_type": "code",
   "execution_count": null,
   "metadata": {},
   "outputs": [],
   "source": []
  },
  {
   "cell_type": "markdown",
   "metadata": {},
   "source": [
    "### Próximos Pasos "
   ]
  },
  {
   "cell_type": "markdown",
   "metadata": {},
   "source": [
    "**Para cada ejercicio, se recomienda**:\n",
    "   - Utilizar herramientas como Python (pandas, numpy, scikit-learn) \n",
    "   - Emplear librerías especializadas (scipy, matplotlib) \n",
    "   - Aplicar técnicas de machine learning \n",
    "   - Validar resultados con expertos del área "
   ]
  }
 ],
 "metadata": {
  "kernelspec": {
   "display_name": "python",
   "language": "python",
   "name": "python3"
  },
  "language_info": {
   "codemirror_mode": {
    "name": "ipython",
    "version": 3
   },
   "file_extension": ".py",
   "mimetype": "text/x-python",
   "name": "python",
   "nbconvert_exporter": "python",
   "pygments_lexer": "ipython3",
   "version": "3.12.9"
  }
 },
 "nbformat": 4,
 "nbformat_minor": 2
}
