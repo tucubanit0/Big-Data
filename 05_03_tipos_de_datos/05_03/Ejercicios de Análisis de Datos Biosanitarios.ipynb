{
 "cells": [
  {
   "cell_type": "code",
   "execution_count": 1,
   "metadata": {},
   "outputs": [],
   "source": [
    "import pandas as pd\n",
    "import numpy as np\n",
    "import matplotlib.pyplot as plt\n",
    "import seaborn as sns\n",
    "import networkx as nx\n",
    "import scipy.stats as stats\n",
    "from sklearn.preprocessing import StandardScaler\n",
    "from sklearn.cluster import KMeans\n",
    "from sklearn.decomposition import PCA"
   ]
  },
  {
   "cell_type": "markdown",
   "metadata": {},
   "source": [
    "### **Ejercicios de Análisis de Datos Biosanitarios**"
   ]
  },
  {
   "cell_type": "markdown",
   "metadata": {},
   "source": [
    "### 1. Análisis de Datos Tabulares"
   ]
  },
  {
   "cell_type": "markdown",
   "metadata": {},
   "source": [
    "### Ejercicio 1.1: Perfil Epidemiológico de Enfermedades Cardiovasculares"
   ]
  },
  {
   "cell_type": "markdown",
   "metadata": {},
   "source": [
    "Descripción: Analizar un conjunto de datos de pacientes para identificar \n",
    "factores de riesgo y patrones relacionados con enfermedades cardiovasculares. "
   ]
  },
  {
   "cell_type": "markdown",
   "metadata": {},
   "source": [
    "### Instrucciones: "
   ]
  },
  {
   "cell_type": "markdown",
   "metadata": {},
   "source": [
    "### 1. Cargar un conjunto de datos de historias clínicas con las siguientes variables:\n",
    "- Edad \n",
    "- Género \n",
    "- Nivel de colesterol \n",
    "- Presión arterial \n",
    "- Índice de masa corporal (IMC) \n",
    "- Historial de diabetes \n",
    "- Incidencia de enfermedad cardiovascular"
   ]
  },
  {
   "cell_type": "code",
   "execution_count": 2,
   "metadata": {},
   "outputs": [
    {
     "data": {
      "text/plain": [
       "\"# Generacion de datos sinteticos\\ndef generar_datos_cardiovasculares(n_muestras=1000):\\n    np.random.seed(42)\\n    \\n    # Generación de variables\\n    edad = np.random.normal(55, 15, n_muestras)\\n    genero = np.random.choice(['Masculino', 'Femenino'], n_muestras)\\n    colesterol = np.random.normal(200, 40, n_muestras)\\n    presión_arterial = np.random.normal(130, 20, n_muestras)\\n    imc = np.random.normal(27, 5, n_muestras)\\n    diabetes = np.random.choice([0,1], n_muestras, p=[0.7, 0.3])\\n    \\n    # Cálculo de riesgo cardiovascular\\n    riesgo = (\\n        (edad > 50) * 0.3 +\\n        (genero == 'Masculino') * 0.2 +\\n        (colesterol > 240) * 0.25 +\\n        (presión_arterial > 140) * 0.2 +\\n        (imc > 30) * 0.15 +\\n        (diabetes == 1) * 0.3\\n        )\\n    \\n    # COnvertir el DataFrame\\n    df = pd.DataFrame ({\\n        'Edad': edad,\\n        'Género': genero,\\n        'Colesterol': colesterol,\\n        'Presión arterial': presión_arterial,\\n        'IMC': imc,\\n        'Diabetes': diabetes,\\n        'Riesgo Cardiovascular': riesgo\\n        })\\n\\n    return df\\n\\ndatos_cv = generar_datos_cardiovasculares()\""
      ]
     },
     "execution_count": 2,
     "metadata": {},
     "output_type": "execute_result"
    }
   ],
   "source": [
    "'''# Generacion de datos sinteticos\n",
    "def generar_datos_cardiovasculares(n_muestras=1000):\n",
    "    np.random.seed(42)\n",
    "    \n",
    "    # Generación de variables\n",
    "    edad = np.random.normal(55, 15, n_muestras)\n",
    "    genero = np.random.choice(['Masculino', 'Femenino'], n_muestras)\n",
    "    colesterol = np.random.normal(200, 40, n_muestras)\n",
    "    presión_arterial = np.random.normal(130, 20, n_muestras)\n",
    "    imc = np.random.normal(27, 5, n_muestras)\n",
    "    diabetes = np.random.choice([0,1], n_muestras, p=[0.7, 0.3])\n",
    "    \n",
    "    # Cálculo de riesgo cardiovascular\n",
    "    riesgo = (\n",
    "        (edad > 50) * 0.3 +\n",
    "        (genero == 'Masculino') * 0.2 +\n",
    "        (colesterol > 240) * 0.25 +\n",
    "        (presión_arterial > 140) * 0.2 +\n",
    "        (imc > 30) * 0.15 +\n",
    "        (diabetes == 1) * 0.3\n",
    "        )\n",
    "    \n",
    "    # COnvertir el DataFrame\n",
    "    df = pd.DataFrame ({\n",
    "        'Edad': edad,\n",
    "        'Género': genero,\n",
    "        'Colesterol': colesterol,\n",
    "        'Presión arterial': presión_arterial,\n",
    "        'IMC': imc,\n",
    "        'Diabetes': diabetes,\n",
    "        'Riesgo Cardiovascular': riesgo\n",
    "        })\n",
    "\n",
    "    return df\n",
    "\n",
    "datos_cv = generar_datos_cardiovasculares()'''"
   ]
  },
  {
   "cell_type": "markdown",
   "metadata": {},
   "source": [
    "### 2. Realizar las siguientes tareas de análisis: \n",
    "- Calcular estadísticas descriptivas \n",
    "- Identificar correlaciones entre variables \n",
    "- Segmentar la población por grupos de riesgo \n",
    "- Crear visualizaciones para comparar factores "
   ]
  },
  {
   "cell_type": "code",
   "execution_count": 3,
   "metadata": {},
   "outputs": [
    {
     "data": {
      "text/plain": [
       "\"def analisis_perfil_cardiovascular(df):\\n    # Estadísticas descriptivas\\n    print('Estadísticas descriptivas')\\n    print(df.describe())\\n    \\n    # Correlaciónes\\n    correlaciones = df[['Edad', 'Colesterol', 'Presión arterial', 'IMC']].corr()\\n    plt.figure(figsize=(10, 8))\\n    sns.heatmap(correlaciones, annot=True, cmap='coolwarm')\\n    plt.title('Matriz de correlaciones')\\n    plt.show()\\n    \\n\\n    # Segmentar los grupos de riesgo\\n    features = ['Edad', 'Colesterol', 'Presión arterial', 'IMC']\\n    scaler = StandardScaler()\\n    datos_escalados = scaler.fit_transform(df[features])\\n    kmeans = KMeans(n_clusters=3, random_state=42)\\n    df['Grupo de Riesgo'] = kmeans.fit_predict(datos_escalados)\\n\\n\\n    # Visualización de grupos de riesgo\\n    plt.figure(figsize=(12, 6))\\n    sns.scatterplot(data=df, x='Edad', y='Colesterol', hue='Grupo de Riesgo', palette='viridis')\\n    plt.title('Grupo de Riesgo Cardiovascular')\\n    plt.show()\\n                \\n    # Analisis de riesgo de género\\n    riesgo_por_genero = df.groupby('Género')['Riesgo Cardiovascular'].mean()\\n    print('\\nRiesgo Cardiovascular por Género')\\n    print(riesgo_por_genero)\\n    \\n    \\n    # Prueba Estadística de diferencias de riesgo por género\\n    riesgo_masculino = df[df['Género'] == 'Masculino']['Riesgo Cardiovascular']\\n    riesgo_femenino = df[df['Género'] == 'Femenino']['Riesgo Cardiovascular']\\n    \\n    t_statistic, p_value = stats.ttest_ind(riesgo_masculino, riesgo_femenino)\\n    print(f'\\nPrueba t de diferencia de riesgo por género')\\n    print(f'Estadístico t: {t_statistic}')\\n    print(f'Valor p: {p_value}')\\n    \\n    \\n                                        \\n# Ejecutar analisis \\nanalisis_perfil_cardiovascular(datos_cv)\""
      ]
     },
     "execution_count": 3,
     "metadata": {},
     "output_type": "execute_result"
    }
   ],
   "source": [
    "'''def analisis_perfil_cardiovascular(df):\n",
    "    # Estadísticas descriptivas\n",
    "    print('Estadísticas descriptivas')\n",
    "    print(df.describe())\n",
    "    \n",
    "    # Correlaciónes\n",
    "    correlaciones = df[['Edad', 'Colesterol', 'Presión arterial', 'IMC']].corr()\n",
    "    plt.figure(figsize=(10, 8))\n",
    "    sns.heatmap(correlaciones, annot=True, cmap='coolwarm')\n",
    "    plt.title('Matriz de correlaciones')\n",
    "    plt.show()\n",
    "    \n",
    "\n",
    "    # Segmentar los grupos de riesgo\n",
    "    features = ['Edad', 'Colesterol', 'Presión arterial', 'IMC']\n",
    "    scaler = StandardScaler()\n",
    "    datos_escalados = scaler.fit_transform(df[features])\n",
    "    kmeans = KMeans(n_clusters=3, random_state=42)\n",
    "    df['Grupo de Riesgo'] = kmeans.fit_predict(datos_escalados)\n",
    "\n",
    "\n",
    "    # Visualización de grupos de riesgo\n",
    "    plt.figure(figsize=(12, 6))\n",
    "    sns.scatterplot(data=df, x='Edad', y='Colesterol', hue='Grupo de Riesgo', palette='viridis')\n",
    "    plt.title('Grupo de Riesgo Cardiovascular')\n",
    "    plt.show()\n",
    "                \n",
    "    # Analisis de riesgo de género\n",
    "    riesgo_por_genero = df.groupby('Género')['Riesgo Cardiovascular'].mean()\n",
    "    print('\\nRiesgo Cardiovascular por Género')\n",
    "    print(riesgo_por_genero)\n",
    "    \n",
    "    \n",
    "    # Prueba Estadística de diferencias de riesgo por género\n",
    "    riesgo_masculino = df[df['Género'] == 'Masculino']['Riesgo Cardiovascular']\n",
    "    riesgo_femenino = df[df['Género'] == 'Femenino']['Riesgo Cardiovascular']\n",
    "    \n",
    "    t_statistic, p_value = stats.ttest_ind(riesgo_masculino, riesgo_femenino)\n",
    "    print(f'\\nPrueba t de diferencia de riesgo por género')\n",
    "    print(f'Estadístico t: {t_statistic}')\n",
    "    print(f'Valor p: {p_value}')\n",
    "    \n",
    "    \n",
    "                                        \n",
    "# Ejecutar analisis \n",
    "analisis_perfil_cardiovascular(datos_cv)'''"
   ]
  },
  {
   "cell_type": "markdown",
   "metadata": {},
   "source": [
    "### Ejercicio 1.2: Análisis de Ensayo Clínico de Nuevo Medicamento "
   ]
  },
  {
   "cell_type": "markdown",
   "metadata": {},
   "source": [
    "Descripción: Evaluar la eficacia de un nuevo tratamiento comparando grupos de \n",
    "intervención y control."
   ]
  },
  {
   "cell_type": "markdown",
   "metadata": {},
   "source": [
    "Instrucciones: "
   ]
  },
  {
   "cell_type": "markdown",
   "metadata": {},
   "source": [
    "1. Importar datos de un ensayo clínico con columnas: \n",
    "- ID de paciente \n",
    "- Grupo (intervención/control) \n",
    "- Dosis del medicamento \n",
    "- Marcadores biológicos \n",
    "- Efectos secundarios \n",
    "- Tiempo de recuperación "
   ]
  },
  {
   "cell_type": "code",
   "execution_count": 12,
   "metadata": {},
   "outputs": [
    {
     "name": "stdout",
     "output_type": "stream",
     "text": [
      "Comparación de grupos\n",
      "              Marcador_inicial  Marcador_final  Efectos_secundarios  \\\n",
      "Grupo                                                                 \n",
      "Control             100.975091      100.975091             0.039062   \n",
      "Intervencion        102.170947       81.382710             0.213115   \n",
      "\n",
      "              Tiempo_recuperacion  \n",
      "Grupo                              \n",
      "Control                 20.986556  \n",
      "Intervencion            14.203042  \n"
     ]
    }
   ],
   "source": [
    "'''# Generación de datos sintéticos\n",
    "def generar_datos_ensayo_clinico(n_muestras=500):\n",
    "    np.random.seed(42)\n",
    "    \n",
    "    # Variables\n",
    "    grupo = np.random.choice(['Intervencion', 'Control'], n_muestras)\n",
    "    dosis = np.where(grupo == 'Intervencion',\n",
    "                     np.randomuniform(50, 200, n_muestras),\n",
    "                     np.zeros(n_muestras))\n",
    "    \n",
    "    # Marcadores biologicos simulados\n",
    "    marcador_base = np.random.normal(100, 20, n_muestras)\n",
    "    marcador_final = np.where(\n",
    "        grupo == 'Intervencion',\n",
    "        marcador_base * (1 - np.random.uniform(0.1, 0.3, n_muestras)),\n",
    "        marcador_base\n",
    "    )\n",
    "    \n",
    "    # Efectos secundarios\n",
    "    efectos_secundarios = np.random.binomial(1, 0.2 if grupo == 'Intervencion' else 0.05, n_muestras)\n",
    "    tiempo_recuperacion = np.random.normal(\n",
    "        14 if grupo == 'Intervencion' else 21,\n",
    "        3,\n",
    "        n_muestras)\n",
    "    \n",
    "    df = pd.DataFrame({\n",
    "        'ID': range(1, n_muestras + 1),\n",
    "        'Grupo': grupo,\n",
    "        'Dosis': dosis,\n",
    "        'Marcador_inicial' : marcador_base,\n",
    "        'Marcador_final': marcador_final,\n",
    "        'Efectos_secundarios': efectos_secundarios,\n",
    "        'Tiempo_recuperacion': tiempo_recuperacion\n",
    "    })\n",
    "    \n",
    "    return df\n",
    "\n",
    "# Generar los datos\n",
    "\n",
    "datos_ensayo= generar_datos_ensayo_clinico()\n",
    "\n",
    "# Analisis ensayo\n",
    "def analisis_ensayo_clinico(df):\n",
    "    # Analisis comparativo de grupos\n",
    "    comparacion_grupos = df.groupby('Grupo').agg({\n",
    "        'Marcador_inicial': 'mean',\n",
    "        'Marcador_final': 'mean',\n",
    "        'Efectos_secundarios': 'mean',\n",
    "        'Tiempo_recuperacion': 'mean'\n",
    "    })\n",
    "    print('Comparacionde grupos')\n",
    "    print(comparacion_grupos)\n",
    "\n",
    "# Ejecutar analisis\n",
    "analisis_ensayo_clinico(datos_ensayo)'''\n",
    "\n",
    "# Generación de datos sintéticos\n",
    "def generar_datos_ensayo_clinico(n_muestras=500):\n",
    "    np.random.seed(42)\n",
    "    # Variables\n",
    "    grupo = np.random.choice(['Intervencion', 'Control'], n_muestras)\n",
    "    dosis = np.where(grupo == 'Intervencion',\n",
    "                     np.random.uniform(50, 200, n_muestras),\n",
    "                     np.zeros(n_muestras))\n",
    "    # Marcadores biológicos simulados\n",
    "    marcador_base = np.random.normal(100, 20, n_muestras)\n",
    "    marcador_final = np.where(\n",
    "        grupo == 'Intervencion',\n",
    "        marcador_base * (1 - np.random.uniform(0.1, 0.3, n_muestras)),\n",
    "        marcador_base\n",
    "    )\n",
    "    # Efectos secundarios\n",
    "    efectos_secundarios = np.where(grupo == 'Intervencion', 0.2, 0.05)\n",
    "    efectos_secundarios = np.random.binomial(1, efectos_secundarios)\n",
    "    tiempo_recuperacion = np.where(\n",
    "        grupo == 'Intervencion',\n",
    "        np.random.normal(14, 3, n_muestras),\n",
    "        np.random.normal(21, 3, n_muestras)\n",
    "    )\n",
    "    \n",
    "    df = pd.DataFrame({\n",
    "        'ID': range(1, n_muestras + 1),\n",
    "        'Grupo': grupo,\n",
    "        'Dosis': dosis,\n",
    "        'Marcador_inicial': marcador_base,\n",
    "        'Marcador_final': marcador_final,\n",
    "        'Efectos_secundarios': efectos_secundarios,\n",
    "        'Tiempo_recuperacion': tiempo_recuperacion\n",
    "    })\n",
    "    return df\n",
    "# Generar los datos\n",
    "datos_ensayo = generar_datos_ensayo_clinico()\n",
    "# Análisis ensayo\n",
    "def analisis_ensayo_clinico(df):\n",
    "    # Análisis comparativo de grupos\n",
    "    comparacion_grupos = df.groupby('Grupo').agg({\n",
    "        'Marcador_inicial': 'mean',\n",
    "        'Marcador_final': 'mean',\n",
    "        'Efectos_secundarios': 'mean',\n",
    "        'Tiempo_recuperacion': 'mean'\n",
    "    })\n",
    "    print('Comparación de grupos')\n",
    "    print(comparacion_grupos)\n",
    "# Ejecutar análisis\n",
    "analisis_ensayo_clinico(datos_ensayo)"
   ]
  },
  {
   "cell_type": "markdown",
   "metadata": {},
   "source": [
    "2. Tareas a realizar: \n",
    "- Realizar pruebas estadísticas de significancia \n",
    "- Calcular tasas de respuesta al tratamiento \n",
    "- Analizar distribución de efectos secundarios \n",
    "- Crear intervalos de confianza para los resultados "
   ]
  },
  {
   "cell_type": "code",
   "execution_count": null,
   "metadata": {},
   "outputs": [],
   "source": []
  },
  {
   "cell_type": "markdown",
   "metadata": {},
   "source": [
    "### Ejercicio 1.3: Estudio Nutricional Longitudinal"
   ]
  },
  {
   "cell_type": "markdown",
   "metadata": {},
   "source": [
    "**Descripción**: Analizar cambios en parámetros nutricionales de un grupo de \n",
    "pacientes."
   ]
  },
  {
   "cell_type": "markdown",
   "metadata": {},
   "source": [
    "**Instrucciones**:"
   ]
  },
  {
   "cell_type": "markdown",
   "metadata": {},
   "source": [
    "1. Cargar datos con información: \n",
    "- Nombre del participante \n",
    "- Edad \n",
    "- Peso \n",
    "- Índice de masa corporal \n",
    "- Consumo calórico \n",
    "- Niveles de micronutrientes \n",
    "- Actividad física"
   ]
  },
  {
   "cell_type": "code",
   "execution_count": null,
   "metadata": {},
   "outputs": [],
   "source": []
  },
  {
   "cell_type": "markdown",
   "metadata": {},
   "source": [
    "2. Desarrollar análisis: \n",
    "- Identificar tendencias de cambio \n",
    "- Calcular promedios y desviaciones estándar \n",
    "- Realizar agrupaciones por características demográficas \n",
    "- Generar informes de progresión individual "
   ]
  },
  {
   "cell_type": "code",
   "execution_count": null,
   "metadata": {},
   "outputs": [],
   "source": []
  },
  {
   "cell_type": "markdown",
   "metadata": {},
   "source": [
    "### Ejercicio 1.4: Base de Datos Genómica "
   ]
  },
  {
   "cell_type": "markdown",
   "metadata": {},
   "source": [
    "**Descripción**: Analizar variantes genéticas asociadas a una condición médica \n",
    "específica. "
   ]
  },
  {
   "cell_type": "markdown",
   "metadata": {},
   "source": [
    "**Instrucciones**: "
   ]
  },
  {
   "cell_type": "markdown",
   "metadata": {},
   "source": [
    "1. Manejar conjunto de datos genómicos con: \n",
    "- ID de muestra \n",
    "- Marcadores genéticos \n",
    "- Presencia/ausencia de mutación \n",
    "- Información clínica asociada \n",
    "- Resultado de condición médica "
   ]
  },
  {
   "cell_type": "code",
   "execution_count": null,
   "metadata": {},
   "outputs": [],
   "source": []
  },
  {
   "cell_type": "markdown",
   "metadata": {},
   "source": [
    "2. Tareas de análisis: \n",
    "- Identificar frecuencia de variantes \n",
    "- Realizar análisis de asociación genética \n",
    "- Crear visualizaciones de distribución genética \n",
    "- Calcular riesgos relativos "
   ]
  },
  {
   "cell_type": "code",
   "execution_count": null,
   "metadata": {},
   "outputs": [],
   "source": []
  },
  {
   "cell_type": "markdown",
   "metadata": {},
   "source": [
    "### Ejercicio 1.5: Registro de Eventos Hospitalarios"
   ]
  },
  {
   "cell_type": "markdown",
   "metadata": {},
   "source": [
    "**Descripción**: Analizar eficiencia y patrones en un registro de eventos \n",
    "hospitalarios."
   ]
  },
  {
   "cell_type": "markdown",
   "metadata": {},
   "source": [
    "**Instrucciones**:"
   ]
  },
  {
   "cell_type": "markdown",
   "metadata": {},
   "source": [
    "1. Trabajar con datos de: \n",
    "- Número de ingreso \n",
    "- Fecha de admisión/alta \n",
    "- Especialidad médica \n",
    "- Duración de estancia \n",
    "- Diagnóstico principal \n",
    "- Procedimientos realizados"
   ]
  },
  {
   "cell_type": "code",
   "execution_count": null,
   "metadata": {},
   "outputs": [],
   "source": []
  },
  {
   "cell_type": "markdown",
   "metadata": {},
   "source": [
    "2. Realizar análisis: \n",
    "- Calcular tiempos de estancia promedio \n",
    "- Identificar especialidades con mayor carga \n",
    "- Analizar distribución de diagnósticos \n",
    "- Crear indicadores de eficiencia hospitalaria \n"
   ]
  },
  {
   "cell_type": "code",
   "execution_count": null,
   "metadata": {},
   "outputs": [],
   "source": []
  },
  {
   "cell_type": "markdown",
   "metadata": {},
   "source": [
    "### 2. Análisis de Grafos"
   ]
  },
  {
   "cell_type": "markdown",
   "metadata": {},
   "source": [
    "### Ejercicio 2.1: Red de Transmisión Epidemiológica"
   ]
  },
  {
   "cell_type": "markdown",
   "metadata": {},
   "source": [
    "Descripción: Modelar y analizar la propagación de una enfermedad infecciosa. "
   ]
  },
  {
   "cell_type": "markdown",
   "metadata": {},
   "source": [
    "Instrucciones: "
   ]
  },
  {
   "cell_type": "markdown",
   "metadata": {},
   "source": [
    "1. Construir grafo de transmisión con: \n",
    "- Nodos: Individuos \n",
    "- Aristas: Contactos/Transmisión \n",
    "- Atributos: Edad, estado de salud, localización "
   ]
  },
  {
   "cell_type": "code",
   "execution_count": null,
   "metadata": {},
   "outputs": [],
   "source": []
  },
  {
   "cell_type": "markdown",
   "metadata": {},
   "source": [
    "2. Tareas de análisis: \n",
    "- Calcular centralidad de nodos \n",
    "- Identificar \"superspreaders\" \n",
    "- Simular patrones de propagación \n",
    "- Visualizar estructura de red "
   ]
  },
  {
   "cell_type": "code",
   "execution_count": null,
   "metadata": {},
   "outputs": [],
   "source": []
  },
  {
   "cell_type": "markdown",
   "metadata": {},
   "source": [
    "### Ejercicio 2.2: Interacciones Proteicas "
   ]
  },
  {
   "cell_type": "markdown",
   "metadata": {},
   "source": [
    "Descripción: Analizar red de interacciones proteicas en una vía metabólica. "
   ]
  },
  {
   "cell_type": "markdown",
   "metadata": {},
   "source": [
    "Instrucciones: "
   ]
  },
  {
   "cell_type": "markdown",
   "metadata": {},
   "source": [
    "1. Crear grafo de interacciones con: \n",
    "- Nodos: Proteínas \n",
    "- Aristas: Interacciones/Modificaciones \n",
    "- Atributos: Función biológica "
   ]
  },
  {
   "cell_type": "code",
   "execution_count": null,
   "metadata": {},
   "outputs": [],
   "source": []
  },
  {
   "cell_type": "markdown",
   "metadata": {},
   "source": [
    "2. Desarrollar análisis: \n",
    "- Identificar proteínas clave \n",
    "- Calcular grados de conectividad \n",
    "- Analizar comunidades de proteínas \n",
    "- Visualizar estructura de red"
   ]
  },
  {
   "cell_type": "code",
   "execution_count": null,
   "metadata": {},
   "outputs": [],
   "source": []
  },
  {
   "cell_type": "markdown",
   "metadata": {},
   "source": [
    "### Ejercicio 2.3: Red de Colaboración Científica "
   ]
  },
  {
   "cell_type": "markdown",
   "metadata": {},
   "source": [
    "Descripción: Estudiar colaboraciones en investigación biomédica. "
   ]
  },
  {
   "cell_type": "markdown",
   "metadata": {},
   "source": [
    "Instrucciones:"
   ]
  },
  {
   "cell_type": "markdown",
   "metadata": {},
   "source": [
    "1. Construir grafo de: \n",
    "- Nodos: Investigadores \n",
    "- Aristas: Publicaciones conjuntas \n",
    "- Atributos: Especialidad, institución "
   ]
  },
  {
   "cell_type": "code",
   "execution_count": null,
   "metadata": {},
   "outputs": [],
   "source": []
  },
  {
   "cell_type": "markdown",
   "metadata": {},
   "source": [
    "2. Realizar análisis: \n",
    "- Calcular índices de centralidad \n",
    "- Identificar investigadores clave \n",
    "- Analizar comunidades de investigación \n",
    "- Visualizar estructura de colaboración "
   ]
  },
  {
   "cell_type": "code",
   "execution_count": null,
   "metadata": {},
   "outputs": [],
   "source": []
  },
  {
   "cell_type": "markdown",
   "metadata": {},
   "source": [
    "### Ejercicio 2.4: Red de Referencia Hospitalaria "
   ]
  },
  {
   "cell_type": "markdown",
   "metadata": {},
   "source": [
    "Descripción: Modelar sistema de referencias entre centros de salud. "
   ]
  },
  {
   "cell_type": "markdown",
   "metadata": {},
   "source": [
    "Instrucciones:"
   ]
  },
  {
   "cell_type": "markdown",
   "metadata": {},
   "source": [
    "1. Crear grafo de: \n",
    "- Nodos: Centros de salud \n",
    "- Aristas: Referencias/Derivaciones \n",
    "- Atributos: Especialidades, complejidad "
   ]
  },
  {
   "cell_type": "code",
   "execution_count": null,
   "metadata": {},
   "outputs": [],
   "source": []
  },
  {
   "cell_type": "markdown",
   "metadata": {},
   "source": [
    "2. Tareas de análisis: \n",
    "- Identificar centros centrales \n",
    "- Calcular flujos de referencia \n",
    "- Analizar eficiencia del sistema \n",
    "- Visualizar estructura de red \n"
   ]
  },
  {
   "cell_type": "code",
   "execution_count": null,
   "metadata": {},
   "outputs": [],
   "source": []
  },
  {
   "cell_type": "markdown",
   "metadata": {},
   "source": [
    "### Ejercicio 2.5: Red de Transmisión Genética"
   ]
  },
  {
   "cell_type": "markdown",
   "metadata": {},
   "source": [
    "Descripción: Analizar árbol genealógico para estudios de herencia. "
   ]
  },
  {
   "cell_type": "markdown",
   "metadata": {},
   "source": [
    "Instrucciones:"
   ]
  },
  {
   "cell_type": "markdown",
   "metadata": {},
   "source": [
    "1. Construir grafo de: \n",
    "- Nodos: Individuos \n",
    "- Aristas: Relaciones familiares \n",
    "- Atributos: Características genéticas"
   ]
  },
  {
   "cell_type": "code",
   "execution_count": null,
   "metadata": {},
   "outputs": [],
   "source": []
  },
  {
   "cell_type": "markdown",
   "metadata": {},
   "source": [
    "2. Desarrollar análisis: \n",
    "- Identificar patrones de herencia \n",
    "- Calcular probabilidades genéticas \n",
    "- Visualizar árbol genealógico \n",
    "- Analizar riesgos de transmisión"
   ]
  },
  {
   "cell_type": "code",
   "execution_count": null,
   "metadata": {},
   "outputs": [],
   "source": []
  },
  {
   "cell_type": "markdown",
   "metadata": {},
   "source": [
    "### 3. Análisis de Datos Textuales"
   ]
  },
  {
   "cell_type": "markdown",
   "metadata": {},
   "source": [
    "Ejercicio 3.1: Análisis de Historias Clínicas"
   ]
  },
  {
   "cell_type": "markdown",
   "metadata": {},
   "source": [
    "Descripción: Extraer información de registros médicos textuales."
   ]
  },
  {
   "cell_type": "markdown",
   "metadata": {},
   "source": [
    "Instrucciones: "
   ]
  },
  {
   "cell_type": "markdown",
   "metadata": {},
   "source": [
    "1. Recopilar conjunto de: \n",
    "- Informes médicos \n",
    "- Notas de evolución \n",
    "- Resúmenes de alta "
   ]
  },
  {
   "cell_type": "code",
   "execution_count": null,
   "metadata": {},
   "outputs": [],
   "source": []
  },
  {
   "cell_type": "markdown",
   "metadata": {},
   "source": [
    "2. Realizar procesamiento: \n",
    "- Limpieza de texto \n",
    "- Extracción de entidades médicas \n",
    "- Análisis de sentimiento \n",
    "- Identificación de diagnósticos"
   ]
  },
  {
   "cell_type": "code",
   "execution_count": null,
   "metadata": {},
   "outputs": [],
   "source": []
  },
  {
   "cell_type": "markdown",
   "metadata": {},
   "source": [
    "### Ejercicio 3.2: Minería de Literatura Científica"
   ]
  },
  {
   "cell_type": "markdown",
   "metadata": {},
   "source": [
    "Descripción: Analizar publicaciones biomédicas."
   ]
  },
  {
   "cell_type": "markdown",
   "metadata": {},
   "source": [
    "Instrucciones: "
   ]
  },
  {
   "cell_type": "markdown",
   "metadata": {},
   "source": [
    "1. Recopilar corpus de: \n",
    "- Artículos científicos \n",
    "- Resúmenes de investigación \n",
    "- Revisiones sistemáticas "
   ]
  },
  {
   "cell_type": "code",
   "execution_count": null,
   "metadata": {},
   "outputs": [],
   "source": []
  },
  {
   "cell_type": "markdown",
   "metadata": {},
   "source": [
    "2. Desarrollar análisis: \n",
    "- Extracción de palabras clave \n",
    "- Identificación de temas \n",
    "- Análisis de co-ocurrencia \n",
    "- Visualización de tendencias"
   ]
  },
  {
   "cell_type": "code",
   "execution_count": null,
   "metadata": {},
   "outputs": [],
   "source": []
  },
  {
   "cell_type": "markdown",
   "metadata": {},
   "source": [
    "### Ejercicio 3.3: Análisis de Consentimientos Informados"
   ]
  },
  {
   "cell_type": "markdown",
   "metadata": {},
   "source": [
    "Descripción: Procesar documentos de consentimiento. "
   ]
  },
  {
   "cell_type": "markdown",
   "metadata": {},
   "source": [
    "Instrucciones: "
   ]
  },
  {
   "cell_type": "markdown",
   "metadata": {},
   "source": [
    "1. Trabajar con: \n",
    "- Modelos de consentimiento \n",
    "- Variantes de documentos \n",
    "- Versiones en diferentes idiomas "
   ]
  },
  {
   "cell_type": "code",
   "execution_count": null,
   "metadata": {},
   "outputs": [],
   "source": []
  },
  {
   "cell_type": "markdown",
   "metadata": {},
   "source": [
    "2. Realizar tareas: \n",
    "- Normalización de texto \n",
    "- Extracción de cláusulas \n",
    "- Análisis comparativo \n",
    "- Identificación de variaciones"
   ]
  },
  {
   "cell_type": "code",
   "execution_count": null,
   "metadata": {},
   "outputs": [],
   "source": []
  },
  {
   "cell_type": "markdown",
   "metadata": {},
   "source": [
    "### Ejercicio 3.4: Revisión de Reportes de Eventos Adversos"
   ]
  },
  {
   "cell_type": "markdown",
   "metadata": {},
   "source": [
    "Descripción: Analizar reportes de farmacovigilancia."
   ]
  },
  {
   "cell_type": "markdown",
   "metadata": {},
   "source": [
    "Instrucciones:"
   ]
  },
  {
   "cell_type": "markdown",
   "metadata": {},
   "source": [
    "1. Recopilar: \n",
    "- Reportes de efectos secundarios \n",
    "- Descripciones de incidentes \n",
    "- Información de pacientes "
   ]
  },
  {
   "cell_type": "code",
   "execution_count": null,
   "metadata": {},
   "outputs": [],
   "source": []
  },
  {
   "cell_type": "markdown",
   "metadata": {},
   "source": [
    "2. Desarrollar análisis: \n",
    "- Clasificación de eventos \n",
    "- Extracción de síntomas \n",
    "- Identificación de patrones \n",
    "- Generación de alertas "
   ]
  },
  {
   "cell_type": "code",
   "execution_count": null,
   "metadata": {},
   "outputs": [],
   "source": []
  },
  {
   "cell_type": "markdown",
   "metadata": {},
   "source": [
    "### Ejercicio 3.5: Análisis de Comunicaciones de Pacientes"
   ]
  },
  {
   "cell_type": "markdown",
   "metadata": {},
   "source": [
    "Descripción: Procesar comunicaciones en plataformas de salud."
   ]
  },
  {
   "cell_type": "markdown",
   "metadata": {},
   "source": [
    "Instrucciones:"
   ]
  },
  {
   "cell_type": "markdown",
   "metadata": {},
   "source": [
    "1. Trabajar con: \n",
    "- Mensajes de pacientes \n",
    "- Consultas en línea \n",
    "- Foros de salud"
   ]
  },
  {
   "cell_type": "code",
   "execution_count": null,
   "metadata": {},
   "outputs": [],
   "source": []
  },
  {
   "cell_type": "markdown",
   "metadata": {},
   "source": [
    "2. Realizar tareas: \n",
    "- Clasificación de consultas \n",
    "- Análisis de sentimiento \n",
    "- Detección de necesidades \n",
    "- Generación de insights "
   ]
  },
  {
   "cell_type": "code",
   "execution_count": null,
   "metadata": {},
   "outputs": [],
   "source": []
  },
  {
   "cell_type": "markdown",
   "metadata": {},
   "source": [
    "### 4. Análisis de Series Temporales"
   ]
  },
  {
   "cell_type": "markdown",
   "metadata": {},
   "source": [
    "Ejercicio 4.1: Monitoreo de Indicadores Epidemiológicos "
   ]
  },
  {
   "cell_type": "markdown",
   "metadata": {},
   "source": [
    "Descripción: Analizar evolución de enfermedades. "
   ]
  },
  {
   "cell_type": "markdown",
   "metadata": {},
   "source": [
    "Instrucciones: "
   ]
  },
  {
   "cell_type": "markdown",
   "metadata": {},
   "source": [
    "1. Recopilar datos de: \n",
    "- Casos confirmados \n",
    "- Hospitalizaciones \n",
    "- Recuperaciones \n",
    "- Fallecimientos "
   ]
  },
  {
   "cell_type": "code",
   "execution_count": null,
   "metadata": {},
   "outputs": [],
   "source": []
  },
  {
   "cell_type": "markdown",
   "metadata": {},
   "source": [
    "2. Realizar análisis: \n",
    "- Descomposición de series \n",
    "- Predicción de tendencias \n",
    "- Detección de patrones estacionales \n",
    "- Modelado de escenarios \n"
   ]
  },
  {
   "cell_type": "code",
   "execution_count": null,
   "metadata": {},
   "outputs": [],
   "source": []
  },
  {
   "cell_type": "markdown",
   "metadata": {},
   "source": [
    "### Ejercicio 4.2: Seguimiento de Parámetros Fisiológicos "
   ]
  },
  {
   "cell_type": "markdown",
   "metadata": {},
   "source": [
    "Descripción: Monitorear variables de pacientes."
   ]
  },
  {
   "cell_type": "markdown",
   "metadata": {},
   "source": [
    "Instrucciones:"
   ]
  },
  {
   "cell_type": "markdown",
   "metadata": {},
   "source": [
    "1. Trabajar con: \n",
    "- Registros de presión arterial \n",
    "- Niveles de glucosa \n",
    "- Frecuencia cardíaca \n",
    "- Peso corporal "
   ]
  },
  {
   "cell_type": "code",
   "execution_count": null,
   "metadata": {},
   "outputs": [],
   "source": []
  },
  {
   "cell_type": "markdown",
   "metadata": {},
   "source": [
    "2. Desarrollar análisis: \n",
    "- Identificación de tendencias \n",
    "- Detección de anomalías \n",
    "- Predicción de cambios \n",
    "- Generación de alertas "
   ]
  },
  {
   "cell_type": "code",
   "execution_count": null,
   "metadata": {},
   "outputs": [],
   "source": []
  },
  {
   "cell_type": "markdown",
   "metadata": {},
   "source": [
    "### Ejercicio 4.3: Evolución de Tratamientos Farmacológicos"
   ]
  },
  {
   "cell_type": "markdown",
   "metadata": {},
   "source": [
    "Descripción: Seguimiento de respuesta a medicamentos."
   ]
  },
  {
   "cell_type": "markdown",
   "metadata": {},
   "source": [
    "Instrucciones: "
   ]
  },
  {
   "cell_type": "markdown",
   "metadata": {},
   "source": [
    "1. Recopilar datos de: \n",
    "- Dosis administradas \n",
    "- Marcadores biológicos \n",
    "- Respuesta al tratamiento \n",
    "- Efectos secundarios "
   ]
  },
  {
   "cell_type": "code",
   "execution_count": null,
   "metadata": {},
   "outputs": [],
   "source": []
  },
  {
   "cell_type": "markdown",
   "metadata": {},
   "source": [
    "2. Realizar tareas: \n",
    "- Análisis de progresión \n",
    "- Modelado de respuesta \n",
    "- Identificación de patrones \n",
    "- Optimización de tratamientos "
   ]
  },
  {
   "cell_type": "code",
   "execution_count": null,
   "metadata": {},
   "outputs": [],
   "source": []
  },
  {
   "cell_type": "markdown",
   "metadata": {},
   "source": [
    "### Ejercicio 4.4: Estudio de Variabilidad Genética "
   ]
  },
  {
   "cell_type": "markdown",
   "metadata": {},
   "source": [
    "Descripción: Analizar cambios genéticos en el tiempo. "
   ]
  },
  {
   "cell_type": "markdown",
   "metadata": {},
   "source": [
    "Instrucciones: \n"
   ]
  },
  {
   "cell_type": "markdown",
   "metadata": {},
   "source": [
    "1. Trabajar con: \n",
    "- Secuencias genéticas \n",
    "- Mutaciones \n",
    "- Expresión génica \n",
    "- Marcadores evolutivos "
   ]
  },
  {
   "cell_type": "code",
   "execution_count": null,
   "metadata": {},
   "outputs": [],
   "source": []
  },
  {
   "cell_type": "markdown",
   "metadata": {},
   "source": [
    "2. Desarrollar análisis: \n",
    "- Identificación de cambios \n",
    "- Modelado de evolución \n",
    "- Predicción de variantes \n",
    "- Estudio de trayectorias "
   ]
  },
  {
   "cell_type": "code",
   "execution_count": null,
   "metadata": {},
   "outputs": [],
   "source": []
  },
  {
   "cell_type": "markdown",
   "metadata": {},
   "source": [
    "### Ejercicio 4.5: Registro de Parámetros Ambientales en Salud"
   ]
  },
  {
   "cell_type": "markdown",
   "metadata": {},
   "source": [
    "Descripción: Monitorear impacto ambiental."
   ]
  },
  {
   "cell_type": "markdown",
   "metadata": {},
   "source": [
    "Instrucciones: "
   ]
  },
  {
   "cell_type": "markdown",
   "metadata": {},
   "source": [
    "1. Recopilar datos de: \n",
    "- Contaminación atmosférica \n",
    "- Temperatura \n",
    "- Humedad \n",
    "- Índices de enfermedades"
   ]
  },
  {
   "cell_type": "code",
   "execution_count": null,
   "metadata": {},
   "outputs": [],
   "source": []
  },
  {
   "cell_type": "markdown",
   "metadata": {},
   "source": [
    "2. Realizar tareas: \n",
    "- Correlación ambiente-salud \n",
    "- Predicción de impactos \n",
    "- Identificación de patrones \n",
    "- Modelado de escenarios"
   ]
  },
  {
   "cell_type": "code",
   "execution_count": null,
   "metadata": {},
   "outputs": [],
   "source": []
  },
  {
   "cell_type": "markdown",
   "metadata": {},
   "source": [
    "### 5. Análisis de Imágenes"
   ]
  },
  {
   "cell_type": "markdown",
   "metadata": {},
   "source": [
    "Ejercicio 5.1: Diagnóstico por Imágenes Médicas"
   ]
  },
  {
   "cell_type": "markdown",
   "metadata": {},
   "source": [
    "Descripción: Procesamiento de radiografías."
   ]
  },
  {
   "cell_type": "markdown",
   "metadata": {},
   "source": [
    "Instrucciones: "
   ]
  },
  {
   "cell_type": "markdown",
   "metadata": {},
   "source": [
    "1. Trabajar con: \n",
    "- Radiografías de tórax \n",
    "- Imágenes de resonancia \n",
    "- Tomografías \n",
    "- Marcadores de lesiones "
   ]
  },
  {
   "cell_type": "code",
   "execution_count": null,
   "metadata": {},
   "outputs": [],
   "source": []
  },
  {
   "cell_type": "markdown",
   "metadata": {},
   "source": [
    "2. Realizar tareas: \n",
    "- Segmentación de imágenes \n",
    "- Detección de anomalías -\n",
    "- Clasificación de lesiones \n",
    "- Cuantificación de hallazgos "
   ]
  },
  {
   "cell_type": "code",
   "execution_count": null,
   "metadata": {},
   "outputs": [],
   "source": []
  },
  {
   "cell_type": "markdown",
   "metadata": {},
   "source": [
    "### Ejercicio 5.2: Análisis Histológico "
   ]
  },
  {
   "cell_type": "markdown",
   "metadata": {},
   "source": [
    "Descripción: Procesamiento de imágenes microscópicas. "
   ]
  },
  {
   "cell_type": "markdown",
   "metadata": {},
   "source": [
    "Instrucciones: "
   ]
  },
  {
   "cell_type": "markdown",
   "metadata": {},
   "source": [
    "1. Recopilar: \n",
    "- Preparaciones histológicas \n",
    "- Cortes celulares \n",
    "- Imágenes de tejidos \n",
    "- Marcadores tumorales"
   ]
  },
  {
   "cell_type": "code",
   "execution_count": null,
   "metadata": {},
   "outputs": [],
   "source": []
  },
  {
   "cell_type": "markdown",
   "metadata": {},
   "source": [
    "2. Desarrollar análisis: \n",
    "- Segmentación celular \n",
    "- Clasificación de estructuras \n",
    "- Cuantificación de células \n",
    "- Detección de patologías "
   ]
  },
  {
   "cell_type": "code",
   "execution_count": null,
   "metadata": {},
   "outputs": [],
   "source": []
  },
  {
   "cell_type": "markdown",
   "metadata": {},
   "source": [
    "### Ejercicio 5.3: Seguimiento de Cicatrización"
   ]
  },
  {
   "cell_type": "markdown",
   "metadata": {},
   "source": [
    "Descripción: Monitoreo de heridas."
   ]
  },
  {
   "cell_type": "markdown",
   "metadata": {},
   "source": [
    "Instrucciones: "
   ]
  },
  {
   "cell_type": "markdown",
   "metadata": {},
   "source": [
    "1. Trabajar con: \n",
    "- Fotografías de heridas \n",
    "- Imágenes secuenciales \n",
    "- Marcadores de evolución \n",
    "- Registros de curación"
   ]
  },
  {
   "cell_type": "code",
   "execution_count": null,
   "metadata": {},
   "outputs": [],
   "source": []
  },
  {
   "cell_type": "markdown",
   "metadata": {},
   "source": [
    "2. Realizar tareas: \n",
    "- Medición de área \n",
    "- Análisis de color \n",
    "- Detección de cambios \n",
    "- Predicción de cicatrización "
   ]
  },
  {
   "cell_type": "code",
   "execution_count": null,
   "metadata": {},
   "outputs": [],
   "source": []
  },
  {
   "cell_type": "markdown",
   "metadata": {},
   "source": [
    "### Ejercicio 5.4: Análisis de Biomarcadores Visuales"
   ]
  },
  {
   "cell_type": "markdown",
   "metadata": {},
   "source": [
    "Descripción: Procesamiento de imágenes de biomarcadores."
   ]
  },
  {
   "cell_type": "markdown",
   "metadata": {},
   "source": [
    "Instrucciones:"
   ]
  },
  {
   "cell_type": "markdown",
   "metadata": {},
   "source": [
    "1. Recopilar: \n",
    "- Imágenes de marcadores \n",
    "- Tinciones específicas \n",
    "- Biomarcadores fluorescentes \n",
    "- Registros de expresión "
   ]
  },
  {
   "cell_type": "code",
   "execution_count": null,
   "metadata": {},
   "outputs": [],
   "source": []
  },
  {
   "cell_type": "markdown",
   "metadata": {},
   "source": [
    "2. Desarrollar análisis: \n",
    "- Cuantificación de expresión \n",
    "- Segmentación de marcadores \n",
    "- Clasificación de patrones \n",
    "- Correlación con diagnósticos "
   ]
  },
  {
   "cell_type": "code",
   "execution_count": null,
   "metadata": {},
   "outputs": [],
   "source": []
  },
  {
   "cell_type": "markdown",
   "metadata": {},
   "source": [
    "### Ejercicio 5.5: Análisis Genético por Imagen "
   ]
  },
  {
   "cell_type": "markdown",
   "metadata": {},
   "source": [
    "Descripción: Procesamiento de cariotipo."
   ]
  },
  {
   "cell_type": "markdown",
   "metadata": {},
   "source": [
    "Instrucciones:"
   ]
  },
  {
   "cell_type": "markdown",
   "metadata": {},
   "source": [
    "1. Trabajar con: \n",
    "- Imágenes de cromosomas \n",
    "- Preparaciones de cariotipo \n",
    "- Marcadores cromosómicos \n",
    "- Registros genéticos "
   ]
  },
  {
   "cell_type": "code",
   "execution_count": null,
   "metadata": {},
   "outputs": [],
   "source": []
  },
  {
   "cell_type": "markdown",
   "metadata": {},
   "source": [
    "2. Realizar tareas: \n",
    "- Identificación cromosómica \n",
    "- Detección de anomalías \n",
    "- Cuantificación de variantes \n",
    "- Análisis de estructuras \n"
   ]
  },
  {
   "cell_type": "code",
   "execution_count": null,
   "metadata": {},
   "outputs": [],
   "source": []
  },
  {
   "cell_type": "markdown",
   "metadata": {},
   "source": [
    "### Próximos Pasos "
   ]
  },
  {
   "cell_type": "markdown",
   "metadata": {},
   "source": [
    "**Para cada ejercicio, se recomienda**:\n",
    "   - Utilizar herramientas como Python (pandas, numpy, scikit-learn) \n",
    "   - Emplear librerías especializadas (scipy, matplotlib) \n",
    "   - Aplicar técnicas de machine learning \n",
    "   - Validar resultados con expertos del área "
   ]
  }
 ],
 "metadata": {
  "kernelspec": {
   "display_name": "python",
   "language": "python",
   "name": "python3"
  },
  "language_info": {
   "codemirror_mode": {
    "name": "ipython",
    "version": 3
   },
   "file_extension": ".py",
   "mimetype": "text/x-python",
   "name": "python",
   "nbconvert_exporter": "python",
   "pygments_lexer": "ipython3",
   "version": "3.12.9"
  }
 },
 "nbformat": 4,
 "nbformat_minor": 2
}
