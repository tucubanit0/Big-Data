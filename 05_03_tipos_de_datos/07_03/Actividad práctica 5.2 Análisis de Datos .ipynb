{
 "cells": [
  {
   "cell_type": "markdown",
   "metadata": {},
   "source": [
    "### Actividad práctica 5.2 Análisis de Datos Textuales"
   ]
  },
  {
   "cell_type": "markdown",
   "metadata": {},
   "source": [
    "Vamos a adaptar el ejercicio de análisis de datos textuales utilizando un \n",
    "conjunto de datos sobre álbumes de todos los tiempos, donde el campo de \n",
    "interés será \"Average Rating\". Vamos a realizar un análisis de sentimiento \n",
    "sobre las reseñas de los álbums y visualizar los resultados. A continuación, \n",
    "te explico cómo hacerlo paso a paso. "
   ]
  },
  {
   "cell_type": "markdown",
   "metadata": {},
   "source": [
    "### Paso 1: Instalación de librerías necesarias"
   ]
  },
  {
   "cell_type": "markdown",
   "metadata": {},
   "source": [
    "Antes de comenzar, asegúrate de tener las librerías necesarias instaladas: \n",
    "pip install nltk pandas matplotlib seaborn "
   ]
  },
  {
   "cell_type": "markdown",
   "metadata": {},
   "source": [
    "### Paso 2: Importar las librerías necesarias"
   ]
  },
  {
   "cell_type": "markdown",
   "metadata": {},
   "source": [
    "Comenzamos importando las librerías necesarias: "
   ]
  },
  {
   "cell_type": "code",
   "execution_count": null,
   "metadata": {},
   "outputs": [],
   "source": [
    "import nltk \n",
    "import pandas as pd \n",
    "import matplotlib.pyplot as plt \n",
    "import seaborn as sns \n",
    "from nltk.corpus import stopwords \n",
    "from nltk.tokenize import word_tokenize \n",
    "from nltk.stem import WordNetLemmatizer \n",
    "from nltk.sentiment import SentimentIntensityAnalyzer "
   ]
  },
  {
   "cell_type": "markdown",
   "metadata": {},
   "source": [
    "### Paso 3: Cargar el conjunto de datos "
   ]
  },
  {
   "cell_type": "markdown",
   "metadata": {},
   "source": [
    "Suponemos que tenemos un conjunto de datos sobre álbumes musicales con las \n",
    "siguientes columnas relevantes: "
   ]
  },
  {
   "cell_type": "markdown",
   "metadata": {},
   "source": [
    "- album_name: Nombre del álbum \n",
    "- artist: Artista del álbum \n",
    "- review: Reseña del álbum (texto) \n",
    "- average_rating: Puntuación promedio del álbum (número) "
   ]
  },
  {
   "cell_type": "markdown",
   "metadata": {},
   "source": [
    "Cargamos el conjunto de datos usando pandas:"
   ]
  },
  {
   "cell_type": "code",
   "execution_count": null,
   "metadata": {},
   "outputs": [],
   "source": [
    "# Cargar el conjunto de datos \n",
    "df = pd.read_csv('albums_all_time.csv') \n",
    "\n",
    "# Ver las primeras filas del dataset \n",
    "df.head() "
   ]
  },
  {
   "cell_type": "markdown",
   "metadata": {},
   "source": [
    "### Paso 4: Preprocesar los datos"
   ]
  },
  {
   "cell_type": "markdown",
   "metadata": {},
   "source": [
    "### 4.1: Tokenización"
   ]
  },
  {
   "cell_type": "markdown",
   "metadata": {},
   "source": [
    "Primero, tokenizamos las reseñas de los álbumes. La tokenización es el proceso \n",
    "de dividir el texto en palabras individuales o \"tokens\". En este caso, \n",
    "dividimos la columna review en palabras:"
   ]
  },
  {
   "cell_type": "code",
   "execution_count": null,
   "metadata": {},
   "outputs": [],
   "source": [
    "# Descargar los recursos de NLTK necesarios \n",
    "nltk.download('punkt') \n",
    "\n",
    "# Tokenizar las reseñas \n",
    "df['tokens'] = df['review'].apply(lambda x: word_tokenize(x.lower()))  # Convertir todo a minúsculas"
   ]
  },
  {
   "cell_type": "markdown",
   "metadata": {},
   "source": [
    "### 4.2: Eliminación de stopwords "
   ]
  },
  {
   "cell_type": "markdown",
   "metadata": {},
   "source": [
    "Eliminamos las stopwords (palabras vacías) que no aportan valor en el \n",
    "análisis, como \"el\", \"la\", \"y\", etc."
   ]
  },
  {
   "cell_type": "code",
   "execution_count": null,
   "metadata": {},
   "outputs": [],
   "source": [
    "# Descargar el conjunto de stopwords de NLTK \n",
    "nltk.download('stopwords') \n",
    "stop_words = set(stopwords.words('spanish'))  # Usamos el idioma español si las reseñas están en ese idioma \n",
    "\n",
    "# Eliminar las stopwords de los tokens \n",
    "df['tokens_sin_stopwords'] = df['tokens'].apply(lambda x: [word for word in x if \n",
    "word not in stop_words]) "
   ]
  },
  {
   "cell_type": "markdown",
   "metadata": {},
   "source": [
    "### 4.3: Lematización"
   ]
  },
  {
   "cell_type": "markdown",
   "metadata": {},
   "source": [
    "Aplicamos lematización para reducir las palabras a su forma base. Por ejemplo, \n",
    "\"correré\" se convierte en \"correr\"."
   ]
  },
  {
   "cell_type": "code",
   "execution_count": null,
   "metadata": {},
   "outputs": [],
   "source": [
    "# Descargar los recursos necesarios para lematización \n",
    "nltk.download('wordnet') \n",
    "lemmatizer = WordNetLemmatizer() \n",
    "\n",
    "# Lematizar las palabras \n",
    "df['tokens_lemmatizados'] = df['tokens_sin_stopwords'].apply(lambda x: \n",
    "[lemmatizer.lemmatize(word) for word in x])"
   ]
  },
  {
   "cell_type": "markdown",
   "metadata": {},
   "source": [
    "### Paso 5: Análisis de sentimiento"
   ]
  },
  {
   "cell_type": "markdown",
   "metadata": {},
   "source": [
    "Realizamos el análisis de sentimiento sobre las reseñas utilizando el \n",
    "SentimentIntensityAnalyzer de NLTK, que nos da una puntuación de sentimiento \n",
    "de cada reseña. Este valor va de -1 (sentimiento negativo) a 1 (sentimiento \n",
    "positivo). "
   ]
  },
  {
   "cell_type": "code",
   "execution_count": null,
   "metadata": {},
   "outputs": [],
   "source": [
    "# Inicializar el analizador de sentimiento \n",
    "sia = SentimentIntensityAnalyzer() \n",
    "\n",
    "# Calcular el puntaje de sentimiento para cada reseña \n",
    "df['sentimiento'] = df['review'].apply(lambda x: \n",
    "sia.polarity_scores(x)['compound'])  # 'compound' es un valor entre -1 y 1 "
   ]
  },
  {
   "cell_type": "markdown",
   "metadata": {},
   "source": [
    "### Paso 6: Relación entre sentimiento y puntuación promedio "
   ]
  },
  {
   "cell_type": "markdown",
   "metadata": {},
   "source": [
    "A continuación, vamos a visualizar cómo el sentimiento de las reseñas se \n",
    "relaciona con la puntuación promedio de cada álbum. "
   ]
  },
  {
   "cell_type": "markdown",
   "metadata": {},
   "source": [
    "### 6.1: Gráfico de dispersión de sentimiento vs. puntuación promedio"
   ]
  },
  {
   "cell_type": "markdown",
   "metadata": {},
   "source": [
    "Vamos a crear un gráfico de dispersión para ver si existe alguna relación \n",
    "entre el sentimiento de las reseñas y la puntuación promedio de los álbumes."
   ]
  },
  {
   "cell_type": "code",
   "execution_count": null,
   "metadata": {},
   "outputs": [],
   "source": [
    "# Gráfico de dispersión: Sentimiento vs. Puntuación promedio \n",
    "plt.figure(figsize=(10, 6)) \n",
    "sns.scatterplot(x='average_rating', y='sentimiento', data=df, color='green') \n",
    "plt.title('Sentimiento vs. Puntuación Promedio de Álbumes') \n",
    "plt.xlabel('Puntuación Promedio') \n",
    "plt.ylabel('Sentimiento') \n",
    "plt.show() \n"
   ]
  },
  {
   "cell_type": "markdown",
   "metadata": {},
   "source": [
    "### 6.2: Histograma de Sentimientos"
   ]
  },
  {
   "cell_type": "markdown",
   "metadata": {},
   "source": [
    "Podemos crear un histograma para ver la distribución de los sentimientos de \n",
    "las reseñas. "
   ]
  },
  {
   "cell_type": "code",
   "execution_count": null,
   "metadata": {},
   "outputs": [],
   "source": [
    "# Crear un histograma de la distribución de sentimientos \n",
    "plt.figure(figsize=(8, 6)) \n",
    "sns.histplot(df['sentimiento'], kde=True, color='blue', bins=30) \n",
    "plt.title('Distribución de Sentimientos en las Reseñas') \n",
    "plt.xlabel('Sentimiento') \n",
    "plt.ylabel('Frecuencia') \n",
    "plt.show() "
   ]
  },
  {
   "cell_type": "markdown",
   "metadata": {},
   "source": [
    "### Paso 7: Clasificación de Sentimientos"
   ]
  },
  {
   "cell_type": "markdown",
   "metadata": {},
   "source": [
    "Clasificamos las reseñas en positivas, negativas y neutrales según el puntaje \n",
    "de sentimiento. Utilizamos un umbral para determinar estas categorías. "
   ]
  },
  {
   "cell_type": "code",
   "execution_count": null,
   "metadata": {},
   "outputs": [],
   "source": [
    "# Clasificar las reseñas según el sentimiento \n",
    "df['clasificacion_sentimiento'] = df['sentimiento'].apply(lambda x: 'Positivo' if x \n",
    "> 0 else ('Negativo' if x < 0 else 'Neutral')) \n",
    "\n",
    "# Ver las frecuencias de cada clase \n",
    "df['clasificacion_sentimiento'].value_counts() "
   ]
  },
  {
   "cell_type": "markdown",
   "metadata": {},
   "source": [
    "### 7.1: Visualización de la clasificación de sentimientos "
   ]
  },
  {
   "cell_type": "markdown",
   "metadata": {},
   "source": [
    "Creamos un gráfico para ver la cantidad de reseñas positivas, negativas y \n",
    "neutrales."
   ]
  },
  {
   "cell_type": "code",
   "execution_count": null,
   "metadata": {},
   "outputs": [],
   "source": [
    "# Visualizar las clasificaciones de sentimiento \n",
    "plt.figure(figsize=(8, 6)) \n",
    "sns.countplot(x='clasificacion_sentimiento', data=df, palette='coolwarm') \n",
    "plt.title('Clasificación de Sentimientos de las Reseñas') \n",
    "plt.xlabel('Clasificación de Sentimiento') \n",
    "plt.ylabel('Frecuencia') \n",
    "plt.show() \n"
   ]
  },
  {
   "cell_type": "markdown",
   "metadata": {},
   "source": [
    "### Paso 8: Conclusiones"
   ]
  },
  {
   "cell_type": "markdown",
   "metadata": {},
   "source": [
    "- Distribución de sentimientos: El histograma nos muestra si las reseñas \n",
    "son mayormente positivas, negativas o neutrales. Si la mayoría de las \n",
    "reseñas son positivas, podríamos investigar qué características del \n",
    "álbum generan ese sentimiento. \n",
    "- Relación entre sentimiento y puntuación: El gráfico de dispersión nos \n",
    "ayuda a ver si hay alguna correlación entre la puntuación promedio y el \n",
    "sentimiento de las reseñas. Por ejemplo, los álbumes con puntuaciones \n",
    "altas pueden tener sentimientos más positivos. \n",
    "- Clasificación de sentimiento: Al clasificar las reseñas como positivas, \n",
    "negativas o neutrales, podemos analizar las reseñas para cada categoría \n",
    "y detectar tendencias o patrones en los comentarios."
   ]
  },
  {
   "cell_type": "markdown",
   "metadata": {},
   "source": [
    "### Resumen "
   ]
  },
  {
   "cell_type": "markdown",
   "metadata": {},
   "source": [
    "En este ejercicio, hemos realizado un análisis de sentimientos sobre las \n",
    "reseñas de álbumes utilizando el paquete nltk para procesamiento de texto \n",
    "(tokenización, eliminación de stopwords y lematización) y el \n",
    "SentimentIntensityAnalyzer para calcular los puntajes de sentimiento. \n",
    "Finalmente, visualizamos los resultados para comprender mejor el sentimiento \n",
    "detrás de las reseñas y su relación con la puntuación promedio de cada álbum."
   ]
  }
 ],
 "metadata": {
  "kernelspec": {
   "display_name": "python",
   "language": "python",
   "name": "python3"
  },
  "language_info": {
   "name": "python",
   "version": "3.12.9"
  }
 },
 "nbformat": 4,
 "nbformat_minor": 2
}
