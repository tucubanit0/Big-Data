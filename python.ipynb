{
 "cells": [
  {
   "cell_type": "code",
   "execution_count": 6,
   "id": "94f902a1",
   "metadata": {},
   "outputs": [
    {
     "name": "stdout",
     "output_type": "stream",
     "text": [
      "var1\n"
     ]
    }
   ],
   "source": [
    "var1 = 'Hola Mundo'\n",
    "var2 = 'var1'\n",
    "print (var2)"
   ]
  },
  {
   "cell_type": "code",
   "execution_count": 9,
   "id": "f16488bd",
   "metadata": {},
   "outputs": [
    {
     "name": "stdout",
     "output_type": "stream",
     "text": [
      "Pepe Gonzalez\n"
     ]
    }
   ],
   "source": [
    "nombre = 'Pepe'\n",
    "apellido = 'Gonzalez'\n",
    "print (nombre + ' ' + apellido)"
   ]
  },
  {
   "cell_type": "code",
   "execution_count": 10,
   "id": "26b5e2da",
   "metadata": {},
   "outputs": [
    {
     "name": "stdout",
     "output_type": "stream",
     "text": [
      "15\n"
     ]
    }
   ],
   "source": [
    "a = 5\n",
    "b = 10\n",
    "print (a+b)"
   ]
  },
  {
   "cell_type": "code",
   "execution_count": 11,
   "id": "5e28948f",
   "metadata": {},
   "outputs": [
    {
     "name": "stdout",
     "output_type": "stream",
     "text": [
      "Me llamo Pepe\n"
     ]
    }
   ],
   "source": [
    "input ('Cómo te llamas?')\n",
    "print (f'Me llamo {nombre}')"
   ]
  },
  {
   "cell_type": "code",
   "execution_count": 17,
   "id": "876f5f2e",
   "metadata": {},
   "outputs": [
    {
     "name": "stdout",
     "output_type": "stream",
     "text": [
      "20 -10 75 3.0 10\n"
     ]
    }
   ],
   "source": [
    "a = 5\n",
    "b = 15\n",
    "r1 = a + b\n",
    "r2 = a - b\n",
    "r3 = a * b\n",
    "r4 = b / a\n",
    "r5 = b - a\n",
    "print (r1, r2, r3, r4, r5)"
   ]
  },
  {
   "cell_type": "code",
   "execution_count": 18,
   "id": "9b6c554f",
   "metadata": {},
   "outputs": [
    {
     "name": "stdout",
     "output_type": "stream",
     "text": [
      "[1, 2, 3, 4, 5]\n"
     ]
    }
   ],
   "source": [
    "lista = [1, 2, 3, 4, 5]\n",
    "print (lista)"
   ]
  },
  {
   "cell_type": "code",
   "execution_count": 23,
   "id": "3b991140",
   "metadata": {},
   "outputs": [
    {
     "name": "stdout",
     "output_type": "stream",
     "text": [
      "Domingo\n"
     ]
    }
   ],
   "source": [
    "dia_semana = ['Lunes', 'Martes', 'Miercoles', 'Jueves', 'Viernes', 'Sabado', 'Domingo']\n",
    "print (dia_semana [-1])"
   ]
  },
  {
   "cell_type": "code",
   "execution_count": 24,
   "id": "7fef5b66",
   "metadata": {},
   "outputs": [
    {
     "name": "stdout",
     "output_type": "stream",
     "text": [
      "['Domingo', 'Martes', 'Miercoles', 'Jueves', 'Viernes', 'Sabado', 'Domingo']\n"
     ]
    }
   ],
   "source": [
    "dia_semana[0] = 'Domingo'\n",
    "print (dia_semana)"
   ]
  },
  {
   "cell_type": "code",
   "execution_count": 25,
   "id": "206df86e",
   "metadata": {},
   "outputs": [
    {
     "name": "stdout",
     "output_type": "stream",
     "text": [
      "['Domingo', 'Martes', 'Miercoles', 'Jueves', 'Viernes', 'Sabado', 'Domingo', 'otro']\n"
     ]
    }
   ],
   "source": [
    "dia_semana.append('otro')\n",
    "print (dia_semana)"
   ]
  },
  {
   "cell_type": "code",
   "execution_count": 26,
   "id": "2186853f",
   "metadata": {},
   "outputs": [
    {
     "name": "stdout",
     "output_type": "stream",
     "text": [
      "['primero', 'Domingo', 'Martes', 'Miercoles', 'Jueves', 'Viernes', 'Sabado', 'Domingo', 'otro']\n"
     ]
    }
   ],
   "source": [
    "dia_semana.insert(0, 'primero')\n",
    "print (dia_semana)"
   ]
  },
  {
   "cell_type": "code",
   "execution_count": 27,
   "id": "2988d3e9",
   "metadata": {},
   "outputs": [
    {
     "name": "stdout",
     "output_type": "stream",
     "text": [
      "['Domingo', 'Domingo', 'Jueves', 'Martes', 'Miercoles', 'Sabado', 'Viernes', 'otro', 'primero']\n"
     ]
    }
   ],
   "source": [
    "dia_semana.sort()\n",
    "print (dia_semana)"
   ]
  },
  {
   "cell_type": "code",
   "execution_count": 28,
   "id": "bf40458e",
   "metadata": {},
   "outputs": [
    {
     "name": "stdout",
     "output_type": "stream",
     "text": [
      "['Domingo', 'Domingo', 'Jueves', 'Martes', 'Miercoles', 'Sabado', 'Viernes', 'otro']\n"
     ]
    }
   ],
   "source": [
    "dia_semana.pop()\n",
    "print (dia_semana)"
   ]
  },
  {
   "cell_type": "code",
   "execution_count": 30,
   "id": "5757b3c3",
   "metadata": {},
   "outputs": [
    {
     "name": "stdout",
     "output_type": "stream",
     "text": [
      "20\n"
     ]
    }
   ],
   "source": [
    "#Ejercicio 1\n",
    "var1 = 20\n",
    "print(var1)"
   ]
  },
  {
   "cell_type": "code",
   "execution_count": 31,
   "id": "1dc8d257",
   "metadata": {},
   "outputs": [
    {
     "name": "stdout",
     "output_type": "stream",
     "text": [
      "8\n"
     ]
    }
   ],
   "source": [
    "#Ejercicio 2\n",
    "a = 5\n",
    "b = 3\n",
    "print (a+b)"
   ]
  },
  {
   "cell_type": "code",
   "execution_count": null,
   "id": "0efb57f1",
   "metadata": {},
   "outputs": [
    {
     "name": "stdout",
     "output_type": "stream",
     "text": [
      "Pedro Gomez\n"
     ]
    }
   ],
   "source": [
    "#Ejercicio 3\n",
    "nombre = 'Pedro'\n",
    "apellido= 'Gomez'\n",
    "print (nombre + ' ' + apellido)"
   ]
  },
  {
   "cell_type": "code",
   "execution_count": 41,
   "id": "42ceea64",
   "metadata": {},
   "outputs": [
    {
     "name": "stdout",
     "output_type": "stream",
     "text": [
      "tienes 5 años\n"
     ]
    }
   ],
   "source": [
    "#Ejercicio 4\n",
    "edad = input('Por favor ingresa tu edad')\n",
    "print (f'tienes {edad} años')"
   ]
  },
  {
   "cell_type": "code",
   "execution_count": 42,
   "id": "813b1b1e",
   "metadata": {},
   "outputs": [
    {
     "name": "stdout",
     "output_type": "stream",
     "text": [
      "16\n"
     ]
    }
   ],
   "source": [
    "#Ejercicio 5\n",
    "x = 7\n",
    "y = 9\n",
    "print (x+y)"
   ]
  },
  {
   "cell_type": "code",
   "execution_count": null,
   "id": "4f875f22",
   "metadata": {},
   "outputs": [
    {
     "name": "stdout",
     "output_type": "stream",
     "text": [
      "[1, 2, 3, 4, 5]\n"
     ]
    }
   ],
   "source": [
    "#Ejercicio 6\n",
    "numeros = [1, 2, 3, 4, 5]\n",
    "print (numeros)"
   ]
  },
  {
   "cell_type": "code",
   "execution_count": null,
   "id": "0f784cfe",
   "metadata": {},
   "outputs": [
    {
     "name": "stdout",
     "output_type": "stream",
     "text": [
      "1\n",
      "2\n",
      "3\n"
     ]
    }
   ],
   "source": [
    "#Ejercicio 7\n",
    "for i in range (1, 4):\n",
    "    print (i)"
   ]
  },
  {
   "cell_type": "code",
   "execution_count": 46,
   "id": "15c4824a",
   "metadata": {},
   "outputs": [
    {
     "name": "stdout",
     "output_type": "stream",
     "text": [
      "La suma de los valores es: 60\n"
     ]
    }
   ],
   "source": [
    "#Ejercio 8\n",
    "valores = [10, 20, 30]\n",
    "suma = sum(valores)\n",
    "print (f'La suma de los valores es: {suma}')"
   ]
  },
  {
   "cell_type": "code",
   "execution_count": 47,
   "id": "ae09c419",
   "metadata": {},
   "outputs": [
    {
     "name": "stdout",
     "output_type": "stream",
     "text": [
      "¿a es menor que b? True\n"
     ]
    }
   ],
   "source": [
    "#Ejercicio 9\n",
    "a = 10\n",
    "b = 15\n",
    "resultado = a < b\n",
    "print (f'¿a es menor que b? {resultado}')"
   ]
  },
  {
   "cell_type": "code",
   "execution_count": 48,
   "id": "a8c23b39",
   "metadata": {},
   "outputs": [
    {
     "name": "stdout",
     "output_type": "stream",
     "text": [
      "2.0\n"
     ]
    }
   ],
   "source": [
    "#Ejercicio 10\n",
    "x = 8\n",
    "y = 4\n",
    "print (x/y)"
   ]
  },
  {
   "cell_type": "code",
   "execution_count": null,
   "id": "b9ff5e87",
   "metadata": {},
   "outputs": [
    {
     "name": "stdout",
     "output_type": "stream",
     "text": [
      "{'nombre': 'Juan', 'edad': 25}\n"
     ]
    }
   ],
   "source": [
    "#Ejercicio 11\n",
    "persona = {\n",
    "    'nombre': 'Juan',\n",
    "    'edad': 30\n",
    "}\n",
    "print (persona)"
   ]
  },
  {
   "cell_type": "code",
   "execution_count": 62,
   "id": "c4eb5d25",
   "metadata": {},
   "outputs": [
    {
     "name": "stdout",
     "output_type": "stream",
     "text": [
      "Juan\n"
     ]
    }
   ],
   "source": [
    "#Ejercicio 12\n",
    "persona = {'nombre': \"Juan\", \"edad\": 30}\n",
    "print(persona[\"nombre\"])\n"
   ]
  },
  {
   "cell_type": "code",
   "execution_count": 74,
   "id": "1f2fc231",
   "metadata": {},
   "outputs": [
    {
     "name": "stdout",
     "output_type": "stream",
     "text": [
      "0\n",
      "1\n",
      "2\n",
      "3\n",
      "4\n",
      "5\n"
     ]
    }
   ],
   "source": [
    "#Ejercicio 13\n",
    "for i in range(6):\n",
    "    print (i)"
   ]
  },
  {
   "cell_type": "code",
   "execution_count": 75,
   "id": "bd58ab93",
   "metadata": {},
   "outputs": [
    {
     "name": "stdout",
     "output_type": "stream",
     "text": [
      "['rojo', 'amarillo', 'azul']\n"
     ]
    }
   ],
   "source": [
    "#Ejercicio 14\n",
    "colores = [\"rojo\", \"verde\", \"azul\"]\n",
    "colores [1] = 'amarillo'\n",
    "print (colores)"
   ]
  },
  {
   "cell_type": "code",
   "execution_count": 76,
   "id": "c3fce47b",
   "metadata": {},
   "outputs": [
    {
     "name": "stdout",
     "output_type": "stream",
     "text": [
      "Es un entero\n"
     ]
    }
   ],
   "source": [
    "#Ejercicio 15\n",
    "x = 10\n",
    "if isinstance(x, int):\n",
    "    print ('Es un entero')\n",
    "else:\n",
    "    print ('No es un entero')"
   ]
  },
  {
   "cell_type": "code",
   "execution_count": 87,
   "id": "2d0224af",
   "metadata": {},
   "outputs": [
    {
     "name": "stdout",
     "output_type": "stream",
     "text": [
      "Hola, Javier!\n"
     ]
    }
   ],
   "source": [
    "#Ejercicio 16\n",
    "def saludar(nombre):\n",
    "    print (f'Hola, {nombre}!')\n",
    "saludar ('Javier')"
   ]
  },
  {
   "cell_type": "code",
   "execution_count": 88,
   "id": "aae424de",
   "metadata": {},
   "outputs": [
    {
     "name": "stdout",
     "output_type": "stream",
     "text": [
      "El area del rectanguloa es 50\n"
     ]
    }
   ],
   "source": [
    "#Ejercicio 17\n",
    "def area_rectangulo(base, altura):\n",
    "    return base * altura\n",
    "base = 5 \n",
    "altura = 10\n",
    "area = area_rectangulo(base, altura)\n",
    "print (f'El area del rectanguloa es {area}')"
   ]
  },
  {
   "cell_type": "code",
   "execution_count": 90,
   "id": "9f67a6f4",
   "metadata": {},
   "outputs": [
    {
     "name": "stdout",
     "output_type": "stream",
     "text": [
      "['manzana', 'cereza']\n"
     ]
    }
   ],
   "source": [
    "#Ejercicio 18\n",
    "frutas = [\"manzana\", \"plátano\", \"cereza\"]\n",
    "frutas.remove('plátano')\n",
    "print(frutas)"
   ]
  },
  {
   "cell_type": "code",
   "execution_count": 91,
   "id": "995d117d",
   "metadata": {},
   "outputs": [
    {
     "name": "stdout",
     "output_type": "stream",
     "text": [
      "Es par\n"
     ]
    }
   ],
   "source": [
    "#Ejercicio 19\n",
    "numero = 6\n",
    "if numero % 2 == 0:\n",
    "    print ('Es par')\n",
    "else:\n",
    "    print ('Es impar')\n",
    "    "
   ]
  },
  {
   "cell_type": "code",
   "execution_count": 92,
   "id": "7ac6509e",
   "metadata": {},
   "outputs": [
    {
     "name": "stdout",
     "output_type": "stream",
     "text": [
      "Ambas variables son mayores que 3\n"
     ]
    }
   ],
   "source": [
    "#Ejercicio 20\n",
    "a = 5\n",
    "b= 10\n",
    "if a > 3 and b > 3:\n",
    "    print ('Ambas variables son mayores que 3')\n",
    "else:\n",
    "    print('Una o ambas variables no son mayores que 3')"
   ]
  },
  {
   "cell_type": "markdown",
   "id": "637a6a3e",
   "metadata": {},
   "source": [
    "### Segunda tanda de ejercicios:"
   ]
  },
  {
   "cell_type": "code",
   "execution_count": null,
   "id": "8fd1f5ee",
   "metadata": {},
   "outputs": [
    {
     "name": "stdout",
     "output_type": "stream",
     "text": [
      "5 es mayor que 3\n"
     ]
    }
   ],
   "source": [
    "#Ejercicio 1\n",
    "if 5 > 3:\n",
    "    print ('5 es mayor que 3')"
   ]
  },
  {
   "cell_type": "code",
   "execution_count": null,
   "id": "adf9b55e",
   "metadata": {},
   "outputs": [
    {
     "name": "stdout",
     "output_type": "stream",
     "text": [
      "10\n"
     ]
    }
   ],
   "source": [
    "#Ejercicio 2\n",
    "x = 10\n",
    "print (x)"
   ]
  },
  {
   "cell_type": "code",
   "execution_count": null,
   "id": "c63078bd",
   "metadata": {},
   "outputs": [
    {
     "name": "stdout",
     "output_type": "stream",
     "text": [
      "a es mayor que b\n"
     ]
    }
   ],
   "source": [
    "#Ejercicio 3\n",
    "a = 7\n",
    "b = 5\n",
    "if a > b:\n",
    "    print ('a es mayor que b')\n",
    "else:\n",
    "    print ('b es mayor que a')"
   ]
  },
  {
   "cell_type": "code",
   "execution_count": 115,
   "id": "bba4d483",
   "metadata": {},
   "outputs": [
    {
     "name": "stdout",
     "output_type": "stream",
     "text": [
      "Juan Pérez\n"
     ]
    }
   ],
   "source": [
    "#Ejercicio 4\n",
    "nombre = 'Juan'\n",
    "apellido = 'Pérez'\n",
    "print (nombre + ' ' + apellido)"
   ]
  },
  {
   "cell_type": "code",
   "execution_count": null,
   "id": "cc9a64c7",
   "metadata": {},
   "outputs": [],
   "source": [
    "#Ejercicio 5\n",
    "# x = 5 es el valor que se le da a la variable x"
   ]
  },
  {
   "cell_type": "code",
   "execution_count": 117,
   "id": "04a53faf",
   "metadata": {},
   "outputs": [
    {
     "name": "stdout",
     "output_type": "stream",
     "text": [
      "a y b son iguales\n"
     ]
    }
   ],
   "source": [
    "#Ejercicio 6\n",
    "a = 8\n",
    "b = 8\n",
    "if a == b:\n",
    "    print ('a y b son iguales')\n",
    "else:\n",
    "    print ('a y b no son iguales')"
   ]
  },
  {
   "cell_type": "code",
   "execution_count": null,
   "id": "301ce00d",
   "metadata": {},
   "outputs": [
    {
     "name": "stdout",
     "output_type": "stream",
     "text": [
      "1\n",
      "2\n",
      "3\n",
      "4\n",
      "5\n"
     ]
    }
   ],
   "source": [
    "#Ejercicio 7\n",
    "for i in range (1, 6):\n",
    "    print (i)"
   ]
  },
  {
   "cell_type": "code",
   "execution_count": 121,
   "id": "391b1f45",
   "metadata": {},
   "outputs": [
    {
     "name": "stdout",
     "output_type": "stream",
     "text": [
      "1\n",
      "2\n",
      "3\n",
      "4\n",
      "5\n"
     ]
    }
   ],
   "source": [
    "#Ejercicio 8\n",
    "i = 1\n",
    "while i <= 5:\n",
    "    print (i)\n",
    "    i += 1"
   ]
  },
  {
   "cell_type": "code",
   "execution_count": 122,
   "id": "13b96c56",
   "metadata": {},
   "outputs": [
    {
     "name": "stdout",
     "output_type": "stream",
     "text": [
      "Hola, Pepe!\n"
     ]
    }
   ],
   "source": [
    "#Ejercicio 9\n",
    "saludo = input ('Hola, ¿Cómo te llamas?')\n",
    "print(f'Hola, {saludo}!')"
   ]
  },
  {
   "cell_type": "code",
   "execution_count": 124,
   "id": "fe0e65bd",
   "metadata": {},
   "outputs": [
    {
     "name": "stdout",
     "output_type": "stream",
     "text": [
      "Me llamo Carlos y tengo 25 años\n"
     ]
    }
   ],
   "source": [
    "#Ejercicio 10\n",
    "nombre = 'Carlos'\n",
    "edad = '25'\n",
    "print (f'Me llamo {nombre} y tengo {edad} años')"
   ]
  },
  {
   "cell_type": "code",
   "execution_count": 125,
   "id": "1ff5fd62",
   "metadata": {},
   "outputs": [
    {
     "name": "stdout",
     "output_type": "stream",
     "text": [
      "['manzana', 'cereza']\n"
     ]
    }
   ],
   "source": [
    "#Ejercicio 11\n",
    "frutas = ['manzana', 'banana', 'cereza']   \n",
    "frutas.remove('banana')\n",
    "print(frutas)"
   ]
  },
  {
   "cell_type": "code",
   "execution_count": 5,
   "id": "9e14eb20",
   "metadata": {},
   "outputs": [
    {
     "name": "stdout",
     "output_type": "stream",
     "text": [
      "12\n",
      "4\n",
      "32\n",
      "2.0\n"
     ]
    }
   ],
   "source": [
    "#Ejercicio 12\n",
    "x = 8\n",
    "y = 4\n",
    "print (x+y)\n",
    "print (x-y)\n",
    "print (x*y)\n",
    "print (x/y)"
   ]
  },
  {
   "cell_type": "code",
   "execution_count": 130,
   "id": "d1d1d009",
   "metadata": {},
   "outputs": [
    {
     "name": "stdout",
     "output_type": "stream",
     "text": [
      "No se puede dividir por cero\n"
     ]
    }
   ],
   "source": [
    "#Ejercicio 13\n",
    "try:\n",
    "    resultado =10/0\n",
    "except ZeroDivisionError:\n",
    "    print ('No se puede dividir por cero')"
   ]
  },
  {
   "cell_type": "code",
   "execution_count": 132,
   "id": "b7ca01e8",
   "metadata": {},
   "outputs": [
    {
     "name": "stdout",
     "output_type": "stream",
     "text": [
      "verde\n"
     ]
    }
   ],
   "source": [
    "#Ejercicio 14\n",
    "colores = ['rojo', 'verde', 'azul']\n",
    "print (colores[1])"
   ]
  },
  {
   "cell_type": "code",
   "execution_count": 137,
   "id": "0688c554",
   "metadata": {},
   "outputs": [
    {
     "name": "stdout",
     "output_type": "stream",
     "text": [
      "Javier\n"
     ]
    }
   ],
   "source": [
    "#Ejercicio 15\n",
    "persona = {'nombre': 'Javier', 'edad': 27, 'ciudad': 'La Laguna'}\n",
    "print(persona['nombre'])"
   ]
  },
  {
   "cell_type": "code",
   "execution_count": 138,
   "id": "811205de",
   "metadata": {},
   "outputs": [
    {
     "name": "stdout",
     "output_type": "stream",
     "text": [
      "[1, 2, 3, 4]\n"
     ]
    }
   ],
   "source": [
    "#Ejercicio 16\n",
    "numeros = [1, 2, 3]\n",
    "numeros.append(4)\n",
    "print(numeros)"
   ]
  },
  {
   "cell_type": "code",
   "execution_count": 3,
   "id": "401ef74a",
   "metadata": {},
   "outputs": [
    {
     "name": "stdout",
     "output_type": "stream",
     "text": [
      "[2, 4, 6, 8, 10]\n"
     ]
    }
   ],
   "source": [
    "#Ejercicio 17\n",
    "numeros = list(range(2, 11, 2))\n",
    "print(numeros)"
   ]
  },
  {
   "cell_type": "code",
   "execution_count": 140,
   "id": "cbc3a275",
   "metadata": {},
   "outputs": [
    {
     "name": "stdout",
     "output_type": "stream",
     "text": [
      "Javier\n"
     ]
    }
   ],
   "source": [
    "#Ejercicio 18\n",
    "nombre = input('¿Cómo te llamas?')\n",
    "print (nombre)"
   ]
  },
  {
   "cell_type": "code",
   "execution_count": 145,
   "id": "94a0473c",
   "metadata": {},
   "outputs": [
    {
     "name": "stdout",
     "output_type": "stream",
     "text": [
      "El resultado es: 50\n"
     ]
    }
   ],
   "source": [
    "#Ejercicio 19\n",
    "def multiplicar(a, b):\n",
    "    return a * b\n",
    "resultado = multiplicar(5, 10)\n",
    "print(f'El resultado es: {resultado}')"
   ]
  },
  {
   "cell_type": "code",
   "execution_count": null,
   "id": "7bd887d8",
   "metadata": {},
   "outputs": [
    {
     "name": "stdout",
     "output_type": "stream",
     "text": [
      "Es un entero\n"
     ]
    }
   ],
   "source": [
    "\n",
    "#Ejercicio 20\n",
    "\n",
    "if isinstance(x, int):\n",
    "    print ('Es un entero')\n",
    "else:\n",
    "    print ('No es un entero')"
   ]
  },
  {
   "cell_type": "code",
   "execution_count": 18,
   "id": "83769eb1",
   "metadata": {},
   "outputs": [
    {
     "name": "stdout",
     "output_type": "stream",
     "text": [
      "El resultado es: 50\n"
     ]
    }
   ],
   "source": [
    "def multiplicar(a, b):\n",
    "    return a * b\n",
    "resultado = multiplicar(5, 10)\n",
    "print(f'El resultado es: {resultado}')"
   ]
  }
 ],
 "metadata": {
  "kernelspec": {
   "display_name": "python",
   "language": "python",
   "name": "python3"
  },
  "language_info": {
   "codemirror_mode": {
    "name": "ipython",
    "version": 3
   },
   "file_extension": ".py",
   "mimetype": "text/x-python",
   "name": "python",
   "nbconvert_exporter": "python",
   "pygments_lexer": "ipython3",
   "version": "3.12.9"
  }
 },
 "nbformat": 4,
 "nbformat_minor": 5
}
