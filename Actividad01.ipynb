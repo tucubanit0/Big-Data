{
 "cells": [
  {
   "cell_type": "markdown",
   "id": "2a4ec74d-dcb7-41cd-aece-6a60eab49586",
   "metadata": {},
   "source": [
    "## Contexto de la Historia\n",
    "Eres parte de un equipo de científicos de datos que ha descubierto un laboratorio de investigación abandonado. El laboratorio contiene datos cruciales sobre un importante proyecto científico, pero todos los sistemas están bloqueados con puzzles basados en NumPy. Tienes 60 minutos para recuperar los datos antes de que el sistema de autodestrucción se active."
   ]
  },
  {
   "cell_type": "markdown",
   "id": "dfe1f9d7-e8ca-49f8-b096-0f688c2e354d",
   "metadata": {},
   "source": [
    "### Nivel 1: \"La Puerta de Entrada\"\n",
    "**Escenario**: Para abrir la puerta principal, necesitas demostrar tu conocimiento básico de NumPy.\n",
    "\n",
    "**Desafío 1** (3 minutos):\n",
    "```python\n",
    "# La contraseña es la suma de todos los números pares en este array\n",
    "array_secreto = np.array([1, 4, 7, 12, 15, 18, 21, 24])\n",
    "# Debes usar máscaras booleanas de NumPy para encontrarla\n",
    "```"
   ]
  },
  {
   "cell_type": "code",
   "execution_count": null,
   "id": "c904f074-b207-4f56-b482-1acb414e5882",
   "metadata": {},
   "outputs": [],
   "source": []
  },
  {
   "cell_type": "markdown",
   "id": "c6dc0fa9-c834-4181-a115-a0d7fcf91beb",
   "metadata": {},
   "source": [
    "### Nivel 2: \"La Sala de Matrices\"\n",
    "**Escenario**: Has entrado en una sala llena de pantallas mostrando matrices.\n",
    "\n",
    "**Desafío 2** (5 minutos):\n",
    "```python\n",
    "# Crea una matriz 3x3 que cuando se multiplique por sí misma\n",
    "# produzca el siguiente resultado:\n",
    "resultado = np.array([[1, 0, 0],\n",
    "                     [0, 4, 0],\n",
    "                     [0, 0, 9]])\n",
    "```"
   ]
  },
  {
   "cell_type": "code",
   "execution_count": null,
   "id": "96037bfc-eafb-4d3e-9e3d-2761b975d18e",
   "metadata": {},
   "outputs": [],
   "source": []
  },
  {
   "cell_type": "markdown",
   "id": "316cd97b-6523-4ead-bc90-86bb618cf5f8",
   "metadata": {},
   "source": [
    "### Nivel 3: \"El Laboratorio de Datos\"\n",
    "**Escenario**: Encuentras un conjunto de datos experimentales que necesitan ser procesados.\n",
    "\n",
    "**Desafío 3** (7 minutos):\n",
    "```python\n",
    "# Los datos están corrompidos. Necesitas:\n",
    "# 1. Reemplazar todos los valores negativos por 0\n",
    "# 2. Normalizar los datos entre 0 y 1\n",
    "# 3. Encontrar la media de cada columna\n",
    "datos_corrompidos = np.array([\n",
    "    [-2, 15, 8, -5],\n",
    "    [10, -8, 3, 12],\n",
    "    [4, 5, -1, 9]\n",
    "])\n",
    "```"
   ]
  },
  {
   "cell_type": "code",
   "execution_count": null,
   "id": "a57b8c82-8a20-45ec-86d0-b2dc6c86f5aa",
   "metadata": {},
   "outputs": [],
   "source": []
  },
  {
   "cell_type": "markdown",
   "id": "62b4ae70-afc8-4ed9-a237-d29ef56705a9",
   "metadata": {},
   "source": [
    "### Nivel 4: \"La Cámara Final\"\n",
    "**Escenario**: Has llegado a la cámara que contiene los datos cruciales.\n",
    "\n",
    "**Desafío 4** (10 minutos):\n",
    "```python\n",
    "# Debes reorganizar esta matriz 1D en una matriz 3D\n",
    "# que represente un cubo RGB de 2x2x3\n",
    "datos_finales = np.array([255, 0, 0, 0, 255, 0,\n",
    "                         0, 0, 255, 255, 255, 255])\n",
    "# El resultado debe tener la forma (2, 2, 3)\n",
    "```"
   ]
  },
  {
   "cell_type": "code",
   "execution_count": null,
   "id": "c2d4067c-6570-45d5-9bb8-24d433d1cc27",
   "metadata": {},
   "outputs": [],
   "source": []
  },
  {
   "cell_type": "markdown",
   "id": "20f92632-71be-4bb5-8876-a7625599c73c",
   "metadata": {},
   "source": [
    "##### Sistema de Puntuación\n",
    "- Completar sin pistas: 100 puntos por nivel\n",
    "- Usar primera pista: -20 puntos\n",
    "- Usar segunda pista: -20 puntos adicionales\n",
    "- Tiempo restante: +1 punto por minuto\n"
   ]
  }
 ],
 "metadata": {
  "kernelspec": {
   "display_name": "Python 3 (ipykernel)",
   "language": "python",
   "name": "python3"
  },
  "language_info": {
   "codemirror_mode": {
    "name": "ipython",
    "version": 3
   },
   "file_extension": ".py",
   "mimetype": "text/x-python",
   "name": "python",
   "nbconvert_exporter": "python",
   "pygments_lexer": "ipython3",
   "version": "3.9.21"
  }
 },
 "nbformat": 4,
 "nbformat_minor": 5
}
